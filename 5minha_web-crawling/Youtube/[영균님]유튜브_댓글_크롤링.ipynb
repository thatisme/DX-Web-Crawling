{
 "cells": [
  {
   "cell_type": "code",
   "execution_count": 1,
   "id": "d80a8c3d-9cc7-46bb-979e-1209aa99a8a8",
   "metadata": {},
   "outputs": [],
   "source": [
    "import numpy as np\n",
    "import pandas as pd\n",
    "import matplotlib.pyplot as plt\n",
    "import pylab as plot\n",
    "import matplotlib as mpl\n",
    "from matplotlib import gridspec\n",
    "from matplotlib.dates import MonthLocator, DateFormatter\n",
    "import seaborn as sns\n",
    "import random\n",
    "import datetime\n",
    "from selenium.webdriver.chrome.options import Options"
   ]
  },
  {
   "cell_type": "code",
   "execution_count": 3,
   "id": "bf4baefb-665e-49f0-b8d8-4da6d11107d3",
   "metadata": {},
   "outputs": [],
   "source": [
    "from bs4 import BeautifulSoup as bs\n",
    "from selenium import webdriver\n",
    "from selenium.webdriver.common.by import By\n",
    "from selenium.webdriver.common.keys import Keys\n",
    "import time\n",
    "from tqdm import tqdm\n",
    "# from konlpy.tag import Okt\n",
    "import re"
   ]
  },
  {
   "cell_type": "code",
   "execution_count": 5,
   "id": "d9a984e9-1fb9-42d8-9556-76daa8be6d12",
   "metadata": {},
   "outputs": [],
   "source": [
    "from wordcloud import WordCloud\n",
    "from collections import Counter"
   ]
  },
  {
   "cell_type": "code",
   "execution_count": 7,
   "id": "c55105f0-8b7a-442c-a48c-a6155a38bb73",
   "metadata": {},
   "outputs": [],
   "source": [
    "from transformers import AutoTokenizer"
   ]
  },
  {
   "cell_type": "code",
   "execution_count": 9,
   "id": "ab4ef99c-18e5-4c25-8a28-0a9575710d30",
   "metadata": {},
   "outputs": [],
   "source": [
    "# 폰트 설정\n",
    "plt.rcParams['font.family'] = 'Malgun Gothic'\n",
    "plt.rcParams['axes.unicode_minus'] = False"
   ]
  },
  {
   "cell_type": "markdown",
   "id": "837adea6-ce86-4cd1-b0dc-71221b7f4618",
   "metadata": {},
   "source": [
    "# 크롤링"
   ]
  },
  {
   "cell_type": "markdown",
   "id": "9fd17c13-2db3-4fa1-8106-318f312ca16d",
   "metadata": {
    "jp-MarkdownHeadingCollapsed": true
   },
   "source": [
    "### 하우스오브서바이벌\n",
    "[삐맨](https://youtu.be/bXErVVhLTK0?si=7ufShyJCs0VJdh0q)\n",
    "[고몽](https://youtu.be/ak78f8EOY14?si=SIWMbgZx14zReFd_)\n",
    "\n",
    "- 검색어 : 하우스오브서바이벌\n",
    "- 날짜, 댓글, 좋아요 수 3~4"
   ]
  },
  {
   "cell_type": "markdown",
   "id": "5b867894-ca50-4ec7-8f31-4d53877772f5",
   "metadata": {},
   "source": [
    "### 삐맨"
   ]
  },
  {
   "cell_type": "code",
   "execution_count": 55,
   "id": "5ee67b8d-4418-49f0-8a1b-554b0f298df1",
   "metadata": {},
   "outputs": [],
   "source": [
    "# 유튜브 영상 URL에 autoplay=0을 추가하여 자동 재생 방지\n",
    "url = 'https://youtu.be/bXErVVhLTK0?si=7ufShyJCs0VJdh0q&autoplay=0'\n",
    "\n",
    "driver = webdriver.Chrome()\n",
    "driver.get(url)"
   ]
  },
  {
   "cell_type": "code",
   "execution_count": 57,
   "id": "e42d8b3b-2219-44df-b1bb-513f1c2ac215",
   "metadata": {},
   "outputs": [],
   "source": [
    "# 영상을 일시정지(pause)\n",
    "driver.execute_script(\"document.querySelector('video').pause();\")"
   ]
  },
  {
   "cell_type": "code",
   "execution_count": 71,
   "id": "2a85e6de-3eb4-443d-b23c-b02ce37d1b9a",
   "metadata": {},
   "outputs": [],
   "source": [
    "body = driver.find_element(By.CSS_SELECTOR,'body')"
   ]
  },
  {
   "cell_type": "code",
   "execution_count": 73,
   "id": "ad2a2ec8-0a0b-4498-b556-f84cc78800e5",
   "metadata": {},
   "outputs": [],
   "source": [
    "# 무한 스크롤링 2\n",
    "while True:\n",
    "    last_soup = bs(driver.page_source,'lxml')\n",
    "\n",
    "    # 페이지 소스를 가져오는 거랑 오래 걸림\n",
    "    # 한 번 END키 이후에 하면 오래 걸림\n",
    "    # 따라서 그냥 END키 10번 하고 나서 비교하게 하기\n",
    "    for i in range(10):\n",
    "        body.send_keys(Keys.END)\n",
    "        time.sleep(2)\n",
    "\n",
    "    new_soup = bs(driver.page_source,'lxml') # 더 쉬운 방법 없나? 페이지 소스 불러오는 것도 오래 걸림\n",
    "\n",
    "    if last_soup == new_soup :               # 비교 하는 것도 오래 걸림\n",
    "        break\n",
    "    else:\n",
    "        pass"
   ]
  },
  {
   "cell_type": "code",
   "execution_count": 206,
   "id": "fe3a65ed-a922-422b-bce8-efe1b3d20ab9",
   "metadata": {},
   "outputs": [],
   "source": [
    "comments = driver.find_elements(By.ID,'comment')"
   ]
  },
  {
   "cell_type": "code",
   "execution_count": 208,
   "id": "6fbc3dfe-1981-4ca2-b485-9a29328e482d",
   "metadata": {},
   "outputs": [
    {
     "data": {
      "text/plain": [
       "717"
      ]
     },
     "execution_count": 208,
     "metadata": {},
     "output_type": "execute_result"
    }
   ],
   "source": [
    "len(comments)"
   ]
  },
  {
   "cell_type": "code",
   "execution_count": 257,
   "id": "ef0a5798-2d35-4c76-949e-2a89611bab8a",
   "metadata": {},
   "outputs": [],
   "source": [
    "id_list = []\n",
    "date_list = []\n",
    "comment_list = []\n",
    "like_list = []"
   ]
  },
  {
   "cell_type": "code",
   "execution_count": 259,
   "id": "08b5c5f3-cbd3-4285-a1b7-8334ec2f99b2",
   "metadata": {},
   "outputs": [],
   "source": [
    "for comment in tqdm(comments):\n",
    "    # 유저 이름\n",
    "    user_id = comment.find_element(By.CSS_SELECTOR, '#author-text').text.strip()\n",
    "    # 댓글 작성 날짜\n",
    "    comment_date = comment.find_element(By.CSS_SELECTOR, '#published-time-text > a').text.strip()\n",
    "    # 댓글 내용\n",
    "    comment_text = comment.find_element(By.CSS_SELECTOR, '#content-text > span').text.strip()\n",
    "    # 댓글 좋아요\n",
    "    comment_like = comment.find_element(By.CSS_SELECTOR, '#vote-count-middle').text.strip()\n",
    "    \n",
    "    id_list.append(user_id)\n",
    "    date_list.append(comment_date)\n",
    "    comment_list.append(comment_text)\n",
    "    like_list.append(comment_like)"
   ]
  },
  {
   "cell_type": "code",
   "execution_count": 261,
   "id": "a7409823-8195-4322-913d-6bbe97a7d981",
   "metadata": {},
   "outputs": [
    {
     "data": {
      "text/plain": [
       "(717, 717, 717, 717)"
      ]
     },
     "execution_count": 261,
     "metadata": {},
     "output_type": "execute_result"
    }
   ],
   "source": [
    "len(id_list),len(date_list),len(comment_list),len(like_list)"
   ]
  },
  {
   "cell_type": "code",
   "execution_count": 365,
   "id": "f3113c52-d5e1-4341-a1b9-f46c8d32db34",
   "metadata": {},
   "outputs": [],
   "source": [
    "def cnt_str_to_int(cnt):\n",
    "    if cnt == '':\n",
    "        cnt = '0'\n",
    "    if '천' in cnt:\n",
    "        cnt = int(float(cnt.replace('천','')) * 1000)\n",
    "    elif '만' in cnt:\n",
    "        cnt = int(float(cnt.replace('만','')) * 10000)\n",
    "    cnt = int(cnt)\n",
    "    return cnt"
   ]
  },
  {
   "cell_type": "code",
   "execution_count": 367,
   "id": "ea3a2f49-df7a-48f3-bf48-7af300602b46",
   "metadata": {},
   "outputs": [],
   "source": [
    "data = {'id':id_list,'date':date_list,'comment':comment_list,'like':like_list}\n",
    "df = pd.DataFrame(data)"
   ]
  },
  {
   "cell_type": "code",
   "execution_count": 371,
   "id": "7b3770b3-6607-4bb5-9a27-2267300aca2e",
   "metadata": {},
   "outputs": [],
   "source": [
    "df['like'] = df['like'].apply(cnt_str_to_int)"
   ]
  },
  {
   "cell_type": "code",
   "execution_count": 385,
   "id": "00320b74-e1e3-4435-8b9c-e6cf0f787e36",
   "metadata": {},
   "outputs": [],
   "source": [
    "from datetime import datetime, timedelta"
   ]
  },
  {
   "cell_type": "code",
   "execution_count": 387,
   "id": "635288ab-ef42-46b0-8626-a2b9d70ac9f7",
   "metadata": {},
   "outputs": [
    {
     "data": {
      "text/plain": [
       "datetime.datetime(2024, 10, 28, 11, 55, 17, 715199)"
      ]
     },
     "execution_count": 387,
     "metadata": {},
     "output_type": "execute_result"
    }
   ],
   "source": [
    "datetime.today()"
   ]
  },
  {
   "cell_type": "code",
   "execution_count": 398,
   "id": "9af858ce-bdd0-40ee-ad7b-bc3ac092d92d",
   "metadata": {},
   "outputs": [],
   "source": [
    "# 날짜 변환 함수\n",
    "def convert_to_date(date_str):\n",
    "    # 현재 날짜 기준으로 계산\n",
    "    today = datetime.today().date()\n",
    "    \n",
    "    # \"n개월 전\" 패턴\n",
    "    month_match = re.match(r'(\\d+)개월 전', date_str)\n",
    "    if month_match:\n",
    "        months_ago = int(month_match.group(1))\n",
    "        return today - timedelta(days=months_ago * 30)  # 월을 30일로 간주\n",
    "    \n",
    "    # \"n주 전\" 패턴\n",
    "    week_match = re.match(r'(\\d+)주 전', date_str)\n",
    "    if week_match:\n",
    "        weeks_ago = int(week_match.group(1))\n",
    "        return today - timedelta(weeks=weeks_ago)\n",
    "    \n",
    "    # 변환 불가 시 NaT 반환\n",
    "    return pd.NaT"
   ]
  },
  {
   "cell_type": "code",
   "execution_count": 400,
   "id": "ec4b2fdf-7ef9-4144-bc10-61181b7f105d",
   "metadata": {},
   "outputs": [],
   "source": [
    "# 날짜 형식 변환 적용\n",
    "df['date_converted'] = df['date'].apply(convert_to_date)"
   ]
  },
  {
   "cell_type": "code",
   "execution_count": 423,
   "id": "81f11dd8-bb07-4308-9ce9-5a73ab6bd5f5",
   "metadata": {},
   "outputs": [
    {
     "data": {
      "text/html": [
       "<div>\n",
       "<style scoped>\n",
       "    .dataframe tbody tr th:only-of-type {\n",
       "        vertical-align: middle;\n",
       "    }\n",
       "\n",
       "    .dataframe tbody tr th {\n",
       "        vertical-align: top;\n",
       "    }\n",
       "\n",
       "    .dataframe thead th {\n",
       "        text-align: right;\n",
       "    }\n",
       "</style>\n",
       "<table border=\"1\" class=\"dataframe\">\n",
       "  <thead>\n",
       "    <tr style=\"text-align: right;\">\n",
       "      <th></th>\n",
       "      <th>id</th>\n",
       "      <th>date</th>\n",
       "      <th>comment</th>\n",
       "      <th>like</th>\n",
       "      <th>date_converted</th>\n",
       "    </tr>\n",
       "  </thead>\n",
       "  <tbody>\n",
       "    <tr>\n",
       "      <th>358</th>\n",
       "      <td>@lilacp4845</td>\n",
       "      <td>1개월 전</td>\n",
       "      <td>탈락자 3명 지정하는게 너무 리스크면 그냥 뽑기로 정하면 되잖아...</td>\n",
       "      <td>0</td>\n",
       "      <td>2024-09-28</td>\n",
       "    </tr>\n",
       "    <tr>\n",
       "      <th>328</th>\n",
       "      <td>@ngotrongZV</td>\n",
       "      <td>1개월 전</td>\n",
       "      <td>요즘 baccara 첫매 안주는곳 많은데 여기는 오퍼나준다는데 대박</td>\n",
       "      <td>0</td>\n",
       "      <td>2024-09-28</td>\n",
       "    </tr>\n",
       "    <tr>\n",
       "      <th>327</th>\n",
       "      <td>@user-ri2vp7qt7f</td>\n",
       "      <td>1개월 전</td>\n",
       "      <td>수시로 컷컷 하고 카메라와 조명을 다시 세팅하겠군요.</td>\n",
       "      <td>0</td>\n",
       "      <td>2024-09-28</td>\n",
       "    </tr>\n",
       "    <tr>\n",
       "      <th>326</th>\n",
       "      <td>@majjimajji574</td>\n",
       "      <td>1개월 전</td>\n",
       "      <td>마지막은 노엘을 투표하는게 남자들은 유리해보이는데 당연히 노엘을 투표해서 탈락시켰겠지</td>\n",
       "      <td>0</td>\n",
       "      <td>2024-09-28</td>\n",
       "    </tr>\n",
       "    <tr>\n",
       "      <th>325</th>\n",
       "      <td>@dspark2131</td>\n",
       "      <td>1개월 전</td>\n",
       "      <td>손세탁 시켰더니 한놈은 빨래판을 타블렛처럼 들고 있고 한놈은 통에 넣고 반바퀴씩 돌...</td>\n",
       "      <td>0</td>\n",
       "      <td>2024-09-28</td>\n",
       "    </tr>\n",
       "    <tr>\n",
       "      <th>...</th>\n",
       "      <td>...</td>\n",
       "      <td>...</td>\n",
       "      <td>...</td>\n",
       "      <td>...</td>\n",
       "      <td>...</td>\n",
       "    </tr>\n",
       "    <tr>\n",
       "      <th>680</th>\n",
       "      <td>@barkkyounghee</td>\n",
       "      <td>2개월 전(수정됨)</td>\n",
       "      <td>하워드 저아저씨 우리쪽이야? 아님 저쪽이야? 바다쪽이야? 꼴보기 싫네 ㅋㅋㅋ\\n외모...</td>\n",
       "      <td>0</td>\n",
       "      <td>2024-08-29</td>\n",
       "    </tr>\n",
       "    <tr>\n",
       "      <th>648</th>\n",
       "      <td>@이파리나무</td>\n",
       "      <td>2개월 전(수정됨)</td>\n",
       "      <td>저자들현재에살고있는사람들맞는지?\\n세탁기가없다고,,아무리쇼라고는하지만시청자들얼땡이없...</td>\n",
       "      <td>0</td>\n",
       "      <td>2024-08-29</td>\n",
       "    </tr>\n",
       "    <tr>\n",
       "      <th>571</th>\n",
       "      <td>@blue714sky</td>\n",
       "      <td>3주 전</td>\n",
       "      <td>오징어게임을 이렇게까지..응용해서 하는구나...ㅎㅎㅎ</td>\n",
       "      <td>0</td>\n",
       "      <td>2024-10-07</td>\n",
       "    </tr>\n",
       "    <tr>\n",
       "      <th>170</th>\n",
       "      <td>@거울보고쓰러짐</td>\n",
       "      <td>4주 전</td>\n",
       "      <td>핸드폰 홍보를 이렇게 햇어야지</td>\n",
       "      <td>0</td>\n",
       "      <td>2024-09-30</td>\n",
       "    </tr>\n",
       "    <tr>\n",
       "      <th>96</th>\n",
       "      <td>@N1C0B0C0</td>\n",
       "      <td>4주 전</td>\n",
       "      <td>영화보면 뚱땡이랑 아시아인이 젤 먼저 죽는데, 남자들 모의 할 때도 아시아인 빼고 ...</td>\n",
       "      <td>0</td>\n",
       "      <td>2024-09-30</td>\n",
       "    </tr>\n",
       "  </tbody>\n",
       "</table>\n",
       "<p>717 rows × 5 columns</p>\n",
       "</div>"
      ],
      "text/plain": [
       "                   id        date  \\\n",
       "358       @lilacp4845       1개월 전   \n",
       "328       @ngotrongZV       1개월 전   \n",
       "327  @user-ri2vp7qt7f       1개월 전   \n",
       "326    @majjimajji574       1개월 전   \n",
       "325       @dspark2131       1개월 전   \n",
       "..                ...         ...   \n",
       "680    @barkkyounghee  2개월 전(수정됨)   \n",
       "648            @이파리나무  2개월 전(수정됨)   \n",
       "571       @blue714sky        3주 전   \n",
       "170          @거울보고쓰러짐        4주 전   \n",
       "96          @N1C0B0C0        4주 전   \n",
       "\n",
       "                                               comment  like date_converted  \n",
       "358             탈락자 3명 지정하는게 너무 리스크면 그냥 뽑기로 정하면 되잖아...     0     2024-09-28  \n",
       "328              요즘 baccara 첫매 안주는곳 많은데 여기는 오퍼나준다는데 대박     0     2024-09-28  \n",
       "327                      수시로 컷컷 하고 카메라와 조명을 다시 세팅하겠군요.     0     2024-09-28  \n",
       "326    마지막은 노엘을 투표하는게 남자들은 유리해보이는데 당연히 노엘을 투표해서 탈락시켰겠지     0     2024-09-28  \n",
       "325  손세탁 시켰더니 한놈은 빨래판을 타블렛처럼 들고 있고 한놈은 통에 넣고 반바퀴씩 돌...     0     2024-09-28  \n",
       "..                                                 ...   ...            ...  \n",
       "680  하워드 저아저씨 우리쪽이야? 아님 저쪽이야? 바다쪽이야? 꼴보기 싫네 ㅋㅋㅋ\\n외모...     0     2024-08-29  \n",
       "648  저자들현재에살고있는사람들맞는지?\\n세탁기가없다고,,아무리쇼라고는하지만시청자들얼땡이없...     0     2024-08-29  \n",
       "571                      오징어게임을 이렇게까지..응용해서 하는구나...ㅎㅎㅎ     0     2024-10-07  \n",
       "170                                   핸드폰 홍보를 이렇게 햇어야지     0     2024-09-30  \n",
       "96   영화보면 뚱땡이랑 아시아인이 젤 먼저 죽는데, 남자들 모의 할 때도 아시아인 빼고 ...     0     2024-09-30  \n",
       "\n",
       "[717 rows x 5 columns]"
      ]
     },
     "execution_count": 423,
     "metadata": {},
     "output_type": "execute_result"
    }
   ],
   "source": [
    "df.sort_values('date')"
   ]
  },
  {
   "cell_type": "code",
   "execution_count": 419,
   "id": "af3fb431-e096-4502-8612-e9ff6efd5397",
   "metadata": {},
   "outputs": [
    {
     "data": {
      "text/plain": [
       "0      1500\n",
       "1      2400\n",
       "2      1000\n",
       "3      3200\n",
       "4      2100\n",
       "       ... \n",
       "712       0\n",
       "713       0\n",
       "714       0\n",
       "715       0\n",
       "716       0\n",
       "Name: like, Length: 717, dtype: int64"
      ]
     },
     "execution_count": 419,
     "metadata": {},
     "output_type": "execute_result"
    }
   ],
   "source": [
    "df.like"
   ]
  },
  {
   "cell_type": "code",
   "execution_count": 408,
   "id": "946f1bc9-97d5-45fc-b0e1-83860dc55426",
   "metadata": {},
   "outputs": [
    {
     "data": {
      "text/plain": [
       "0                            PPL은 이렇게 하는거다라는게 느껴지네요 대단한듯\n",
       "1                                 LG가 이런걸 하네..ㄷㄷ\\n신박하네요.\n",
       "2      탈락자 다시 돌아오는거 신박하다. 가족중에   집안일 1도 안하고 어지르기만하고 게...\n",
       "3                       우리나라 기업들은 미국만 가면 마케팅 천재들이 되는거야..\n",
       "4                        신박하네... 탈락하면 퇴장하는게 아니라 남아서 훼방놓네\n",
       "                             ...                        \n",
       "712    멍청하다고본다........가전은 그냥 어느회사나 만들수있는데... LG ?  물론...\n",
       "713                                                    1\n",
       "714    진부하다. 상금타려고 퉁수치고 팀먹고 배신하고....하다하다ㅡ이젠 탈락자 남겨서 끝...\n",
       "715    근데 출연자들이 왜이리...못생겻냐.. 특히 여자들....남자들은 잘생긴편인데......\n",
       "716                                       별 그지같은 예능이 다있네\n",
       "Name: comment, Length: 717, dtype: object"
      ]
     },
     "execution_count": 408,
     "metadata": {},
     "output_type": "execute_result"
    }
   ],
   "source": [
    "df.comment"
   ]
  },
  {
   "cell_type": "code",
   "execution_count": 416,
   "id": "db8d4f49-c7d4-4ff6-8b5d-3d739dcd50bf",
   "metadata": {},
   "outputs": [],
   "source": [
    "# save\n",
    "df.to_pickle(\"./data/youtube_bman.pickle\")"
   ]
  },
  {
   "cell_type": "code",
   "execution_count": null,
   "id": "bd5e9bab-f637-49fd-9811-3f4913ead7a5",
   "metadata": {},
   "outputs": [],
   "source": []
  },
  {
   "cell_type": "code",
   "execution_count": null,
   "id": "9eaa7063-97c7-40b4-ba9b-9153fce44095",
   "metadata": {},
   "outputs": [],
   "source": []
  }
 ],
 "metadata": {
  "kernelspec": {
   "display_name": "Python 3 (ipykernel)",
   "language": "python",
   "name": "python3"
  },
  "language_info": {
   "codemirror_mode": {
    "name": "ipython",
    "version": 3
   },
   "file_extension": ".py",
   "mimetype": "text/x-python",
   "name": "python",
   "nbconvert_exporter": "python",
   "pygments_lexer": "ipython3",
   "version": "3.11.7"
  }
 },
 "nbformat": 4,
 "nbformat_minor": 5
}
