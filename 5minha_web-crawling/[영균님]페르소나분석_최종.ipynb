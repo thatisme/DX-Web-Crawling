{
 "cells": [
  {
   "cell_type": "markdown",
   "id": "e1cfe975-1fb5-43b5-908b-fee155574e71",
   "metadata": {},
   "source": [
    "# ◆ 페르소나 분석\n",
    "- 데이터 불러오기"
   ]
  },
  {
   "cell_type": "code",
   "execution_count": 9,
   "id": "eb8b15ef-7ec2-46bf-b590-67547de53084",
   "metadata": {},
   "outputs": [],
   "source": [
    "import pandas as pd"
   ]
  },
  {
   "cell_type": "code",
   "execution_count": 11,
   "id": "9e2c7d79-6cb9-43f7-8c86-b8e95bf004d2",
   "metadata": {},
   "outputs": [],
   "source": [
    "df = pd.read_pickle('../data/aha/aha_data.pickle')"
   ]
  },
  {
   "cell_type": "markdown",
   "id": "8eb62b71-092a-4d0f-87c2-673fa7dfe5d3",
   "metadata": {},
   "source": [
    "- 컬럼명 'review'로 바꿔주세요!"
   ]
  },
  {
   "cell_type": "code",
   "execution_count": 113,
   "id": "39e08ef0-d284-4c33-8d6a-536c97a23464",
   "metadata": {},
   "outputs": [
    {
     "data": {
      "text/html": [
       "<div>\n",
       "<style scoped>\n",
       "    .dataframe tbody tr th:only-of-type {\n",
       "        vertical-align: middle;\n",
       "    }\n",
       "\n",
       "    .dataframe tbody tr th {\n",
       "        vertical-align: top;\n",
       "    }\n",
       "\n",
       "    .dataframe thead th {\n",
       "        text-align: right;\n",
       "    }\n",
       "</style>\n",
       "<table border=\"1\" class=\"dataframe\">\n",
       "  <thead>\n",
       "    <tr style=\"text-align: right;\">\n",
       "      <th></th>\n",
       "      <th>title</th>\n",
       "      <th>review</th>\n",
       "      <th>date</th>\n",
       "      <th>tagged_review</th>\n",
       "      <th>2_grams</th>\n",
       "      <th>3_grams</th>\n",
       "      <th>vector</th>\n",
       "    </tr>\n",
       "  </thead>\n",
       "  <tbody>\n",
       "    <tr>\n",
       "      <th>4985</th>\n",
       "      <td>알레르기성 결막염 점안액 질문드립니다</td>\n",
       "      <td>알레르기성 결막염으로 약국에서 오로메토론과 파타올을 처방받았습니다.1. 두 성분은 ...</td>\n",
       "      <td>23.10.28</td>\n",
       "      <td>[알레르기, 결막염, 약국, 로메, 토론, 파타, 오다, 처방, 받다, 두, 성분,...</td>\n",
       "      <td>[알레르기 결막염, 결막염 약국, 약국 로메, 로메 토론, 토론 파타, 파타 오다,...</td>\n",
       "      <td>[알레르기 결막염 약국, 결막염 약국 로메, 약국 로메 토론, 로메 토론 파타, 토...</td>\n",
       "      <td>[-0.007174562, 0.009796116, 0.007250117, 0.000...</td>\n",
       "    </tr>\n",
       "    <tr>\n",
       "      <th>4986</th>\n",
       "      <td>화장품을 여러회사제품으로 사용하면 피부에 영향이 있을까요?</td>\n",
       "      <td>선물 받은것 셈플받은것  쎄일할때 산것등 여러회사 제품의 기초화장품을 바르면  안 ...</td>\n",
       "      <td>23.10.28</td>\n",
       "      <td>[선물, 받다, 셈, 받다, 쎄다, 사다, 회사, 제품, 기초, 화장품, 바르다, ...</td>\n",
       "      <td>[선물 받다, 받다 셈, 셈 받다, 받다 쎄다, 쎄다 사다, 사다 회사, 회사 제품...</td>\n",
       "      <td>[선물 받다 셈, 받다 셈 받다, 셈 받다 쎄다, 받다 쎄다 사다, 쎄다 사다 회사...</td>\n",
       "      <td>[-0.0065415264, 0.0007954431, 0.00934039, -0.0...</td>\n",
       "    </tr>\n",
       "    <tr>\n",
       "      <th>4987</th>\n",
       "      <td>약품중에 캡슐과 젤리로 쌓인약은 캡슐,젤리 재료가 뭔가요&gt;?</td>\n",
       "      <td>약품중에 캡슐로 쌓인것도 있고 젤리같이 말랑말랑 말캉말캉한 재료로 쌓인것도 있는데 ...</td>\n",
       "      <td>23.10.27</td>\n",
       "      <td>[쌓이다, 젤리, 말랑말랑, 말캉말캉하다, 재료, 쌓이다, 젤리, 재료]</td>\n",
       "      <td>[쌓이다 젤리, 젤리 말랑말랑, 말랑말랑 말캉말캉하다, 말캉말캉하다 재료, 재료 쌓...</td>\n",
       "      <td>[쌓이다 젤리 말랑말랑, 젤리 말랑말랑 말캉말캉하다, 말랑말랑 말캉말캉하다 재료, ...</td>\n",
       "      <td>[-0.0059907604, -0.0065465523, -0.007013881, 0...</td>\n",
       "    </tr>\n",
       "    <tr>\n",
       "      <th>4988</th>\n",
       "      <td>영양제 먹는순서좀 알려주세요!</td>\n",
       "      <td>순서를 이렇게짰는데 이대로 먹으면 될까요?또 궁금한거는 저녁식후가 많은데 한번에 다...</td>\n",
       "      <td>23.10.27</td>\n",
       "      <td>[순서, 이렇게, 짜다, 이대로, 먹다, 요, 궁금하다, 저녁, 후, 많다, 한번,...</td>\n",
       "      <td>[순서 이렇게, 이렇게 짜다, 짜다 이대로, 이대로 먹다, 먹다 요, 요 궁금하다,...</td>\n",
       "      <td>[순서 이렇게 짜다, 이렇게 짜다 이대로, 짜다 이대로 먹다, 이대로 먹다 요, 먹...</td>\n",
       "      <td>[-0.0033928077, -0.009174512, -0.0049748514, 0...</td>\n",
       "    </tr>\n",
       "    <tr>\n",
       "      <th>4989</th>\n",
       "      <td>디크놀/트리돌 차이점 디크놀/타이놀 차이 궁금합니다</td>\n",
       "      <td>안녕하세요 선생님들1. 디크놀트리돌 차이점 디크놀은 쓰면 안되는 사람 궁금합니다 디...</td>\n",
       "      <td>23.10.27</td>\n",
       "      <td>[선생님, 디, 크놀, 돌, 차이점, 디, 크놀, 쓰다, 안되다, 사람, 궁금하다,...</td>\n",
       "      <td>[선생님 디, 디 크놀, 크놀 돌, 돌 차이점, 차이점 디, 디 크놀, 크놀 쓰다,...</td>\n",
       "      <td>[선생님 디 크놀, 디 크놀 돌, 크놀 돌 차이점, 돌 차이점 디, 차이점 디 크놀...</td>\n",
       "      <td>[-0.002941997, -0.0026072562, 0.004505806, 0.0...</td>\n",
       "    </tr>\n",
       "  </tbody>\n",
       "</table>\n",
       "</div>"
      ],
      "text/plain": [
       "                                  title  \\\n",
       "4985               알레르기성 결막염 점안액 질문드립니다   \n",
       "4986   화장품을 여러회사제품으로 사용하면 피부에 영향이 있을까요?   \n",
       "4987  약품중에 캡슐과 젤리로 쌓인약은 캡슐,젤리 재료가 뭔가요>?   \n",
       "4988                   영양제 먹는순서좀 알려주세요!   \n",
       "4989       디크놀/트리돌 차이점 디크놀/타이놀 차이 궁금합니다   \n",
       "\n",
       "                                                 review      date  \\\n",
       "4985  알레르기성 결막염으로 약국에서 오로메토론과 파타올을 처방받았습니다.1. 두 성분은 ...  23.10.28   \n",
       "4986  선물 받은것 셈플받은것  쎄일할때 산것등 여러회사 제품의 기초화장품을 바르면  안 ...  23.10.28   \n",
       "4987  약품중에 캡슐로 쌓인것도 있고 젤리같이 말랑말랑 말캉말캉한 재료로 쌓인것도 있는데 ...  23.10.27   \n",
       "4988  순서를 이렇게짰는데 이대로 먹으면 될까요?또 궁금한거는 저녁식후가 많은데 한번에 다...  23.10.27   \n",
       "4989  안녕하세요 선생님들1. 디크놀트리돌 차이점 디크놀은 쓰면 안되는 사람 궁금합니다 디...  23.10.27   \n",
       "\n",
       "                                          tagged_review  \\\n",
       "4985  [알레르기, 결막염, 약국, 로메, 토론, 파타, 오다, 처방, 받다, 두, 성분,...   \n",
       "4986  [선물, 받다, 셈, 받다, 쎄다, 사다, 회사, 제품, 기초, 화장품, 바르다, ...   \n",
       "4987           [쌓이다, 젤리, 말랑말랑, 말캉말캉하다, 재료, 쌓이다, 젤리, 재료]   \n",
       "4988  [순서, 이렇게, 짜다, 이대로, 먹다, 요, 궁금하다, 저녁, 후, 많다, 한번,...   \n",
       "4989  [선생님, 디, 크놀, 돌, 차이점, 디, 크놀, 쓰다, 안되다, 사람, 궁금하다,...   \n",
       "\n",
       "                                                2_grams  \\\n",
       "4985  [알레르기 결막염, 결막염 약국, 약국 로메, 로메 토론, 토론 파타, 파타 오다,...   \n",
       "4986  [선물 받다, 받다 셈, 셈 받다, 받다 쎄다, 쎄다 사다, 사다 회사, 회사 제품...   \n",
       "4987  [쌓이다 젤리, 젤리 말랑말랑, 말랑말랑 말캉말캉하다, 말캉말캉하다 재료, 재료 쌓...   \n",
       "4988  [순서 이렇게, 이렇게 짜다, 짜다 이대로, 이대로 먹다, 먹다 요, 요 궁금하다,...   \n",
       "4989  [선생님 디, 디 크놀, 크놀 돌, 돌 차이점, 차이점 디, 디 크놀, 크놀 쓰다,...   \n",
       "\n",
       "                                                3_grams  \\\n",
       "4985  [알레르기 결막염 약국, 결막염 약국 로메, 약국 로메 토론, 로메 토론 파타, 토...   \n",
       "4986  [선물 받다 셈, 받다 셈 받다, 셈 받다 쎄다, 받다 쎄다 사다, 쎄다 사다 회사...   \n",
       "4987  [쌓이다 젤리 말랑말랑, 젤리 말랑말랑 말캉말캉하다, 말랑말랑 말캉말캉하다 재료, ...   \n",
       "4988  [순서 이렇게 짜다, 이렇게 짜다 이대로, 짜다 이대로 먹다, 이대로 먹다 요, 먹...   \n",
       "4989  [선생님 디 크놀, 디 크놀 돌, 크놀 돌 차이점, 돌 차이점 디, 차이점 디 크놀...   \n",
       "\n",
       "                                                 vector  \n",
       "4985  [-0.007174562, 0.009796116, 0.007250117, 0.000...  \n",
       "4986  [-0.0065415264, 0.0007954431, 0.00934039, -0.0...  \n",
       "4987  [-0.0059907604, -0.0065465523, -0.007013881, 0...  \n",
       "4988  [-0.0033928077, -0.009174512, -0.0049748514, 0...  \n",
       "4989  [-0.002941997, -0.0026072562, 0.004505806, 0.0...  "
      ]
     },
     "execution_count": 113,
     "metadata": {},
     "output_type": "execute_result"
    }
   ],
   "source": [
    "df.tail(5)"
   ]
  },
  {
   "cell_type": "code",
   "execution_count": 14,
   "id": "adfedcf0-eefa-4cf9-8b8e-f8691b75554b",
   "metadata": {},
   "outputs": [
    {
     "data": {
      "text/plain": [
       "(4990, 3)"
      ]
     },
     "metadata": {},
     "output_type": "display_data"
    },
    {
     "data": {
      "text/html": [
       "<div>\n",
       "<style scoped>\n",
       "    .dataframe tbody tr th:only-of-type {\n",
       "        vertical-align: middle;\n",
       "    }\n",
       "\n",
       "    .dataframe tbody tr th {\n",
       "        vertical-align: top;\n",
       "    }\n",
       "\n",
       "    .dataframe thead th {\n",
       "        text-align: right;\n",
       "    }\n",
       "</style>\n",
       "<table border=\"1\" class=\"dataframe\">\n",
       "  <thead>\n",
       "    <tr style=\"text-align: right;\">\n",
       "      <th></th>\n",
       "      <th>제목</th>\n",
       "      <th>본문</th>\n",
       "      <th>작성일자</th>\n",
       "    </tr>\n",
       "  </thead>\n",
       "  <tbody>\n",
       "    <tr>\n",
       "      <th>0</th>\n",
       "      <td>글루타치온 성분이 무엇인가요???</td>\n",
       "      <td>티비에 글루타치온 ,리포좀 글루차티온 이러는데  항산화작용? 이걸한다는데 어떻게 몸...</td>\n",
       "      <td>6시간 전</td>\n",
       "    </tr>\n",
       "    <tr>\n",
       "      <th>1</th>\n",
       "      <td>고가 비타민영양제 꼭 챙겨야할까요?</td>\n",
       "      <td>생각보다 한병 자체에 값이 밥값반값 정도의 가격이라...부담스러운데 많이들 챙겨먹는...</td>\n",
       "      <td>6시간 전</td>\n",
       "    </tr>\n",
       "    <tr>\n",
       "      <th>2</th>\n",
       "      <td>벤포벨b 복용 후 타이레놀 먹어도 될까요</td>\n",
       "      <td>저녁6시쯤  벤포벨b 먹었습니다  지금 치통이 와서 타이레놀 먹어도 상관 없을까요?...</td>\n",
       "      <td>15시간 전</td>\n",
       "    </tr>\n",
       "  </tbody>\n",
       "</table>\n",
       "</div>"
      ],
      "text/plain": [
       "                       제목                                                 본문  \\\n",
       "0      글루타치온 성분이 무엇인가요???  티비에 글루타치온 ,리포좀 글루차티온 이러는데  항산화작용? 이걸한다는데 어떻게 몸...   \n",
       "1     고가 비타민영양제 꼭 챙겨야할까요?  생각보다 한병 자체에 값이 밥값반값 정도의 가격이라...부담스러운데 많이들 챙겨먹는...   \n",
       "2  벤포벨b 복용 후 타이레놀 먹어도 될까요  저녁6시쯤  벤포벨b 먹었습니다  지금 치통이 와서 타이레놀 먹어도 상관 없을까요?...   \n",
       "\n",
       "     작성일자  \n",
       "0   6시간 전  \n",
       "1   6시간 전  \n",
       "2  15시간 전  "
      ]
     },
     "metadata": {},
     "output_type": "display_data"
    }
   ],
   "source": [
    "display(df.shape, df.head(3))"
   ]
  },
  {
   "cell_type": "code",
   "execution_count": 16,
   "id": "9555ca0a-7cea-4824-9770-33b342a21306",
   "metadata": {},
   "outputs": [],
   "source": [
    "# '제목', '본문', '작성일자' -> 'title', 'review', 'date'\n",
    "df.columns = ['title','review','date']"
   ]
  },
  {
   "cell_type": "markdown",
   "id": "a1472154-a931-47f3-8d8f-ff3eeb1fe367",
   "metadata": {},
   "source": [
    "# ◆ 클러스터링"
   ]
  },
  {
   "cell_type": "markdown",
   "id": "1af93937-f9f4-406e-a83b-deb1d7c96e5f",
   "metadata": {},
   "source": [
    "## ◆ 1. 데이터 전처리하기\n",
    "* 1.1. 특수문자 및 숫자 제거\n",
    "* 1.2. 의미없는 짧은 글 제거"
   ]
  },
  {
   "cell_type": "markdown",
   "id": "a43d1a31-72a0-4067-b685-ccf28549b2e5",
   "metadata": {},
   "source": [
    "### 1.1. 특수문자 및 숫자 제거\n",
    "    *정규표현식 사용"
   ]
  },
  {
   "cell_type": "code",
   "execution_count": 21,
   "id": "7b8ef36e-4d5d-4436-910c-7fbbcb952c87",
   "metadata": {},
   "outputs": [],
   "source": [
    "import re\n",
    "from tqdm import tqdm"
   ]
  },
  {
   "cell_type": "code",
   "execution_count": 23,
   "id": "c920da60-dc85-4079-bc68-eb6cf8dcecb0",
   "metadata": {},
   "outputs": [
    {
     "name": "stderr",
     "output_type": "stream",
     "text": [
      "100%|██████████| 4990/4990 [00:00<00:00, 368245.07it/s]\n"
     ]
    }
   ],
   "source": [
    "# pattern = r'[^a-zA-Z0-9가-힣\\s\\.\\?\\!]'\n",
    "\n",
    "pattern = r'[^a-zA-Z0-9가-힣\\s\\.\\?\\!]'\n",
    "\n",
    "new_review = []\n",
    "for i in tqdm(df['review']):\n",
    "    text = re.sub(pattern,'',i)\n",
    "    new_review.append(text)\n",
    "\n",
    "df['review'] = new_review"
   ]
  },
  {
   "cell_type": "markdown",
   "id": "69f2af7c-087e-43b5-8ca4-ed618915865a",
   "metadata": {},
   "source": [
    "### 1.2. 의미없는 짧은 글 제거"
   ]
  },
  {
   "cell_type": "code",
   "execution_count": 26,
   "id": "8b6e7af8-7729-4b02-a8f4-12db1d03c014",
   "metadata": {},
   "outputs": [
    {
     "name": "stderr",
     "output_type": "stream",
     "text": [
      "100%|██████████| 4990/4990 [00:00<00:00, 5256046.45it/s]\n"
     ]
    }
   ],
   "source": [
    "# len(review) 가 짧으면 i, 인덱스를 추출해서 drop으로 없애기!\n",
    "for i, review in enumerate(tqdm(df.review)):\n",
    "    if len(review) < 15 :\n",
    "        df = df.drop([i])\n",
    "        # 왜 i 를 [] 로?!"
   ]
  },
  {
   "cell_type": "markdown",
   "id": "2009f346-3afe-40ca-8900-aac326c963d0",
   "metadata": {},
   "source": [
    "### 1.3. 핵심 키워드를 포함한 글만 추출\n",
    "    *주석 처리 해주겠습니다! (핵심 키워드 정리 되면 하세요!)"
   ]
  },
  {
   "cell_type": "code",
   "execution_count": 29,
   "id": "e058dfda-8792-4242-8609-163ae97d9689",
   "metadata": {},
   "outputs": [],
   "source": [
    "# # 핵심 키워드 리스트에 넣어주세요!\n",
    "# keyword_list = [\n",
    "#     \"조합\", \"배합\", \"혼합\", \"결합\", \"조제\", \"조립\", \"구성\", \"배열\", \"조직화\", \"조화\", \"융합\", \"통합\", \"병용\", \"병합\", \"조성\",\n",
    "#     # 과다복용\n",
    "#     \"과다복용\", \"과량투여\", \"과용\", \"과복용\", \"과다섭취\", \"과다사용\", \"중독\", \"오남용\", \"과잉섭취\", \"과도복용\", \"과다투약\", \"과다\",\n",
    "#     # 보관\n",
    "#     \"보관\", \"저장\", \"보존\", \"유지\", \"보호\", \"수납\", \"보관함\", \"저장고\", \"보관실\", \"냉장보관\", \"실온보관\", \"차광보관\", \"냉장\", \"실온\",\n",
    "#     # 시간\n",
    "#     \"시간\", \"기간\", \"간격\", \"주기\", \"시점\", \"시기\", \"때\", \"시각\", \"시계\", \"타이머\", \"알람\", \"일정\", \"스케줄\", \"언제\",\n",
    "#     # 식전\n",
    "#     \"식전\", \"공복 시\", \"식사 전\", \"공복상태\", \"식전 30분\", \"식전 1시간\", \"식사하기 전\", \"식사 직전\",\n",
    "#     # 식후\n",
    "#     \"식후\", \"식사 후\", \"식후 30분\", \"식후 1시간\", \"식사 직후\", \"식후 즉시\", \"식사 완료 후\",\n",
    "#     # 공복\n",
    "#     \"공복\", \"빈속\", \"공복상태\", \"금식\", \"단식\", \"공복 시\", \"음식물 섭취 전\", \"식사하지 않은 상태\",\n",
    "#     # 아침\n",
    "#     \"아침\", \"조식\", \"아침식사\", \"아침밥\", \"새벽\", \"오전\", \"아침시간\", \"모닝\", \"조조\", \"오전 중\", \"오전\",\n",
    "#     # 점심\n",
    "#     \"점심\", \"중식\", \"점심식사\", \"점심밥\", \"낮\", \"정오\", \"점심시간\", \"런치\", \"오후 초반\", \"오후\",\n",
    "#     # 저녁\n",
    "#     \"저녁\", \"석식\", \"저녁식사\", \"저녁밥\", \"밤\", \"야간\", \"저녁시간\", \"디너\", \"야식\",\n",
    "#     # 동시에\n",
    "#     \"동시에\", \"함께\", \"동시\", \"동반\", \"병행\", \"동시간대\", \"일시에\", \"한꺼번에\", \"동시적으로\", \"병렬적으로\",\n",
    "#     # 함께\n",
    "#     \"함께\", \"같이\", \"동반\", \"동행\", \"병용\", \"동시에\", \"더불어\", \"함께하여\", \"연계하여\", \"병행하여\",\n",
    "#     # 아이\n",
    "#     \"아이\", \"어린이\", \"유아\", \"소아\", \"청소년\", \"미성년자\", \"유소년\", \"영유아\", \"꼬마\", \"초등학생\", \"아기\", \"애기\",\n",
    "#     # 임산부\n",
    "#     \"임산부\", \"산모\", \"임신부\", \"임신 중인 여성\", \"태아\", \"출산 예정자\", \"임신 중\", \"임신기\", \"태교중인 여성\",\n",
    "#     # 남성\n",
    "#     \"남성\", \"남자\", \"신사\", \"사내\", \"남편\", \"아버지\", \"청년\", \"중년\", \"노년\", \"성인 남성\", \"미혼 남성\",\n",
    "#     # 여성\n",
    "#     \"여성\", \"여자\", \"숙녀\", \"아가씨\", \"부인\", \"어머니\", \"청년\", \"중년\", \"노년\", \"성인 여성\", \"미혼 여성\"]"
   ]
  },
  {
   "cell_type": "markdown",
   "id": "5c640d5e-4215-4c9f-81b4-d427fc5cc692",
   "metadata": {},
   "source": [
    "---"
   ]
  },
  {
   "cell_type": "code",
   "execution_count": 32,
   "id": "b7ae3980-66c5-4eae-97a2-554d9656f64c",
   "metadata": {},
   "outputs": [],
   "source": [
    "# # 핵심 키워드를 하나라도 포함하는 리뷰의 인덱스만 추출\n",
    "# df = df.iloc[idx,:]\n",
    "# df.reset_index(drop=True,inplace=True)"
   ]
  },
  {
   "cell_type": "code",
   "execution_count": 34,
   "id": "5a1bd3aa-5b7b-4fb2-af41-c75f53c6f749",
   "metadata": {},
   "outputs": [
    {
     "data": {
      "text/plain": [
       "(4990, 3)"
      ]
     },
     "execution_count": 34,
     "metadata": {},
     "output_type": "execute_result"
    }
   ],
   "source": [
    "df.shape"
   ]
  },
  {
   "cell_type": "markdown",
   "id": "e0ba5892-189c-45da-a954-072017d2d7fb",
   "metadata": {},
   "source": [
    "- 추가 사항\n",
    "  + ~기도 -> 불용어~\n",
    "  + ~review REPLACE~\n",
    "    + ' 지' -> '지' REPLACE\n",
    "    + '가해서' -> '가 해서' REPLACE\n",
    "  + ~tagged_review REPLACE~\n",
    "    + 먹어야다 -> 먹다. replace\n",
    "    + 챙기기 -> 챙기다. REPLACE\n",
    "    + 요즘들어 -> 요즘. REPLACE"
   ]
  },
  {
   "cell_type": "code",
   "execution_count": 37,
   "id": "36b90ebd-af16-4d94-8628-58886a810633",
   "metadata": {},
   "outputs": [],
   "source": [
    "# review = review.replace('먹어야다','먹다')\n",
    "# review = review.replace('챙기기','챙기다')\n",
    "# review = review.replace('요즘들어','요즘')"
   ]
  },
  {
   "cell_type": "code",
   "execution_count": 42,
   "id": "b05eeb3f-0802-4e88-abe9-a0eda8fb705b",
   "metadata": {},
   "outputs": [
    {
     "name": "stderr",
     "output_type": "stream",
     "text": [
      "100%|██████████| 4990/4990 [00:00<00:00, 1146323.64it/s]\n"
     ]
    }
   ],
   "source": [
    "for review in tqdm(df.review):\n",
    "    review = review.replace(' 지','지')\n",
    "    review = review.replace('가해서','가 해서')"
   ]
  },
  {
   "cell_type": "markdown",
   "id": "c61b3859-7d5f-4261-977c-d0c84f3ac695",
   "metadata": {},
   "source": [
    "## ◆ 2. 데이터 형태소 분리하기\n",
    "* 2.0 사용자 사전 추가\n",
    "* 2.1 불용어적용 및 형태소 분리\n",
    "* 2.2 데이터 프레임에 추가"
   ]
  },
  {
   "cell_type": "code",
   "execution_count": 45,
   "id": "10f7ebb7-0254-4a25-81c6-3f655636946c",
   "metadata": {},
   "outputs": [],
   "source": [
    "from konlpy.tag import Okt\n",
    "okt = Okt()"
   ]
  },
  {
   "cell_type": "markdown",
   "id": "556a4903-1046-4632-aa42-bb7ebe5e3b15",
   "metadata": {},
   "source": [
    "### 2.0. 사용자 사전 추가\n",
    "    *핵심 1팀 - 파일 - data - 사용자 사전 추가"
   ]
  },
  {
   "cell_type": "code",
   "execution_count": 47,
   "id": "5dbfa372-fc04-427a-9632-7c52b1d0dfee",
   "metadata": {},
   "outputs": [],
   "source": [
    "# # 파일을 'a' 모드(append 모드)로 열어서 내용을 추가합니다\n",
    "# with open(file_path, 'a') as file:\n",
    "#     file.write(\"\\n추가할 내용이 여기에 들어갑니다.\")\n",
    "\n",
    "# print(\"내용이 성공적으로 추가되었습니다.\")"
   ]
  },
  {
   "cell_type": "markdown",
   "id": "4df3d26e-9a65-4029-b6de-149ba602a3a9",
   "metadata": {},
   "source": [
    "### 2.1. 불용어적용 및 형태소 분리\n",
    "    *제공되는 한국어 불용어 파일 사용(ko-stopwords.csv) <- 핵심 1팀 - 파일 - data"
   ]
  },
  {
   "cell_type": "code",
   "execution_count": 51,
   "id": "d5c7ce95-aa54-453f-beac-29aa358e8ea1",
   "metadata": {},
   "outputs": [],
   "source": [
    "import pandas as pd"
   ]
  },
  {
   "cell_type": "code",
   "execution_count": 53,
   "id": "9452f8cb-c440-4b1c-b991-02d7afdbc5fa",
   "metadata": {},
   "outputs": [
    {
     "data": {
      "text/plain": [
       "599"
      ]
     },
     "execution_count": 53,
     "metadata": {},
     "output_type": "execute_result"
    }
   ],
   "source": [
    "stopwords_DF = pd.read_csv('../data/ko-stopwords.csv')\n",
    "stopwords = list(stopwords_DF.stopwords)\n",
    "len(stopwords)"
   ]
  },
  {
   "cell_type": "markdown",
   "id": "9d6f9fee-1f44-4a27-a998-eb5da7be3d02",
   "metadata": {},
   "source": [
    "    *추가 불용어 넣기"
   ]
  },
  {
   "cell_type": "code",
   "execution_count": 56,
   "id": "1118bf57-e630-4dfc-a9fe-41ca3fb428ea",
   "metadata": {},
   "outputs": [],
   "source": [
    "stopwords += [\"기도\", \"영양제\", \"레시틴\", \"구리\", \"MSM\", \"커큐민\", \"이브A\", \"말레이트베르베린\", \"아르기닌\", \"테아닌\", \"코엔자임\", \"벤포벨S\", \"코큐텐\", \"비맥스메타\", \"판토텐산\", \"비오틴\", \n",
    "\"세노비스\", \"코랄칼슘\", \"흑염소\", \"씬지로이드\", \"루테인지아잔틴\", \"메가도스\", \"이소티논\", \"하이치올B\", \"유비퀴놀\", \"퀘르세틴\", \"쏜리서치\", \"포스파티딜콜린\", \n",
    "\"크레아틴\", \"로아큐탄니메겐\", \"인돌3카비놀\", \"베르베린\", \"글루코사민\", \"콘드로이친\", \"감마리놀렌산\", \"나이아신아마이드\", \"브로멜라인\", \"트리메부틴\", \"엘테아닌\",\n",
    "\"달맞이종자유\",\"퀘르세틴\",\"L글루타민\",\"베타글루칸\",\"이노시톨\",\"콘도로이친\",\"이노시톨\",\"포스파티딜세린\",\"옥타코사놀\",\"철분\",\"판토텐산\",\"마카\",\"크레아틴\",\n",
    "\"나우푸드\",\"리퀴드씨엠\",\"에르도스테인\",\"메가도스\",\"센트롬우먼\",\"센트룸 우먼 더블업\",\"센트룸 우먼3\",\"얼라이브포우먼\",\"베타글루칸\",\"카테킨\",\"디오맥스정\",\"제타정\",\n",
    "\"벤포벨에스정\",\"아고틴정\",\"야즈정\",\"도베셀정\",\"아로나민골드\",\"피쉬콜라겐\",\"피쉬오일\",\"크랜베리글루타민\",\"안국건강\",\"포스파티딜콜린\",\"모나콜린\",\"콜린이노시톨\",\n",
    "\"바나바잎\", \"니코버\",\"니코챔스\",\"리보트릴정\",\"쿠에타핀서방정\",\"트리티코정\",\"자나팜정\",\"테프라정\",\"인데놀\",\"L테아닌\",\"맥시헤어플러스\",\"닥터스헤어\",\"제로우\",\"자로우\",\n",
    "\"리퀴드씨엠\",\"레모나\",\"인돌3카비놀\",\"바이텍스콜라겐\",\"바이독시정\",\"바이오페린\",\"바이오웰\",\"오메틸오메가3\",\"오메가루테인\",\"오메가\",\"아보다트\",\"라라올라\",\"매스틱검\",\n",
    "\"감마리놀렌산\",\"시스테인\",\"곤약세라미드\",\"세라펩타제\",\"오쏘몰\",\"멜리안\",\"종근당오메가3\",\"프로메가\",\"나토키나제\",\"아스타잔틴\",\"타우린\"]"
   ]
  },
  {
   "cell_type": "code",
   "execution_count": 58,
   "id": "09e21748-8ef4-4616-bf2a-0085197dd886",
   "metadata": {},
   "outputs": [
    {
     "data": {
      "text/plain": [
       "713"
      ]
     },
     "execution_count": 58,
     "metadata": {},
     "output_type": "execute_result"
    }
   ],
   "source": [
    "len(stopwords)"
   ]
  },
  {
   "cell_type": "code",
   "execution_count": 60,
   "id": "897e44af-5176-492b-9767-4364514ac30f",
   "metadata": {},
   "outputs": [],
   "source": [
    "import pickle\n",
    "# 피클 파일에서 리스트 불러오기\n",
    "with open('../data/불용어/integrated_supplement_list.pkl', 'rb') as f:     \n",
    "    loaded_list = pickle.load(f)"
   ]
  },
  {
   "cell_type": "code",
   "execution_count": 62,
   "id": "7a646e0b-e863-48e1-87f0-d75940604110",
   "metadata": {},
   "outputs": [],
   "source": [
    "stopwords += loaded_list"
   ]
  },
  {
   "cell_type": "code",
   "execution_count": 64,
   "id": "2eb62609-bd13-4dfc-b6f0-d514e7870904",
   "metadata": {},
   "outputs": [
    {
     "data": {
      "text/plain": [
       "1233"
      ]
     },
     "execution_count": 64,
     "metadata": {},
     "output_type": "execute_result"
    }
   ],
   "source": [
    "len(stopwords)"
   ]
  },
  {
   "cell_type": "code",
   "execution_count": 66,
   "id": "bca63671-3d90-40c5-ad40-bf4ef4840a17",
   "metadata": {},
   "outputs": [],
   "source": [
    "stopwords += ['고릴라','비타민','안녕하다',\"밀크\", \"씨\", \"슬\", \"글루\", \"타치\", \"온\", \"비타민\", \"알\", \"쏘다\", \"리서치\", \n",
    "    \"칼슘\", \"마그네슘\", \"고려\", \"은단\", \"루테\", \"인지\", \"잔틴\", \"라이프\", \"익스\", \"텐션\",\n",
    "    \"비맥스\", \"제트\", \"파리\", \"포산\", \"아연\", \"오메가\", \"알티\", \"지\", \"스포츠\", \n",
    "    \"팔메\", \"토\", \"멀티\", \"미네랄\", \"나우\", \"푸드\", \"말레이\", \"트\", \"실리\", \"마린\",\n",
    "    \"씨슬\", \"캘리포니아\", \"골드\", \"뉴\", \"트리\", \"션\", \"닥터\", \"에디\", \"투퍼\", \"데이\",\n",
    "    \"시슬\", \"엽산\", \"씬\", \"지로\", \"이드\", \"옥\", \"타코\", \"사\", \"비\", \"맥스\", \"더블\", \"엑스\", \"종합\", \"뉴트리라이트\", \"데비\", \"베타\", \"녹차\", \"양파\", \"껍질\", \"강황\", \n",
    "    \"이노시톨\", \"렉스\", \"쎄레브\", \"베타카로틴\", \"킬레이트\", \"코큐텐\", \"라이신\", \"프로폴리스\", \"글루타민\", \"알헬시오리진스\", \"피크\", \"팩비피젠\", \"비\", \"피더\", \"알레\", \n",
    "    \"이크\", \"파티\", \"딜\", \"세린\", \"포스\", \"마리\", \"놀랜\", \"산\", \"감\", \"마리\", \"놀랜\", \"옥\", \"타코\", \"시\", \"블랙\", \"모\", \"어스\", \"메타\", \n",
    "    \"그린\", \"슬림업\", \"애플\", \"사이다\", \"부루\", \"펜정\", \"시럽\", \"블루\", \"칸\", \"비오틴\", \"유산균\", \"스테\", \"아\", \"린산\", \"연\", \n",
    "    \"양제원\", \"캐다\", \"포니\", \"아\", \"커큐민\", \"레스베라트롤\", \"레이브\", \"스병티\", \"베이직\", \"메티마졸\", \"종근당\", \"소프트\", \"젤\", \"정\", \n",
    "    \"베다\", \"캡슐\", \"정\", \"안\", \"토시\", \"아\", \"딘\", \"프로\", \"이노시톨\", \"프로바이오틱스\", \"큐텐\", \"알로\", \"리틀\", \"스\", \"맥스\", \"부스터\", \"코큐텐\", \"부스터\", \"징코\", \n",
    "    \"피크\", \"마\", \"그\", \"듀오\", \"대범하다\", \"애벌\", \"래\", \"시\", \"딜\", \"보\", \"프림\", \"에\", \"글루타민\", \"트루\", \"파워\", \"메\", \"가\", \"야\", \"즈\", \n",
    "    \"베타\", \"글루칸\", \"스테롤\", \"테로\", \"스틸\", \"베다\", \"홍삼\", \"코큐텐\", \"비오틴\", \"유산균\", \"프로폴리스\", \"센트륨\", \"솔\",\n",
    "    \"케르\", \"세\", \"틴\", \"브로\", \"멜라\", \"인\", \"영\", \"양제\", \"도스\", \"궁금\", \"질문\", \"소티\", \"논\", \"노\", \"제\", \"놀\", \"콘드\", \"로\", \"이친\", \n",
    "    \"안녕\", \"하다\", \"마늘\", \"글루코사민\", \"콘드\", \n",
    "    \"로\", \"철분\", \"액\", \"상\", \"소티\", \"논\", \"놀\", \"보스\", \"웰\", \"리아\", \"달맞이꽃\", \"종\", \"자유\", \"꽃\", \"추출\", \"물\", \"밀크\", \"씨\", \"슬\", \n",
    "    \"글루\", \"타치\", \"온\", \"비타민\", \"알\", \"쏘다\", \"리서치\", \n",
    "    \"칼슘\", \"마그네슘\", \"고려\", \"은단\", \"루테\", \"인지\", \"잔틴\", \"라이프\", \"익스\", \"텐션\",\n",
    "    \"비맥스\", \"제트\", \"파리\", \"포산\", \"아연\", \"오메가\", \"알티\", \"지\", \"스포츠\", \n",
    "    \"팔메\", \"토\", \"멀티\", \"미네랄\", \"나우\", \"푸드\", \"말레이\", \"트\", \"실리\", \"마린\",\n",
    "    \"씨슬\", \"캘리포니아\", \"골드\", \"뉴\", \"트리\", \"션\", \"닥터\", \"에디\", \"투퍼\", \"데이\",\n",
    "    \"시슬\", \"엽산\", \"씬\", \"지로\", \"이드\", \"케르\", \"세\", \"틴\", \"브로\", \"멜라\", \"인\",\n",
    "    \"소티\", \"논\", \"궁금\", \"질문\", \"옥\", \"타코\", \"사\", \"비\", \"맥스\", \"더블\", \"엑스\",\n",
    "    \"종합\", \"뉴트리라이트\", \"데비\", \"베타\", \"녹차\", \"양파\", \"껍질\", \"강황\", \"이노시톨\",\n",
    "    \"렉스\", \"쎄레브\", \"베타카로틴\", \"킬레이트\", \"코큐텐\", \"라이신\", \"프로폴리스\", \"글루타민\",\n",
    "    \"알헬시오리진스\", \"피크\", \"팩비피젠\", \"피더\", \"알레\", \"이크\", \"파티\", \"딜\", \"세린\",\n",
    "    \"포스\", \"마리\", \"놀랜\", \"산\", \"감\", \"블랙\", \"모\", \"어스\", \"메타\", \"그린\",\n",
    "    \"슬림업\", \"애플\", \"사이다\", \"부루\", \"펜정\", \"시럽\", \"블루\", \"칸\", \"비오틴\", \"유산균\",\n",
    "    \"스테\", \"아\", \"린산\", \"연\", \"양제원\", \"캐다\", \"포니\", \"커큐민\", \"레스베라트롤\", \"레이브\",\n",
    "    \"스병티\", \"베이직\", \"메티마졸\", \"종근당\", \"소프트\", \"젤\", \"베다\", \"캡슐\", \"안\", \"토시\",\n",
    "    \"아딘\", \"프로\", \"큐텐\", \"알로\", \"리틀\", \"스\", \"부스터\", \"징코\", \"듀오\", \"대범하다\",\n",
    "    \"애벌\", \"래\", \"보\", \"프림\", \"에\", \"트루\", \"파워\", \"메가\", \"야즈\", \"글루칸\",\n",
    "    \"스테롤\", \"테로\", \"스틸\", \"홍삼\", \"센트륨\", \"솔\", \"노\", \"제\", \"콘드\", \"로\",\n",
    "    \"이친\", \"안녕\", \"하다\", \"마늘\", \"철분\", \"액상\", \"보스\", \"웰\", \"리아\", \"달맞이꽃\",\n",
    "    \"종자유\", \"꽃\", \"추출물\"] # 아래와 같이 넣기!!"
   ]
  },
  {
   "cell_type": "code",
   "execution_count": 68,
   "id": "9d50bfc6-fdba-4ea8-8fcd-17f2a816723a",
   "metadata": {},
   "outputs": [],
   "source": [
    "stopwords = list(set(stopwords))"
   ]
  },
  {
   "cell_type": "code",
   "execution_count": 70,
   "id": "69828330-b098-425f-82cb-885ccdb8c98b",
   "metadata": {},
   "outputs": [
    {
     "data": {
      "text/plain": [
       "1348"
      ]
     },
     "execution_count": 70,
     "metadata": {},
     "output_type": "execute_result"
    }
   ],
   "source": [
    "len(stopwords)"
   ]
  },
  {
   "cell_type": "code",
   "execution_count": 72,
   "id": "5e56a8d1-413b-4bb1-a733-d400629da8a5",
   "metadata": {},
   "outputs": [],
   "source": [
    "def okt_pos_tagging(string):\n",
    "    pos_words = okt.pos(string, stem=True, norm=True)\n",
    "    # stem : 어근화 | norm : 정규화\n",
    "    \n",
    "    tagged_list = []\n",
    "    for word, tag in pos_words:\n",
    "        # 형태소 분리\n",
    "        if tag in ['Noun','Adjective','Verb','Adverb']:\n",
    "            # 불용어 제거\n",
    "            if word not in stopwords:\n",
    "                tagged_list.append(word)\n",
    "    # words = [word for word, tag in pos_words if tag in ['Noun','Adjective','Verb'] \n",
    "    #          if word not in stopwords]\n",
    "    \n",
    "    return tagged_list"
   ]
  },
  {
   "cell_type": "markdown",
   "id": "bff5c5dd-79f6-40f3-ac8f-a672dda406d2",
   "metadata": {},
   "source": [
    "### 2.2 데이터 프레임에 추가"
   ]
  },
  {
   "cell_type": "markdown",
   "id": "73a02fc9-a57d-441c-aecc-0818b604073b",
   "metadata": {},
   "source": [
    "    *아래 for문 생각보다 오래 걸렸어요! (수민님!)"
   ]
  },
  {
   "cell_type": "code",
   "execution_count": 76,
   "id": "fe07bf5f-5982-4c77-9ef8-050ee1c51932",
   "metadata": {},
   "outputs": [
    {
     "data": {
      "text/plain": [
       "True"
      ]
     },
     "execution_count": 76,
     "metadata": {},
     "output_type": "execute_result"
    }
   ],
   "source": [
    "\"고릴라\" in stopwords"
   ]
  },
  {
   "cell_type": "code",
   "execution_count": 78,
   "id": "c2b8e572-8880-4584-afb0-35771bc758d9",
   "metadata": {},
   "outputs": [],
   "source": [
    "stopwords;"
   ]
  },
  {
   "cell_type": "code",
   "execution_count": 80,
   "id": "412a39dc-0cb3-4c3f-9722-e15c6d41e480",
   "metadata": {},
   "outputs": [
    {
     "name": "stderr",
     "output_type": "stream",
     "text": [
      "100%|██████████| 4990/4990 [01:01<00:00, 80.65it/s] \n"
     ]
    }
   ],
   "source": [
    "tagged_list = []\n",
    "for review in tqdm(df.review):\n",
    "    tagged = okt_pos_tagging(review)\n",
    "    tagged_list.append(tagged)"
   ]
  },
  {
   "cell_type": "code",
   "execution_count": 81,
   "id": "e49e0335-276a-462f-89f0-4147206e2c44",
   "metadata": {},
   "outputs": [],
   "source": [
    "df['tagged_review'] = tagged_list"
   ]
  },
  {
   "cell_type": "markdown",
   "id": "4b0e7250-cd6e-4393-8054-75584885474f",
   "metadata": {},
   "source": [
    "---"
   ]
  },
  {
   "cell_type": "code",
   "execution_count": 83,
   "id": "46b11d6b-b40e-468a-b203-872516c86fdc",
   "metadata": {},
   "outputs": [],
   "source": [
    "from nltk import ngrams"
   ]
  },
  {
   "cell_type": "code",
   "execution_count": 84,
   "id": "b5e03ab4-90b4-4b1c-a2ed-76a7c2e5c7d1",
   "metadata": {},
   "outputs": [],
   "source": [
    "def make_n_grams(x,n):\n",
    "    x = ' '.join(x)\n",
    "    x = x.replace('먹어야다','먹다')\n",
    "    x = x.replace('챙기기','챙기다')\n",
    "    x = x.replace('요즘들어','요즘')\n",
    "    n_grams = ngrams(x.split(), n)\n",
    "    n_grams = [' '.join(grams) for grams in n_grams]\n",
    "    \n",
    "    return n_grams"
   ]
  },
  {
   "cell_type": "code",
   "execution_count": 85,
   "id": "3e0030ba-e28d-4dca-b0f8-e20dc73a2333",
   "metadata": {},
   "outputs": [],
   "source": [
    "# test = df.copy(deep=True)"
   ]
  },
  {
   "cell_type": "code",
   "execution_count": 86,
   "id": "a104c4dc-b312-48b9-aa3e-b28314aad101",
   "metadata": {},
   "outputs": [],
   "source": [
    "df['2_grams'] = df.tagged_review.apply(lambda x : make_n_grams(x,2))"
   ]
  },
  {
   "cell_type": "code",
   "execution_count": 87,
   "id": "352cbdc4-c0e2-4293-8e6a-2929aaf82c9b",
   "metadata": {
    "scrolled": true
   },
   "outputs": [],
   "source": [
    "df['3_grams'] = df.tagged_review.apply(lambda x : make_n_grams(x,3))"
   ]
  },
  {
   "cell_type": "code",
   "execution_count": 88,
   "id": "5b317ede-68b8-4f9d-a0c6-f7ead7017613",
   "metadata": {},
   "outputs": [],
   "source": [
    "# df"
   ]
  },
  {
   "cell_type": "markdown",
   "id": "2a8cb43c-9c74-4d2a-976d-1ccb431b0908",
   "metadata": {},
   "source": [
    "---"
   ]
  },
  {
   "cell_type": "markdown",
   "id": "9dd1d018-60c5-4191-8965-8dfc946c9fa8",
   "metadata": {},
   "source": [
    "## ◆ 3. 벡터화\n",
    "* 3.1 doc2vec 준비(문서의 순서 매기기)\n",
    "* 3.2 doc2vec 학습시키기\n",
    "* 3.3 벡터 값 데이터 프레임에 추가"
   ]
  },
  {
   "cell_type": "code",
   "execution_count": 91,
   "id": "82df386e-2854-486e-a1a7-4ffefd9ce9cf",
   "metadata": {},
   "outputs": [],
   "source": [
    "#import gensim 안될때 첫번째시도\n",
    "# pip install --upgrade scipy\n",
    "# pip install --upgrade gensim\n",
    "\n",
    "#두번쨰시도\n",
    "#pip install --upgrade numpy"
   ]
  },
  {
   "cell_type": "code",
   "execution_count": 92,
   "id": "0ea05a8d-9bef-4ae0-8a01-ecde5ec0163a",
   "metadata": {
    "scrolled": true
   },
   "outputs": [],
   "source": [
    "# !pip show scipy"
   ]
  },
  {
   "cell_type": "code",
   "execution_count": 93,
   "id": "cf2dd6a6-edf4-4f0b-9ae2-5432c42f2970",
   "metadata": {},
   "outputs": [],
   "source": [
    "# [a, b, c, d] => (a,b,c) (b,c) (c,d)"
   ]
  },
  {
   "cell_type": "code",
   "execution_count": 94,
   "id": "b9d2ee25-69d0-4a9c-9713-15ed354c6096",
   "metadata": {},
   "outputs": [],
   "source": [
    "import gensim #자연어 처리 및 토픽 모델링을 위한 라이브러리\n",
    "from gensim.models.doc2vec import TaggedDocument\n",
    "from gensim.models import doc2vec"
   ]
  },
  {
   "cell_type": "markdown",
   "id": "0a144b33-03ce-4116-adaa-b0cd476c8160",
   "metadata": {},
   "source": [
    "### 3.1 doc2vec 준비\n",
    "    - word2vec은 단어 하나를 하나의 vector화\n",
    "    - doc2vec은 문서 하나를 하나의 vector화"
   ]
  },
  {
   "cell_type": "code",
   "execution_count": 96,
   "id": "ad414841-cc6a-4133-9297-e39c416f8371",
   "metadata": {},
   "outputs": [],
   "source": [
    "df['2_grams'];"
   ]
  },
  {
   "cell_type": "code",
   "execution_count": 97,
   "id": "b6f162f1-a5be-4509-aa64-a8ca835e0a39",
   "metadata": {},
   "outputs": [
    {
     "name": "stderr",
     "output_type": "stream",
     "text": [
      "100%|██████████| 4990/4990 [00:00<00:00, 323326.59it/s]\n"
     ]
    }
   ],
   "source": [
    "# doc2vector\n",
    "tagged_corpus_list = []  # 벡터 값이 들어갈 리스트\n",
    "for i, token in enumerate(tqdm(df['tagged_review'])):\n",
    "    tag = 'document {}'.format(i)\n",
    "    tagged_corpus_list.append(TaggedDocument(tags=[tag], words=token)) "
   ]
  },
  {
   "cell_type": "code",
   "execution_count": 98,
   "id": "5b5971d9-223b-47b1-822d-e985eace4a7d",
   "metadata": {
    "scrolled": true
   },
   "outputs": [
    {
     "name": "stderr",
     "output_type": "stream",
     "text": [
      "100%|██████████| 4990/4990 [00:00<00:00, 506254.58it/s]\n"
     ]
    }
   ],
   "source": [
    "# doc2vector\n",
    "tagged_corpus_list = []  # 벡터 값이 들어갈 리스트\n",
    "for i, token in enumerate(tqdm(df['3_grams'])):\n",
    "    tag = 'document {}'.format(i)\n",
    "    tagged_corpus_list.append(TaggedDocument(tags=[tag], words=token)) "
   ]
  },
  {
   "cell_type": "code",
   "execution_count": 257,
   "id": "a6d5da70-f5c0-4c48-990a-5570f632968f",
   "metadata": {
    "scrolled": true
   },
   "outputs": [
    {
     "data": {
      "text/plain": [
       "TaggedDocument(words=['티비 리포좀 글루차티온', '리포좀 글루차티온 이르다', '글루차티온 이르다 항산화작용', '이르다 항산화작용 걸', '항산화작용 걸 몸', '걸 몸 흡수', '몸 흡수 음식', '흡수 음식 흡수', '음식 흡수 하나요', '흡수 하나요 아니다', '하나요 아니다 식품', '아니다 식품 먹다'], tags=['document 0'])"
      ]
     },
     "execution_count": 257,
     "metadata": {},
     "output_type": "execute_result"
    }
   ],
   "source": [
    "tagged_corpus_list[0]"
   ]
  },
  {
   "cell_type": "code",
   "execution_count": 99,
   "id": "60dfe5dd-a9a0-4a22-8134-1b70cbf55dca",
   "metadata": {},
   "outputs": [
    {
     "data": {
      "text/plain": [
       "'안녕하세요 순한고릴라182입니다. 저희 어머니가 요즘 간병을 하시면서 밤에 잠을 잘 못주무시는데요 어머니 표정에 피곤에절어잇더라고요 너무 마음 아픈데 뭐라도 해드리고 싶은데 어떤 걸 해드려야 좋을지 추천 부탁드립니다. 정관장 홍삼 스틱 이런거 드리는게 의미가잇는지 잘 모르겟어요 몸에 도움 될 만한 제품 추천해주세요  엄마볼떄마다 마음아파요...'"
      ]
     },
     "execution_count": 99,
     "metadata": {},
     "output_type": "execute_result"
    }
   ],
   "source": [
    "df.review[3]"
   ]
  },
  {
   "cell_type": "markdown",
   "id": "7ebb522f-1aef-46d8-9104-ce847f271fc0",
   "metadata": {},
   "source": [
    "### 3.2 doc2vec 학습시키기\n",
    "    <model 하이퍼파라미터 값>\n",
    "    # vector_size : 생성할 문서 벡터의 크기\n",
    "    # alpha: 모델 학습시 초기 학습률 0.025는 일반적으로 사용됨\n",
    "    # min_alpha: 학습 과정에서 alpha 값을 이 값으로 줄여나가게 됩니다\n",
    "    # window : 문맥 윈도우 크기, 주변 몇개의 단어의 문맥을 고려하여 학습하는가"
   ]
  },
  {
   "cell_type": "code",
   "execution_count": 100,
   "id": "cde90a37-a2aa-43cb-8c1f-37f0740c13e5",
   "metadata": {},
   "outputs": [],
   "source": [
    "model = doc2vec.Doc2Vec(vector_size=100, min_alpha=0.025, window=5, seed = 216)"
   ]
  },
  {
   "cell_type": "code",
   "execution_count": 101,
   "id": "d64ccd92-2b7a-46d0-9f9e-a82f0bccb2cd",
   "metadata": {},
   "outputs": [],
   "source": [
    "# Vocabulary 빌드\n",
    "model.build_vocab(tagged_corpus_list)\n",
    "\n",
    "model.train(tagged_corpus_list, total_examples=model.corpus_count, epochs=5)\n",
    "# moedel.corpus_count : 각 형태소 카운팅.\n",
    "# epochs : for문이라 생각 몇 번 학습 할꺼냐?\n",
    "# 너무 많이 학습하면, 주어진 데이터에 과적합 할 수 있음.\n",
    "# 한 번 학습할 때, 텍스트가 흩뿌려지고 가까이 있는 데이터 값을 가지고 의미/학습을 함. "
   ]
  },
  {
   "cell_type": "markdown",
   "id": "637b08c4-f7b3-46ec-925a-bdaf063d9719",
   "metadata": {},
   "source": [
    "### 3.3 벡터 값 데이터 프레임에 추가"
   ]
  },
  {
   "cell_type": "code",
   "execution_count": 425,
   "id": "76e640d4-f908-4116-b707-f43c2b1256b9",
   "metadata": {},
   "outputs": [],
   "source": [
    "# 학습을 시킨 모델에서 벡터 값 가져오기\n",
    "# 키 값이 아까 달아둔 tag 값 (document {i})"
   ]
  },
  {
   "cell_type": "code",
   "execution_count": 305,
   "id": "b081a90f-bfa2-4e39-b1e6-0fc136120ca1",
   "metadata": {
    "scrolled": true
   },
   "outputs": [
    {
     "data": {
      "text/plain": [
       "4990"
      ]
     },
     "execution_count": 305,
     "metadata": {},
     "output_type": "execute_result"
    }
   ],
   "source": [
    "len(model.dv)"
   ]
  },
  {
   "cell_type": "code",
   "execution_count": 102,
   "id": "ed7f7492-e151-4a0b-a1e3-00fac5167ae5",
   "metadata": {},
   "outputs": [
    {
     "name": "stderr",
     "output_type": "stream",
     "text": [
      "100%|██████████| 4990/4990 [00:00<00:00, 742499.54it/s]\n"
     ]
    }
   ],
   "source": [
    "vector_list = []\n",
    "\n",
    "for i in tqdm(range(len(df))):\n",
    "    # 원하는 벡터 값\n",
    "    doc2vec = model.dv['document {}'.format(i)]\n",
    "    vector_list.append(doc2vec)"
   ]
  },
  {
   "cell_type": "code",
   "execution_count": 103,
   "id": "e07de9de-ddc5-4bab-be30-4416c2a3bb5c",
   "metadata": {},
   "outputs": [],
   "source": [
    "df['vector'] = vector_list"
   ]
  },
  {
   "cell_type": "markdown",
   "id": "77f7fcc8-a54d-48a5-a18a-ffdff7d3d063",
   "metadata": {},
   "source": [
    "## ◆ 4. 병합 계층적 클러스터링\n",
    "* 4.1 ward 기준으로 덴드로그램 그려보기\n",
    "* 4.2 실루엣 지수 확인해서 토픽 갯수 정하기\n",
    "* 4.3 가장 적절한 클러스터링 갯수 df에 삽입"
   ]
  },
  {
   "cell_type": "code",
   "execution_count": 105,
   "id": "c1be13a1-cf9c-4291-b06e-3d113e8f8fdb",
   "metadata": {},
   "outputs": [],
   "source": [
    "from scipy.cluster.hierarchy import dendrogram, linkage\n",
    "from matplotlib import pyplot as plt"
   ]
  },
  {
   "cell_type": "markdown",
   "id": "34697141-9eaf-489e-b2b2-57d7cfb6604d",
   "metadata": {},
   "source": [
    "### 4.1 ward 기준으로 덴드로그램 그려보기"
   ]
  },
  {
   "cell_type": "code",
   "execution_count": 107,
   "id": "3b7ec3fe-d077-48bc-9035-192e9018bbab",
   "metadata": {},
   "outputs": [],
   "source": [
    "linked = linkage(list(df['vector']), 'ward')"
   ]
  },
  {
   "cell_type": "markdown",
   "id": "e4af8a65-5e98-47cc-b0cd-851e98f1d93c",
   "metadata": {},
   "source": [
    "    *이미지 저장하고 싶으시면 아래 savefig 주석 푸세요!"
   ]
  },
  {
   "cell_type": "code",
   "execution_count": 112,
   "id": "48e3045f-6b55-47cb-837e-0ff78c427ab4",
   "metadata": {},
   "outputs": [
    {
     "data": {
      "image/png": "[encoded data removed]",
      "text/plain": [
       "<Figure size 1600x900 with 1 Axes>"
      ]
     },
     "metadata": {},
     "output_type": "display_data"
    }
   ],
   "source": [
    "plt.figure(figsize=(16,9))\n",
    "dendrogram(linked,\n",
    "           orientation = 'top',          #방향 위쪽으로그려짐\n",
    "           distance_sort = 'descending', #내림차순 정렬\n",
    "           show_leaf_counts=True )\n",
    "plt.savefig('컬쳐_덴그로그램.png')\n",
    "plt.show()"
   ]
  },
  {
   "cell_type": "markdown",
   "id": "20a952a6-3f62-40e6-b50a-6b730e8a71ef",
   "metadata": {},
   "source": [
    "### 4.2 실루엣 지수 확인해서 토픽 갯수 정하기"
   ]
  },
  {
   "cell_type": "code",
   "execution_count": 116,
   "id": "f9d2ad45-84a4-49d0-ab7b-74358c104e8a",
   "metadata": {},
   "outputs": [],
   "source": [
    "from sklearn.metrics.cluster import silhouette_score\n",
    "from sklearn.cluster import AgglomerativeClustering\n",
    "from sklearn.cluster import KMeans"
   ]
  },
  {
   "cell_type": "markdown",
   "id": "f511b2ac-9a99-4cb4-8c37-0f95b48ab7ae",
   "metadata": {},
   "source": [
    "클러스터 하나를 Actor로 보기로 했는데 클러스터가 너무 커버리면 해석하기가 어려움."
   ]
  },
  {
   "cell_type": "code",
   "execution_count": 392,
   "id": "66ae2912-a111-49ce-89dc-87a8dd616782",
   "metadata": {},
   "outputs": [],
   "source": [
    "# import warnings\n",
    "# warnings.filterwarnings('ignore')\n",
    "# # import os\n",
    "# # os.environ[\"OMP_NUM_THREADS\"] = '10' # 사용할 thread 만큼 부여"
   ]
  },
  {
   "cell_type": "code",
   "execution_count": 454,
   "id": "062b4eb6-b98a-4a34-bb72-64f0b4780a1f",
   "metadata": {},
   "outputs": [
    {
     "name": "stderr",
     "output_type": "stream",
     "text": [
      "100%|██████████| 8/8 [00:09<00:00,  1.24s/it]\n"
     ]
    }
   ],
   "source": [
    "# 몇 개를 기준으로 클러스터를 할 지\n",
    "n_cluster = []\n",
    "# 실루엣 score\n",
    "s_score = []\n",
    "\n",
    "for i in tqdm(range(2, 10, 1)):\n",
    "    cluster = AgglomerativeClustering(n_clusters=i, linkage='ward')\n",
    "    cluster_label = cluster.fit_predict(list(df['vector']))\n",
    "    score = silhouette_score(list(df['vector']), cluster_label)\n",
    "\n",
    "    n_cluster.append(i)\n",
    "    s_score.append(score)"
   ]
  },
  {
   "cell_type": "code",
   "execution_count": 455,
   "id": "3076ef51-2e42-4a84-97ab-78ab86e70071",
   "metadata": {},
   "outputs": [
    {
     "data": {
      "image/png": "[encoded data removed]",
      "text/plain": [
       "<Figure size 1600x500 with 1 Axes>"
      ]
     },
     "metadata": {},
     "output_type": "display_data"
    }
   ],
   "source": [
    "plt.figure(figsize=(16,5))\n",
    "plt.plot(n_cluster, s_score, marker='^')\n",
    "plt.grid()\n",
    "plt.xticks(n_cluster,rotation=30)\n",
    "plt.show()"
   ]
  },
  {
   "cell_type": "markdown",
   "id": "9914ea13-a5e3-4acd-a712-e587fa1d9c34",
   "metadata": {},
   "source": [
    "(클러스터 갯수 설정하기!)\n",
    "\n",
    "    *엘보우 기법에 의해 확 꺽이는 부분을\n",
    "    *3과 4의 실루엣 지수가 비슷하면, 하나 적은 클래스터\n",
    "    *클러스터 많아 질수록 실루엣 같은데, 다른 document를 배치 했을 때 클러스터 수가 적을 수록 적절한 클러스터로 갈 확률이 높기에"
   ]
  },
  {
   "cell_type": "markdown",
   "id": "a547ace8-e27c-4a2c-b31c-b2b1ac9cf227",
   "metadata": {},
   "source": [
    "### 4.3 가장 적절한 클러스터링 갯수 df에 삽입"
   ]
  },
  {
   "cell_type": "code",
   "execution_count": 118,
   "id": "82f5916b-db20-4f2b-8535-d79790b7afe8",
   "metadata": {},
   "outputs": [],
   "source": [
    "n_clusters = 3"
   ]
  },
  {
   "cell_type": "code",
   "execution_count": 476,
   "id": "306c847c-cec8-4764-9b70-82e2c8dab264",
   "metadata": {},
   "outputs": [],
   "source": [
    "# df = df.drop(['split_4_cluster','split_7_cluster','split_3_cluster'],axis=1)"
   ]
  },
  {
   "cell_type": "code",
   "execution_count": 480,
   "id": "b12456b1-76d1-4feb-a488-69cb70ff0313",
   "metadata": {},
   "outputs": [],
   "source": [
    "df.head();"
   ]
  },
  {
   "cell_type": "code",
   "execution_count": 123,
   "id": "4ee690fa-1b9f-4bb1-9728-8ef1a425d45d",
   "metadata": {},
   "outputs": [],
   "source": [
    "# result = pd.DataFrame({'n_cluster' : n_cluster, 'score' : s_score})\n",
    "\n",
    "cluster = AgglomerativeClustering(n_clusters = n_clusters, linkage='ward')\n",
    "cluster_label = cluster.fit_predict(list(df['vector']))\n",
    "\n",
    "df['cluster'] = cluster_label"
   ]
  },
  {
   "cell_type": "code",
   "execution_count": 125,
   "id": "0615103c-272c-4e99-b068-e25831ffd5ed",
   "metadata": {
    "scrolled": true
   },
   "outputs": [
    {
     "data": {
      "text/plain": [
       "cluster\n",
       "0    2718\n",
       "1    1601\n",
       "2     671\n",
       "Name: count, dtype: int64"
      ]
     },
     "execution_count": 125,
     "metadata": {},
     "output_type": "execute_result"
    }
   ],
   "source": [
    "df.cluster.value_counts()"
   ]
  },
  {
   "cell_type": "markdown",
   "id": "79398395-a4fa-4dd4-9cfe-f96c6c8e8e1a",
   "metadata": {},
   "source": [
    "### 4.4 클러스터 별 파일 내보내기"
   ]
  },
  {
   "cell_type": "code",
   "execution_count": 486,
   "id": "4ecc6675-91f8-4a48-bacd-3d857858ea8a",
   "metadata": {},
   "outputs": [],
   "source": [
    "# df.cluster.unique()"
   ]
  },
  {
   "cell_type": "markdown",
   "id": "1c3ba74a-332a-46f1-bbb8-74699606995a",
   "metadata": {},
   "source": [
    "    *내보낼 파일 명"
   ]
  },
  {
   "cell_type": "code",
   "execution_count": 127,
   "id": "38dd6866-9a22-460e-8dfa-1ff6a758b5d4",
   "metadata": {},
   "outputs": [],
   "source": [
    "df_name = 'aha_clutser'"
   ]
  },
  {
   "cell_type": "markdown",
   "id": "96fa882c-01a4-4e09-8052-8035080660f7",
   "metadata": {},
   "source": [
    "    *파일 내보내기"
   ]
  },
  {
   "cell_type": "code",
   "execution_count": 490,
   "id": "f1eb8ebe-a2c1-43db-8536-c6de8f1f7a80",
   "metadata": {},
   "outputs": [],
   "source": [
    "for i in df.cluster.unique():\n",
    "    df_pickle = df[df['cluster'] == i]\n",
    "    df_pickle.to_pickle('../data/aha/cluster/{}{}.pkl'.format(df_name,i))"
   ]
  },
  {
   "cell_type": "markdown",
   "id": "37c5da90-1b26-4905-a41d-1f024f52c9e9",
   "metadata": {},
   "source": [
    "    #지금까지 Actor를 나누는 코드, 실습을 해왔음\n",
    "    #각 Actor들이 그럼 어떤 desire, needs, pain point가 있는지 봐보자!"
   ]
  },
  {
   "cell_type": "code",
   "execution_count": 492,
   "id": "3eb9e0d2-5f17-4fdc-a036-e22790a88032",
   "metadata": {},
   "outputs": [],
   "source": [
    "df.to_pickle('../data/aha/cluster/aha_cluster.pkl')"
   ]
  },
  {
   "cell_type": "code",
   "execution_count": 272,
   "id": "3433a4cf-5b0a-4ee1-838d-5b30d53c2a2d",
   "metadata": {},
   "outputs": [],
   "source": [
    "# # PICKLE 파일로 저장하기\n",
    "# import pickle\n",
    "\n",
    "# with open('컬쳐 클러스터링(3) 결과.pkl', 'wb') as file:\n",
    "#     pickle.dump(df, file)"
   ]
  },
  {
   "cell_type": "markdown",
   "id": "ba15386d-4200-49d8-95d2-164749925175",
   "metadata": {},
   "source": [
    "    *꼭 해야 하는 부분은 아닙니다!\n",
    "---"
   ]
  },
  {
   "cell_type": "markdown",
   "id": "0d232a55-1ee2-4ba8-ab8e-d460498b89ec",
   "metadata": {},
   "source": [
    "## ◆ 5. 해석하기:TF-IDF\n",
    "* 문서 내에서 어떤 단어가 얼마나 중요한지를 평가하는 데 사용되는 방법\n",
    "* 5.1 TF-IDF 계산\n",
    "* 5.2 데이터프레임으로 만들고 정렬하기"
   ]
  },
  {
   "cell_type": "markdown",
   "id": "12c99093-faff-4507-a281-77b6ac16c547",
   "metadata": {},
   "source": [
    "### 5.1 TF-idf 계산\n",
    "* 각 클러스터 마다 tfidf가 높은 워드들 찾기\n",
    "* 각 클러스터들을 하나의 문서로 가정하여 tf-idf 값 추출"
   ]
  },
  {
   "cell_type": "code",
   "execution_count": 130,
   "id": "bd77d9cc-8257-41c5-9e5e-806fe058d125",
   "metadata": {},
   "outputs": [],
   "source": [
    "from collections import Counter\n",
    "import numpy as np\n",
    "from sklearn.feature_extraction.text import TfidfVectorizer"
   ]
  },
  {
   "cell_type": "markdown",
   "id": "f23668a1-b92a-40e8-b871-aff82654ecaa",
   "metadata": {},
   "source": [
    "    #각각의 클러스터의 주제를 찾는 것이기 떄문에,  \n",
    "    #tf-idf 점수는 클러스터 별로 주제 단어를 배정해야 하니까 \n",
    "    #6개의 클러스터 = 6개의 문서 => 문서 당 주제어를 뽑는다."
   ]
  },
  {
   "cell_type": "code",
   "execution_count": 498,
   "id": "b6dc779a-6cff-406a-8f74-f05866c37f3b",
   "metadata": {
    "scrolled": true
   },
   "outputs": [],
   "source": [
    "# df.head(3)"
   ]
  },
  {
   "cell_type": "code",
   "execution_count": 499,
   "id": "d02d0a63-055f-43c3-8430-d57c1389b134",
   "metadata": {},
   "outputs": [],
   "source": [
    "# df.iloc[2833].review"
   ]
  },
  {
   "cell_type": "code",
   "execution_count": 500,
   "id": "2dd02ca8-2487-40fd-90a1-d670a2694d8b",
   "metadata": {},
   "outputs": [],
   "source": [
    "# df.iloc[2833].tagged_review;"
   ]
  },
  {
   "cell_type": "code",
   "execution_count": 131,
   "id": "235ba184-8c70-473c-b6d6-eb231b5f0010",
   "metadata": {},
   "outputs": [],
   "source": [
    "all_document = []\n",
    "for i in df['cluster'].unique() : \n",
    "    \n",
    "    pos_tagged = df[df['cluster']==i][\"tagged_review\"]\n",
    "    cluster_document = ''\n",
    "    for pos in pos_tagged:\n",
    "        doc = ' '.join(pos)\n",
    "        cluster_document += doc + ' '\n",
    "\n",
    "    all_document.append(cluster_document)"
   ]
  },
  {
   "cell_type": "code",
   "execution_count": 134,
   "id": "d603d375-3808-46a7-8cbf-de52aed48792",
   "metadata": {},
   "outputs": [
    {
     "data": {
      "text/plain": [
       "3"
      ]
     },
     "execution_count": 134,
     "metadata": {},
     "output_type": "execute_result"
    }
   ],
   "source": [
    "# 클러수터의 수와 동일해야 한다!\n",
    "len(all_document)"
   ]
  },
  {
   "cell_type": "code",
   "execution_count": 136,
   "id": "c01bb98c-6966-442c-a3ad-10b33a56cf4d",
   "metadata": {},
   "outputs": [
    {
     "data": {
      "text/plain": [
       "'티비 리포좀 글루차티온 이르다 항산화작용 걸 몸 흡수 음식 흡수 하나요 아니다 식품 먹어야다 저녁 먹다 지금'"
      ]
     },
     "execution_count": 136,
     "metadata": {},
     "output_type": "execute_result"
    }
   ],
   "source": [
    "all_document[0][:60]"
   ]
  },
  {
   "cell_type": "code",
   "execution_count": 168,
   "id": "38ca8db3-2883-4db3-b815-a00423076e51",
   "metadata": {},
   "outputs": [],
   "source": [
    "# pos_tagged"
   ]
  },
  {
   "cell_type": "code",
   "execution_count": 137,
   "id": "b1a73e13-efd8-4710-bbee-00ca91086fbc",
   "metadata": {
    "scrolled": true
   },
   "outputs": [],
   "source": [
    "# 모델 선언\n",
    "vectorizer = TfidfVectorizer(ngram_range=(3,3))\n",
    "tfidf_matrix = vectorizer.fit_transform(all_document)"
   ]
  },
  {
   "cell_type": "code",
   "execution_count": 138,
   "id": "b88267fb-5698-4fdf-a5c6-a5b284efe4d6",
   "metadata": {},
   "outputs": [],
   "source": [
    "feature = vectorizer.get_feature_names_out()\n",
    "dense = tfidf_matrix.todense()\n",
    "\n",
    "tf_idf_df = pd.DataFrame(dense, columns=feature)"
   ]
  },
  {
   "cell_type": "code",
   "execution_count": 139,
   "id": "c7c85a4d-06af-4543-9a16-574e75b7ff3b",
   "metadata": {},
   "outputs": [],
   "source": [
    "tf_idf_df_transposed = tf_idf_df.T\n",
    "# tf_idf_df_transposed"
   ]
  },
  {
   "cell_type": "markdown",
   "id": "d8046893-acf3-463c-8de8-8b25ccd899bb",
   "metadata": {},
   "source": [
    "    #각각의 클러스터 별로 높은 tf-idf 값을 가진 단어들을 보도록 정렬해서 저장하기"
   ]
  },
  {
   "cell_type": "code",
   "execution_count": 507,
   "id": "dc60362c-4de2-48c6-beb0-74c0468ca0bf",
   "metadata": {},
   "outputs": [
    {
     "data": {
      "text/plain": [
       "82908"
      ]
     },
     "execution_count": 507,
     "metadata": {},
     "output_type": "execute_result"
    }
   ],
   "source": [
    "len(tf_idf_df_transposed)"
   ]
  },
  {
   "cell_type": "code",
   "execution_count": 508,
   "id": "81185b37-7cb8-420a-8df3-01dabf9d4231",
   "metadata": {},
   "outputs": [],
   "source": [
    "#8238 사전 단어 개수\n",
    "#39128 n-gram 사전 단어 개수가 줄어야 하는데 "
   ]
  },
  {
   "cell_type": "code",
   "execution_count": 510,
   "id": "480b6f4b-b6df-4c16-b1b2-d090f361baca",
   "metadata": {
    "scrolled": true
   },
   "outputs": [],
   "source": [
    "# for i in range(len(df.split_4_cluster.unique())):\n",
    "#     display(tf_idf_df_transposed[i].sort_values(ascending=False)[:50])"
   ]
  },
  {
   "cell_type": "markdown",
   "id": "b62b64c3-de06-47ee-bae0-2a8a6be3ec5c",
   "metadata": {},
   "source": [
    "### 5.2 데이터프레임으로 만들고 정렬하기"
   ]
  },
  {
   "cell_type": "code",
   "execution_count": 144,
   "id": "ef462f8f-dccb-4622-923f-502f75e64990",
   "metadata": {},
   "outputs": [
    {
     "name": "stderr",
     "output_type": "stream",
     "text": [
      "100%|██████████| 3/3 [00:00<00:00, 56.22it/s]\n"
     ]
    }
   ],
   "source": [
    "for i in tqdm(tf_idf_df_transposed.columns):\n",
    "    tf_idf_data = tf_idf_df_transposed[i].sort_values(ascending = False)\n",
    "    data = {'word' : tf_idf_data.index, 'tf_idf' : tf_idf_data.values}\n",
    "    data_df = pd.DataFrame(data)\n",
    "    data_df.to_pickle('../data/aha/cluster/aha_cluster{}_tf-idf.pkl'.format(i))\n",
    "    # data_df.to_csv('../data/aha/cluster/aha_cluster{}_tf-idf.csv'.format(i), encoding='utf-8-sig')"
   ]
  },
  {
   "cell_type": "markdown",
   "id": "28ea2e2a-b56d-4734-adf9-0fe9552065c5",
   "metadata": {},
   "source": [
    "    *데이터 불러오기\n",
    "    *globals() 활용 \n",
    "[설명 링크](https://trustyou.tistory.com/197)"
   ]
  },
  {
   "cell_type": "code",
   "execution_count": 514,
   "id": "023381ad-6c74-4e56-8ff5-121c208b934b",
   "metadata": {},
   "outputs": [],
   "source": [
    "# for i in df.cluster.unique():\n",
    "#     globals()[\"df_cluster{}_tf_idf\".format(i)] = pd.read_csv('../data/aha/cluster/aha_cluster{}_tf-idf.csv'.format(i), index_col=0)"
   ]
  },
  {
   "cell_type": "markdown",
   "id": "071e8578-09d6-4709-a254-64754ac0e066",
   "metadata": {},
   "source": [
    "    *아래 코드를 위의 for문으로 만든겁니다 그냥 참고만 하시고 변수로 직접 불러와도 됩니다!"
   ]
  },
  {
   "cell_type": "code",
   "execution_count": 332,
   "id": "da9fb9f6-5e8b-4094-9de6-499332d4257f",
   "metadata": {},
   "outputs": [],
   "source": [
    "# df_cluster0_tf_idf0 = pd.read_csv('../data/cluster/aha_cluster0_tf-idf.csv',index_col=0)\n",
    "# df_cluster1_tf_idf = pd.read_csv('../data/cluster/aha_cluster1_tf-idf.csv',index_col=0)\n",
    "# df_cluster2_tf_idf = pd.read_csv('../data/cluster/aha_cluster2_tf-idf.csv',index_col=0)"
   ]
  },
  {
   "cell_type": "markdown",
   "id": "27ee1833-b876-4f40-8f7a-10a6604dd113",
   "metadata": {},
   "source": [
    "    *추후 각 클러스터,Actor별 tf-idf확인 해보기! - Actor를 해석하기 위해서"
   ]
  },
  {
   "cell_type": "code",
   "execution_count": 345,
   "id": "0c7246f4-7f43-49b5-a4dc-8e76e4a90660",
   "metadata": {},
   "outputs": [
    {
     "data": {
      "text/html": [
       "<div>\n",
       "<style scoped>\n",
       "    .dataframe tbody tr th:only-of-type {\n",
       "        vertical-align: middle;\n",
       "    }\n",
       "\n",
       "    .dataframe tbody tr th {\n",
       "        vertical-align: top;\n",
       "    }\n",
       "\n",
       "    .dataframe thead th {\n",
       "        text-align: right;\n",
       "    }\n",
       "</style>\n",
       "<table border=\"1\" class=\"dataframe\">\n",
       "  <thead>\n",
       "    <tr style=\"text-align: right;\">\n",
       "      <th></th>\n",
       "      <th>word</th>\n",
       "      <th>tf_idf</th>\n",
       "    </tr>\n",
       "  </thead>\n",
       "  <tbody>\n",
       "    <tr>\n",
       "      <th>0</th>\n",
       "      <td>먹다</td>\n",
       "      <td>0.594788</td>\n",
       "    </tr>\n",
       "    <tr>\n",
       "      <th>1</th>\n",
       "      <td>양제</td>\n",
       "      <td>0.351264</td>\n",
       "    </tr>\n",
       "    <tr>\n",
       "      <th>2</th>\n",
       "      <td>복용</td>\n",
       "      <td>0.282635</td>\n",
       "    </tr>\n",
       "  </tbody>\n",
       "</table>\n",
       "</div>"
      ],
      "text/plain": [
       "  word    tf_idf\n",
       "0   먹다  0.594788\n",
       "1   양제  0.351264\n",
       "2   복용  0.282635"
      ]
     },
     "execution_count": 345,
     "metadata": {},
     "output_type": "execute_result"
    }
   ],
   "source": [
    "df_cluster2_tf_idf.head(3)"
   ]
  },
  {
   "cell_type": "code",
   "execution_count": 334,
   "id": "efc00b17-4d4b-43b0-b7e4-aa0ea21e8a97",
   "metadata": {},
   "outputs": [],
   "source": [
    "# 클러스터 이름이 달린 파일 내보내기\n",
    "df.to_pickle('../data/aha/cluster/aha_cluster.pkl')"
   ]
  },
  {
   "attachments": {},
   "cell_type": "markdown",
   "id": "c3b003c2-2683-43a8-bcfb-4d8c2d01556a",
   "metadata": {},
   "source": [
    "---\n",
    "# ◆ 클러스터(Actor) 별 Action 분석 - 선택"
   ]
  },
  {
   "cell_type": "code",
   "execution_count": 518,
   "id": "575d78b5-6dea-4bba-846a-580fc3754c36",
   "metadata": {
    "colab": {
     "base_uri": "https://localhost:8080/"
    },
    "id": "qObzzbtBCcBM",
    "outputId": "3f6af77e-d4c0-4f9a-baa5-016b6e60af5a"
   },
   "outputs": [],
   "source": [
    "import pandas as pd\n",
    "import numpy as np\n",
    "import pickle\n",
    "from tqdm import tqdm\n",
    "import warnings\n",
    "import re\n",
    "from matplotlib import pyplot as plt\n",
    "# warnings.filterwarnings('ignore')"
   ]
  },
  {
   "cell_type": "markdown",
   "id": "a21f42a0-1f35-4587-a5c5-d6d812b4b297",
   "metadata": {},
   "source": [
    "    *데이터 불러오기"
   ]
  },
  {
   "cell_type": "code",
   "execution_count": 350,
   "id": "dd0db0f2-10d3-4789-8b69-520251ce573c",
   "metadata": {},
   "outputs": [],
   "source": [
    "with open('../data/aha/cluster/aha_cluster.pkl', 'rb') as file:\n",
    "    df = pickle.load(file)"
   ]
  },
  {
   "cell_type": "code",
   "execution_count": 520,
   "id": "0db49052-53cc-4e6b-83a0-3e41636fb864",
   "metadata": {
    "scrolled": true
   },
   "outputs": [
    {
     "data": {
      "text/html": [
       "<div>\n",
       "<style scoped>\n",
       "    .dataframe tbody tr th:only-of-type {\n",
       "        vertical-align: middle;\n",
       "    }\n",
       "\n",
       "    .dataframe tbody tr th {\n",
       "        vertical-align: top;\n",
       "    }\n",
       "\n",
       "    .dataframe thead th {\n",
       "        text-align: right;\n",
       "    }\n",
       "</style>\n",
       "<table border=\"1\" class=\"dataframe\">\n",
       "  <thead>\n",
       "    <tr style=\"text-align: right;\">\n",
       "      <th></th>\n",
       "      <th>title</th>\n",
       "      <th>review</th>\n",
       "      <th>date</th>\n",
       "      <th>tagged_review</th>\n",
       "      <th>2_grams</th>\n",
       "      <th>3_grams</th>\n",
       "      <th>vector</th>\n",
       "      <th>cluster</th>\n",
       "    </tr>\n",
       "  </thead>\n",
       "  <tbody>\n",
       "    <tr>\n",
       "      <th>0</th>\n",
       "      <td>글루타치온 성분이 무엇인가요???</td>\n",
       "      <td>티비에 글루타치온 리포좀 글루차티온 이러는데  항산화작용? 이걸한다는데 어떻게 몸에...</td>\n",
       "      <td>6시간 전</td>\n",
       "      <td>[티비, 리포좀, 글루차티온, 이르다, 항산화작용, 걸, 몸, 흡수, 음식, 흡수,...</td>\n",
       "      <td>[티비 리포좀, 리포좀 글루차티온, 글루차티온 이르다, 이르다 항산화작용, 항산화작...</td>\n",
       "      <td>[티비 리포좀 글루차티온, 리포좀 글루차티온 이르다, 글루차티온 이르다 항산화작용,...</td>\n",
       "      <td>[0.0033817005, -0.009730394, -0.0026815915, 0....</td>\n",
       "      <td>0</td>\n",
       "    </tr>\n",
       "    <tr>\n",
       "      <th>1</th>\n",
       "      <td>고가 비타민영양제 꼭 챙겨야할까요?</td>\n",
       "      <td>생각보다 한병 자체에 값이 밥값반값 정도의 가격이라...부담스러운데 많이들 챙겨먹는...</td>\n",
       "      <td>6시간 전</td>\n",
       "      <td>[생각, 병, 자체, 값, 밥값, 반값, 정도, 가격, 부담스럽다, 많이, 들다, ...</td>\n",
       "      <td>[생각 병, 병 자체, 자체 값, 값 밥값, 밥값 반값, 반값 정도, 정도 가격, ...</td>\n",
       "      <td>[생각 병 자체, 병 자체 값, 자체 값 밥값, 값 밥값 반값, 밥값 반값 정도, ...</td>\n",
       "      <td>[-0.007854082, 0.0019090378, 0.006076473, -0.0...</td>\n",
       "      <td>0</td>\n",
       "    </tr>\n",
       "    <tr>\n",
       "      <th>2</th>\n",
       "      <td>벤포벨b 복용 후 타이레놀 먹어도 될까요</td>\n",
       "      <td>저녁6시쯤  벤포벨b 먹었습니다  지금 치통이 와서 타이레놀 먹어도 상관 없을까요?...</td>\n",
       "      <td>15시간 전</td>\n",
       "      <td>[저녁, 먹다, 지금, 치통, 오다, 타이레놀, 먹다, 상관, 없다, 답변, 부탁드...</td>\n",
       "      <td>[저녁 먹다, 먹다 지금, 지금 치통, 치통 오다, 오다 타이레놀, 타이레놀 먹다,...</td>\n",
       "      <td>[저녁 먹다 지금, 먹다 지금 치통, 지금 치통 오다, 치통 오다 타이레놀, 오다 ...</td>\n",
       "      <td>[-0.0070466558, 0.002885451, 0.00030774498, 0....</td>\n",
       "      <td>0</td>\n",
       "    </tr>\n",
       "  </tbody>\n",
       "</table>\n",
       "</div>"
      ],
      "text/plain": [
       "                    title                                             review  \\\n",
       "0      글루타치온 성분이 무엇인가요???  티비에 글루타치온 리포좀 글루차티온 이러는데  항산화작용? 이걸한다는데 어떻게 몸에...   \n",
       "1     고가 비타민영양제 꼭 챙겨야할까요?  생각보다 한병 자체에 값이 밥값반값 정도의 가격이라...부담스러운데 많이들 챙겨먹는...   \n",
       "2  벤포벨b 복용 후 타이레놀 먹어도 될까요  저녁6시쯤  벤포벨b 먹었습니다  지금 치통이 와서 타이레놀 먹어도 상관 없을까요?...   \n",
       "\n",
       "     date                                      tagged_review  \\\n",
       "0   6시간 전  [티비, 리포좀, 글루차티온, 이르다, 항산화작용, 걸, 몸, 흡수, 음식, 흡수,...   \n",
       "1   6시간 전  [생각, 병, 자체, 값, 밥값, 반값, 정도, 가격, 부담스럽다, 많이, 들다, ...   \n",
       "2  15시간 전  [저녁, 먹다, 지금, 치통, 오다, 타이레놀, 먹다, 상관, 없다, 답변, 부탁드...   \n",
       "\n",
       "                                             2_grams  \\\n",
       "0  [티비 리포좀, 리포좀 글루차티온, 글루차티온 이르다, 이르다 항산화작용, 항산화작...   \n",
       "1  [생각 병, 병 자체, 자체 값, 값 밥값, 밥값 반값, 반값 정도, 정도 가격, ...   \n",
       "2  [저녁 먹다, 먹다 지금, 지금 치통, 치통 오다, 오다 타이레놀, 타이레놀 먹다,...   \n",
       "\n",
       "                                             3_grams  \\\n",
       "0  [티비 리포좀 글루차티온, 리포좀 글루차티온 이르다, 글루차티온 이르다 항산화작용,...   \n",
       "1  [생각 병 자체, 병 자체 값, 자체 값 밥값, 값 밥값 반값, 밥값 반값 정도, ...   \n",
       "2  [저녁 먹다 지금, 먹다 지금 치통, 지금 치통 오다, 치통 오다 타이레놀, 오다 ...   \n",
       "\n",
       "                                              vector  cluster  \n",
       "0  [0.0033817005, -0.009730394, -0.0026815915, 0....        0  \n",
       "1  [-0.007854082, 0.0019090378, 0.006076473, -0.0...        0  \n",
       "2  [-0.0070466558, 0.002885451, 0.00030774498, 0....        0  "
      ]
     },
     "execution_count": 520,
     "metadata": {},
     "output_type": "execute_result"
    }
   ],
   "source": [
    "df.head(3)"
   ]
  },
  {
   "cell_type": "markdown",
   "id": "bb68c705-ee8c-472e-a5e6-98264dee2ac4",
   "metadata": {},
   "source": [
    "## ◆ 1. LDA를 위한 데이터 전처리\n",
    "* 1.1. 전체 단어의 사전 만들고 각 문서에 매칭하기\n",
    "    > 단어들이 문서에 얼마나 위치해 있는지 분포를 파악해야하기 때문에 분석할 전체 데이터 대상으로\n",
    "    사용된 단어의 사전을 생성해야한다,"
   ]
  },
  {
   "cell_type": "code",
   "execution_count": 522,
   "id": "864df13d-c516-40d3-8461-32cbe4c68678",
   "metadata": {
    "id": "2863GzxPCcBP"
   },
   "outputs": [],
   "source": [
    "import gensim\n",
    "from gensim import corpora, models\n",
    "from gensim.corpora import Dictionary"
   ]
  },
  {
   "cell_type": "code",
   "execution_count": 524,
   "id": "477e5ee7-7288-4930-a8cf-b962e8b8f98c",
   "metadata": {
    "id": "7n8i70UYCcBR"
   },
   "outputs": [],
   "source": [
    "from gensim.models import CoherenceModel\n",
    "import matplotlib.pyplot as plt\n",
    "import numpy as np"
   ]
  },
  {
   "cell_type": "markdown",
   "id": "5c0ad6e5-f4ca-42c5-b2e5-4aa7986d1c6c",
   "metadata": {
    "id": "pRZB7tdnCcBP"
   },
   "source": [
    "### 1.1 전체 단어의 사전 만들고 각 문서에 매칭하기"
   ]
  },
  {
   "cell_type": "code",
   "execution_count": 526,
   "id": "13dd6e84-3152-4064-85d6-b0826c77e528",
   "metadata": {},
   "outputs": [],
   "source": [
    "def preprocess_lda(df_cluster,tagged_review):\n",
    "    all_documents = list(df_cluster[tagged_review])\n",
    "    dictionary = Dictionary(all_documents)\n",
    "    \n",
    "    corpus = []\n",
    "    for doc in all_documents:\n",
    "        corpus.append(dictionary.doc2bow(doc))\n",
    "    \n",
    "    return corpus, all_documents, dictionary"
   ]
  },
  {
   "cell_type": "code",
   "execution_count": 534,
   "id": "e5aeed89-fa28-4784-b144-477163753c7e",
   "metadata": {},
   "outputs": [],
   "source": [
    "corpus, all_documents, dictionary = preprocess_lda(df_cluster,\"3_grams\")"
   ]
  },
  {
   "cell_type": "code",
   "execution_count": 542,
   "id": "8ee5a955-cfb0-4593-80ca-a21c20ee9144",
   "metadata": {},
   "outputs": [
    {
     "data": {
      "text/plain": [
       "['말다 미지근하다 말다',\n",
       " '미지근하다 말다 음료',\n",
       " '말다 음료 커피',\n",
       " '음료 커피 먹다',\n",
       " '커피 먹다 안되다',\n",
       " '먹다 안되다 이유',\n",
       " '안되다 이유 궁금하다']"
      ]
     },
     "execution_count": 542,
     "metadata": {},
     "output_type": "execute_result"
    }
   ],
   "source": [
    "all_documents[0]"
   ]
  },
  {
   "cell_type": "code",
   "execution_count": 544,
   "id": "b7951085-372d-4334-a527-97d30d927eb3",
   "metadata": {},
   "outputs": [],
   "source": [
    "# for i in tqdm(range(len(df.cluster.unique()))):\n",
    "#     df_cluster = df[df.cluster == i]\n",
    "#     actor_action_n = action_n_list[i]\n",
    "    \n",
    "#     corpus, all_documents, dictionary = preprocess_lda(df_cluster,\"tagged_review\")\n",
    "    \n",
    "#     topic_num = actor_action_n\n",
    "#     ldamodel = gensim.models.ldamodel.LdaModel(corpus, num_topics = topic_num, id2word = dictionary,\n",
    "#                                                random_state = 216, passes = 5)\n",
    "#     # 토픽을 선정 했으니, 계속 같은 결과 나오게 RandomSeed 고정 시키기\n",
    "\n",
    "# # --- 토픽별 확률을 확인 해 max(확률 값)의 인덱스 = 토픽 라벨링\n",
    "\n",
    "#     action_align = []\n",
    "#     # 라벨을 담을 리스트\n",
    "    \n",
    "#     for doc in tqdm(ldamodel.get_document_topics(corpus)):\n",
    "#     # 0번 리뷰에 대한 [(토픽 넘버, 확률 값)(토픽 넘버, 확률 값),(토픽 넘버, 확률 값)]\n",
    "#     # 1번 리뷰에 대한 [(토픽 넘버, 확률 값)(토픽 넘버, 확률 값),(토픽 넘버, 확률 값)]\n",
    "        \n",
    "#         label = []\n",
    "#     # 토픽 넘어 담을 리스트\n",
    "#         value = []\n",
    "#     # 확률 값을 담을 리스트\n",
    "        \n",
    "#         for score in doc:\n",
    "#             label.append(score[0])\n",
    "#             value.append(score[1])\n",
    "    \n",
    "#         max_index = np.argmax(value)\n",
    "#         action_n = label[max_index]\n",
    "#         action_align.append(action_n)\n",
    "\n",
    "#     df_cluster['action_cluster'] = action_align\n",
    "    \n",
    "#     df_cluster_action_list.append(df_cluster)\n",
    "#     ldavis_list.append([ldamodel, corpus, dictionary])"
   ]
  },
  {
   "cell_type": "markdown",
   "id": "23e814f1-6166-411a-acff-887176a11b60",
   "metadata": {},
   "source": [
    "---"
   ]
  },
  {
   "cell_type": "markdown",
   "id": "9dd294dd-0cf2-4a5a-b28a-ce7d1a97f3d6",
   "metadata": {
    "id": "gcNadWtKCcBQ"
   },
   "source": [
    "## ◆ 2. LDA모델 만들기\n",
    "* 2.1 LDA 기본 모델 만들기\n",
    "* 2.2 LDA 토픽개수 선정\n",
    "* 2.3 선정한 토픽 개수로 Action 넘버 매칭"
   ]
  },
  {
   "cell_type": "markdown",
   "id": "6bd59300-9796-4f5b-8ac2-8bc9866373b5",
   "metadata": {
    "id": "kCTp-NrvCcBR"
   },
   "source": [
    "### 2.1 LDA 기본 모델 만들기\n",
    "* skip"
   ]
  },
  {
   "cell_type": "markdown",
   "id": "027f3b15-d5ea-4057-bed7-2edb8d64efc9",
   "metadata": {
    "id": "kCTp-NrvCcBR"
   },
   "source": [
    "### 2.2.1 LDA 토픽개수 선정\n",
    "* cohearence & perplexcity"
   ]
  },
  {
   "cell_type": "code",
   "execution_count": 546,
   "id": "12760685-bb01-465a-bce1-6bff445770c3",
   "metadata": {},
   "outputs": [],
   "source": [
    "def plot_for_topic(df_cluster,tagged_review,n):\n",
    "    corpus, all_documents, dictionary =  preprocess_lda(df_cluster,tagged_review)\n",
    "    \n",
    "    perplex_values = []\n",
    "    \n",
    "    for i in range(2,10):\n",
    "        ldamodel = gensim.models.ldamodel.LdaModel(corpus, num_topics=i, id2word=dictionary)\n",
    "        perp_v = ldamodel.log_perplexity(corpus)\n",
    "        perplex_values.append(perp_v)\n",
    "\n",
    "    coherence_values = []\n",
    "\n",
    "    for i in range(2,10):\n",
    "        ldamodel = gensim.models.ldamodel.LdaModel(corpus, num_topics=i, id2word=dictionary)\n",
    "        coherence_model = CoherenceModel(model = ldamodel, texts = all_documents, dictionary = dictionary, topn = i)\n",
    "        coherence_score = coherence_model.get_coherence()\n",
    "        coherence_values.append(coherence_score)\n",
    "\n",
    "    fig, axes = plt.subplots(2,1, figsize =(16,8))\n",
    "\n",
    "    # > 2.2.1 Perplexity 그래프 만들기\n",
    "    x = range(2,10)\n",
    "    axes[0].plot(x, perplex_values, marker='o')\n",
    "    axes[0].set_xlabel(\"Actor{}_Number of topics\".format(n))\n",
    "    axes[0].set_ylabel('Perplexity score')\n",
    "\n",
    "    # > 2.2.1 Cohearence 그래프 만들기\n",
    "    x = range(2,10)\n",
    "    axes[1].plot(x, coherence_values, marker='o')\n",
    "    axes[1].set_xlabel('Actor{}_Number of topics'.format(n))\n",
    "    axes[1].set_ylabel('Coherence score')\n",
    "\n",
    "    # 저장하고 싶다면!!\n",
    "    # plt.savefig('../data/number_of_topics.png')\n",
    "    \n",
    "    return plt.show()"
   ]
  },
  {
   "cell_type": "code",
   "execution_count": 548,
   "id": "5d05ee24-1626-47c4-bcac-a009bf8d8737",
   "metadata": {
    "scrolled": true
   },
   "outputs": [
    {
     "data": {
      "text/plain": [
       "cluster\n",
       "0    2801\n",
       "1    1687\n",
       "2     502\n",
       "Name: count, dtype: int64"
      ]
     },
     "execution_count": 548,
     "metadata": {},
     "output_type": "execute_result"
    }
   ],
   "source": [
    "df.cluster.value_counts()"
   ]
  },
  {
   "cell_type": "markdown",
   "id": "53aef452-6ef8-4e35-99cd-766e5cceb5cd",
   "metadata": {},
   "source": [
    "    *클러스터 n번을 대상으로 cohearence & perplexcity 확인하기"
   ]
  },
  {
   "cell_type": "code",
   "execution_count": 550,
   "id": "1de81962-5ee9-40dd-8d89-661e9d783047",
   "metadata": {},
   "outputs": [
    {
     "name": "stderr",
     "output_type": "stream",
     "text": [
      "  0%|          | 0/3 [00:00<?, ?it/s]"
     ]
    },
    {
     "data": {
      "image/png": "[encoded data removed]",
      "text/plain": [
       "<Figure size 1600x800 with 2 Axes>"
      ]
     },
     "metadata": {},
     "output_type": "display_data"
    },
    {
     "name": "stderr",
     "output_type": "stream",
     "text": [
      " 33%|███▎      | 1/3 [01:42<03:24, 102.50s/it]"
     ]
    },
    {
     "data": {
      "image/png": "[encoded data removed]",
      "text/plain": [
       "<Figure size 1600x800 with 2 Axes>"
      ]
     },
     "metadata": {},
     "output_type": "display_data"
    },
    {
     "name": "stderr",
     "output_type": "stream",
     "text": [
      " 67%|██████▋   | 2/3 [03:13<01:35, 95.96s/it] "
     ]
    },
    {
     "data": {
      "image/png": "[encoded data removed]",
      "text/plain": [
       "<Figure size 1600x800 with 2 Axes>"
      ]
     },
     "metadata": {},
     "output_type": "display_data"
    },
    {
     "name": "stderr",
     "output_type": "stream",
     "text": [
      "100%|██████████| 3/3 [04:27<00:00, 89.00s/it]\n"
     ]
    }
   ],
   "source": [
    "for n in tqdm(range(len(df.cluster.unique()))):\n",
    "    df_cluster = df[df['cluster'] == n]\n",
    "    plot_for_topic(df_cluster,\"3_grams\",n)"
   ]
  },
  {
   "cell_type": "markdown",
   "id": "a0314e4a-dee3-45ce-a1cd-d9723edb9597",
   "metadata": {
    "id": "kCTp-NrvCcBR"
   },
   "source": [
    "### 2.2.2 LDA 토픽개수 선정\n",
    "    *위 그래프를 보고 각 Actor별 Action 수 정하기!\n",
    "    *클러스터 = Actor 수 만큼 action_n 변수 생성해야 합니다! 아래는 예제 입니다!\n",
    "    *그래프 제목에 나오는 Actor 번호 순서와 아래 for문의 Actor 번호 순서 동일합니다! - 그래도 유의하세요!"
   ]
  },
  {
   "cell_type": "code",
   "execution_count": 552,
   "id": "66f8da4d-7b18-4198-9bf2-d1bc63f94e55",
   "metadata": {},
   "outputs": [
    {
     "name": "stdin",
     "output_type": "stream",
     "text": [
      "Actor0의 정한 액션 Number를 입력하세요 :  7\n",
      "Actor1의 정한 액션 Number를 입력하세요 :  4\n",
      "Actor2의 정한 액션 Number를 입력하세요 :  6\n"
     ]
    }
   ],
   "source": [
    "action_n_list = []\n",
    "for i in range(len(df.cluster.unique())):\n",
    "    globals()[\"actor{}_action_n\".format(i)] = int(input(\"Actor{}의 정한 액션 Number를 입력하세요 : \".format(i)))\n",
    "    action_n_list.append(globals()[\"actor{}_action_n\".format(i)])"
   ]
  },
  {
   "cell_type": "markdown",
   "id": "e7ed2b8a-0907-48d7-97a4-756c67628098",
   "metadata": {},
   "source": [
    "    *input함수로 인해 마우스로 클릭해야 키보드가 작동합니다."
   ]
  },
  {
   "cell_type": "code",
   "execution_count": 554,
   "id": "61d7992b-3778-4c98-957c-a0907db99563",
   "metadata": {},
   "outputs": [
    {
     "data": {
      "text/plain": [
       "[7, 4, 6]"
      ]
     },
     "execution_count": 554,
     "metadata": {},
     "output_type": "execute_result"
    }
   ],
   "source": [
    "# Actor(index) acion_n 를 담은 리스트 확인 \n",
    "action_n_list"
   ]
  },
  {
   "cell_type": "code",
   "execution_count": 62,
   "id": "fed989eb-dff2-4018-8cac-30ec4960a93a",
   "metadata": {},
   "outputs": [],
   "source": [
    "# 리스트 넣으면 html Actor 수 만큼 나오게!"
   ]
  },
  {
   "cell_type": "markdown",
   "id": "06de74f3-627d-4558-9ed8-2cfe87c4c5b0",
   "metadata": {
    "id": "ph7fcoMcCcBS"
   },
   "source": [
    "### 2.3 선정한 토픽 개수로 Action 넘버 매칭"
   ]
  },
  {
   "cell_type": "markdown",
   "id": "939ef6df-190d-41f2-8327-f55e36caaac9",
   "metadata": {},
   "source": [
    "- 선정한 토픽 개수로 모델링, 토픽화"
   ]
  },
  {
   "cell_type": "markdown",
   "id": "bc3e1977-76c9-407b-90b6-e168896e5af8",
   "metadata": {},
   "source": [
    "- 토픽별 확률을 확인 해 max(확률 값)의 인덱스 = 토픽 라벨링"
   ]
  },
  {
   "cell_type": "code",
   "execution_count": 574,
   "id": "b122b7ce-d9bb-40e2-9062-8b81c4e16a30",
   "metadata": {},
   "outputs": [],
   "source": [
    "def action_labeling(df,action_n_list):\n",
    "    # Action 라벨링을 한 Cluster = Actor 들의 리스트 [df_cluster0_action,df_cluster1_action,df_cluster2_action,...] \n",
    "    df_cluster_action_list = []\n",
    "    # 아래 LDAvis 시각화를 위해 필요한 요소들을 담을 리스트\n",
    "    ldavis_list = []\n",
    "    \n",
    "    for i in tqdm(range(len(df.cluster.unique()))):\n",
    "        df_cluster = df[df.cluster == i]\n",
    "        actor_action_n = action_n_list[i]\n",
    "        \n",
    "        corpus, all_documents, dictionary = preprocess_lda(df_cluster,\"3_grams\")\n",
    "        \n",
    "        topic_num = actor_action_n\n",
    "        ldamodel = gensim.models.ldamodel.LdaModel(corpus, num_topics = topic_num, id2word = dictionary,\n",
    "                                                   random_state = 216, passes = 5)\n",
    "        # 토픽을 선정 했으니, 계속 같은 결과 나오게 RandomSeed 고정 시키기\n",
    "\n",
    "# --- 토픽별 확률을 확인 해 max(확률 값)의 인덱스 = 토픽 라벨링\n",
    "\n",
    "        action_align = []\n",
    "        # 라벨을 담을 리스트\n",
    "        \n",
    "        for doc in tqdm(ldamodel.get_document_topics(corpus)):\n",
    "        # 0번 리뷰에 대한 [(토픽 넘버, 확률 값)(토픽 넘버, 확률 값),(토픽 넘버, 확률 값)]\n",
    "        # 1번 리뷰에 대한 [(토픽 넘버, 확률 값)(토픽 넘버, 확률 값),(토픽 넘버, 확률 값)]\n",
    "            \n",
    "            label = []\n",
    "        # 토픽 넘어 담을 리스트\n",
    "            value = []\n",
    "        # 확률 값을 담을 리스트\n",
    "            \n",
    "            for score in doc:\n",
    "                label.append(score[0])\n",
    "                value.append(score[1])\n",
    "        \n",
    "            max_index = np.argmax(value)\n",
    "            action_n = label[max_index]\n",
    "            action_align.append(action_n)\n",
    "    \n",
    "        df_cluster['action_cluster'] = action_align\n",
    "        \n",
    "        df_cluster_action_list.append(df_cluster)\n",
    "        ldavis_list.append([ldamodel, corpus, dictionary])\n",
    "\n",
    "        # ldavis_list[i][0] = ldamodel\n",
    "        # ldavis_list[i][1] = corpus\n",
    "        # ldavis_list[i][2] = dictionary\n",
    "        \n",
    "        # prepared_data = gensimvis.prepare(ldamodel, corpus, dictionary)\n",
    "\n",
    "    return df_cluster_action_list, ldavis_list"
   ]
  },
  {
   "cell_type": "code",
   "execution_count": 575,
   "id": "5068b315-5789-430e-967f-941290774068",
   "metadata": {},
   "outputs": [
    {
     "name": "stderr",
     "output_type": "stream",
     "text": [
      "  0%|          | 0/3 [00:00<?, ?it/s]\n",
      "  0%|          | 0/2801 [00:00<?, ?it/s]\u001b[A\n",
      "100%|██████████| 2801/2801 [00:00<00:00, 15321.79it/s]\u001b[A\n",
      "C:\\Users\\trainee216\\AppData\\Local\\Temp\\ipykernel_12188\\2907264123.py:40: SettingWithCopyWarning: \n",
      "A value is trying to be set on a copy of a slice from a DataFrame.\n",
      "Try using .loc[row_indexer,col_indexer] = value instead\n",
      "\n",
      "See the caveats in the documentation: https://pandas.pydata.org/pandas-docs/stable/user_guide/indexing.html#returning-a-view-versus-a-copy\n",
      "  df_cluster['action_cluster'] = action_align\n",
      " 33%|███▎      | 1/3 [00:02<00:04,  2.24s/it]\n",
      "100%|██████████| 1687/1687 [00:00<00:00, 16988.73it/s]\n",
      "C:\\Users\\trainee216\\AppData\\Local\\Temp\\ipykernel_12188\\2907264123.py:40: SettingWithCopyWarning: \n",
      "A value is trying to be set on a copy of a slice from a DataFrame.\n",
      "Try using .loc[row_indexer,col_indexer] = value instead\n",
      "\n",
      "See the caveats in the documentation: https://pandas.pydata.org/pandas-docs/stable/user_guide/indexing.html#returning-a-view-versus-a-copy\n",
      "  df_cluster['action_cluster'] = action_align\n",
      " 67%|██████▋   | 2/3 [00:04<00:02,  2.37s/it]\n",
      "100%|██████████| 502/502 [00:00<00:00, 14693.44it/s]\n",
      "C:\\Users\\trainee216\\AppData\\Local\\Temp\\ipykernel_12188\\2907264123.py:40: SettingWithCopyWarning: \n",
      "A value is trying to be set on a copy of a slice from a DataFrame.\n",
      "Try using .loc[row_indexer,col_indexer] = value instead\n",
      "\n",
      "See the caveats in the documentation: https://pandas.pydata.org/pandas-docs/stable/user_guide/indexing.html#returning-a-view-versus-a-copy\n",
      "  df_cluster['action_cluster'] = action_align\n",
      "100%|██████████| 3/3 [00:05<00:00,  1.79s/it]\n"
     ]
    }
   ],
   "source": [
    "df_cluster_action_list, ldavis_list = action_labeling(df,action_n_list)"
   ]
  },
  {
   "cell_type": "code",
   "execution_count": 578,
   "id": "6fb123eb-4fd5-4731-aab0-9bcd13330a60",
   "metadata": {
    "scrolled": true
   },
   "outputs": [
    {
     "data": {
      "text/plain": [
       "action_cluster\n",
       "0    389\n",
       "1    381\n",
       "2    412\n",
       "3    394\n",
       "4    422\n",
       "5    400\n",
       "6    403\n",
       "Name: count, dtype: int64"
      ]
     },
     "metadata": {},
     "output_type": "display_data"
    },
    {
     "data": {
      "text/plain": [
       "action_cluster\n",
       "0    432\n",
       "1    430\n",
       "2    414\n",
       "3    411\n",
       "Name: count, dtype: int64"
      ]
     },
     "metadata": {},
     "output_type": "display_data"
    },
    {
     "data": {
      "text/plain": [
       "action_cluster\n",
       "0    101\n",
       "1     76\n",
       "2     82\n",
       "3     82\n",
       "4     77\n",
       "5     84\n",
       "Name: count, dtype: int64"
      ]
     },
     "metadata": {},
     "output_type": "display_data"
    }
   ],
   "source": [
    "# 클러스터 0번에 대한 action 라벨링 확인\n",
    "for i in range(len(df.cluster.unique())):\n",
    "    display(df_cluster_action_list[i].action_cluster.value_counts().sort_index())"
   ]
  },
  {
   "cell_type": "markdown",
   "id": "49ab9b8f-175f-4c90-804f-aef206c06413",
   "metadata": {
    "id": "LB9LmEloCcBT"
   },
   "source": [
    "## ◆ 3. LDA 시각화 (LDAvis)\n"
   ]
  },
  {
   "cell_type": "code",
   "execution_count": 477,
   "id": "401accf8-f224-45f8-bc3e-c962b892d1f9",
   "metadata": {
    "colab": {
     "base_uri": "https://localhost:8080/"
    },
    "id": "dSIf5ZyVCcBT",
    "outputId": "689423c7-a327-4f65-f64d-e8dd69370752",
    "scrolled": true
   },
   "outputs": [],
   "source": [
    "# !pip install pyLDAvis"
   ]
  },
  {
   "cell_type": "code",
   "execution_count": 562,
   "id": "7b741358-f3a8-4d5a-bb8a-820b80a265ae",
   "metadata": {
    "id": "BMhcVmzLCcBT"
   },
   "outputs": [],
   "source": [
    "import pyLDAvis.gensim as gensimvis\n",
    "import pyLDAvis"
   ]
  },
  {
   "cell_type": "code",
   "execution_count": 580,
   "id": "b92efdae-775d-4d86-9f43-24a3c524372b",
   "metadata": {},
   "outputs": [],
   "source": [
    "def save_ldavis_html(ldavis_list):\n",
    "    prepared_data_list = []\n",
    "\n",
    "    for i in range(len(ldavis_list)):\n",
    "        prepared_data = gensimvis.prepare(ldavis_list[i][0], ldavis_list[i][1], ldavis_list[i][2])\n",
    "        # 저장하기\n",
    "        pyLDAvis.save_html(prepared_data, 'cluster{}_ldavis_action.html'.format(i))\n",
    "\n",
    "        prepared_data_list.append(prepared_data)\n",
    "\n",
    "    return prepared_data_list"
   ]
  },
  {
   "cell_type": "code",
   "execution_count": 584,
   "id": "0c2fe5c7-7431-49e1-bbbf-bf5fe957c941",
   "metadata": {},
   "outputs": [],
   "source": [
    "prepared_data_list = save_ldavis_html(ldavis_list)"
   ]
  },
  {
   "cell_type": "markdown",
   "id": "de1f677e-161f-47de-a094-2004881e39fe",
   "metadata": {},
   "source": [
    "    *저장되어 있는 html을 불러와서 비교해도 되고 아래 코드를 실행해 모든 Actor의 Map을 봐도 됩니다!\n",
    "    *(아마 아래 있는 코드 실행해서 하게 제가 그냥 만들었어요!)"
   ]
  },
  {
   "cell_type": "code",
   "execution_count": 82,
   "id": "c67f75ca-e3f7-4c95-883e-8a83aa11f24c",
   "metadata": {},
   "outputs": [],
   "source": [
    "# df_cluster_action_list[0].action_cluster.unique(), prepared_data_list[0].topic_order"
   ]
  },
  {
   "cell_type": "markdown",
   "id": "c690012e-edd2-4211-a29c-8c49b0a4be97",
   "metadata": {
    "id": "DHexOOTfkK20"
   },
   "source": [
    "## ◆ 4. LDA 분석을 위한 후작업\n",
    "* LDAvis와 LDA모델의 토픽 넘버 매칭\n",
    "* LDAvis 결과와 LDA모델의 결과를 보고 직접 매칭해야한다."
   ]
  },
  {
   "cell_type": "markdown",
   "id": "3fa260ad-b28f-4589-95ea-8853cb6b1027",
   "metadata": {
    "id": "ph7fcoMcCcBS"
   },
   "source": [
    "### 4.1 LDAvis 결과와 LDA모델의 결과를 보고 직접 매칭"
   ]
  },
  {
   "cell_type": "markdown",
   "id": "9a50d80d-6ff9-45d2-acc2-e17a16dcf505",
   "metadata": {},
   "source": [
    "    *그래프의 1번 원이 1번 action_clutsr를 의미하지 않음! = 완전 무작위로 선정되어 있음\n",
    "    *=> 수작업으로 해줘야 함!"
   ]
  },
  {
   "cell_type": "code",
   "execution_count": 586,
   "id": "12c2161e-fab7-424f-ad6b-5b676169e74b",
   "metadata": {},
   "outputs": [],
   "source": [
    "def new_action_topic_labeling(cluster_num,df_cluster,prepared_data_list,ldavis_list):\n",
    "    display(\"Cluster = Actor {}의 Map\".format(cluster_num), pyLDAvis.display(prepared_data_list[cluster_num]))\n",
    "    \n",
    "    ldamodel = ldavis_list[cluster_num][0]\n",
    "    \n",
    "    topics = ldamodel.show_topics(num_topics=-1, formatted = True)\n",
    "    display(\"{}번 클러스터에 대한 주제 단어들!\".format(cluster_num), topics)\n",
    "    \n",
    "    action_dict = {}\n",
    "    \n",
    "    for j in range(len(topics)):\n",
    "        new_action_num = int(input(\"\\n보고 계신 원의 번호를 입력해 주세요! : \"))\n",
    "        origin_action_num = int(input(\"위의 주제 단어과 매칭되는 처음에 설정한 Action 토픽 번호를 입력해 주세요! : \"))\n",
    "        \n",
    "        if origin_action_num in action_dict.keys():\n",
    "            print(\"잘 못 입력했습니다! 처음 설정한 토픽 번호에 대해서 각 각 다른 하나의 원을 매칭해야 합니다!\")\n",
    "            return\n",
    "        else:\n",
    "            action_dict[origin_action_num] = new_action_num\n",
    "    \n",
    "    return action_dict"
   ]
  },
  {
   "cell_type": "markdown",
   "id": "d4f57711-fde6-4e6a-989a-45e655c31fea",
   "metadata": {},
   "source": [
    "    *따로 따로 하나 하고 싶으신 분들은 아래 코드와 같이 df_cluster0 = df_cluster_action_list[0] # df_cluster_action_list 에서 df_cluster로 하나씩 빼서 하세요!"
   ]
  },
  {
   "cell_type": "code",
   "execution_count": 407,
   "id": "b976f6a4-ef76-4c60-9113-827fdefdea0b",
   "metadata": {},
   "outputs": [],
   "source": [
    "# df_cluster_action_list = df_cluster0, df_cluster1, df_cluster2, ... 를 담은 리스트\n",
    "# df_cluster0 = df_cluster_action_list[0]"
   ]
  },
  {
   "cell_type": "code",
   "execution_count": 409,
   "id": "e54b13c2-e5be-4bac-b2a7-6e3a033556f0",
   "metadata": {},
   "outputs": [],
   "source": [
    "df_cluster0 = df_cluster_action_list[0].copy()"
   ]
  },
  {
   "cell_type": "code",
   "execution_count": 424,
   "id": "6eb1cb66-f058-4153-b1c1-448e2bb66d6f",
   "metadata": {
    "collapsed": true,
    "jupyter": {
     "outputs_hidden": true
    },
    "scrolled": true
   },
   "outputs": [
    {
     "data": {
      "text/plain": [
       "'Cluster = Actor 0의 Map'"
      ]
     },
     "metadata": {},
     "output_type": "display_data"
    },
    {
     "data": {
      "text/html": [
       "\n",
       "<link rel=\"stylesheet\" type=\"text/css\" href=\"https://cdn.jsdelivr.net/gh/bmabey/pyLDAvis@3.4.0/pyLDAvis/js/ldavis.v1.0.0.css\">\n",
       "\n",
       "\n",
       "<div id=\"ldavis_el3063220121603167367257467624\" style=\"background-color:white;\"></div>\n",
       "<script type=\"text/javascript\">\n",
       "\n",
       "var ldavis_el3063220121603167367257467624_data = {\"mdsDat\": {\"x\": [-0.0411878352995283, 0.055419816565105424, 0.13989532650911699, 0.016473580899636, -0.17060088867433043], \"y\": [0.02792916305929551, 0.030317868257943782, 0.04891328513835027, -0.13713391357352556, 0.029973597117935995], \"topics\": [1, 2, 3, 4, 5], \"cluster\": [1, 1, 1, 1, 1], \"Freq\": [29.70250261286885, 23.48044230917163, 20.789190699253044, 14.709662458261905, 11.318201920444572]}, \"tinfo\": {\"Term\": [\"\\uc57d\", \"\\uc544\\uce68\", \"\\uba39\\ub2e4\", \"\\ud6c4\", \"\\uc800\\ub141\", \"\\uc810\\uc2ec\", \"\\uc2dd\\ud6c4\", \"\\uc624\\uba54\\uac00\", \"\\uacf5\\ubcf5\", \"\\ubc00\\ud06c\", \"\\uad81\\uae08\\ud558\\ub2e4\", \"\\uc131\\ubd84\", \"\\ub17c\", \"\\uc18c\\ud2f0\", \"\\uc720\\uc0b0\\uade0\", \"\\ubc88\", \"\\uac74\\uac15\", \"\\ubcf5\\uc6a9\", \"\\uc2ac\", \"\\uc591\\uc81c\", \"\\uc5f0\\uace0\", \"\\ubc14\\ub974\\ub2e4\", \"\\ub3c4\\uc6c0\", \"\\uc815\", \"\\uc2dd\\ud488\", \"\\uba40\\ud2f0\", \"\\uce7c\\uc298\", \"\\ud53c\\ubd80\", \"\\ub9c8\\uadf8\\ub124\\uc298\", \"\\ud6a8\\uacfc\", \"\\ud30c\\uc2a4\", \"\\ub1cc\", \"\\uc2b5\\uae30\", \"\\uc778\\uccb4\", \"\\uc2e0\\uccb4\", \"\\uc704\\ud5d8\\ud558\\ub2e4\", \"\\uc219\\ucde8\", \"\\uc218\\uac00\", \"\\ud53c\\ub85c\\ud558\\ub2e4\", \"\\ud0c0\\uc6b0\\ub9b0\", \"\\uccad\\uc18c\\ub144\", \"\\uad6d\\ub0b4\", \"\\uc0dd\\uae30\", \"\\uc885\\uc774\", \"\\ub07c\\uce58\\ub2e4\", \"\\ubcf4\\uc2dc\", \"\\uac1c\\ubcc4\", \"\\uc2dc\\ub825\", \"\\ud611\\uc2ec\\uc99d\", \"\\uc2a4\\ud0c0\", \"\\uc2e4\\ud5d8\", \"\\uc790\\ub3c4\", \"\\ud30c\\ud30c\", \"\\ud568\\uc720\\ub7c9\", \"\\uacfc\\uc815\", \"\\uc218\\uba74\\uc81c\", \"\\ud488\\uc9c8\", \"\\ud574\\uc18c\", \"\\uce68\\uce68\\ud558\\ub2e4\", \"\\uc21c\\uc218\", \"\\uad6c\\uc131\", \"\\ub300\\ubc94\\ud558\\ub2e4\", \"\\uc560\\ubc8c\", \"\\ud53c\\ub85c\", \"\\uac10\", \"\\uc2dd\\ud488\", \"\\uc778\\ub3c4\", \"\\uc6d0\\ub8cc\", \"\\uac00\\uaca9\", \"\\uae30\\ub2a5\", \"\\uc9c8\\ud658\", \"\\uac74\\uac15\", \"\\ud568\\ub7c9\", \"\\ud53c\\uace4\\ud558\\ub2e4\", \"\\ubab8\", \"\\uc694\\uc998\", \"\\ud68c\\ubcf5\", \"\\uc88b\\ub2e4\", \"\\uc81c\\ud488\", \"\\ubcf4\\ub2e4\", \"\\uc787\\ubab8\", \"\\ub208\", \"\\uc601\\ud5a5\", \"\\ub3c4\\uc6c0\", \"\\ub4e4\\ub2e4\", \"\\ud6a8\\uacfc\", \"\\uc2dc\\uc911\", \"\\uc5c6\\ub2e4\", \"\\uc810\", \"\\uc218\", \"\\uad81\\uae08\\ud558\\ub2e4\", \"\\ubd80\\uc791\\uc6a9\", \"\\uc591\\uc81c\", \"\\uc548\\ub155\\ud558\\ub2e4\", \"\\ubb50\", \"\\uc54a\\ub2e4\", \"\\uc12d\\ucde8\", \"\\uc601\\uc591\", \"\\uba39\\ub2e4\", \"\\uc131\\ubd84\", \"\\ub9ce\\ub2e4\", \"\\ub418\\uc5b4\\ub2e4\", \"\\ubcf5\\uc6a9\", \"\\uc694\", \"\\ucc59\\uae30\\ub2e4\", \"\\uc54c\\ub2e4\", \"\\uc624\\uba54\\uac00\", \"\\uad1c\\ucc2e\\ub2e4\", \"\\uacb9\", \"\\uc9c0\\uc6a9\\uc131\", \"\\ucf00\\uc5b4\", \"\\ubca0\\uc2a4\\ud2b8\", \"\\uc218\\uc6a9\\uc131\", \"\\ud68c\", \"\\ub809\\uc2a4\", \"\\uc6b0\\uba3c\", \"\\uc6d0\\uc2a4\", \"\\uc800\\ubd84\\uc790\", \"\\uc591\\ud30c\", \"\\ub300\\ub9c8\", \"\\uacc4\\ud68d\", \"\\uc911\\uac04\", \"\\ub3c4\\uc2a4\", \"\\uad6c\\ucda9\\uc81c\", \"\\uc2ec\", \"\\uc77c\\ub9ac\", \"\\ube4c\\ub2e4\", \"\\uc778\", \"\\uc0bc\\ud0a4\\ub2e4\", \"\\uc62c\\ub77c\\uac00\\ub2e4\", \"\\ube0c\\ub85c\", \"\\ubc29\\uad11\", \"\\uc2a4\\ud504\\ub808\\uc774\", \"\\ud544\\ub7ec\", \"\\uc870\\ud604\\ubcd1\", \"\\uc544\\ubcf4\", \"\\uc6c0\", \"\\uc2dc\\ud5d8\", \"\\ud0c0\\ucf54\", \"\\uc88b\\uc544\\ud558\\ub2e4\", \"\\ud2b8\\ub8e8\", \"\\ubc88\", \"\\ub2e5\\ud130\\uc2a4\", \"\\uba54\", \"\\uce58\\ub2e4\", \"\\ud06c\\ub79c\\ubca0\\ub9ac\", \"\\uc5fd\\uc0b0\", \"\\uba5c\\ub77c\", \"\\ud56d\\uc0dd\\uc81c\", \"\\ud65c\", \"\\uc13c\\ud2b8\", \"\\uc784\\uc2e0\", \"\\ub8f8\", \"\\ub77d\\ud1a0\\ud54f\", \"\\uc2a4\", \"\\uba39\\ub2e4\", \"\\ub3fc\\ub2e4\", \"\\uc794\\ud2f4\", \"\\ubca0\\ud0c0\", \"\\ud558\\ub8e8\", \"\\uc9c8\\ubb38\", \"\\ub180\", \"\\uce7c\\uc298\", \"\\ud2f4\", \"\\ub9e5\\uc2a4\", \"\\uba40\\ud2f0\", \"\\uc62c\\ub9ac\\ub2e4\", \"\\uc12d\\ucde8\", \"\\uad1c\\ucc2e\\ub2e4\", \"\\ubb38\\uc81c\", \"\\ubcf5\\uc6a9\", \"\\uc720\\uc0b0\\uade0\", \"\\uc591\\uc81c\", \"\\ub9c8\\uadf8\\ub124\\uc298\", \"\\uac71\\uc815\", \"\\uc694\", \"\\uc131\\ubd84\", \"\\ubaa8\\ub974\\ub2e4\", \"\\uc544\\ub2c8\\ub2e4\", \"\\uc5c6\\ub2e4\", \"\\uac1c\", \"\\ub4dc\\ub9ac\\ub2e4\", \"\\uac00\\ub2e4\", \"\\uad81\\uae08\\ud558\\ub2e4\", \"\\ubcf4\\ub2e4\", \"\\uc624\\uba54\\uac00\", \"\\uc544\\uc5f0\", \"\\uc54c\", \"\\uc81c\\ud488\", \"\\uc88b\\ub2e4\", \"\\uc54c\\ub2e4\", \"\\ub4e4\\ub2e4\", \"\\ud604\\uc7ac\", \"\\ub9e4\\uc2a4\\ud2f1\", \"\\uac80\", \"\\uc6b0\\ub8e8\\uc0ac\", \"\\uc800\\ub141\\uc2dd\\uc0ac\", \"\\uce58\\uc9c8\", \"\\uc544\\uce68\\uc2dd\\uc0ac\", \"\\ubca0\\ub974\\ubca0\\ub9b0\", \"\\ub51c\", \"\\uc544\\uc2a4\\ud53c\\ub9b0\", \"\\uc2dc\\uc2ac\", \"\\uad6c\\ub9ac\", \"\\uacf5\\ubcf5\", \"\\ub9c8\\ub514\", \"\\uc138\\ub9b0\", \"\\ubc14\\ub098\\ubc14\", \"\\ud30c\\ud2f0\", \"\\uc810\\uc2ec\\uc2dd\\uc0ac\", \"\\ub0a0\\uc528\", \"\\uc2dd\\uc0ac\", \"\\ubf51\\ub2e4\", \"\\uc885\\ube44\", \"\\uc6e8\\uc774\", \"\\ucb10\\ub2e4\", \"\\ub1cc\\ub3d9\\ub9e5\\ub958\", \"\\ub3c4\\uc911\", \"\\ub808\\uc2a4\\ubca0\\ub77c\\ud2b8\\ub864\", \"\\uc138\\uc774\", \"\\uc628\\ub3c4\", \"\\uc2a4\\uc704\\uc2a4\", \"\\ubb34\\ub9ac\\ub2e4\", \"\\uae00\\ub8e8\\ud0c0\\ubbfc\", \"\\uc810\\uc2ec\", \"\\uc2dd\\uc804\", \"\\ud6c4\", \"\\uc2dd\\ud6c4\", \"\\uc608\\uc815\", \"\\uc544\\uce68\", \"\\uc800\\ub141\", \"\\uae30\\uc0c1\", \"\\ubc00\\ud06c\", \"\\ucf54\\uc5d4\\uc790\\uc784\", \"\\uc624\\ud6c4\", \"\\uc2ac\", \"\\ubb34\\ub9ac\", \"\\uae00\\ub8e8\", \"\\ud0c0\\uce58\", \"\\uc624\\uba54\\uac00\", \"\\ucca0\\ubd84\", \"\\uc720\\uc0b0\\uade0\", \"\\ube44\\uc5fc\", \"\\uc54c\", \"\\ucd94\\uac00\", \"\\uba39\\ub2e4\", \"\\ubcf5\\uc6a9\", \"\\uc544\\ub974\\uae30\\ub2cc\", \"\\ucf5c\\ub77c\\uac90\", \"\\ub9c8\\uadf8\\ub124\\uc298\", \"\\uc591\\uc81c\", \"\\uc544\\uc5f0\", \"\\ud504\\ub85c\\ud3f4\\ub9ac\\uc2a4\", \"\\uac04\", \"\\ud604\\uc7ac\", \"\\uba40\\ud2f0\", \"\\uc885\\ud569\", \"\\ubd80\\ud0c1\\ub4dc\\ub9ac\\ub2e4\", \"\\uad1c\\ucc2e\\ub2e4\", \"\\uce7c\\uc298\", \"\\uc12d\\ucde8\", \"\\uc88b\\ub2e4\", \"\\ucd94\\ucc9c\", \"\\uad81\\uae08\\ud558\\ub2e4\", \"\\ube44\\uc624\\ud2f4\", \"\\ud558\\ub8e8\", \"\\uc18c\\ud2f0\", \"\\ub17c\", \"\\uc804\\ub9bd\\uc120\", \"\\uc5d0\\uc2a4\", \"\\uace0\\ud608\\uc555\\uc57d\", \"\\uc138\\uc778\\ud2b8\\uc874\\uc2a4\", \"\\uc815\\uc2e0\\uacfc\", \"\\uc6cc\\ud2b8\", \"\\ube44\\ub9cc\", \"\\ub860\", \"\\ube14\\ub8e8\", \"\\uc2e0\\uacbd\\uc548\\uc815\\uc81c\", \"\\uc218\\uc561\", \"\\uc2dc\\uae30\", \"\\ucda9\\ub3cc\", \"\\ube0c\\ub77c\\uc9c8\", \"\\ubc29\\uc815\", \"\\uc120\\uadfc\", \"\\uc2dc\\ud5d8\\uad00\", \"\\ubc15\\uc0ac\", \"\\ub2e5\", \"\\ud544\\ub984\", \"\\ud478\\ub2e4\", \"\\uac04\\uc5fc\", \"\\uac89\", \"\\ub179\", \"\\uc0c9\\uc18c\", \"\\uc8fc\\uc2ec\", \"\\uba85\", \"\\ubaa8\\ub0ad\", \"\\uae00\\ub8e8\\ucf64\", \"\\ub9ac\\uc544\", \"\\uc5ec\\uc5d0\\uc2a4\\ub354\", \"\\ucf54\", \"\\ud53c\\uc784\", \"\\ubcf4\\uc2a4\", \"\\ud150\\uc158\", \"\\ub4e3\\ub2e4\", \"\\ub77c\\uc774\\ud504\", \"\\ub098\\uc6b0\", \"\\ud478\\ub4dc\", \"\\ub370\\uc774\", \"\\uc57d\", \"\\uc815\\uc774\", \"\\uc904\\uc774\\ub2e4\", \"\\ud56d\\uc0b0\\ud654\", \"\\uc775\\uc2a4\", \"\\uc815\", \"\\uc6f0\", \"\\uad00\\uc808\", \"\\ud50c\\ub7ec\\uc2a4\", \"\\uc99d\", \"\\uc591\\uc81c\", \"\\uba39\\ub2e4\", \"\\ud310\\ud1a0\\ud150\\uc0b0\", \"\\ubcf5\\uc6a9\", \"\\ub450\\ub2e4\", \"\\ucc98\\ubc29\", \"\\uc54c\\ub2e4\", \"\\uc694\", \"\\ubc1b\\ub2e4\", \"\\uc548\\ub418\\ub2e4\", \"\\ud604\\uc7ac\", \"\\uc12d\\ucde8\", \"\\ub9c8\\uadf8\\ub124\\uc298\", \"\\uc131\\ubd84\", \"\\uc885\\ud569\", \"\\uad81\\uae08\\ud558\\ub2e4\", \"\\ud6a8\\uacfc\", \"\\uc548\\ub155\\ud558\\ub2e4\", \"\\ub4e4\\ub2e4\", \"\\ucd94\\ucc9c\", \"\\ub3c4\\uc6c0\", \"\\uc54c\", \"\\uad1c\\ucc2e\\ub2e4\", \"\\uac74\\uac15\", \"\\uc544\\ub2c8\\ub2e4\", \"\\uc624\\uba54\\uac00\", \"\\uc88b\\ub2e4\", \"\\ub208\\ubb3c\", \"\\uc778\\uacf5\", \"\\ubca0\\ub9ac\", \"\\ub300\\uc7a5\", \"\\ubca0\\ud0c0\\uce74\\ub85c\\ud2f4\", \"\\ud2b8\\ub7ec\\ube14\", \"\\uc810\\uc548\\uc561\", \"\\ud654\\uc81c\", \"\\uac00\\uc2a4\", \"\\ubcc0\\uc9c8\", \"\\uc9c4\", \"\\uc0c1\\ucc98\", \"\\ube44\\uc544\\uadf8\\ub77c\", \"\\uc878\", \"\\uc874\\uc7ac\", \"\\uce74\\ubca0\", \"\\ud130\\uc9c0\\ub2e4\", \"\\uc2e4\\uc9c8\", \"\\ud613\\ubc14\\ub298\", \"\\ub9ac\\ub180\\ub808\\uc0b0\", \"\\uc904\\uae30\\uc138\\ud3ec\", \"\\uc5bb\\ub2e4\", \"\\ub0b4\\uc2dc\\uacbd\", \"\\ud504\\ub808\", \"\\ubc00\\uc815\", \"\\uc2a4\\ud14c\\ub85c\\uc774\\ub4dc\", \"\\uc798\\ubabb\", \"\\ud22c\\uba85\\ud558\\ub2e4\", \"\\uc881\\uc300\", \"\\ubb3b\\ub2e4\", \"\\uc5f0\\uace0\", \"\\uc785\\uc220\", \"\\ud06c\\ub9bc\", \"\\ub098\\ud2b8\\ub968\", \"\\uc548\\uc57d\", \"\\ub2ff\\ub2e4\", \"\\ucc28\\uace0\", \"\\ubc14\\ub974\\ub2e4\", \"\\uc81c\\uc0b0\\uc81c\", \"\\ub9c8\", \"\\ubc1c\\ub77c\", \"\\ubcc0\\ube44\", \"\\ubcf4\\uad00\", \"\\ud615\\ud0dc\", \"\\uacfc\\ubbfc\\uc131\", \"\\ud53c\\ubd80\", \"\\uc18c\\ud654\", \"\\uc57d\", \"\\uad81\\uae08\\ud558\\ub2e4\", \"\\uc704\", \"\\uc0dd\\uae30\\ub2e4\", \"\\uc131\\ubd84\", \"\\ucea1\\uc290\", \"\\uc544\\ub2c8\\ub2e4\", \"\\uacbd\\uc6b0\", \"\\ubd80\\uc791\\uc6a9\", \"\\ucc28\\uc774\\uc810\", \"\\uac00\\uc694\", \"\\uc778\\ud558\\ub2e4\", \"\\ud6a8\\uacfc\", \"\\uc2ec\\ud558\\ub2e4\", \"\\uadf8\\ub807\\ub2e4\", \"\\uc88b\\ub2e4\", \"\\uba39\\ub2e4\", \"\\ubcf5\\uc6a9\", \"\\uc5c6\\ub2e4\", \"\\uc591\\uc81c\", \"\\uac74\\uc9c0\\ub2e4\", \"\\uac74\\uac00\", \"\\ub354\", \"\\uc694\", \"\\uc54a\\ub2e4\", \"\\ub3c4\\uc6c0\", \"\\uc54c\\ub2e4\", \"\\uc548\\ub155\\ud558\\ub2e4\", \"\\ubcf4\\ub2e4\", \"\\ubc1b\\ub2e4\"], \"Freq\": [467.0, 321.0, 2931.0, 246.0, 274.0, 190.0, 186.0, 562.0, 144.0, 220.0, 794.0, 471.0, 75.0, 71.0, 418.0, 129.0, 318.0, 1239.0, 152.0, 1563.0, 56.0, 71.0, 266.0, 199.0, 145.0, 166.0, 233.0, 139.0, 416.0, 423.0, 20.66189034040215, 18.229926697129226, 14.897167727249748, 18.470479453257973, 12.772607982559645, 18.276930362698128, 12.49916045550208, 13.912331494685244, 14.631984105068192, 13.13913858009588, 12.963114560454404, 12.237569943031547, 13.67208930003634, 10.59866277609068, 14.997119031890225, 10.036333063886648, 12.533375422044418, 9.481245249457624, 9.298954940514676, 9.255942794204644, 9.797242792495652, 9.226511216829943, 8.282273164650467, 8.315320123077377, 8.30825639603184, 8.308976502730125, 7.933606657337294, 7.924618315224437, 7.905077687928913, 8.583663801113602, 21.90572494878271, 14.899001401007233, 14.89850400772079, 80.86480483925679, 27.389240947068377, 119.02761901499812, 9.446341108635314, 32.09467052218785, 32.71897085988482, 87.77740351270488, 36.45453301830893, 231.93121310681855, 117.58482214285326, 54.89906883368097, 136.75334976824894, 113.8436525556377, 42.02587233866363, 501.4641708638964, 235.2396455856414, 303.28152282152666, 41.467628798918504, 92.39811290596029, 64.71746878165308, 163.3845880927122, 260.952136645207, 234.36338214134906, 32.02397881067626, 235.64163834482628, 43.50087357016061, 104.53844864797581, 335.39713335361444, 104.09850552341334, 542.0618365334842, 175.60364560203288, 76.8740032124898, 117.2422691186951, 234.09258242929894, 117.00610381677961, 600.9790957944016, 174.38133500760995, 99.18035989405169, 95.22425701684942, 291.2167512655551, 154.83558035442604, 97.50805932559884, 120.80281317972121, 119.85828065091941, 97.1108276842404, 54.850806889897925, 17.98043426215189, 18.789156007163324, 18.25743658626848, 13.497607806853011, 13.205719647287761, 13.041741689386694, 15.754921168614635, 15.265548961449312, 11.42960248253867, 10.979910186831464, 10.978189693727174, 10.963247127977183, 11.540471097303453, 24.42807949228804, 15.604450891083232, 14.512203815410286, 15.645030662493566, 9.535206551940032, 10.429397386456333, 12.60928171176441, 9.185348827387891, 24.42955252390547, 8.24124315256567, 8.681856643841938, 9.880709736810367, 8.209552432509392, 7.765236800016672, 7.755197492897611, 8.191049551296288, 15.450226632577262, 9.957698624374245, 19.606696379706474, 112.47246254465706, 12.947882383936067, 55.54957161740052, 56.486533186689066, 18.594561292496778, 84.28591451534412, 23.982128462143034, 20.651987393720724, 37.52700043487751, 26.447318275844175, 38.16510677673164, 25.27671198239751, 24.692920013528713, 38.85439558769396, 1043.1315535755343, 32.43725169750333, 45.56297672936508, 35.77859993476529, 130.4822126790783, 106.84123286212379, 39.63176503823984, 106.67824083773559, 45.54496388058248, 49.61677147783789, 80.81845677443104, 36.86530993740618, 189.83630218844968, 142.68387543844477, 80.24688138252222, 274.6490573187738, 125.30979419913756, 270.34910392415526, 120.74942133434789, 54.35638079537054, 120.82360109388702, 119.02420200909164, 62.38721223839219, 97.31649696321469, 107.81112539322883, 62.874678111810915, 76.87542696120678, 74.03736257034967, 123.4542516781931, 102.42442287162362, 103.99755021521719, 68.98889001774015, 84.74394323102167, 81.09507372374202, 97.8457945871077, 78.08565252337566, 77.40307353770922, 65.41944293232991, 29.818569918201423, 32.51172918735491, 27.819274918699918, 15.038261955831166, 13.44271482043503, 13.7670235444711, 11.501376939564501, 12.265615050550949, 9.810446719218755, 52.47736897403007, 12.458291618712408, 133.50371572285096, 13.82795277862156, 10.393033321099265, 8.56160915638506, 9.900106403390899, 19.99298117105196, 8.904413064322538, 50.83815720092766, 6.6593131997467365, 7.230743976416874, 6.3076938343702755, 6.445620518698664, 6.161759671559684, 6.161308918025917, 5.816699830950804, 6.105913430428343, 6.236209779721133, 5.658077454115234, 7.002066013623709, 31.173359242499817, 161.48167320545772, 51.786390219795024, 201.86118105358568, 153.36915572687272, 31.395914578042763, 247.80446144215603, 207.90125415804803, 11.33889349715678, 162.81855709255305, 30.275219186950952, 23.81493813689175, 106.30994641685487, 38.14608427537887, 56.25337592545732, 57.69668787458139, 292.40459502421464, 87.43731770048863, 209.7380215490895, 23.389385232965548, 187.50763666457527, 109.89505903023112, 795.9401292149676, 408.46378007380764, 61.14003958408889, 68.14434594236555, 165.85540792069514, 424.90466405457914, 97.92623898513537, 58.405388473802084, 64.21623457082109, 95.04288510675948, 75.50870088700027, 101.10113730474892, 83.89157002972709, 115.9606272048839, 86.99557404138986, 132.4150623697023, 136.14742979745301, 74.72035590546724, 101.22667974141227, 66.51931926606068, 68.10093504295973, 71.04852437873816, 74.17704602067106, 26.696292680754627, 18.84051892072003, 11.697127430372019, 10.147600190294764, 10.20370789673189, 9.029221828881763, 8.613278961585618, 8.221152472829758, 9.547653923589316, 7.103446911242765, 7.707789661328539, 11.796286359919723, 7.464275953083369, 7.079908721337277, 6.810908889992743, 6.693370515289233, 6.681470904523247, 6.659989717364485, 6.626148743966757, 6.375842698680344, 17.545830239875425, 7.001047145374705, 5.948569465644043, 5.566957159232857, 5.676934195272501, 5.5500489275399305, 5.541651184720783, 8.12438326944, 7.2845434232435275, 14.192962331734991, 8.819903263705934, 26.811134341401438, 28.034460897167346, 15.512773774752889, 19.07619861641921, 16.587422598476635, 23.309685515765754, 48.07715790990574, 36.89103113864036, 25.007812668597463, 200.5837606733572, 13.100609926432933, 18.548483354713472, 14.282735152234633, 18.086124039676122, 82.88380126555084, 15.37617457656341, 29.854741047188593, 25.344590035783767, 21.38413731573661, 268.78000595001646, 391.02461175994245, 42.01588099289902, 204.7972277950031, 31.729041263385398, 37.25675728085386, 88.95100960543165, 93.29665431912454, 57.24198076674332, 53.12022030553409, 56.29482567179697, 81.16379647611826, 65.47811437158222, 68.50269885715211, 54.972304646966144, 83.11135221581122, 63.57196584595324, 58.45351065379312, 62.31141593515066, 46.117876580531124, 48.855865497230425, 56.08298073714699, 49.70959332890636, 44.94456270399899, 43.83373955374688, 44.7552424702634, 46.24914240013631, 31.061988490556317, 31.059983780741078, 16.616394681320937, 17.559160862663674, 13.505190658371001, 16.89309555507602, 11.530271434474066, 12.340938931561572, 17.235129601107037, 10.28728345668983, 11.396934658032848, 12.151612665609802, 8.319775812824775, 8.587368741092845, 8.313611754470017, 7.875635936465247, 7.010571119445283, 7.124373762051841, 6.276731815801475, 6.939963561303149, 6.512735948768276, 5.841334020672934, 8.826400683663, 7.221522508890835, 7.895717452260277, 13.273581611222088, 6.822850695833752, 5.410653799959087, 5.404805629557342, 5.400741047403726, 49.24587954346954, 24.713142283929383, 28.166872572347568, 11.343550536922814, 8.876133705805675, 8.34114775448159, 7.815264562424395, 47.191476309950815, 12.713361398672413, 15.260827065930313, 28.656911911228953, 24.621800689205696, 19.18725303018582, 21.6068698848429, 14.488326377159648, 56.42322724376705, 19.185929129630505, 112.23076152158806, 151.07710423115464, 51.10120736015232, 43.590127337818785, 97.23429495436484, 47.993545054072584, 71.15199810126883, 35.77055962711506, 43.80745070589862, 20.699279477229073, 39.56359506682988, 21.00599442126593, 52.71509871402559, 24.06834425064695, 36.267188294401386, 66.5247883860168, 99.99528013297883, 60.22033999544852, 44.16334987569411, 57.80601308531801, 27.671680959510173, 27.455400493149842, 32.5144959895573, 37.0898472753649, 31.904905790273638, 32.08381718326712, 31.11691904821244, 30.82519133738509, 31.517557381645666, 29.26032390792116], \"Total\": [467.0, 321.0, 2931.0, 246.0, 274.0, 190.0, 186.0, 562.0, 144.0, 220.0, 794.0, 471.0, 75.0, 71.0, 418.0, 129.0, 318.0, 1239.0, 152.0, 1563.0, 56.0, 71.0, 266.0, 199.0, 145.0, 166.0, 233.0, 139.0, 416.0, 423.0, 21.382249493312926, 19.027026319955397, 15.581961884067349, 19.386256728196646, 13.453372118808359, 19.32171302048221, 13.222773489314385, 14.760232884427468, 15.541987201659579, 13.959067914613222, 13.775502024296424, 13.027604504059655, 14.555384236754387, 11.309096646222466, 16.042366240781732, 10.73679952529757, 13.416145403795195, 10.16599915360238, 9.983351675112306, 9.966566708559256, 10.549480296790144, 9.93678660965924, 8.968599206196654, 9.006705469080819, 9.00368636421654, 9.005239620355608, 8.61388793773213, 8.61130142273134, 8.609696582856165, 9.352738701243949, 23.947484219024798, 16.252887961906918, 16.252800953147577, 90.26041836140715, 30.417197157231698, 145.38022190552314, 10.298544910555496, 37.43970838511775, 38.49624109263631, 110.65255450045022, 43.438637776815085, 318.4825351510468, 153.24141647556735, 67.71823680080705, 185.78862260888158, 154.66623884340947, 51.43716674282062, 848.2313260346102, 374.1738431296768, 515.5854647789735, 52.39451011282661, 132.47451513076848, 87.60407634072696, 266.282765638494, 476.76437372765065, 423.1789885742466, 40.406162591629354, 469.4797622272841, 58.70942628882836, 173.9387298690987, 794.2665212201857, 179.20247734377566, 1563.901623547553, 373.1696747290212, 125.49413544062321, 240.5765389972041, 650.4947769834441, 245.37791917452807, 2931.0706704778245, 471.8981768890486, 200.55588948136517, 196.04265965648605, 1239.3471564485883, 461.49146451593214, 213.65484279677614, 361.83628964574814, 562.6295781019957, 430.10205669826615, 57.226236965086194, 18.782806022610124, 19.77961939600002, 19.226835087708025, 14.262624102933723, 13.956422969914177, 13.798510494637217, 16.679814915754868, 16.18972532307733, 12.179596524251115, 11.703117475915668, 11.703470570629115, 11.70172442369898, 12.323343705181346, 26.103102043015063, 16.71570270612188, 15.569118648923913, 16.813676086911983, 10.255788966074512, 11.222034390983485, 13.588485729837654, 9.921861250019811, 26.488313789507007, 8.962014045803835, 9.444058528111723, 10.763655492016051, 8.95138919325079, 8.479790195444851, 8.477655601168284, 8.95607418151748, 16.927688907959606, 10.888327890592002, 21.674388691216866, 129.02619716251394, 14.269722676605825, 64.1923521792605, 66.28877456641537, 20.8862177871047, 102.76994931266796, 27.6558950567406, 23.944268249979025, 47.14101627164352, 31.830975944269852, 49.21313277540747, 30.89013528775464, 30.206709580264594, 53.106073561968046, 2931.0706704778245, 42.740081491291306, 68.05332401144709, 50.12674051179729, 273.23743266206844, 213.76181342505143, 57.98084873464334, 233.54442512702215, 73.26028543506153, 82.55303961832794, 166.4946621990292, 55.04832513261827, 650.4947769834441, 430.10205669826615, 183.78311754552882, 1239.3471564485883, 418.7351044417457, 1563.901623547553, 416.8062451057607, 111.33427808724048, 461.49146451593214, 471.8981768890486, 143.9589141966131, 343.70609229026326, 469.4797622272841, 156.8267295264669, 246.61855756981586, 233.99446334971208, 794.2665212201857, 515.5854647789735, 562.6295781019957, 206.48455373904375, 425.08506133088866, 374.1738431296768, 848.2313260346102, 361.83628964574814, 476.76437372765065, 239.2103861350114, 30.60740384671215, 33.425778849104404, 28.714944228825633, 15.84696203953367, 14.187988108493455, 14.658824655564135, 12.324647071095995, 13.169107930792146, 10.533980793113804, 56.67154701784404, 13.47541867347696, 144.9638828989072, 15.057169157171241, 11.337723176169888, 9.365249885066818, 10.839378711565752, 21.93571964521218, 9.843688832415957, 56.271630563251236, 7.372637068139456, 8.027483038579046, 7.028433485765938, 7.182770840376645, 6.875850099621225, 6.877406985478406, 6.535139900349606, 6.867202331571196, 7.013764061167811, 6.371215301267664, 7.895265150779452, 35.37311191562053, 190.5646742885681, 60.67889801932811, 246.1475860831778, 186.34562315440994, 36.85753880770357, 321.14725610290895, 274.70296214395336, 12.983649005910927, 220.29998015185146, 37.70529936624755, 29.201376435116337, 152.84388759701824, 49.13846387396197, 76.5522911887082, 80.39583982888507, 562.6295781019957, 140.1846497023877, 418.7351044417457, 29.323325956105524, 425.08506133088866, 216.90028149315307, 2931.0706704778245, 1239.3471564485883, 104.30132228540751, 121.9962948344098, 416.8062451057607, 1563.901623547553, 206.48455373904375, 99.34686436174592, 118.0754694211172, 239.2103861350114, 166.4946621990292, 296.1617034668206, 212.54363804599413, 430.10205669826615, 233.54442512702215, 650.4947769834441, 848.2313260346102, 217.9310212489042, 794.2665212201857, 152.90697856541328, 273.23743266206844, 71.88469051161664, 75.08218543091425, 27.6748289017037, 19.980426300276633, 12.446042642597446, 10.920024549640498, 11.055735186554678, 9.805063895036993, 9.37967605661463, 8.965894924134568, 10.528987439110507, 7.848631491016794, 8.52551812936077, 13.060880246619167, 8.272362602627997, 7.859772139576489, 7.56329012082279, 7.433365738538966, 7.4315661296446685, 7.43843872921826, 7.431003219958701, 7.153564736597796, 19.733922605971518, 7.878985716261074, 6.732679290837308, 6.314613769915669, 6.445695065197557, 6.317602802776201, 6.313270257083694, 9.262542917741033, 8.306069011033646, 16.486821645151903, 10.156828884517155, 33.40266225750718, 35.26621025401669, 18.678121507093092, 24.627316367073554, 21.247403602033994, 31.88860035238388, 75.25163918817498, 56.19697336227001, 35.448639905331156, 467.02881481659404, 16.831581656453903, 26.34638357004277, 18.981182809231584, 25.811619347970947, 199.1208354678761, 21.407849770372678, 53.03991130840468, 43.99580425862072, 34.692628031060025, 1563.901623547553, 2931.0706704778245, 101.4995817389691, 1239.3471564485883, 66.56638287055544, 86.90145671995944, 361.83628964574814, 461.49146451593214, 222.20834188878337, 207.87005523583824, 239.2103861350114, 650.4947769834441, 416.8062451057607, 471.8981768890486, 296.1617034668206, 794.2665212201857, 423.1789885742466, 373.1696747290212, 476.76437372765065, 217.9310212489042, 266.282765638494, 425.08506133088866, 430.10205669826615, 318.4825351510468, 343.70609229026326, 562.6295781019957, 848.2313260346102, 31.825032726027562, 31.82582111329345, 17.384199519926437, 18.533707309942464, 14.313932061814006, 17.957577413067053, 12.271471030799374, 13.162036727303583, 18.45218837987825, 11.106826402715226, 12.30818716029973, 13.134502707573597, 9.058093080068566, 9.351550227234524, 9.05639484285218, 8.619690763169285, 7.7496964847047405, 7.884224132850336, 7.015970408824355, 7.759129523978481, 7.308901942283013, 6.578545844564926, 9.964398854370687, 8.168187551584463, 8.934902040582742, 15.03012586335529, 7.744371963619203, 6.144158160777732, 6.144371459900369, 6.143869715025399, 56.260064501613854, 28.19439601737195, 32.39694605739487, 12.983184617757264, 10.120744129348221, 9.545778200325415, 8.949540953638913, 71.75654674171197, 15.743038149071676, 19.600775535781825, 42.02181617426469, 37.96265023365079, 29.111949814681076, 34.660160964216004, 20.167770690714928, 139.40314730628094, 30.96059576677557, 467.02881481659404, 794.2665212201857, 152.6279928917341, 121.57290206062262, 471.8981768890486, 146.32291534295163, 343.70609229026326, 115.27923953920686, 179.20247734377566, 40.529291586104534, 167.1564478104028, 43.68389924247372, 423.1789885742466, 61.022598239389936, 173.75361511547962, 848.2313260346102, 2931.0706704778245, 1239.3471564485883, 469.4797622272841, 1563.901623547553, 108.20926430357483, 112.93063108650784, 231.4659106890481, 461.49146451593214, 240.5765389972041, 266.282765638494, 361.83628964574814, 373.1696747290212, 515.5854647789735, 222.20834188878337], \"Category\": [\"Default\", \"Default\", \"Default\", \"Default\", \"Default\", \"Default\", \"Default\", \"Default\", \"Default\", \"Default\", \"Default\", \"Default\", \"Default\", \"Default\", \"Default\", \"Default\", \"Default\", \"Default\", \"Default\", \"Default\", \"Default\", \"Default\", \"Default\", \"Default\", \"Default\", \"Default\", \"Default\", \"Default\", \"Default\", \"Default\", \"Topic1\", \"Topic1\", \"Topic1\", \"Topic1\", \"Topic1\", \"Topic1\", \"Topic1\", \"Topic1\", \"Topic1\", \"Topic1\", \"Topic1\", \"Topic1\", \"Topic1\", \"Topic1\", \"Topic1\", \"Topic1\", \"Topic1\", \"Topic1\", \"Topic1\", \"Topic1\", \"Topic1\", \"Topic1\", \"Topic1\", \"Topic1\", \"Topic1\", \"Topic1\", \"Topic1\", \"Topic1\", \"Topic1\", \"Topic1\", \"Topic1\", \"Topic1\", \"Topic1\", \"Topic1\", \"Topic1\", \"Topic1\", \"Topic1\", \"Topic1\", \"Topic1\", \"Topic1\", \"Topic1\", \"Topic1\", \"Topic1\", \"Topic1\", \"Topic1\", \"Topic1\", \"Topic1\", \"Topic1\", \"Topic1\", \"Topic1\", \"Topic1\", \"Topic1\", \"Topic1\", \"Topic1\", \"Topic1\", \"Topic1\", \"Topic1\", \"Topic1\", \"Topic1\", \"Topic1\", \"Topic1\", \"Topic1\", \"Topic1\", \"Topic1\", \"Topic1\", \"Topic1\", \"Topic1\", \"Topic1\", \"Topic1\", \"Topic1\", \"Topic1\", \"Topic1\", \"Topic1\", \"Topic1\", \"Topic1\", \"Topic1\", \"Topic1\", \"Topic1\", \"Topic2\", \"Topic2\", \"Topic2\", \"Topic2\", \"Topic2\", \"Topic2\", \"Topic2\", \"Topic2\", \"Topic2\", \"Topic2\", \"Topic2\", \"Topic2\", \"Topic2\", \"Topic2\", \"Topic2\", \"Topic2\", \"Topic2\", \"Topic2\", \"Topic2\", \"Topic2\", \"Topic2\", \"Topic2\", \"Topic2\", \"Topic2\", \"Topic2\", \"Topic2\", \"Topic2\", \"Topic2\", \"Topic2\", \"Topic2\", \"Topic2\", \"Topic2\", \"Topic2\", \"Topic2\", \"Topic2\", \"Topic2\", \"Topic2\", \"Topic2\", \"Topic2\", \"Topic2\", \"Topic2\", \"Topic2\", \"Topic2\", \"Topic2\", \"Topic2\", \"Topic2\", \"Topic2\", \"Topic2\", \"Topic2\", \"Topic2\", \"Topic2\", \"Topic2\", \"Topic2\", \"Topic2\", \"Topic2\", \"Topic2\", \"Topic2\", \"Topic2\", \"Topic2\", \"Topic2\", \"Topic2\", \"Topic2\", \"Topic2\", \"Topic2\", \"Topic2\", \"Topic2\", \"Topic2\", \"Topic2\", \"Topic2\", \"Topic2\", \"Topic2\", \"Topic2\", \"Topic2\", \"Topic2\", \"Topic2\", \"Topic2\", \"Topic2\", \"Topic2\", \"Topic2\", \"Topic2\", \"Topic2\", \"Topic2\", \"Topic2\", \"Topic2\", \"Topic2\", \"Topic3\", \"Topic3\", \"Topic3\", \"Topic3\", \"Topic3\", \"Topic3\", \"Topic3\", \"Topic3\", \"Topic3\", \"Topic3\", \"Topic3\", \"Topic3\", \"Topic3\", \"Topic3\", \"Topic3\", \"Topic3\", \"Topic3\", \"Topic3\", \"Topic3\", \"Topic3\", \"Topic3\", \"Topic3\", \"Topic3\", \"Topic3\", \"Topic3\", \"Topic3\", \"Topic3\", \"Topic3\", \"Topic3\", \"Topic3\", \"Topic3\", \"Topic3\", \"Topic3\", \"Topic3\", \"Topic3\", \"Topic3\", \"Topic3\", \"Topic3\", \"Topic3\", \"Topic3\", \"Topic3\", \"Topic3\", \"Topic3\", \"Topic3\", \"Topic3\", \"Topic3\", \"Topic3\", \"Topic3\", \"Topic3\", \"Topic3\", \"Topic3\", \"Topic3\", \"Topic3\", \"Topic3\", \"Topic3\", \"Topic3\", \"Topic3\", \"Topic3\", \"Topic3\", \"Topic3\", \"Topic3\", \"Topic3\", \"Topic3\", \"Topic3\", \"Topic3\", \"Topic3\", \"Topic3\", \"Topic3\", \"Topic3\", \"Topic3\", \"Topic3\", \"Topic3\", \"Topic3\", \"Topic4\", \"Topic4\", \"Topic4\", \"Topic4\", \"Topic4\", \"Topic4\", \"Topic4\", \"Topic4\", \"Topic4\", \"Topic4\", \"Topic4\", \"Topic4\", \"Topic4\", \"Topic4\", \"Topic4\", \"Topic4\", \"Topic4\", \"Topic4\", \"Topic4\", \"Topic4\", \"Topic4\", \"Topic4\", \"Topic4\", \"Topic4\", \"Topic4\", \"Topic4\", \"Topic4\", \"Topic4\", \"Topic4\", \"Topic4\", \"Topic4\", \"Topic4\", \"Topic4\", \"Topic4\", \"Topic4\", \"Topic4\", \"Topic4\", \"Topic4\", \"Topic4\", \"Topic4\", \"Topic4\", \"Topic4\", \"Topic4\", \"Topic4\", \"Topic4\", \"Topic4\", \"Topic4\", \"Topic4\", \"Topic4\", \"Topic4\", \"Topic4\", \"Topic4\", \"Topic4\", \"Topic4\", \"Topic4\", \"Topic4\", \"Topic4\", \"Topic4\", \"Topic4\", \"Topic4\", \"Topic4\", \"Topic4\", \"Topic4\", \"Topic4\", \"Topic4\", \"Topic4\", \"Topic4\", \"Topic4\", \"Topic4\", \"Topic4\", \"Topic4\", \"Topic4\", \"Topic4\", \"Topic4\", \"Topic4\", \"Topic4\", \"Topic4\", \"Topic4\", \"Topic4\", \"Topic5\", \"Topic5\", \"Topic5\", \"Topic5\", \"Topic5\", \"Topic5\", \"Topic5\", \"Topic5\", \"Topic5\", \"Topic5\", \"Topic5\", \"Topic5\", \"Topic5\", \"Topic5\", \"Topic5\", \"Topic5\", \"Topic5\", \"Topic5\", \"Topic5\", \"Topic5\", \"Topic5\", \"Topic5\", \"Topic5\", \"Topic5\", \"Topic5\", \"Topic5\", \"Topic5\", \"Topic5\", \"Topic5\", \"Topic5\", \"Topic5\", \"Topic5\", \"Topic5\", \"Topic5\", \"Topic5\", \"Topic5\", \"Topic5\", \"Topic5\", \"Topic5\", \"Topic5\", \"Topic5\", \"Topic5\", \"Topic5\", \"Topic5\", \"Topic5\", \"Topic5\", \"Topic5\", \"Topic5\", \"Topic5\", \"Topic5\", \"Topic5\", \"Topic5\", \"Topic5\", \"Topic5\", \"Topic5\", \"Topic5\", \"Topic5\", \"Topic5\", \"Topic5\", \"Topic5\", \"Topic5\", \"Topic5\", \"Topic5\", \"Topic5\", \"Topic5\", \"Topic5\", \"Topic5\", \"Topic5\", \"Topic5\", \"Topic5\", \"Topic5\", \"Topic5\", \"Topic5\", \"Topic5\", \"Topic5\", \"Topic5\", \"Topic5\"], \"logprob\": [30.0, 29.0, 28.0, 27.0, 26.0, 25.0, 24.0, 23.0, 22.0, 21.0, 20.0, 19.0, 18.0, 17.0, 16.0, 15.0, 14.0, 13.0, 12.0, 11.0, 10.0, 9.0, 8.0, 7.0, 6.0, 5.0, 4.0, 3.0, 2.0, 1.0, -6.9361, -7.0614, -7.2633, -7.0482, -7.4171, -7.0588, -7.4388, -7.3316, -7.2812, -7.3888, -7.4023, -7.4599, -7.3491, -7.6037, -7.2566, -7.6582, -7.436, -7.7151, -7.7345, -7.7392, -7.6823, -7.7423, -7.8503, -7.8463, -7.8472, -7.8471, -7.8933, -7.8944, -7.8969, -7.8146, -6.8777, -7.2631, -7.2632, -5.5716, -6.6543, -5.1851, -7.7188, -6.4957, -6.4765, -5.4896, -6.3684, -4.518, -5.1973, -5.9589, -5.0462, -5.2296, -6.2261, -3.7469, -4.5038, -4.2498, -6.2395, -5.4383, -5.7944, -4.8683, -4.4001, -4.5075, -6.4979, -4.5021, -6.1916, -5.3149, -4.1491, -5.3191, -3.669, -4.7962, -5.6223, -5.2002, -4.5087, -5.2022, -3.5659, -4.8032, -5.3675, -5.4082, -4.2904, -4.9221, -5.3845, -5.1703, -5.1781, -5.3886, -5.7247, -6.8401, -6.7961, -6.8248, -7.1268, -7.1487, -7.1612, -6.9722, -7.0038, -7.2932, -7.3333, -7.3334, -7.3348, -7.2835, -6.5336, -6.9818, -7.0544, -6.9792, -7.4744, -7.3847, -7.1949, -7.5117, -6.5336, -7.6202, -7.5681, -7.4388, -7.6241, -7.6797, -7.681, -7.6263, -6.9917, -7.431, -6.7535, -5.0067, -7.1684, -5.7121, -5.6954, -6.8065, -5.2951, -6.5521, -6.7015, -6.1043, -6.4542, -6.0874, -6.4995, -6.5228, -6.0695, -2.7794, -6.2501, -5.9103, -6.152, -4.8581, -5.058, -6.0497, -5.0595, -5.9107, -5.825, -5.3372, -6.1221, -4.4832, -4.7687, -5.3443, -4.1139, -4.8986, -4.1296, -4.9356, -5.7338, -4.935, -4.95, -5.596, -5.1514, -5.049, -5.5882, -5.3872, -5.4248, -4.9135, -5.1002, -5.085, -5.4954, -5.2897, -5.3337, -5.146, -5.3716, -5.3803, -5.5485, -6.2125, -6.126, -6.2819, -6.897, -7.0092, -6.9853, -7.1652, -7.1008, -7.3242, -5.6472, -7.0852, -4.7135, -6.9809, -7.2665, -7.4603, -7.3151, -6.6122, -7.4211, -5.679, -7.7116, -7.6293, -7.7659, -7.7442, -7.7893, -7.7893, -7.8469, -7.7984, -7.7773, -7.8745, -7.6614, -6.1681, -4.5232, -5.6605, -4.3, -4.5748, -6.1609, -4.095, -4.2706, -7.1794, -4.515, -6.1973, -6.4373, -4.9413, -5.9662, -5.5778, -5.5524, -3.9295, -5.1367, -4.2618, -6.4553, -4.3738, -4.9081, -2.9281, -3.5952, -5.4945, -5.386, -4.4965, -3.5558, -5.0234, -5.5402, -5.4454, -5.0533, -5.2834, -4.9915, -5.1781, -4.8544, -5.1418, -4.7217, -4.6939, -5.2939, -4.9903, -5.4101, -5.3866, -4.9983, -4.9552, -5.9772, -6.3257, -6.8024, -6.9445, -6.9389, -7.0612, -7.1084, -7.155, -7.0054, -7.3011, -7.2195, -6.7939, -7.2516, -7.3044, -7.3432, -7.3606, -7.3624, -7.3656, -7.3707, -7.4092, -6.3969, -7.3156, -7.4785, -7.5448, -7.5253, -7.5479, -7.5494, -7.1668, -7.2759, -6.6089, -7.0847, -5.9729, -5.9283, -6.52, -6.3133, -6.4531, -6.1128, -5.3889, -5.6537, -6.0425, -3.9605, -6.689, -6.3413, -6.6026, -6.3666, -4.8443, -6.5289, -5.8654, -6.0291, -6.199, -3.6678, -3.2929, -5.5236, -3.9397, -5.8045, -5.6439, -4.7736, -4.7259, -5.2144, -5.2891, -5.2311, -4.8652, -5.08, -5.0348, -5.2549, -4.8415, -5.1095, -5.1935, -5.1296, -5.4305, -5.3728, -5.2349, -5.3555, -5.4563, -5.4813, -5.4605, -5.4277, -5.5636, -5.5637, -6.1892, -6.134, -6.3965, -6.1727, -6.5546, -6.4867, -6.1527, -6.6687, -6.5663, -6.5021, -6.881, -6.8493, -6.8817, -6.9358, -7.0522, -7.0361, -7.1628, -7.0623, -7.1258, -7.2346, -6.8219, -7.0225, -6.9333, -6.4138, -7.0793, -7.3112, -7.3123, -7.3131, -5.1028, -5.7923, -5.6615, -6.571, -6.8162, -6.8784, -6.9435, -5.1454, -6.4569, -6.2743, -5.6442, -5.796, -6.0454, -5.9266, -6.3263, -4.9667, -6.0454, -4.279, -3.9818, -5.0658, -5.2248, -4.4225, -5.1285, -4.7348, -5.4225, -5.2198, -5.9695, -5.3217, -5.9548, -5.0347, -5.8187, -5.4087, -4.802, -4.3945, -4.9016, -5.2117, -4.9425, -5.6792, -5.687, -5.5179, -5.3863, -5.5368, -5.5313, -5.5619, -5.5713, -5.5491, -5.6234], \"loglift\": [30.0, 29.0, 28.0, 27.0, 26.0, 25.0, 24.0, 23.0, 22.0, 21.0, 20.0, 19.0, 18.0, 17.0, 16.0, 15.0, 14.0, 13.0, 12.0, 11.0, 10.0, 9.0, 8.0, 7.0, 6.0, 5.0, 4.0, 3.0, 2.0, 1.0, 1.1797, 1.1711, 1.169, 1.1655, 1.162, 1.1583, 1.1577, 1.1548, 1.1536, 1.1534, 1.1532, 1.1514, 1.1513, 1.1491, 1.1466, 1.1465, 1.1459, 1.1442, 1.1429, 1.14, 1.14, 1.1398, 1.1343, 1.1341, 1.1336, 1.1335, 1.1317, 1.1308, 1.1286, 1.1281, 1.1248, 1.127, 1.1269, 1.104, 1.1091, 1.0139, 1.1276, 1.0599, 1.0513, 0.9823, 1.0387, 0.8968, 0.9491, 1.0041, 0.9075, 0.9075, 1.0119, 0.6883, 0.7498, 0.6833, 0.9801, 0.8537, 0.9111, 0.7255, 0.6113, 0.623, 0.9814, 0.5246, 0.9141, 0.7048, 0.3518, 0.6708, 0.1544, 0.4601, 0.7238, 0.4951, 0.1919, 0.4734, -0.3706, 0.2184, 0.5098, 0.4918, -0.2343, 0.1218, 0.4295, 0.1169, -0.3324, -0.2742, 1.4066, 1.4053, 1.3976, 1.3973, 1.3939, 1.3937, 1.3926, 1.392, 1.3902, 1.3854, 1.3852, 1.385, 1.3838, 1.3834, 1.3827, 1.3802, 1.3787, 1.377, 1.3762, 1.3758, 1.3742, 1.3719, 1.3681, 1.3652, 1.3649, 1.3634, 1.3625, 1.361, 1.3599, 1.3597, 1.3577, 1.3597, 1.3487, 1.3117, 1.3518, 1.3044, 1.289, 1.3328, 1.2507, 1.3065, 1.3011, 1.2209, 1.2637, 1.1948, 1.2484, 1.2475, 1.1365, 0.4159, 1.1732, 1.0478, 1.1118, 0.7099, 0.7555, 1.0685, 0.6654, 0.9737, 0.9399, 0.7262, 1.0481, 0.2174, 0.3456, 0.6204, -0.0578, 0.2426, -0.3062, 0.2101, 0.732, 0.1089, 0.0716, 0.6128, 0.1872, -0.0222, 0.535, 0.2833, 0.2983, -0.4125, -0.1672, -0.2393, 0.3527, -0.1637, -0.0801, -0.7108, -0.0844, -0.369, 0.1525, 1.5446, 1.543, 1.539, 1.5184, 1.5168, 1.508, 1.5016, 1.4997, 1.4996, 1.4938, 1.4923, 1.4884, 1.4856, 1.4837, 1.481, 1.4801, 1.478, 1.4705, 1.4692, 1.469, 1.4662, 1.4625, 1.4625, 1.4611, 1.4608, 1.4543, 1.4532, 1.4532, 1.452, 1.4507, 1.4443, 1.4051, 1.4123, 1.3724, 1.376, 1.4104, 1.3115, 1.2921, 1.4353, 1.2684, 1.3513, 1.3668, 1.2077, 1.3175, 1.2626, 1.239, 0.9163, 1.0987, 0.8794, 1.3446, 0.7523, 0.8908, 0.2671, 0.4608, 1.0366, 0.9884, 0.6492, 0.2677, 0.8247, 1.0395, 0.9617, 0.6477, 0.78, 0.496, 0.6411, 0.26, 0.5832, -0.0211, -0.2587, 0.5003, -0.4893, 0.7384, 0.1814, 1.905, 1.9045, 1.8807, 1.8579, 1.8546, 1.8433, 1.8365, 1.8342, 1.8314, 1.8299, 1.8188, 1.8169, 1.8158, 1.8148, 1.8139, 1.8122, 1.8119, 1.8118, 1.8103, 1.8061, 1.802, 1.8016, 1.7991, 1.7985, 1.7928, 1.7906, 1.7897, 1.7871, 1.7863, 1.7856, 1.7854, 1.7669, 1.7755, 1.6968, 1.6872, 1.731, 1.6613, 1.6691, 1.6033, 1.4686, 1.4958, 1.5678, 1.0715, 1.6661, 1.5657, 1.6323, 1.561, 1.0402, 1.5857, 1.342, 1.3651, 1.4328, 0.1556, -0.0977, 1.0347, 0.1163, 1.1757, 1.0697, 0.5136, 0.318, 0.5603, 0.5523, 0.4699, -0.1646, 0.0658, -0.0132, 0.2326, -0.3406, 0.021, 0.0629, -0.1182, 0.3637, 0.221, -0.1088, -0.2412, -0.0415, -0.1427, -0.6147, -0.9924, 2.1545, 2.1544, 2.1336, 2.1247, 2.1206, 2.1177, 2.1165, 2.1143, 2.1105, 2.1021, 2.1018, 2.101, 2.0937, 2.0935, 2.0932, 2.0885, 2.0785, 2.0774, 2.0674, 2.0672, 2.0634, 2.0599, 2.0575, 2.0556, 2.0551, 2.0545, 2.0521, 2.0516, 2.0505, 2.0498, 2.0456, 2.047, 2.0388, 2.0438, 2.0475, 2.0439, 2.0432, 1.7597, 1.965, 1.9285, 1.796, 1.7458, 1.7619, 1.7062, 1.848, 1.2743, 1.7002, 0.7529, 0.5191, 1.0846, 1.1531, 0.5991, 1.064, 0.6038, 1.0085, 0.77, 1.5068, 0.7377, 1.4466, 0.0959, 1.2484, 0.612, -0.3668, -1.1992, -0.8456, -0.185, -1.1191, 0.8151, 0.7645, 0.216, -0.3424, 0.1585, 0.0626, -0.2747, -0.3149, -0.616, 0.1514]}, \"token.table\": {\"Topic\": [1, 2, 4, 5, 1, 2, 3, 4, 5, 3, 5, 1, 2, 3, 4, 5, 1, 2, 3, 4, 5, 4, 1, 3, 1, 2, 3, 4, 5, 1, 1, 2, 3, 4, 5, 1, 2, 3, 4, 5, 1, 2, 3, 4, 5, 1, 2, 3, 4, 5, 3, 4, 2, 3, 1, 2, 3, 4, 5, 2, 4, 2, 3, 5, 2, 5, 1, 1, 4, 5, 1, 2, 3, 4, 5, 3, 1, 2, 2, 3, 1, 1, 2, 3, 4, 5, 1, 2, 3, 4, 5, 3, 4, 4, 1, 2, 3, 4, 1, 2, 3, 4, 5, 2, 3, 1, 5, 1, 2, 3, 4, 4, 5, 3, 2, 5, 4, 4, 1, 2, 3, 4, 5, 1, 3, 1, 2, 3, 4, 5, 5, 4, 2, 3, 5, 2, 1, 5, 5, 1, 2, 3, 4, 5, 1, 2, 3, 4, 1, 2, 1, 2, 3, 4, 5, 3, 1, 2, 4, 5, 1, 2, 3, 4, 5, 1, 2, 3, 4, 5, 1, 2, 3, 4, 5, 1, 2, 4, 5, 1, 2, 3, 4, 5, 3, 2, 3, 4, 2, 3, 4, 5, 3, 2, 4, 1, 2, 3, 5, 1, 4, 2, 3, 4, 5, 1, 2, 3, 4, 5, 1, 3, 1, 2, 3, 4, 5, 3, 1, 2, 3, 4, 1, 2, 3, 4, 5, 1, 2, 3, 4, 1, 2, 3, 4, 2, 4, 4, 4, 1, 2, 3, 4, 5, 1, 2, 3, 4, 5, 1, 2, 3, 4, 3, 1, 2, 3, 4, 5, 5, 1, 2, 3, 4, 5, 5, 1, 2, 3, 4, 3, 1, 2, 4, 5, 4, 1, 2, 3, 4, 5, 4, 5, 2, 4, 1, 2, 3, 5, 3, 5, 2, 1, 2, 3, 4, 5, 1, 2, 4, 5, 5, 1, 2, 3, 5, 1, 2, 3, 4, 5, 1, 4, 1, 1, 2, 3, 4, 5, 1, 2, 3, 4, 5, 1, 2, 3, 4, 5, 4, 2, 4, 5, 4, 4, 5, 1, 2, 3, 4, 1, 2, 3, 4, 5, 2, 3, 2, 5, 4, 1, 1, 2, 3, 4, 5, 4, 1, 2, 3, 4, 5, 1, 2, 3, 4, 5, 3, 3, 4, 1, 2, 3, 4, 1, 2, 4, 5, 1, 2, 3, 4, 5, 1, 1, 4, 2, 1, 1, 1, 2, 4, 5, 3, 1, 1, 2, 5, 2, 1, 2, 3, 4, 1, 2, 4, 1, 1, 2, 3, 4, 1, 2, 4, 5, 2, 4, 1, 3, 2, 3, 4, 1, 2, 3, 4, 1, 2, 3, 4, 5, 4, 1, 5, 1, 2, 1, 2, 3, 4, 5, 1, 2, 3, 4, 5, 1, 2, 3, 4, 5, 2, 3, 1, 2, 3, 4, 5, 1, 2, 3, 4, 5, 3, 1, 2, 3, 4, 5, 1, 2, 3, 4, 5, 3, 5, 1, 2, 3, 4, 5, 1, 2, 3, 4, 5, 1, 2, 3, 4, 5, 1, 5, 1, 2, 3, 4, 5, 1, 2, 3, 4, 5, 2, 5, 1, 2, 3, 4, 5, 4, 3, 4, 4, 5, 2, 3, 4, 5, 1, 2, 3, 4, 5, 1, 2, 4, 5, 1, 2, 3, 4, 1, 2, 3, 4, 5, 2, 3, 5, 3, 2, 1, 2, 3, 4, 5, 1, 2, 3, 4, 5, 1, 2, 3, 4, 5, 3, 2, 2, 4, 1, 5, 2, 3, 1, 4, 1, 2, 3, 4, 5, 1, 1, 2, 3, 4, 5, 3, 4, 2, 5, 1, 1, 1, 2, 4, 5, 2, 1, 2, 4, 4, 5, 1, 4, 1, 1, 2, 3, 4, 5, 1, 2, 3, 4, 5, 3, 2, 4, 1, 2, 3, 4, 5, 1, 2, 3, 4, 5, 2, 3, 5, 1, 2, 3, 4, 5, 4, 1, 2, 4, 1, 5, 1, 2, 3, 4, 5, 2, 5, 5, 5, 3, 1, 1, 2, 3, 4, 5, 1, 2, 3, 4, 5, 2, 4, 5, 1, 3, 4, 2, 1, 2, 4, 5, 2, 5, 1, 2, 3, 4, 5, 1, 2, 4, 5, 3, 3, 5, 1, 2, 4, 5, 1, 2, 3, 4, 5, 1, 2, 3, 4, 5, 1, 2, 3, 4, 5, 1, 1, 2, 3, 4, 5, 1, 2, 3, 4, 5, 4, 2, 3, 5, 3, 1, 5, 1, 2, 3, 4, 5, 1, 2, 3, 4, 5, 2, 3, 4, 5, 1, 2, 3, 4, 1, 2, 3, 4, 5, 2, 5, 4, 5, 1, 3, 4, 2, 4, 5, 3, 4, 5, 5, 2, 4, 1, 2, 3, 4, 5, 1, 3, 1, 1, 2, 3, 4, 2, 4, 1, 2, 3, 4, 5, 1, 5, 1, 2, 3, 4, 5, 1, 2, 3, 4, 5, 1, 2, 3, 4, 5, 1, 2, 3, 1, 1, 2, 3, 4, 5, 1, 2, 4, 2, 4, 1, 2, 3, 4, 5, 1, 2, 3, 4, 5, 1, 1, 2, 3, 4, 2, 4, 5, 1, 1, 2, 3, 4, 5, 1, 5, 1, 2, 5, 5, 1, 2, 5, 2, 1, 3, 4, 1, 2, 3, 4, 5, 1, 2, 3, 4, 5], \"Freq\": [0.857226551563559, 0.051953124337185394, 0.0779296865057781, 0.025976562168592697, 0.3760772743946562, 0.3162467989227791, 0.19658584797902484, 0.03418884312678693, 0.0769248970352706, 0.054194113967017614, 0.9212999374392994, 0.32305065528342347, 0.20938468397999668, 0.08375387359199868, 0.14357806901485487, 0.2392967816914248, 0.34723554520688066, 0.05081495783515327, 0.5420262169083016, 0.016938319278384423, 0.04234579819596106, 0.8884392296273649, 0.887655751462976, 0.06575227788614638, 0.07651756837774787, 0.40171723398317627, 0.42084662607761325, 0.08289403240922685, 0.019129392094436967, 0.9689817461521045, 0.2604768315583443, 0.4850258242810549, 0.04490979854454212, 0.10778351650690109, 0.09880155679799266, 0.451604666593359, 0.2036648496401423, 0.026564980387844647, 0.07969494116353394, 0.23908482349060184, 0.7284543872710926, 0.059657902405822236, 0.06907757120674153, 0.1412950320137895, 0.0031398896003064333, 0.4251022340467048, 0.22179246993741117, 0.08317217622652918, 0.009241352914058799, 0.2587578815936464, 0.9872619617623117, 0.891175673281448, 0.9610976174015352, 0.017474502134573366, 0.4597532063175566, 0.13011883197666696, 0.017349177596888928, 0.07807129918600018, 0.31228519674400074, 0.9400323919543166, 0.964161890216346, 0.06898269969060952, 0.9243681758541675, 0.0068982699690609516, 0.24792031190150124, 0.6941768733242034, 0.8885249526010255, 0.4147819907178821, 0.5656118055243846, 0.01885372685081282, 0.22552786830324179, 0.3324792285295214, 0.26970343013583553, 0.11625147850682566, 0.05812573925341283, 0.8905103648927095, 0.9186768764011695, 0.041758039836416794, 0.9571838098161577, 0.059823988113509856, 0.921120993215642, 0.42177278161662773, 0.1548598571308812, 0.1271613460993415, 0.10449892798262717, 0.19011250753465905, 0.45466679900441354, 0.15539245029264767, 0.09208441498823565, 0.09208441498823565, 0.20718993372353023, 0.7315261128103276, 0.248196359703504, 0.8427572646821637, 0.02827006010625847, 0.05654012021251694, 0.8763718632940126, 0.02827006010625847, 0.7952821369310723, 0.018074594021160736, 0.027111891031741102, 0.12652215814812515, 0.03614918804232147, 0.07701995021158849, 0.8472194523274734, 0.9350241588343804, 0.062334943922292024, 0.013288747072995849, 0.33221867682489625, 0.013288747072995849, 0.6378598595038008, 0.07702270509442556, 0.8472497560386812, 0.9142913955551266, 0.10035728342622191, 0.9032155508359972, 0.9501768783683076, 0.9855866551472452, 0.03449414838946653, 0.6898829677893306, 0.017247074194733265, 0.2414590387262657, 0.03449414838946653, 0.9460227624282908, 0.8726193725966374, 0.6944731966686936, 0.06793759532628524, 0.07548621702920583, 0.07548621702920583, 0.07548621702920583, 0.9740759818495701, 0.9419993226754252, 0.911019807085148, 0.10475835275178613, 0.8380668220142891, 0.9398921399952476, 0.9229129023196737, 0.06152752682131158, 0.9712034240631309, 0.3931464453193267, 0.18577249613990163, 0.16849133370828287, 0.11232755580552191, 0.14256959006085473, 0.05641965404994898, 0.08462948107492348, 0.14104913512487247, 0.7052456756243622, 0.03830962306135528, 0.9194309534725267, 0.6121312417991374, 0.07886353421952076, 0.0037554063914057505, 0.18401491317888177, 0.12017300452498401, 0.8724218317556247, 0.11698620651948914, 0.7487117217247304, 0.023397241303897826, 0.0935889652155913, 0.48458840625026656, 0.2754502519738357, 0.04080744473686455, 0.0816148894737291, 0.11222047302637751, 0.10515818492965368, 0.21031636985930735, 0.0901355870825603, 0.4807231311069882, 0.12018078277674706, 0.2351810041042051, 0.312223057172824, 0.26761976329099196, 0.13786472654384435, 0.04865813878018036, 0.09412914808134684, 0.04706457404067342, 0.8000977586914481, 0.04706457404067342, 0.5474402333365097, 0.16150535619506226, 0.1048736079188716, 0.13004327381940078, 0.05453427611781323, 0.9112234528765213, 0.2195141813264534, 0.03135916876092191, 0.7212608815012039, 0.8276306935573555, 0.13242091096917688, 0.03310522774229422, 0.03310522774229422, 0.9181134744612005, 0.9421306745429112, 0.8922701044003367, 0.12949117777369096, 0.8093198610855684, 0.03237279444342274, 0.9021630555808484, 0.12130900928306687, 0.8491630649814681, 0.10203677891973906, 0.10203677891973906, 0.05101838945986953, 0.765275841898043, 0.13915338525046103, 0.29030275198803074, 0.3982665853720091, 0.1559477593324132, 0.016794374081952192, 0.06641354623579641, 0.9297896473011499, 0.4936279869716749, 0.1545703797588073, 0.1894733687366025, 0.10969510821592776, 0.05484755410796388, 0.9801550026995381, 0.0847939704263282, 0.6056712173309158, 0.2422684869323663, 0.07268054607970989, 0.2050445272621232, 0.3558426654482438, 0.27157311763835285, 0.13339835301079894, 0.03411722583396393, 0.024024794231651492, 0.4865020831909427, 0.45647109040137834, 0.03603719134747724, 0.031156359474332637, 0.8723780652813138, 0.07789089868583159, 0.015578179737166319, 0.8678077477065944, 0.1084759684633243, 0.9503790833709052, 0.8636937038831076, 0.35426774565933666, 0.4306784358995857, 0.09724996939668065, 0.06251783746929471, 0.048624984698340326, 0.7373971456175205, 0.10226675742140794, 0.06458953100299449, 0.02152984366766483, 0.0753544528368269, 0.061051969546603455, 0.08140262606213794, 0.7733249475903105, 0.061051969546603455, 0.8866073357028335, 0.24485382880096204, 0.4352956956461548, 0.1088239239115387, 0.1251475124982695, 0.08705913912923095, 0.8138193405651228, 0.6135744887969852, 0.09562199825407561, 0.1274959976721008, 0.0398424992725315, 0.1195274978175945, 0.8953651605427375, 0.045392650480980797, 0.18157060192392319, 0.739900202839987, 0.03631412038478464, 0.9609994512106697, 0.05574404262231318, 0.013936010655578295, 0.2787202131115659, 0.6549925008121799, 0.9410576943389924, 0.2565160223756534, 0.21601349252686605, 0.13950871392360098, 0.2565160223756534, 0.13050815173498156, 0.3093631161987129, 0.6901177207509749, 0.8926564898373188, 0.9255231371765081, 0.007750364050026661, 0.868040773602986, 0.10850509670037325, 0.007750364050026661, 0.9736587125600242, 0.9778994989394794, 0.9361915217917297, 0.09974715987813439, 0.7181795511225676, 0.11969659185376126, 0.039898863951253756, 0.978068076580334, 0.052683360821504585, 0.26341680410752294, 0.026341680410752293, 0.6585420102688073, 0.9003471952668094, 0.06870031079097991, 0.17175077697744978, 0.10305046618646987, 0.6526529525143092, 0.5876814237381444, 0.19783335056531592, 0.07758170610404545, 0.07564216345144432, 0.062065364883236364, 0.16061572352769726, 0.8566171921477187, 0.931376242653916, 0.23480103898723192, 0.22189101622504734, 0.32920558043570664, 0.16540966664048984, 0.04841258535819215, 0.580349119842189, 0.10602531997116912, 0.03348167999089551, 0.03348167999089551, 0.24553231993323377, 0.174081898381702, 0.22583597627896476, 0.3952129584881883, 0.16937698220922356, 0.03763932937982746, 0.8906110604342766, 0.9060599398934666, 0.03775249749556111, 0.03775249749556111, 0.9497589448017049, 0.9595214105132257, 0.8831880981222422, 0.06820508706938042, 0.06820508706938042, 0.7843585012978748, 0.06820508706938042, 0.1373384014060303, 0.18965779241785136, 0.4381748997240014, 0.22889733567671716, 0.013079847752955266, 0.9750590649904513, 0.9494567459790213, 0.9566923245505233, 0.9136242358898429, 0.9308538395488156, 0.9618433819595114, 0.26321655120187165, 0.19741241340140372, 0.041127586125292444, 0.13160827560093583, 0.3619227579025735, 0.9416999305856644, 0.35972617810266533, 0.29208535828848897, 0.20292245944252918, 0.12452060011246108, 0.0199847876723703, 0.36872361140931126, 0.252173044584529, 0.027548315794948545, 0.1462179838347269, 0.20555281785461607, 0.8820113037349887, 0.8737182494850443, 0.9157488570233309, 0.12566375617898928, 0.8168144151634303, 0.03141593904474732, 0.9876929217428616, 0.1614956003322649, 0.09689736019935895, 0.12919648026581193, 0.6136832812626066, 0.6036608412572634, 0.04599320695293435, 0.0977355647749855, 0.10348471564410229, 0.14947792259703666, 0.9484945196745819, 0.8883716966194496, 0.9383593910203588, 0.9114732258368914, 0.9075251882441656, 0.9622849827722618, 0.05649071375045984, 0.7343792787559779, 0.16947214125137952, 0.03766047583363989, 0.9417355584901039, 0.9030190900413909, 0.06653304231058264, 0.06653304231058264, 0.8649295500375744, 0.9529801168861974, 0.05234098743348156, 0.22244919659229664, 0.6935180834936306, 0.03271311714592598, 0.9626515654192167, 0.07656451794348638, 0.9187742153218366, 0.8853040280660261, 0.017645539121865374, 0.017645539121865374, 0.9175680343369994, 0.017645539121865374, 0.7919584030637248, 0.0247487000957414, 0.0247487000957414, 0.1484922005744484, 0.893248519145753, 0.9419279702130158, 0.07108377631787056, 0.9063181480528498, 0.11536135672355624, 0.8569700785178463, 0.016480193817650892, 0.8185432546480318, 0.013757029489882886, 0.013757029489882886, 0.15132732438871177, 0.005366372351935407, 0.16099117055806222, 0.8210549698461174, 0.005366372351935407, 0.005366372351935407, 0.8918752279313787, 0.966300484755452, 0.8878489350440792, 0.9479139937388829, 0.9634456733385323, 0.26219794734456325, 0.13109897367228163, 0.13109897367228163, 0.08193685854517602, 0.3932969210168449, 0.273489478681152, 0.28221786629863554, 0.10765011394896407, 0.1280163517230924, 0.20657184028044456, 0.08628845543657276, 0.2780405786289567, 0.5848439757367709, 0.038350424638476786, 0.009587606159619197, 0.9434195676559801, 0.9493087367823118, 0.029057863609414734, 0.33416543150826944, 0.47461177228710727, 0.15497527258354524, 0.004842977268235789, 0.006227672701519569, 0.18683018104558707, 0.7722314149884266, 0.021796854455318492, 0.012455345403039138, 0.9550561064038608, 0.47163532280001896, 0.1366670537659146, 0.1527455306795516, 0.15542527683182444, 0.08307213072045788, 0.2405348858125461, 0.22610279266379332, 0.18280651321753502, 0.2549669789612989, 0.09621395432501843, 0.0988069639168321, 0.8892626752514889, 0.48633171167767003, 0.09144698852058752, 0.2078340648195171, 0.08313362592780683, 0.13301380148449093, 0.178787746062055, 0.19995997914835098, 0.442264424469294, 0.13173833920361946, 0.047049406858435526, 0.3344053746473681, 0.215567101012353, 0.1188382736350151, 0.24596758961665918, 0.08567410424849926, 0.9229178430992256, 0.061527856206615036, 0.11990694840101386, 0.12633053492249674, 0.08350662477927752, 0.4303802969393533, 0.23981389680202772, 0.34656911396416845, 0.17264513057255623, 0.2717562240493941, 0.17200570416302827, 0.03708673175262319, 0.9399204974774762, 0.9120556642403108, 0.5026840749862779, 0.23004186482422886, 0.09159074247631335, 0.08307067340874932, 0.09372075974320436, 0.9509306615613572, 0.0984559266843983, 0.8861033401595847, 0.10664758480374452, 0.8709552758972469, 0.8173595546343791, 0.1459570633275677, 0.009730470888504513, 0.019460941777009026, 0.4768155194794944, 0.18746593073552772, 0.2485961255405911, 0.05297950216438827, 0.028527424242362914, 0.7419746056928818, 0.022829987867473284, 0.07990495753615649, 0.14839492113857636, 0.05426298295267565, 0.08139447442901347, 0.8410762357664726, 0.027131491476337824, 0.21328420095654113, 0.184846307495669, 0.5189915556609168, 0.07998157535870293, 0.003554736682609019, 0.0684899221940403, 0.8218790663284836, 0.10273488329106045, 0.8554607693776605, 0.9070878712380733, 0.09082928477759092, 0.6721367073541729, 0.14532685564414546, 0.036331713911036366, 0.07266342782207273, 0.3358675336771021, 0.2621933649995442, 0.11917880227252009, 0.20152052020626124, 0.08017483061969534, 0.7370710043283482, 0.0905174917596217, 0.06465535125687265, 0.03879321075412359, 0.07112088638255991, 0.9751020157612588, 0.9592432578425825, 0.9436571118668162, 0.917893049585889, 0.8547075118971806, 0.13354804873393447, 0.92651355725094, 0.8536752908242309, 0.23355918757052066, 0.700677562711562, 0.2227638544923914, 0.14414131761272383, 0.229315732565697, 0.07207065880636192, 0.33414578173858706, 0.9315944182029247, 0.08597320744816682, 0.2985180814172459, 0.5015103767809731, 0.059703616283449175, 0.05492732698077324, 0.271195693134622, 0.6973603537747423, 0.8911040237084511, 0.9740518520997873, 0.8739098657302012, 0.9284928107765961, 0.27470075263639554, 0.04578345877273259, 0.18313383509093037, 0.4807263171136922, 0.951606294619571, 0.020319779367911215, 0.7721516159806262, 0.20319779367911217, 0.10640412364753453, 0.886701030396121, 0.7825247322994411, 0.19085969080474172, 0.905725397308158, 0.11755487503673354, 0.6759405314612178, 0.11755487503673354, 0.08816615627755015, 0.9038822041198376, 0.0036402956567900685, 0.17837448718271334, 0.7571814966123342, 0.05096413919506096, 0.007280591313580137, 0.9465536651491472, 0.9031497864561941, 0.9756157877578727, 0.7494537552374725, 0.06813215956704295, 0.15329735902584662, 0.017033039891760738, 0.034066079783521476, 0.005247562297331775, 0.1311890574332944, 0.8448575298704158, 0.015742686891995327, 0.005247562297331775, 0.045587745292790784, 0.9117549058558158, 0.9778778738002946, 0.030132456937023912, 0.3214128739949217, 0.1556843608412902, 0.4168323209621641, 0.08035321849873042, 0.904507916593498, 0.17823636906099552, 0.05941212302033184, 0.7723575992643139, 0.19056042242881194, 0.8257618305248516, 0.6280503148868063, 0.2164769170460907, 0.021380436251465747, 0.06146875422296402, 0.07215897234869689, 0.8937160285726239, 0.8833537118044332, 0.9624072780777347, 0.8137528846735895, 0.8720043339062699, 0.9726683168521941, 0.27349923724717684, 0.19921549379732634, 0.34102991311067726, 0.18570935862462623, 0.0033765337931750228, 0.5906407658181181, 0.11553452105823468, 0.1603336210604073, 0.05423048947631424, 0.07898788684593595, 0.9184146638934747, 0.94972732337072, 0.9577362037796714, 0.18977936712669985, 0.1138676202760199, 0.7211615950814594, 0.9737616905835876, 0.14412283772574222, 0.17294740527089067, 0.6053159184481174, 0.08647370263544533, 0.9583232653487552, 0.8937140666401865, 0.17308984896393967, 0.5005571307876093, 0.14034312078157268, 0.09824018454710089, 0.08888397649499603, 0.8287552704798358, 0.023020979735550996, 0.04604195947110199, 0.09208391894220398, 0.8353322322733849, 0.11173757460637093, 0.8939005968509675, 0.27140864223176675, 0.17271459051112428, 0.04934702586032123, 0.5181437715333729, 0.4586837289394628, 0.16381561747837955, 0.2667854341790753, 0.10765026291436372, 0.004680446213667987, 0.03452186088971467, 0.27617488711771737, 0.011507286963238224, 0.4257696176398143, 0.25316031319124094, 0.035667243243928705, 0.30673829189778684, 0.6206100324443595, 0.007133448648785741, 0.028533794595142964, 0.9437042640675717, 0.10142909842509576, 0.290456054580956, 0.5071454921254788, 0.10142909842509576, 0.00461041356477708, 0.3625000220128011, 0.05047468660937737, 0.3441455905184821, 0.211075962184669, 0.03212025511505833, 0.8461911471066575, 0.8447885839840508, 0.10559857299800635, 0.030171020856573243, 0.9162680360732555, 0.929184893220255, 0.9281075411873085, 0.029972884157661993, 0.4581569435528333, 0.37252013167379905, 0.1327370584125031, 0.004281840593951714, 0.06834199535022933, 0.27336798140091734, 0.10934719256036693, 0.2255285846557568, 0.32804157768110076, 0.9605847119506415, 0.11975093389752213, 0.8083188038082744, 0.059875466948761065, 0.05304294180436422, 0.02652147090218211, 0.7956441270654633, 0.13260735451091055, 0.0737727322966328, 0.26230304816580546, 0.5573939773523366, 0.09836364306217706, 0.00819697025518142, 0.9096907919695606, 0.09575692547048006, 0.12346842794729927, 0.8642789956310949, 0.9312942726205086, 0.7214303641015195, 0.2736460001764384, 0.8861221447038063, 0.059074809646920426, 0.9032611811076233, 0.20302658744762558, 0.7715010323009772, 0.8137811347237677, 0.9466755792810749, 0.9227480546247019, 0.046137402731235094, 0.12284964420426218, 0.6278981814884511, 0.15014956513854266, 0.09554972326998169, 0.013649960467140242, 0.9821230458735191, 0.9225621012143321, 0.8920010601513532, 0.03940902939173655, 0.18719288961074862, 0.3448290071776948, 0.4137948086132338, 0.10134832490904756, 0.912134924181428, 0.017794552627479907, 0.30250739466715837, 0.017794552627479907, 0.6583984472167564, 0.017794552627479907, 0.9287327694335253, 0.8569832604593098, 0.11072317249939913, 0.20131485908981658, 0.5838130913604681, 0.09059168659041747, 0.01006574295449083, 0.022729440155740663, 0.272753281868888, 0.09091776062296265, 0.5682360038935166, 0.022729440155740663, 0.8121888962021014, 0.014767070840038208, 0.14767070840038207, 0.014767070840038208, 0.014767070840038208, 0.8974033299477078, 0.01107905345614454, 0.08863242764915633, 0.9651275480653011, 0.17933597973274454, 0.09325470946102715, 0.15064222297550542, 0.17216254054343474, 0.4017125946013478, 0.02835575449692964, 0.17013452698157785, 0.7939611259140299, 0.9290524030072782, 0.8387426717904525, 0.2159294186934093, 0.4757766852566645, 0.24886780459579375, 0.04025802721402546, 0.01829910327910248, 0.7700268159477226, 0.16314127456519545, 0.039153905895646914, 0.013051301965215636, 0.013051301965215636, 0.8882271133949317, 0.05268375580438778, 0.15805126741316333, 0.05268375580438778, 0.7375725812614289, 0.8770366160602296, 0.041763648383820455, 0.08352729676764091, 0.9290117262510772, 0.08778883032339369, 0.2717273319533614, 0.39713994670106667, 0.23410354752904983, 0.008360840983180351, 0.9015008479002374, 0.8551917483080437, 0.20196097782774208, 0.17310940956663606, 0.6347345017443322, 0.911713000702009, 0.04242589910398366, 0.8060920829756896, 0.1484906468639428, 0.9314707664008224, 0.8165301990678205, 0.13608836651130343, 0.01944119521590049, 0.552957510457646, 0.12996864562038687, 0.040172126828119575, 0.15123624217645018, 0.1252425130523728, 0.04468863650071668, 0.10562768627442123, 0.8206458702858881, 0.020313016591234852, 0.008125206636493942], \"Term\": [\"\\uac00\\uaca9\", \"\\uac00\\uaca9\", \"\\uac00\\uaca9\", \"\\uac00\\uaca9\", \"\\uac00\\ub2e4\", \"\\uac00\\ub2e4\", \"\\uac00\\ub2e4\", \"\\uac00\\ub2e4\", \"\\uac00\\ub2e4\", \"\\uac00\\uc2a4\", \"\\uac00\\uc2a4\", \"\\uac00\\uc694\", \"\\uac00\\uc694\", \"\\uac00\\uc694\", \"\\uac00\\uc694\", \"\\uac00\\uc694\", \"\\uac04\", \"\\uac04\", \"\\uac04\", \"\\uac04\", \"\\uac04\", \"\\uac04\\uc5fc\", \"\\uac10\", \"\\uac10\", \"\\uac1c\", \"\\uac1c\", \"\\uac1c\", \"\\uac1c\", \"\\uac1c\", \"\\uac1c\\ubcc4\", \"\\uac71\\uc815\", \"\\uac71\\uc815\", \"\\uac71\\uc815\", \"\\uac71\\uc815\", \"\\uac71\\uc815\", \"\\uac74\\uac00\", \"\\uac74\\uac00\", \"\\uac74\\uac00\", \"\\uac74\\uac00\", \"\\uac74\\uac00\", \"\\uac74\\uac15\", \"\\uac74\\uac15\", \"\\uac74\\uac15\", \"\\uac74\\uac15\", \"\\uac74\\uac15\", \"\\uac74\\uc9c0\\ub2e4\", \"\\uac74\\uc9c0\\ub2e4\", \"\\uac74\\uc9c0\\ub2e4\", \"\\uac74\\uc9c0\\ub2e4\", \"\\uac74\\uc9c0\\ub2e4\", \"\\uac80\", \"\\uac89\", \"\\uacb9\", \"\\uacb9\", \"\\uacbd\\uc6b0\", \"\\uacbd\\uc6b0\", \"\\uacbd\\uc6b0\", \"\\uacbd\\uc6b0\", \"\\uacbd\\uc6b0\", \"\\uacc4\\ud68d\", \"\\uace0\\ud608\\uc555\\uc57d\", \"\\uacf5\\ubcf5\", \"\\uacf5\\ubcf5\", \"\\uacf5\\ubcf5\", \"\\uacfc\\ubbfc\\uc131\", \"\\uacfc\\ubbfc\\uc131\", \"\\uacfc\\uc815\", \"\\uad00\\uc808\", \"\\uad00\\uc808\", \"\\uad00\\uc808\", \"\\uad1c\\ucc2e\\ub2e4\", \"\\uad1c\\ucc2e\\ub2e4\", \"\\uad1c\\ucc2e\\ub2e4\", \"\\uad1c\\ucc2e\\ub2e4\", \"\\uad1c\\ucc2e\\ub2e4\", \"\\uad6c\\ub9ac\", \"\\uad6c\\uc131\", \"\\uad6c\\uc131\", \"\\uad6c\\ucda9\\uc81c\", \"\\uad6c\\ucda9\\uc81c\", \"\\uad6d\\ub0b4\", \"\\uad81\\uae08\\ud558\\ub2e4\", \"\\uad81\\uae08\\ud558\\ub2e4\", \"\\uad81\\uae08\\ud558\\ub2e4\", \"\\uad81\\uae08\\ud558\\ub2e4\", \"\\uad81\\uae08\\ud558\\ub2e4\", \"\\uadf8\\ub807\\ub2e4\", \"\\uadf8\\ub807\\ub2e4\", \"\\uadf8\\ub807\\ub2e4\", \"\\uadf8\\ub807\\ub2e4\", \"\\uadf8\\ub807\\ub2e4\", \"\\uae00\\ub8e8\", \"\\uae00\\ub8e8\", \"\\uae00\\ub8e8\\ucf64\", \"\\uae00\\ub8e8\\ud0c0\\ubbfc\", \"\\uae00\\ub8e8\\ud0c0\\ubbfc\", \"\\uae00\\ub8e8\\ud0c0\\ubbfc\", \"\\uae00\\ub8e8\\ud0c0\\ubbfc\", \"\\uae30\\ub2a5\", \"\\uae30\\ub2a5\", \"\\uae30\\ub2a5\", \"\\uae30\\ub2a5\", \"\\uae30\\ub2a5\", \"\\uae30\\uc0c1\", \"\\uae30\\uc0c1\", \"\\ub07c\\uce58\\ub2e4\", \"\\ub07c\\uce58\\ub2e4\", \"\\ub098\\uc6b0\", \"\\ub098\\uc6b0\", \"\\ub098\\uc6b0\", \"\\ub098\\uc6b0\", \"\\ub098\\ud2b8\\ub968\", \"\\ub098\\ud2b8\\ub968\", \"\\ub0a0\\uc528\", \"\\ub0b4\\uc2dc\\uacbd\", \"\\ub0b4\\uc2dc\\uacbd\", \"\\ub179\", \"\\ub17c\", \"\\ub180\", \"\\ub180\", \"\\ub180\", \"\\ub180\", \"\\ub180\", \"\\ub1cc\", \"\\ub1cc\\ub3d9\\ub9e5\\ub958\", \"\\ub208\", \"\\ub208\", \"\\ub208\", \"\\ub208\", \"\\ub208\", \"\\ub208\\ubb3c\", \"\\ub2e5\", \"\\ub2e5\\ud130\\uc2a4\", \"\\ub2ff\\ub2e4\", \"\\ub2ff\\ub2e4\", \"\\ub300\\ub9c8\", \"\\ub300\\ubc94\\ud558\\ub2e4\", \"\\ub300\\ubc94\\ud558\\ub2e4\", \"\\ub300\\uc7a5\", \"\\ub354\", \"\\ub354\", \"\\ub354\", \"\\ub354\", \"\\ub354\", \"\\ub370\\uc774\", \"\\ub370\\uc774\", \"\\ub370\\uc774\", \"\\ub370\\uc774\", \"\\ub3c4\\uc2a4\", \"\\ub3c4\\uc2a4\", \"\\ub3c4\\uc6c0\", \"\\ub3c4\\uc6c0\", \"\\ub3c4\\uc6c0\", \"\\ub3c4\\uc6c0\", \"\\ub3c4\\uc6c0\", \"\\ub3c4\\uc911\", \"\\ub3fc\\ub2e4\", \"\\ub3fc\\ub2e4\", \"\\ub3fc\\ub2e4\", \"\\ub3fc\\ub2e4\", \"\\ub418\\uc5b4\\ub2e4\", \"\\ub418\\uc5b4\\ub2e4\", \"\\ub418\\uc5b4\\ub2e4\", \"\\ub418\\uc5b4\\ub2e4\", \"\\ub418\\uc5b4\\ub2e4\", \"\\ub450\\ub2e4\", \"\\ub450\\ub2e4\", \"\\ub450\\ub2e4\", \"\\ub450\\ub2e4\", \"\\ub450\\ub2e4\", \"\\ub4dc\\ub9ac\\ub2e4\", \"\\ub4dc\\ub9ac\\ub2e4\", \"\\ub4dc\\ub9ac\\ub2e4\", \"\\ub4dc\\ub9ac\\ub2e4\", \"\\ub4dc\\ub9ac\\ub2e4\", \"\\ub4e3\\ub2e4\", \"\\ub4e3\\ub2e4\", \"\\ub4e3\\ub2e4\", \"\\ub4e3\\ub2e4\", \"\\ub4e4\\ub2e4\", \"\\ub4e4\\ub2e4\", \"\\ub4e4\\ub2e4\", \"\\ub4e4\\ub2e4\", \"\\ub4e4\\ub2e4\", \"\\ub51c\", \"\\ub77c\\uc774\\ud504\", \"\\ub77c\\uc774\\ud504\", \"\\ub77c\\uc774\\ud504\", \"\\ub77d\\ud1a0\\ud54f\", \"\\ub77d\\ud1a0\\ud54f\", \"\\ub77d\\ud1a0\\ud54f\", \"\\ub77d\\ud1a0\\ud54f\", \"\\ub808\\uc2a4\\ubca0\\ub77c\\ud2b8\\ub864\", \"\\ub809\\uc2a4\", \"\\ub860\", \"\\ub8f8\", \"\\ub8f8\", \"\\ub8f8\", \"\\ub9ac\\ub180\\ub808\\uc0b0\", \"\\ub9ac\\uc544\", \"\\ub9ac\\uc544\", \"\\ub9c8\", \"\\ub9c8\", \"\\ub9c8\", \"\\ub9c8\", \"\\ub9c8\\uadf8\\ub124\\uc298\", \"\\ub9c8\\uadf8\\ub124\\uc298\", \"\\ub9c8\\uadf8\\ub124\\uc298\", \"\\ub9c8\\uadf8\\ub124\\uc298\", \"\\ub9c8\\uadf8\\ub124\\uc298\", \"\\ub9c8\\ub514\", \"\\ub9c8\\ub514\", \"\\ub9ce\\ub2e4\", \"\\ub9ce\\ub2e4\", \"\\ub9ce\\ub2e4\", \"\\ub9ce\\ub2e4\", \"\\ub9ce\\ub2e4\", \"\\ub9e4\\uc2a4\\ud2f1\", \"\\ub9e5\\uc2a4\", \"\\ub9e5\\uc2a4\", \"\\ub9e5\\uc2a4\", \"\\ub9e5\\uc2a4\", \"\\uba39\\ub2e4\", \"\\uba39\\ub2e4\", \"\\uba39\\ub2e4\", \"\\uba39\\ub2e4\", \"\\uba39\\ub2e4\", \"\\uba40\\ud2f0\", \"\\uba40\\ud2f0\", \"\\uba40\\ud2f0\", \"\\uba40\\ud2f0\", \"\\uba54\", \"\\uba54\", \"\\uba54\", \"\\uba54\", \"\\uba5c\\ub77c\", \"\\uba5c\\ub77c\", \"\\uba85\", \"\\ubaa8\\ub0ad\", \"\\ubaa8\\ub974\\ub2e4\", \"\\ubaa8\\ub974\\ub2e4\", \"\\ubaa8\\ub974\\ub2e4\", \"\\ubaa8\\ub974\\ub2e4\", \"\\ubaa8\\ub974\\ub2e4\", \"\\ubab8\", \"\\ubab8\", \"\\ubab8\", \"\\ubab8\", \"\\ubab8\", \"\\ubb34\\ub9ac\", \"\\ubb34\\ub9ac\", \"\\ubb34\\ub9ac\", \"\\ubb34\\ub9ac\", \"\\ubb34\\ub9ac\\ub2e4\", \"\\ubb38\\uc81c\", \"\\ubb38\\uc81c\", \"\\ubb38\\uc81c\", \"\\ubb38\\uc81c\", \"\\ubb38\\uc81c\", \"\\ubb3b\\ub2e4\", \"\\ubb50\", \"\\ubb50\", \"\\ubb50\", \"\\ubb50\", \"\\ubb50\", \"\\ubc00\\uc815\", \"\\ubc00\\ud06c\", \"\\ubc00\\ud06c\", \"\\ubc00\\ud06c\", \"\\ubc00\\ud06c\", \"\\ubc14\\ub098\\ubc14\", \"\\ubc14\\ub974\\ub2e4\", \"\\ubc14\\ub974\\ub2e4\", \"\\ubc14\\ub974\\ub2e4\", \"\\ubc14\\ub974\\ub2e4\", \"\\ubc15\\uc0ac\", \"\\ubc1b\\ub2e4\", \"\\ubc1b\\ub2e4\", \"\\ubc1b\\ub2e4\", \"\\ubc1b\\ub2e4\", \"\\ubc1b\\ub2e4\", \"\\ubc1c\\ub77c\", \"\\ubc1c\\ub77c\", \"\\ubc29\\uad11\", \"\\ubc29\\uc815\", \"\\ubc88\", \"\\ubc88\", \"\\ubc88\", \"\\ubc88\", \"\\ubca0\\ub974\\ubca0\\ub9b0\", \"\\ubca0\\ub9ac\", \"\\ubca0\\uc2a4\\ud2b8\", \"\\ubca0\\ud0c0\", \"\\ubca0\\ud0c0\", \"\\ubca0\\ud0c0\", \"\\ubca0\\ud0c0\", \"\\ubca0\\ud0c0\\uce74\\ub85c\\ud2f4\", \"\\ubcc0\\ube44\", \"\\ubcc0\\ube44\", \"\\ubcc0\\ube44\", \"\\ubcc0\\ube44\", \"\\ubcc0\\uc9c8\", \"\\ubcf4\\uad00\", \"\\ubcf4\\uad00\", \"\\ubcf4\\uad00\", \"\\ubcf4\\uad00\", \"\\ubcf4\\ub2e4\", \"\\ubcf4\\ub2e4\", \"\\ubcf4\\ub2e4\", \"\\ubcf4\\ub2e4\", \"\\ubcf4\\ub2e4\", \"\\ubcf4\\uc2a4\", \"\\ubcf4\\uc2a4\", \"\\ubcf4\\uc2dc\", \"\\ubcf5\\uc6a9\", \"\\ubcf5\\uc6a9\", \"\\ubcf5\\uc6a9\", \"\\ubcf5\\uc6a9\", \"\\ubcf5\\uc6a9\", \"\\ubd80\\uc791\\uc6a9\", \"\\ubd80\\uc791\\uc6a9\", \"\\ubd80\\uc791\\uc6a9\", \"\\ubd80\\uc791\\uc6a9\", \"\\ubd80\\uc791\\uc6a9\", \"\\ubd80\\ud0c1\\ub4dc\\ub9ac\\ub2e4\", \"\\ubd80\\ud0c1\\ub4dc\\ub9ac\\ub2e4\", \"\\ubd80\\ud0c1\\ub4dc\\ub9ac\\ub2e4\", \"\\ubd80\\ud0c1\\ub4dc\\ub9ac\\ub2e4\", \"\\ubd80\\ud0c1\\ub4dc\\ub9ac\\ub2e4\", \"\\ube0c\\ub77c\\uc9c8\", \"\\ube0c\\ub85c\", \"\\ube0c\\ub85c\", \"\\ube0c\\ub85c\", \"\\ube14\\ub8e8\", \"\\ube44\\ub9cc\", \"\\ube44\\uc544\\uadf8\\ub77c\", \"\\ube44\\uc5fc\", \"\\ube44\\uc5fc\", \"\\ube44\\uc5fc\", \"\\ube44\\uc5fc\", \"\\ube44\\uc624\\ud2f4\", \"\\ube44\\uc624\\ud2f4\", \"\\ube44\\uc624\\ud2f4\", \"\\ube44\\uc624\\ud2f4\", \"\\ube44\\uc624\\ud2f4\", \"\\ube4c\\ub2e4\", \"\\ubf51\\ub2e4\", \"\\uc0bc\\ud0a4\\ub2e4\", \"\\uc0c1\\ucc98\", \"\\uc0c9\\uc18c\", \"\\uc0dd\\uae30\", \"\\uc0dd\\uae30\\ub2e4\", \"\\uc0dd\\uae30\\ub2e4\", \"\\uc0dd\\uae30\\ub2e4\", \"\\uc0dd\\uae30\\ub2e4\", \"\\uc0dd\\uae30\\ub2e4\", \"\\uc120\\uadfc\", \"\\uc12d\\ucde8\", \"\\uc12d\\ucde8\", \"\\uc12d\\ucde8\", \"\\uc12d\\ucde8\", \"\\uc12d\\ucde8\", \"\\uc131\\ubd84\", \"\\uc131\\ubd84\", \"\\uc131\\ubd84\", \"\\uc131\\ubd84\", \"\\uc131\\ubd84\", \"\\uc138\\ub9b0\", \"\\uc138\\uc774\", \"\\uc138\\uc778\\ud2b8\\uc874\\uc2a4\", \"\\uc13c\\ud2b8\", \"\\uc13c\\ud2b8\", \"\\uc13c\\ud2b8\", \"\\uc18c\\ud2f0\", \"\\uc18c\\ud654\", \"\\uc18c\\ud654\", \"\\uc18c\\ud654\", \"\\uc18c\\ud654\", \"\\uc218\", \"\\uc218\", \"\\uc218\", \"\\uc218\", \"\\uc218\", \"\\uc218\\uac00\", \"\\uc218\\uba74\\uc81c\", \"\\uc218\\uc561\", \"\\uc218\\uc6a9\\uc131\", \"\\uc219\\ucde8\", \"\\uc21c\\uc218\", \"\\uc2a4\", \"\\uc2a4\", \"\\uc2a4\", \"\\uc2a4\", \"\\uc2a4\\uc704\\uc2a4\", \"\\uc2a4\\ud0c0\", \"\\uc2a4\\ud14c\\ub85c\\uc774\\ub4dc\", \"\\uc2a4\\ud14c\\ub85c\\uc774\\ub4dc\", \"\\uc2a4\\ud14c\\ub85c\\uc774\\ub4dc\", \"\\uc2a4\\ud504\\ub808\\uc774\", \"\\uc2ac\", \"\\uc2ac\", \"\\uc2ac\", \"\\uc2ac\", \"\\uc2b5\\uae30\", \"\\uc2dc\\uae30\", \"\\uc2dc\\uae30\", \"\\uc2dc\\ub825\", \"\\uc2dc\\uc2ac\", \"\\uc2dc\\uc2ac\", \"\\uc2dc\\uc2ac\", \"\\uc2dc\\uc2ac\", \"\\uc2dc\\uc911\", \"\\uc2dc\\uc911\", \"\\uc2dc\\uc911\", \"\\uc2dc\\uc911\", \"\\uc2dc\\ud5d8\", \"\\uc2dc\\ud5d8\\uad00\", \"\\uc2dd\\uc0ac\", \"\\uc2dd\\uc0ac\", \"\\uc2dd\\uc804\", \"\\uc2dd\\uc804\", \"\\uc2dd\\uc804\", \"\\uc2dd\\ud488\", \"\\uc2dd\\ud488\", \"\\uc2dd\\ud488\", \"\\uc2dd\\ud488\", \"\\uc2dd\\ud6c4\", \"\\uc2dd\\ud6c4\", \"\\uc2dd\\ud6c4\", \"\\uc2dd\\ud6c4\", \"\\uc2dd\\ud6c4\", \"\\uc2e0\\uacbd\\uc548\\uc815\\uc81c\", \"\\uc2e0\\uccb4\", \"\\uc2e4\\uc9c8\", \"\\uc2e4\\ud5d8\", \"\\uc2ec\", \"\\uc2ec\\ud558\\ub2e4\", \"\\uc2ec\\ud558\\ub2e4\", \"\\uc2ec\\ud558\\ub2e4\", \"\\uc2ec\\ud558\\ub2e4\", \"\\uc2ec\\ud558\\ub2e4\", \"\\uc544\\ub2c8\\ub2e4\", \"\\uc544\\ub2c8\\ub2e4\", \"\\uc544\\ub2c8\\ub2e4\", \"\\uc544\\ub2c8\\ub2e4\", \"\\uc544\\ub2c8\\ub2e4\", \"\\uc544\\ub974\\uae30\\ub2cc\", \"\\uc544\\ub974\\uae30\\ub2cc\", \"\\uc544\\ub974\\uae30\\ub2cc\", \"\\uc544\\ub974\\uae30\\ub2cc\", \"\\uc544\\ub974\\uae30\\ub2cc\", \"\\uc544\\ubcf4\", \"\\uc544\\uc2a4\\ud53c\\ub9b0\", \"\\uc544\\uc5f0\", \"\\uc544\\uc5f0\", \"\\uc544\\uc5f0\", \"\\uc544\\uc5f0\", \"\\uc544\\uc5f0\", \"\\uc544\\uce68\", \"\\uc544\\uce68\", \"\\uc544\\uce68\", \"\\uc544\\uce68\", \"\\uc544\\uce68\", \"\\uc544\\uce68\\uc2dd\\uc0ac\", \"\\uc548\\ub155\\ud558\\ub2e4\", \"\\uc548\\ub155\\ud558\\ub2e4\", \"\\uc548\\ub155\\ud558\\ub2e4\", \"\\uc548\\ub155\\ud558\\ub2e4\", \"\\uc548\\ub155\\ud558\\ub2e4\", \"\\uc548\\ub418\\ub2e4\", \"\\uc548\\ub418\\ub2e4\", \"\\uc548\\ub418\\ub2e4\", \"\\uc548\\ub418\\ub2e4\", \"\\uc548\\ub418\\ub2e4\", \"\\uc548\\uc57d\", \"\\uc548\\uc57d\", \"\\uc54a\\ub2e4\", \"\\uc54a\\ub2e4\", \"\\uc54a\\ub2e4\", \"\\uc54a\\ub2e4\", \"\\uc54a\\ub2e4\", \"\\uc54c\", \"\\uc54c\", \"\\uc54c\", \"\\uc54c\", \"\\uc54c\", \"\\uc54c\\ub2e4\", \"\\uc54c\\ub2e4\", \"\\uc54c\\ub2e4\", \"\\uc54c\\ub2e4\", \"\\uc54c\\ub2e4\", \"\\uc560\\ubc8c\", \"\\uc560\\ubc8c\", \"\\uc57d\", \"\\uc57d\", \"\\uc57d\", \"\\uc57d\", \"\\uc57d\", \"\\uc591\\uc81c\", \"\\uc591\\uc81c\", \"\\uc591\\uc81c\", \"\\uc591\\uc81c\", \"\\uc591\\uc81c\", \"\\uc591\\ud30c\", \"\\uc5bb\\ub2e4\", \"\\uc5c6\\ub2e4\", \"\\uc5c6\\ub2e4\", \"\\uc5c6\\ub2e4\", \"\\uc5c6\\ub2e4\", \"\\uc5c6\\ub2e4\", \"\\uc5d0\\uc2a4\", \"\\uc5ec\\uc5d0\\uc2a4\\ub354\", \"\\uc5ec\\uc5d0\\uc2a4\\ub354\", \"\\uc5f0\\uace0\", \"\\uc5f0\\uace0\", \"\\uc5fd\\uc0b0\", \"\\uc5fd\\uc0b0\", \"\\uc5fd\\uc0b0\", \"\\uc5fd\\uc0b0\", \"\\uc601\\uc591\", \"\\uc601\\uc591\", \"\\uc601\\uc591\", \"\\uc601\\uc591\", \"\\uc601\\uc591\", \"\\uc601\\ud5a5\", \"\\uc601\\ud5a5\", \"\\uc601\\ud5a5\", \"\\uc601\\ud5a5\", \"\\uc608\\uc815\", \"\\uc608\\uc815\", \"\\uc608\\uc815\", \"\\uc608\\uc815\", \"\\uc624\\uba54\\uac00\", \"\\uc624\\uba54\\uac00\", \"\\uc624\\uba54\\uac00\", \"\\uc624\\uba54\\uac00\", \"\\uc624\\uba54\\uac00\", \"\\uc624\\ud6c4\", \"\\uc624\\ud6c4\", \"\\uc624\\ud6c4\", \"\\uc628\\ub3c4\", \"\\uc62c\\ub77c\\uac00\\ub2e4\", \"\\uc62c\\ub9ac\\ub2e4\", \"\\uc62c\\ub9ac\\ub2e4\", \"\\uc62c\\ub9ac\\ub2e4\", \"\\uc62c\\ub9ac\\ub2e4\", \"\\uc62c\\ub9ac\\ub2e4\", \"\\uc694\", \"\\uc694\", \"\\uc694\", \"\\uc694\", \"\\uc694\", \"\\uc694\\uc998\", \"\\uc694\\uc998\", \"\\uc694\\uc998\", \"\\uc694\\uc998\", \"\\uc694\\uc998\", \"\\uc6b0\\ub8e8\\uc0ac\", \"\\uc6b0\\uba3c\", \"\\uc6c0\", \"\\uc6cc\\ud2b8\", \"\\uc6d0\\ub8cc\", \"\\uc6d0\\ub8cc\", \"\\uc6d0\\uc2a4\", \"\\uc6e8\\uc774\", \"\\uc6f0\", \"\\uc6f0\", \"\\uc704\", \"\\uc704\", \"\\uc704\", \"\\uc704\", \"\\uc704\", \"\\uc704\\ud5d8\\ud558\\ub2e4\", \"\\uc720\\uc0b0\\uade0\", \"\\uc720\\uc0b0\\uade0\", \"\\uc720\\uc0b0\\uade0\", \"\\uc720\\uc0b0\\uade0\", \"\\uc720\\uc0b0\\uade0\", \"\\uc775\\uc2a4\", \"\\uc775\\uc2a4\", \"\\uc778\", \"\\uc778\\uacf5\", \"\\uc778\\ub3c4\", \"\\uc778\\uccb4\", \"\\uc778\\ud558\\ub2e4\", \"\\uc778\\ud558\\ub2e4\", \"\\uc778\\ud558\\ub2e4\", \"\\uc778\\ud558\\ub2e4\", \"\\uc77c\\ub9ac\", \"\\uc784\\uc2e0\", \"\\uc784\\uc2e0\", \"\\uc784\\uc2e0\", \"\\uc785\\uc220\", \"\\uc785\\uc220\", \"\\uc787\\ubab8\", \"\\uc787\\ubab8\", \"\\uc790\\ub3c4\", \"\\uc794\\ud2f4\", \"\\uc794\\ud2f4\", \"\\uc794\\ud2f4\", \"\\uc794\\ud2f4\", \"\\uc798\\ubabb\", \"\\uc800\\ub141\", \"\\uc800\\ub141\", \"\\uc800\\ub141\", \"\\uc800\\ub141\", \"\\uc800\\ub141\", \"\\uc800\\ub141\\uc2dd\\uc0ac\", \"\\uc800\\ubd84\\uc790\", \"\\uc804\\ub9bd\\uc120\", \"\\uc810\", \"\\uc810\", \"\\uc810\", \"\\uc810\", \"\\uc810\", \"\\uc810\\uc2ec\", \"\\uc810\\uc2ec\", \"\\uc810\\uc2ec\", \"\\uc810\\uc2ec\", \"\\uc810\\uc2ec\", \"\\uc810\\uc2ec\\uc2dd\\uc0ac\", \"\\uc810\\uc2ec\\uc2dd\\uc0ac\", \"\\uc810\\uc548\\uc561\", \"\\uc815\", \"\\uc815\", \"\\uc815\", \"\\uc815\", \"\\uc815\", \"\\uc815\\uc2e0\\uacfc\", \"\\uc815\\uc774\", \"\\uc815\\uc774\", \"\\uc815\\uc774\", \"\\uc81c\\uc0b0\\uc81c\", \"\\uc81c\\uc0b0\\uc81c\", \"\\uc81c\\ud488\", \"\\uc81c\\ud488\", \"\\uc81c\\ud488\", \"\\uc81c\\ud488\", \"\\uc81c\\ud488\", \"\\uc870\\ud604\\ubcd1\", \"\\uc874\\uc7ac\", \"\\uc878\", \"\\uc881\\uc300\", \"\\uc885\\ube44\", \"\\uc885\\uc774\", \"\\uc885\\ud569\", \"\\uc885\\ud569\", \"\\uc885\\ud569\", \"\\uc885\\ud569\", \"\\uc885\\ud569\", \"\\uc88b\\ub2e4\", \"\\uc88b\\ub2e4\", \"\\uc88b\\ub2e4\", \"\\uc88b\\ub2e4\", \"\\uc88b\\ub2e4\", \"\\uc88b\\uc544\\ud558\\ub2e4\", \"\\uc8fc\\uc2ec\", \"\\uc904\\uae30\\uc138\\ud3ec\", \"\\uc904\\uc774\\ub2e4\", \"\\uc904\\uc774\\ub2e4\", \"\\uc904\\uc774\\ub2e4\", \"\\uc911\\uac04\", \"\\uc99d\", \"\\uc99d\", \"\\uc99d\", \"\\uc99d\", \"\\uc9c0\\uc6a9\\uc131\", \"\\uc9c4\", \"\\uc9c8\\ubb38\", \"\\uc9c8\\ubb38\", \"\\uc9c8\\ubb38\", \"\\uc9c8\\ubb38\", \"\\uc9c8\\ubb38\", \"\\uc9c8\\ud658\", \"\\uc9c8\\ud658\", \"\\uc9c8\\ud658\", \"\\uc9c8\\ud658\", \"\\ucb10\\ub2e4\", \"\\ucc28\\uace0\", \"\\ucc28\\uace0\", \"\\ucc28\\uc774\\uc810\", \"\\ucc28\\uc774\\uc810\", \"\\ucc28\\uc774\\uc810\", \"\\ucc28\\uc774\\uc810\", \"\\ucc59\\uae30\\ub2e4\", \"\\ucc59\\uae30\\ub2e4\", \"\\ucc59\\uae30\\ub2e4\", \"\\ucc59\\uae30\\ub2e4\", \"\\ucc59\\uae30\\ub2e4\", \"\\ucc98\\ubc29\", \"\\ucc98\\ubc29\", \"\\ucc98\\ubc29\", \"\\ucc98\\ubc29\", \"\\ucc98\\ubc29\", \"\\ucca0\\ubd84\", \"\\ucca0\\ubd84\", \"\\ucca0\\ubd84\", \"\\ucca0\\ubd84\", \"\\ucca0\\ubd84\", \"\\uccad\\uc18c\\ub144\", \"\\ucd94\\uac00\", \"\\ucd94\\uac00\", \"\\ucd94\\uac00\", \"\\ucd94\\uac00\", \"\\ucd94\\uac00\", \"\\ucd94\\ucc9c\", \"\\ucd94\\ucc9c\", \"\\ucd94\\ucc9c\", \"\\ucd94\\ucc9c\", \"\\ucd94\\ucc9c\", \"\\ucda9\\ub3cc\", \"\\uce58\\ub2e4\", \"\\uce58\\ub2e4\", \"\\uce58\\ub2e4\", \"\\uce58\\uc9c8\", \"\\uce68\\uce68\\ud558\\ub2e4\", \"\\uce74\\ubca0\", \"\\uce7c\\uc298\", \"\\uce7c\\uc298\", \"\\uce7c\\uc298\", \"\\uce7c\\uc298\", \"\\uce7c\\uc298\", \"\\ucea1\\uc290\", \"\\ucea1\\uc290\", \"\\ucea1\\uc290\", \"\\ucea1\\uc290\", \"\\ucea1\\uc290\", \"\\ucf00\\uc5b4\", \"\\ucf54\", \"\\ucf54\", \"\\ucf54\", \"\\ucf54\\uc5d4\\uc790\\uc784\", \"\\ucf54\\uc5d4\\uc790\\uc784\", \"\\ucf54\\uc5d4\\uc790\\uc784\", \"\\ucf54\\uc5d4\\uc790\\uc784\", \"\\ucf5c\\ub77c\\uac90\", \"\\ucf5c\\ub77c\\uac90\", \"\\ucf5c\\ub77c\\uac90\", \"\\ucf5c\\ub77c\\uac90\", \"\\ucf5c\\ub77c\\uac90\", \"\\ud06c\\ub79c\\ubca0\\ub9ac\", \"\\ud06c\\ub79c\\ubca0\\ub9ac\", \"\\ud06c\\ub9bc\", \"\\ud06c\\ub9bc\", \"\\ud0c0\\uc6b0\\ub9b0\", \"\\ud0c0\\uce58\", \"\\ud0c0\\uce58\", \"\\ud0c0\\ucf54\", \"\\ud0c0\\ucf54\", \"\\ud130\\uc9c0\\ub2e4\", \"\\ud150\\uc158\", \"\\ud150\\uc158\", \"\\ud22c\\uba85\\ud558\\ub2e4\", \"\\ud2b8\\ub7ec\\ube14\", \"\\ud2b8\\ub8e8\", \"\\ud2b8\\ub8e8\", \"\\ud2f4\", \"\\ud2f4\", \"\\ud2f4\", \"\\ud2f4\", \"\\ud2f4\", \"\\ud30c\\uc2a4\", \"\\ud30c\\ud2f0\", \"\\ud30c\\ud30c\", \"\\ud310\\ud1a0\\ud150\\uc0b0\", \"\\ud310\\ud1a0\\ud150\\uc0b0\", \"\\ud310\\ud1a0\\ud150\\uc0b0\", \"\\ud310\\ud1a0\\ud150\\uc0b0\", \"\\ud478\\ub2e4\", \"\\ud478\\ub2e4\", \"\\ud478\\ub4dc\", \"\\ud478\\ub4dc\", \"\\ud478\\ub4dc\", \"\\ud478\\ub4dc\", \"\\ud478\\ub4dc\", \"\\ud488\\uc9c8\", \"\\ud504\\ub808\", \"\\ud504\\ub85c\\ud3f4\\ub9ac\\uc2a4\", \"\\ud504\\ub85c\\ud3f4\\ub9ac\\uc2a4\", \"\\ud504\\ub85c\\ud3f4\\ub9ac\\uc2a4\", \"\\ud504\\ub85c\\ud3f4\\ub9ac\\uc2a4\", \"\\ud504\\ub85c\\ud3f4\\ub9ac\\uc2a4\", \"\\ud50c\\ub7ec\\uc2a4\", \"\\ud50c\\ub7ec\\uc2a4\", \"\\ud50c\\ub7ec\\uc2a4\", \"\\ud50c\\ub7ec\\uc2a4\", \"\\ud50c\\ub7ec\\uc2a4\", \"\\ud53c\\uace4\\ud558\\ub2e4\", \"\\ud53c\\uace4\\ud558\\ub2e4\", \"\\ud53c\\uace4\\ud558\\ub2e4\", \"\\ud53c\\uace4\\ud558\\ub2e4\", \"\\ud53c\\uace4\\ud558\\ub2e4\", \"\\ud53c\\ub85c\", \"\\ud53c\\ub85c\", \"\\ud53c\\ub85c\", \"\\ud53c\\ub85c\\ud558\\ub2e4\", \"\\ud53c\\ubd80\", \"\\ud53c\\ubd80\", \"\\ud53c\\ubd80\", \"\\ud53c\\ubd80\", \"\\ud53c\\ubd80\", \"\\ud53c\\uc784\", \"\\ud53c\\uc784\", \"\\ud53c\\uc784\", \"\\ud544\\ub7ec\", \"\\ud544\\ub984\", \"\\ud558\\ub8e8\", \"\\ud558\\ub8e8\", \"\\ud558\\ub8e8\", \"\\ud558\\ub8e8\", \"\\ud558\\ub8e8\", \"\\ud568\\ub7c9\", \"\\ud568\\ub7c9\", \"\\ud568\\ub7c9\", \"\\ud568\\ub7c9\", \"\\ud568\\ub7c9\", \"\\ud568\\uc720\\ub7c9\", \"\\ud56d\\uc0b0\\ud654\", \"\\ud56d\\uc0b0\\ud654\", \"\\ud56d\\uc0b0\\ud654\", \"\\ud56d\\uc0b0\\ud654\", \"\\ud56d\\uc0dd\\uc81c\", \"\\ud56d\\uc0dd\\uc81c\", \"\\ud56d\\uc0dd\\uc81c\", \"\\ud574\\uc18c\", \"\\ud604\\uc7ac\", \"\\ud604\\uc7ac\", \"\\ud604\\uc7ac\", \"\\ud604\\uc7ac\", \"\\ud604\\uc7ac\", \"\\ud611\\uc2ec\\uc99d\", \"\\ud613\\ubc14\\ub298\", \"\\ud615\\ud0dc\", \"\\ud615\\ud0dc\", \"\\ud615\\ud0dc\", \"\\ud654\\uc81c\", \"\\ud65c\", \"\\ud65c\", \"\\ud65c\", \"\\ud68c\", \"\\ud68c\\ubcf5\", \"\\ud68c\\ubcf5\", \"\\ud68c\\ubcf5\", \"\\ud6a8\\uacfc\", \"\\ud6a8\\uacfc\", \"\\ud6a8\\uacfc\", \"\\ud6a8\\uacfc\", \"\\ud6a8\\uacfc\", \"\\ud6c4\", \"\\ud6c4\", \"\\ud6c4\", \"\\ud6c4\", \"\\ud6c4\"]}, \"R\": 30, \"lambda.step\": 0.01, \"plot.opts\": {\"xlab\": \"PC1\", \"ylab\": \"PC2\"}, \"topic.order\": [3, 2, 4, 5, 1]};\n",
       "\n",
       "function LDAvis_load_lib(url, callback){\n",
       "  var s = document.createElement('script');\n",
       "  s.src = url;\n",
       "  s.async = true;\n",
       "  s.onreadystatechange = s.onload = callback;\n",
       "  s.onerror = function(){console.warn(\"failed to load library \" + url);};\n",
       "  document.getElementsByTagName(\"head\")[0].appendChild(s);\n",
       "}\n",
       "\n",
       "if(typeof(LDAvis) !== \"undefined\"){\n",
       "   // already loaded: just create the visualization\n",
       "   !function(LDAvis){\n",
       "       new LDAvis(\"#\" + \"ldavis_el3063220121603167367257467624\", ldavis_el3063220121603167367257467624_data);\n",
       "   }(LDAvis);\n",
       "}else if(typeof define === \"function\" && define.amd){\n",
       "   // require.js is available: use it to load d3/LDAvis\n",
       "   require.config({paths: {d3: \"https://d3js.org/d3.v5\"}});\n",
       "   require([\"d3\"], function(d3){\n",
       "      window.d3 = d3;\n",
       "      LDAvis_load_lib(\"https://cdn.jsdelivr.net/gh/bmabey/pyLDAvis@3.4.0/pyLDAvis/js/ldavis.v3.0.0.js\", function(){\n",
       "        new LDAvis(\"#\" + \"ldavis_el3063220121603167367257467624\", ldavis_el3063220121603167367257467624_data);\n",
       "      });\n",
       "    });\n",
       "}else{\n",
       "    // require.js not available: dynamically load d3 & LDAvis\n",
       "    LDAvis_load_lib(\"https://d3js.org/d3.v5.js\", function(){\n",
       "         LDAvis_load_lib(\"https://cdn.jsdelivr.net/gh/bmabey/pyLDAvis@3.4.0/pyLDAvis/js/ldavis.v3.0.0.js\", function(){\n",
       "                 new LDAvis(\"#\" + \"ldavis_el3063220121603167367257467624\", ldavis_el3063220121603167367257467624_data);\n",
       "            })\n",
       "         });\n",
       "}\n",
       "</script>"
      ],
      "text/plain": [
       "<IPython.core.display.HTML object>"
      ]
     },
     "metadata": {},
     "output_type": "display_data"
    },
    {
     "data": {
      "text/plain": [
       "'0번 클러스터에 대한 주제 단어들!'"
      ]
     },
     "metadata": {},
     "output_type": "display_data"
    },
    {
     "data": {
      "text/plain": [
       "[(0,\n",
       "  '0.019*\"궁금하다\" + 0.014*\"약\" + 0.012*\"먹다\" + 0.012*\"성분\" + 0.009*\"아니다\" + 0.008*\"좋다\" + 0.007*\"복용\" + 0.007*\"양제\" + 0.007*\"피부\" + 0.007*\"효과\"'),\n",
       " (1,\n",
       "  '0.062*\"먹다\" + 0.016*\"복용\" + 0.016*\"양제\" + 0.011*\"섭취\" + 0.008*\"괜찮다\" + 0.008*\"하루\" + 0.007*\"유산균\" + 0.007*\"궁금하다\" + 0.007*\"요\" + 0.007*\"마그네슘\"'),\n",
       " (2,\n",
       "  '0.028*\"먹다\" + 0.026*\"양제\" + 0.024*\"좋다\" + 0.016*\"궁금하다\" + 0.014*\"보다\" + 0.014*\"복용\" + 0.012*\"들다\" + 0.011*\"없다\" + 0.011*\"제품\" + 0.011*\"효과\"'),\n",
       " (3,\n",
       "  '0.053*\"먹다\" + 0.029*\"양제\" + 0.027*\"복용\" + 0.020*\"오메가\" + 0.017*\"아침\" + 0.014*\"유산균\" + 0.014*\"저녁\" + 0.014*\"후\" + 0.013*\"알\" + 0.011*\"마그네슘\"'),\n",
       " (4,\n",
       "  '0.037*\"먹다\" + 0.026*\"양제\" + 0.019*\"복용\" + 0.019*\"약\" + 0.009*\"요\" + 0.008*\"알다\" + 0.008*\"궁금하다\" + 0.008*\"정\" + 0.008*\"섭취\" + 0.007*\"논\"')]"
      ]
     },
     "metadata": {},
     "output_type": "display_data"
    },
    {
     "name": "stdin",
     "output_type": "stream",
     "text": [
      "\n",
      "보고 계신 원의 번호를 입력해 주세요! :  2\n",
      "위의 주제 단어과 매칭되는 처음에 설정한 Action 토픽 번호를 입력해 주세요! :  1\n",
      "\n",
      "보고 계신 원의 번호를 입력해 주세요! :  1\n",
      "위의 주제 단어과 매칭되는 처음에 설정한 Action 토픽 번호를 입력해 주세요! :  2\n",
      "\n",
      "보고 계신 원의 번호를 입력해 주세요! :  3\n",
      "위의 주제 단어과 매칭되는 처음에 설정한 Action 토픽 번호를 입력해 주세요! :  3\n",
      "\n",
      "보고 계신 원의 번호를 입력해 주세요! :  4\n",
      "위의 주제 단어과 매칭되는 처음에 설정한 Action 토픽 번호를 입력해 주세요! :  4\n",
      "\n",
      "보고 계신 원의 번호를 입력해 주세요! :  0\n",
      "위의 주제 단어과 매칭되는 처음에 설정한 Action 토픽 번호를 입력해 주세요! :  5\n"
     ]
    }
   ],
   "source": [
    "action_dict = new_action_topic_labeling(0,df_cluster0,prepared_data_list,ldavis_list)"
   ]
  },
  {
   "cell_type": "code",
   "execution_count": 417,
   "id": "0dd15dc3-38da-49c0-a20d-c56cdfdced7e",
   "metadata": {},
   "outputs": [
    {
     "data": {
      "text/plain": [
       "{2: 1, 1: 2, 3: 3, 4: 4, 0: 5}"
      ]
     },
     "execution_count": 417,
     "metadata": {},
     "output_type": "execute_result"
    }
   ],
   "source": [
    "action_dict"
   ]
  },
  {
   "cell_type": "markdown",
   "id": "2138d411-4bf0-41a3-8adc-3bb45eb871f4",
   "metadata": {
    "id": "ph7fcoMcCcBS"
   },
   "source": [
    "### 4.2 LDAvis와 LDA모델의 토픽 넘버 매칭"
   ]
  },
  {
   "cell_type": "markdown",
   "id": "111d6870-89d2-4e9e-9bd8-31fab02d1abb",
   "metadata": {},
   "source": [
    "    *한번에 하실 분은 아래 for문으로!\n",
    "    *혹시라도 실수할 수 도 있으니 copy를 만들어서 진행!"
   ]
  },
  {
   "cell_type": "code",
   "execution_count": 588,
   "id": "9c3619b3-6dbb-4b36-9a3b-2942f8c328cd",
   "metadata": {},
   "outputs": [],
   "source": [
    "test_list = [df.copy() for df in df_cluster_action_list]"
   ]
  },
  {
   "cell_type": "code",
   "execution_count": 589,
   "id": "93d0f29f-63e9-4c43-a317-564df8caff7c",
   "metadata": {},
   "outputs": [
    {
     "data": {
      "text/plain": [
       "'Cluster = Actor 0의 Map'"
      ]
     },
     "metadata": {},
     "output_type": "display_data"
    },
    {
     "data": {
      "text/html": [
       "\n",
       "<link rel=\"stylesheet\" type=\"text/css\" href=\"https://cdn.jsdelivr.net/gh/bmabey/pyLDAvis@3.4.0/pyLDAvis/js/ldavis.v1.0.0.css\">\n",
       "\n",
       "\n",
       "<div id=\"ldavis_el121882304842656096368368189\" style=\"background-color:white;\"></div>\n",
       "<script type=\"text/javascript\">\n",
       "\n",
       "var ldavis_el121882304842656096368368189_data = {\"mdsDat\": {\"x\": [0.17539055950539972, -0.03573073880157975, -0.023228643065413553, -0.01716351578576191, -0.04207539523050662, -0.02981447956151005, -0.027377787060627715], \"y\": [0.006796742245432106, -0.09432643809581276, -0.01163749796266915, -0.008736355909306144, 0.14044469235898488, -0.01463206759541694, -0.017909075041211878], \"topics\": [1, 2, 3, 4, 5, 6, 7], \"cluster\": [1, 1, 1, 1, 1, 1, 1], \"Freq\": [15.352032335823152, 14.585812015764802, 14.450973241534765, 14.36688830956687, 14.239868132641698, 13.80033003315027, 13.204095931518445]}, \"tinfo\": {\"Term\": [\"\\uac1c \\uc12d\\ucde8 \\uac1c\", \"\\uc12d\\ucde8 \\uac1c \\uc12d\\ucde8\", \"\\uc88b\\ub2e4 \\ub2f5\\ubcc0 \\ubd80\\ud0c1\\ub4dc\\ub9ac\\ub2e4\", \"\\uc12d\\ucde8 \\ubb38\\uc81c \\uc5c6\\ub2e4\", \"\\uc131\\ubd84 \\ud3ec\\ud568 \\ub418\\uc5b4\\ub2e4\", \"\\ub354 \\uc88b\\ub2e4 \\uad81\\uae08\\ud558\\ub2e4\", \"\\uc57d \\uba39\\ub2e4 \\uba39\\ub2e4\", \"\\ubc14\\uc774 \\uc624\\ud398 \\ub9b0\", \"\\uc6b0\\ub974 \\ub370\\uc625 \\ucf5c\\uc0b0\", \"\\ubcf5\\uc6a9 \\ubb38\\uc81c \\uc5c6\\ub2e4\", \"\\uc6d0\\uc2a4 \\ub370 \\uc77c\\ub9ac\", \"\\uac00\\ub2e4 \\ud3ec\\ud568 \\ub418\\uc5b4\\ub2e4\", \"\\ucc59\\uae30\\ub2e4 \\uba39\\ub2e4 \\uad1c\\ucc2e\\ub2e4\", \"\\ube48 \\uc18d \\uba39\\ub2e4\", \"\\ud140 \\ub450\\ub2e4 \\uba39\\ub2e4\", \"\\ubcf5\\uc6a9 \\ud574\\ub3c4 \\uad1c\\ucc2e\\ub2e4\", \"\\ucd94\\uac00 \\uba39\\ub2e4 \\uc88b\\ub2e4\", \"\\ub9ce\\ub2e4 \\uc870\\uc5b8 \\ubd80\\ud0c1\\ub4dc\\ub9ac\\ub2e4\", \"\\ub2f5\\ubcc0 \\uc8fc\\uc2dc \\uac10\\uc0ac\\ud558\\ub2e4\", \"\\ucc59\\uae30\\ub2e4 \\uba39\\ub2e4 \\uc54a\\ub2e4\", \"\\uc88b\\ub2e4 \\ucd94\\ucc9c \\ud574\\uc8fc\\ub2e4\", \"\\uba39\\ub2e4 \\uac00\\uc7a5 \\ud6a8\\uacfc\", \"\\uc54c\\ub824\\uc8fc\\ub2e4 \\uac10\\uc0ac \\ub4dc\\ub9ac\\ub2e4\", \"\\uc784\\uc2e0 \\uc900\\ube44 \\uc911\", \"\\ub354 \\ud6a8\\uacfc \\uc88b\\ub2e4\", \"\\uba39\\ub2e4 \\uc88b\\ub2e4 \\uc54a\\ub2e4\", \"\\ucc28 \\ub450\\ub2e4 \\uba39\\ub2e4\", \"\\ubcf5\\uc6a9 \\ubc29\\ubc95 \\uad81\\uae08\\ud558\\ub2e4\", \"\\ud53c\\ub85c \\ud68c\\ubcf5 \\uc81c\\ub85c\", \"\\uc810\\uc2ec \\uc800\\ub141 \\uc2dd\\uc804\", \"\\ucd94\\uac00 \\uba39\\ub2e4 \\uc88b\\ub2e4\", \"\\uc18c\\ud654 \\uc790\\ub2e4 \\uc548\\ub418\\ub2e4\", \"\\ub808\\ubc14 \\uc5e0 \\uc815\\ub9ac\", \"\\ub9ac\\uce74 \\uc2a4\\ubaa8 \\ud2f4\\uc815\", \"\\uc2a4\\ubaa8 \\ud2f4\\uc815 \\uba39\\ub2e4\", \"\\uc560\\ub2c8 \\ub808\\ubc14 \\uc5e0\", \"\\uc5e0 \\uc815\\ub9ac \\ub9ac\\uce74\", \"\\uc815\\ub9ac \\ub9ac\\uce74 \\uc2a4\\ubaa8\", \"\\uc12d\\ucde8 \\ubb38\\uc81c \\uc0dd\\uae30\\ub2e4\", \"\\ubcc4\\ub85c \\ud6a8\\uacfc \\uc5c6\\ub2e4\", \"\\uc88b\\ub2e4 \\ubb38\\uc758 \\ub4dc\\ub9ac\\ub2e4\", \"\\uae30\\uc874 \\uba39\\ub2e4 \\uba39\\ub2e4\", \"\\uc54c\\ub824\\uc8fc\\ub2e4 \\uc815\\ub9d0 \\uac10\\uc0ac\\ud558\\ub2e4\", \"\\ud55c\\ubc88 \\ubcf5\\uc6a9 \\uc694\", \"\\uc790\\uad81 \\uc801 \\ucd94\\ub2e4\", \"\\uc801 \\ucd94\\ub2e4 \\uc220\", \"\\uc5f0\\uace0 \\ucd94\\ucc9c \\ubd80\\ud0c1\\ub4dc\\ub9ac\\ub2e4\", \"\\uba39\\ub2e4 \\uc560\\ub2c8 \\ub808\\ubc14\", \"\\ud2f4\\uc815 \\uba39\\ub2e4 \\uc560\\ub2c8\", \"\\ub2ff\\ub2e4 \\ub9cc\\ud574 \\uc548\\uc88b\\ub2e4\", \"\\ud0c8\\ubaa8 \\uc57d \\uc5ec\\uc790\", \"\\ud53c\\ubd80 \\ub2ff\\ub2e4 \\ub9cc\\ud574\", \"\\uad6c\\ub801\\uc774 \\ucc28\\ub2e4 \\ud53c\", \"\\uc2dd\\uc774\\uc12c\\uc720 \\uc81c\\ud488 \\uce74\\ubb34\\ud2b8\", \"\\uc81c\\ud488 \\uce74\\ubb34\\ud2b8 \\ud6a8\\uc18c\", \"\\ucc28\\ub2e4 \\ud53c \\uc2dd\\uc774\\uc12c\\uc720\", \"\\ud53c \\uc2dd\\uc774\\uc12c\\uc720 \\uc81c\\ud488\", \"\\ud669\\uae08 \\uad6c\\ub801\\uc774 \\ucc28\\ub2e4\", \"\\ubcf5\\uc6a9 \\uc911\\uc778 \\uc57d\\uacfc\", \"\\uc694 \\uc544\\uce68 \\uacf5\\ubcf5\", \"\\uba39\\ub2e4 \\uc544\\uce68 \\uacf5\\ubcf5\", \"\\ubb38\\uc81c \\uc0dd\\uae30\\ub2e4 \\uc218\", \"\\ubcf5\\uc6a9 \\uad81\\uae08\\ud558\\ub2e4 \\uc810\", \"\\ub354 \\ud6a8\\uacfc \\uc88b\\ub2e4\", \"\\uc544\\uce68 \\uacf5\\ubcf5 \\uc810\\uc2ec\", \"\\uc885\\ub958 \\ub108\\ubb34 \\ub9ce\\ub2e4\", \"\\uba39\\ub2e4 \\ubb38\\uc81c \\uc5c6\\ub2e4\", \"\\uba39\\ub2e4 \\uc548\\ub418\\ub2e4 \\ub4e4\\ub2e4\", \"\\uc790\\ub2e4 \\ucc59\\uae30\\ub2e4 \\uba39\\ub2e4\", \"\\uac71\\uc815 \\ub418\\uc5b4\\ub2e4 \\ub4dc\\ub9ac\\ub2e4\", \"\\ubb38\\uc81c \\uc5c6\\ub2e4 \\uad81\\uae08\\ud558\\ub2e4\", \"\\uba39\\ub2e4 \\uba39\\ub2e4 \\uc694\", \"\\uc774\\ub807\\uac8c \\uba39\\ub2e4 \\uad1c\\ucc2e\\ub2e4\", \"\\uba39\\ub2e4 \\uc774\\ub807\\uac8c \\uba39\\ub2e4\", \"\\ubcf5\\uc6a9 \\ubb38\\uc81c \\uc5c6\\ub2e4\", \"\\uc544\\uce68 \\uacf5\\ubcf5 \\uba39\\ub2e4\", \"\\uc790\\uad81 \\uc120\\uadfc \\uc99d\", \"\\uad81\\uae08\\ud558\\ub2e4 \\uc5ec\\ucb48\\ub2e4 \\ubcf4\\ub2e4\", \"\\uc774\\ub807\\uac8c \\uba39\\ub2e4 \\uc544\\uce68\", \"\\ud6c4 \\uc800\\ub141 \\ud6c4\", \"\\uc12d\\ucde8 \\ubb38\\uc81c \\uc5c6\\ub2e4\", \"\\uc6b0\\ub974 \\ub370\\uc625 \\ucf5c\\uc0b0\", \"\\uc6b0\\ub8e8\\uc0ac \\uc6b0\\ub974 \\ub370\\uc625\", \"\\ud55c\\ubc88 \\uba39\\ub2e4 \\uc694\", \"\\uba39\\ub2e4 \\uc790\\ub2e4 \\ubaa8\\ub974\\ub2e4\", \"\\ud558\\ub8e8 \\ubc88 \\ud558\\ub8e8\", \"\\ubc88 \\ud558\\ub8e8 \\ubc88\", \"\\ucc59\\uae30\\ub2e4 \\uba39\\ub2e4 \\uc54a\\ub2e4\", \"\\uc5ed\\ub958\\uc131 \\uc2dd\\ub3c4\\uc5fc \\ub54c\\ubb38\", \"\\ub9ce\\uc774 \\ub4e4\\ub2e4 \\ub4dc\\uc2dc\\ub2e4\", \"\\uba39\\ub2e4 \\uc548\\ub418\\ub2e4 \\ub530\\ub85c\", \"\\ud55c\\ubc88 \\ucc59\\uae30\\ub2e4 \\uba39\\ub2e4\", \"\\ubcf5\\uc6a9 \\uc694 \\ubcf5\\uc6a9\", \"\\ub354 \\ube68\\ub9ac \\ucde8\\ud558\", \"\\ube68\\ub9ac \\ucde8\\ud558 \\ud544\\ub984\", \"\\ud568\\ub958 \\uac78 \\uad8c\\ud558\\ub2e4\", \"\\ud604\\uc7ac \\ubcf5\\uc6a9 \\uc694\", \"\\uc544\\uac00 \\ubca0\\uc774 \\ub20c\\ub9b0\", \"\\uc720\\uae30\\ub18d \\uc544\\uac00 \\ubca0\\uc774\", \"\\ub370\\uc625 \\ucf5c\\uc0b0 \\ucd08\\uc784\", \"\\uacf5\\ubcf5 \\uba39\\ub2e4 \\uc704\", \"\\ub098\\ub204\\ub2e4 \\uba39\\ub2e4 \\uc694\", \"\\uba39\\ub2e4 \\uafb8\\uc900\\ud558\\ub2e4 \\uba39\\ub2e4\", \"\\uba39\\ub2e4 \\uc8fc\\uc758 \\uc810\", \"\\uce68\\uc2dd \\ud6c4 \\uc810\\uc2ec\", \"\\uc88b\\ub2e4 \\uba39\\ub2e4 \\uba39\\ub2e4\", \"\\ud6c4 \\uc810\\uc2ec \\ud6c4\", \"\\ud568\\ub7c9 \\ub192\\ub2e4 \\uba39\\ub2e4\", \"\\uba39\\ub2e4 \\uc12d\\ucde8 \\uba39\\ub2e4\", \"\\ud53c\\ub85c \\ud68c\\ubcf5 \\uc911\", \"\\ucd94\\uac00 \\ubcf5\\uc6a9 \\uad1c\\ucc2e\\ub2e4\", \"\\uace0\\uc9c0\\ud608\\uc99d \\uc57d \\uba39\\ub2e4\", \"\\ucc59\\uae30\\ub2e4 \\uba39\\ub2e4 \\ubcf4\\ub2e4\", \"\\uac8c \\uc54c\\ub824\\uc8fc\\ub2e4 \\uac10\\uc0ac\\ud558\\ub2e4\", \"\\ub2f5\\ubcc0 \\uc8fc\\uc2dc \\uac10\\uc0ac\\ud558\\ub2e4\", \"\\uc810\\uc2ec \\ud6c4 \\uc800\\ub141\", \"\\ub530\\ub85c \\ucc59\\uae30\\ub2e4 \\uba39\\ub2e4\", \"\\ud6c4 \\uc800\\ub141 \\ud6c4\", \"\\ucc59\\uae30\\ub2e4 \\uba39\\ub2e4 \\uc88b\\ub2e4\", \"\\uba39\\ub2e4 \\uc694 \\uc544\\ub2c8\\ub2e4\", \"\\uba39\\ub2e4 \\uc2dd \\uba39\\ub2e4\", \"\\uac1c \\uc12d\\ucde8 \\uac1c\", \"\\uc12d\\ucde8 \\uac1c \\uc12d\\ucde8\", \"\\uc57d \\uba39\\ub2e4 \\uba39\\ub2e4\", \"\\uba39\\ub2e4 \\uc88b\\ub2e4 \\uc54a\\ub2e4\", \"\\ucc28 \\ub450\\ub2e4 \\uba39\\ub2e4\", \"\\ubcf5\\uc6a9 \\ubc29\\ubc95 \\uad81\\uae08\\ud558\\ub2e4\", \"\\uac1c \\uac1c \\uac1c\", \"\\uad81\\uae08\\ud558\\ub2e4 \\ub9ce\\ub2e4 \\uc870\\uc5b8\", \"\\ud3ec\\ud568 \\ub418\\uc5b4\\ub2e4 \\ubcf5\\uc6a9\", \"\\uac00\\ub2e4 \\ud3ec\\ud568 \\ub418\\uc5b4\\ub2e4\", \"\\uc88b\\ub2e4 \\uc81c\\ud488 \\ucd94\\ucc9c\", \"\\ud558\\ub8e8 \\uba39\\ub2e4 \\ud6a8\\uacfc\", \"\\ud544\\uc694\\ud558\\ub2e4 \\ubb38\\uc758 \\ub4dc\\ub9ac\\ub2e4\", \"\\uba39\\ub2e4 \\uc88b\\ub2e4 \\uac74\\uc9c0\\ub2e4\", \"\\uba39\\ub2e4 \\ud140 \\ub450\\ub2e4\", \"\\ub098\\uc774 \\ub4e4\\ub2e4 \\ubcf4\\ub2e4\", \"\\uc12d\\ucde8 \\uc57d\\ubb3c \\ud761\\uc218\", \"\\uc57d\\ubb3c \\ud761\\uc218 \\uc601\\ud5a5\", \"\\uc601\\ud5a5 \\uc8fc\\ub2e4 \\ubb38\\uc758\", \"\\ud761\\uc218 \\uc601\\ud5a5 \\uc8fc\\ub2e4\", \"\\ubb34\\ub9ac \\uc904 \\uc218\\ub3c4\", \"\\uc2e0\\uc7a5 \\ubb34\\ub9ac \\uc904\", \"\\ub450\\ubc88\\uc9f8 \\uc0ac\\uc9c4 \\uace0\\ub9c8\", \"\\uc5fc\\uc99d \\uc608\\ubc29 \\ub3c4\\uc6c0\", \"\\uba39\\ub2e4 \\ud544\\uc694 \\uc5c6\\ub2e4\", \"\\ucd94\\ucc9c \\ud574\\uc8fc\\ub2e4 \\uac10\\uc0ac\", \"\\ubcf5\\uc6a9 \\uac04 \\ubd80\\ub2f4\", \"\\ub450 \\ubc88 \\uc815\\ub3c4\", \"\\ub3d9\\uc2dc \\ubcf5\\uc6a9 \\uad1c\\ucc2e\\ub2e4\", \"\\uba39\\ub2e4 \\uc544\\uce68 \\uc810\\uc2ec\", \"\\ud140 \\ub450\\ub2e4 \\uba39\\ub2e4\", \"\\uc88b\\ub2e4 \\uac74\\uc9c0\\ub2e4 \\uad81\\uae08\\ud558\\ub2e4\", \"\\ub3d9\\uc2dc \\ubcf5\\uc6a9 \\ubb38\\uc81c\", \"\\uc88b\\ub2e4 \\ucd94\\ucc9c \\ud574\\uc8fc\\ub2e4\", \"\\ud604\\uc7ac \\ubcf5\\uc6a9 \\uc57d\", \"\\ubcf5\\uc6a9 \\ubb38\\uc81c \\uc5c6\\ub2e4\", \"\\ud608\\uc555 \\uc57d \\ubcf5\\uc6a9\", \"\\uacfc\\ubbfc\\uc131 \\ub300\\uc7a5 \\uc99d\\ud6c4\\uad70\", \"\\ud53c\\ub85c \\ud68c\\ubcf5 \\uc88b\\ub2e4\", \"\\uba39\\ub2e4 \\uc88b\\ub2e4 \\ucd94\\ucc9c\", \"\\ucd94\\ucc9c \\ud574\\uc8fc\\ub2e4 \\uac10\\uc0ac\\ud558\\ub2e4\", \"\\uc544\\uce68 \\uc810\\uc2ec \\uc800\\ub141\", \"\\uba39\\ub2e4 \\uacb9 \\uce58\\ub2e4\", \"\\ub9ce\\ub2e4 \\uc870\\uc5b8 \\ubd80\\ud0c1\\ub4dc\\ub9ac\\ub2e4\", \"\\ub9ce\\uc774 \\ucc59\\uae30\\ub2e4 \\uba39\\ub2e4\", \"\\ubcf5\\uc6a9 \\uad1c\\ucc2e\\ub2e4 \\uad81\\uae08\\ud558\\ub2e4\", \"\\uafb8\\uc900\\ud558\\ub2e4 \\uba39\\ub2e4 \\uc88b\\ub2e4\", \"\\uc131\\ubd84 \\ud3ec\\ud568 \\ub418\\uc5b4\\ub2e4\", \"\\uc88b\\ub2e4 \\ub2f5\\ubcc0 \\ubd80\\ud0c1\\ub4dc\\ub9ac\\ub2e4\", \"\\uba39\\ub2e4 \\ud6a8\\uacfc \\uc5c6\\ub2e4\", \"\\ucd94\\uac00 \\ubcf5\\uc6a9 \\ubb38\\uc81c\", \"\\uc57d\\uc0ac \\ub4e4\\ub2e4 \\uc758\\uacac\", \"\\uc131\\ubd84 \\ud45c \\ucca8\\ubd80\", \"\\uba39\\ub2e4 \\ubcf4\\uace0 \\uc2f6\\ub2e4\", \"\\ucf54 \\ubc15\\uc0ac \\uc5d0\\uc2a4\", \"\\uba39\\ub2e4 \\uc88b\\ub2e4 \\ub2f5\\ubcc0\", \"\\ucd94\\uac00 \\ubcf5\\uc6a9 \\uc694\", \"\\uba39\\ub2e4 \\uad1c\\ucc2e\\ub2e4 \\uc804\\ubb38\\uac00\", \"\\uc800\\ub141 \\uba39\\ub2e4 \\uba39\\ub2e4\", \"\\uc774\\ub807\\uac8c \\uba39\\ub2e4 \\uc131\\ubd84\", \"\\uac1c \\uba39\\ub2e4 \\uad1c\\ucc2e\\ub2e4\", \"\\uac04 \\ubb34\\ub9ac \\uac00\\ub098\", \"\\ubd80\\uc815\\ub9e5 \\uc2ec\\ubc29 \\uc720\\ubc1c\", \"\\uc2ec\\ubc29 \\uc720\\ubc1c \\uc704\\ud5d8\", \"\\uc720\\ubc1c \\uc704\\ud5d8 \\ub192\\uc774\\ub2e4\", \"\\ub9dd \\ub728\\ub2e4 \\ub9ac\", \"\\uc2e0\\uc7a5 \\ub9dd \\ub728\\ub2e4\", \"\\ubcf5\\uc6a9 \\uc774\\uc678 \\ucd94\\uac00\", \"\\uc131\\ubd84 \\ucd94\\uac00 \\ubcf5\\uc6a9\", \"\\ubcf5\\uc6a9 \\uc694 \\uc544\\ub2c8\\ub2e4\", \"\\uacb9 \\uce58\\uba74 \\uc548\\ub418\\ub2e4\", \"\\uc2dd\\uc0ac \\ud6c4 \\uba39\\ub2e4\", \"\\uba39\\ub2e4 \\ud761\\uc218 \\ubc29\\ud574\", \"\\ud558\\ub8e8 \\uba39\\ub2e4 \\uc88b\\ub2e4\", \"\\uc57d \\ub2f9\\ub1e8 \\uc57d\", \"\\ucd94\\ucc9c \\ud574\\uc8fc\\ub2e4 \\uc88b\\ub2e4\", \"\\uce58\\uba74 \\uc548\\ub418\\ub2e4 \\uc601\\uc591\\uc18c\", \"\\uba39\\ub2e4 \\uacf5\\ubcf5 \\uba39\\ub2e4\", \"\\uc810\\uc2ec \\uc2dd\\uc0ac \\ud6c4\", \"\\uc544\\uce68 \\uc2dd\\uc0ac \\ud6c4\", \"\\ub2f5\\ubcc0 \\ubd80\\ud0c1\\ub4dc\\ub9ac\\ub2e4 \\uac10\\uc0ac\\ud558\\ub2e4\", \"\\uba39\\ub2e4 \\uc774\\ub807\\uac8c \\uba39\\ub2e4\", \"\\uc774\\ub807\\uac8c \\uba39\\ub2e4 \\uc694\", \"\\uba39\\ub2e4 \\uac00\\uc7a5 \\ud6a8\\uacfc\", \"\\uc54c\\ub824\\uc8fc\\ub2e4 \\uac10\\uc0ac \\ub4dc\\ub9ac\\ub2e4\", \"\\uc784\\uc2e0 \\uc900\\ube44 \\uc911\", \"\\ube48 \\uc18d \\uba39\\ub2e4\", \"\\ud761\\uc218 \\uc728 \\ub5a8\\uc5b4\\uc9c0\\ub2e4\", \"\\uc704\\ud574 \\ucc59\\uae30\\ub2e4 \\uba39\\ub2e4\", \"\\uc18d \\uba39\\ub2e4 \\uad1c\\ucc2e\\ub2e4\", \"\\ubcf5\\uc6a9 \\uc8fc\\uc758 \\uc0ac\\ud56d\", \"\\ubd80\\uc791\\uc6a9 \\uc0dd\\uae30\\ub2e4 \\uc218\\uac00\", \"\\ube44\\ud53c \\ub3c4\\ubc15 \\ud14c\\ub9ac\", \"\\uc544\\uce68 \\uc800\\ub141 \\ubcf5\\uc6a9\", \"\\ub3c4\\ubc15 \\ud14c\\ub9ac \\uc6c0\", \"\\ud5e4\\uc5b4 \\uc2a4\\ud0a8 \\ub124\\uc77c\", \"\\uc608\\uc804 \\ucc98\\ubc29 \\ubc1b\\ub2e4\", \"\\uac00\\uc7a5 \\ud6a8\\uacfc \\uc88b\\ub2e4\", \"\\ucc98\\ubc29 \\ubc1b\\ub2e4 \\ubcf5\\uc6a9\", \"\\uacf5\\ubcf5 \\uba39\\ub2e4 \\uad1c\\ucc2e\\ub2e4\", \"\\ub178\\uc2a4 \\uce74\\ub098 \\ub7fc\", \"\\ubc88 \\uc0ac\\uc9c4 \\uc81c\\ud488\", \"\\uc2dd\\ud6c4 \\uc2dd\\ud6c4 \\uc2dd\\ud6c4\", \"\\uc815\\ub3c4 \\ud568\\uc720 \\ub418\\uc5b4\\ub2e4\", \"\\ubaa8\\ub0ad \\uc5fc \\ubc14\\ub974\\ub2e4\", \"\\ub354 \\uc88b\\ub2e4 \\uc12d\\ucde8\", \"\\uc6b4\\ub3d9 \\uc88b\\uc544\\ud558\\ub2e4 \\uc0ac\\ub78c\", \"\\ubc84 \\ubb3c\\ub9ac \\ud0a4\\ub4dc\", \"\\uc900\\ube44 \\uc911 \\uc12d\\ucde8\", \"\\uc911 \\uc12d\\ucde8 \\uac00\\ub2a5\\ud558\\ub2e4\", \"\\uc0dd\\uae30\\ub2e4 \\uc218\\uac00 \\uac74\\uac00\", \"\\uc774\\ub807\\uac8c \\ucc98\\ubc29 \\ubc1b\\ub2e4\", \"\\uc804\\ubb38\\uac00 \\ub4e4\\ub2e4 \\uc758\\uacac\", \"\\ub354 \\uc88b\\ub2e4 \\uad81\\uae08\\ud558\\ub2e4\", \"\\uc800\\ub141 \\uc2dd\\ud6c4 \\uc774\\ub807\\uac8c\", \"\\ud558\\ub8e8 \\uc12d\\ucde8 \\ub7c9\", \"\\uad81\\uae08\\ud558\\ub2e4 \\ubb38\\uc758 \\ub4dc\\ub9ac\\ub2e4\", \"\\uc2dd\\ud6c4 \\uc800\\ub141 \\uc2dd\\ud6c4\", \"\\uba39\\ub2e4 \\uad1c\\ucc2e\\ub2e4 \\uba39\\ub2e4\", \"\\uba39\\ub2e4 \\uba39\\ub2e4 \\uac74\\uc9c0\\ub2e4\", \"\\uc12d\\ucde8 \\ud761\\uc218 \\uc728\", \"\\uba39\\ub2e4 \\ub354 \\uc88b\\ub2e4\", \"\\ud6a8\\uacfc \\ub354 \\uc88b\\ub2e4\", \"\\uc2dd\\ud6c4 \\uc810\\uc2ec \\uc2dd\\ud6c4\", \"\\ubc14\\uc774 \\uc624\\ud398 \\ub9b0\", \"\\ubcf5\\uc6a9 \\ud574\\ub3c4 \\uad1c\\ucc2e\\ub2e4\", \"\\ud53c\\ub85c \\ud68c\\ubcf5 \\uc81c\\ub85c\", \"\\uc810\\uc2ec \\uc800\\ub141 \\uc2dd\\uc804\", \"\\ud1a0\\ubaa8 \\ub098\\uc624\\ub2e4 \\ud310\\ud1a0\", \"\\ud310 \\ud1a0\\ubaa8 \\ub098\\uc624\\ub2e4\", \"\\uc6d0\\uc2a4 \\ub370 \\uc77c\\ub9ac\", \"\\uc12d\\ucde8 \\uc608\\uc815 \\uc774\\ub807\\uac8c\", \"\\uc810\\uc2ec \\uc2dd\\ud6c4 \\uba39\\ub2e4\", \"\\uc694 \\ub2f5\\ubcc0 \\ubd80\\ud0c1\\ub4dc\\ub9ac\\ub2e4\", \"\\uad1c\\ucc2e\\ub2e4 \\uac74\\uc9c0\\ub2e4 \\uad81\\uae08\\ud558\\ub2e4\", \"\\ubc29\\ubc95 \\uc54c\\ub824\\uc8fc\\ub2e4 \\uac10\\uc0ac\\ud558\\ub2e4\", \"\\uc704\\ubcbd \\uc790\\uadf9 \\ubd80\\uc791\\uc6a9\", \"\\ub2e5 \\uc815\\ud1a0 \\ud53c\\uc18c\", \"\\uc815\\ud1a0 \\ud53c\\uc18c \\ud30c\\ub2e4\", \"\\ud658\\uc778 \\ub2e5 \\uc815\\ud1a0\", \"\\ub85c\\ub098 \\ubbfc \\ube44\\ud0c0\", \"\\uce74\\ub974 \\ubcf5\\uc2e4 \\uc131\\ubd84\", \"\\uc2b5\\uc724\\ubc34\\ub4dc \\uc885\\ub958 \\uc911\", \"\\uc885\\ub958 \\uc911 \\uba54\\ud53c\", \"\\ud6a8\\ub2a5 \\ud6a8\\uacfc \\ucc28\\uc774\\uc810\", \"\\uba39\\ub2e4 \\ubcf5\\uc6a9 \\ud574\\ub3c4\", \"\\uc12d\\ucde8 \\uc5ec\\ucb48\\ub2e4 \\ubcf4\\ub2e4\", \"\\uad81\\uae08\\ud558\\ub2e4 \\ub85c\\ub098 \\ubbfc\", \"\\uc1a1\\uce68\\uc720 \\uc544\\uce68 \\uc810\\uc2ec\", \"\\uc790\\uc784 \\uc1a1\\uce68\\uc720 \\uc544\\uce68\", \"\\ud30c\\ud30c\\uc57c \\uc790\\uc784 \\uc1a1\\uce68\\uc720\", \"\\ub098\\uc624\\ub2e4 \\ud310\\ud1a0 \\uac00\\ub2e4\", \"\\ud310\\ud1a0 \\uac00\\ub2e4 \\ucc28\\uc774\\uc810\", \"\\ud06c\\ub2e4 \\uc815\\ud734 \\ub9ac\\ub4dc\", \"\\ucc59\\uae30\\ub2e4 \\uba39\\ub2e4 \\uad1c\\ucc2e\\ub2e4\", \"\\uba39\\ub2e4 \\uac8c \\uc88b\\ub2e4\", \"\\uc544\\uce68 \\uc2dd\\ud6c4 \\uc810\\uc2ec\", \"\\ub9ce\\ub2e4 \\uc870\\uc5b8 \\ubd80\\ud0c1\\ub4dc\\ub9ac\\ub2e4\", \"\\uc544\\uce68 \\uc810\\uc2ec \\uc800\\ub141\", \"\\uc774\\ub807\\uac8c \\uba39\\ub2e4 \\uc694\", \"\\uaf2d \\ucc59\\uae30\\ub2e4 \\uba39\\ub2e4\", \"\\ud53c \\ub098\\uc2a4 \\ud14c\", \"\\ub098\\uc2a4 \\ud14c \\ub9ac\\ub4dc\", \"\\ubd80\\uc791\\uc6a9 \\uc5c6\\ub2e4 \\uad81\\uae08\\ud558\\ub2e4\", \"\\uad1c\\ucc2e\\ub2e4 \\ubb38\\uc758 \\ub4dc\\ub9ac\\ub2e4\", \"\\uba39\\ub2e4 \\uc548\\ub418\\ub2e4 \\uac00\\uc694\", \"\\uc2dd\\ud6c4 \\uc800\\ub141 \\uc2dd\\ud6c4\", \"\\uc2dd\\ud6c4 \\uc810\\uc2ec \\uc2dd\\ud6c4\", \"\\uac04\\ub2e8\\ud558\\ub2e4 \\uc800\\ub141 \\uc2dd\\ud6c4\", \"\\ub9ce\\uc774 \\uba39\\ub2e4 \\uac04\", \"\\ubcf5\\uc6a9 \\uc9c0\\uae08 \\uba39\\ub2e4\", \"\\uba39\\ub2e4 \\uc2dd\\ud6c4 \\uba39\\ub2e4\", \"\\uc2dd\\uc0ac \\ud6c4 \\ubcf5\\uc6a9\", \"\\ub3d9\\uc2dc \\uba39\\ub2e4 \\uad1c\\ucc2e\\ub2e4\", \"\\uace0\\ud608\\uc555\\uc57d \\ub4dc\\uc2dc\\ub2e4 \\ubd84\", \"\\uc0ac\\ud6c4 \\ud53c\\uc784 \\uc57d\", \"\\uad00\\uc808 \\ud30c\\uc11c \\uba39\\ub2e4\", \"\\ubcf4\\ub2e4 \\uc790\\uad81 \\uc601\\ud5a5\", \"\\uc601\\ud5a5 \\uc8fc\\ub2e4 \\ud639\", \"\\uc790\\uad81 \\uc601\\ud5a5 \\uc8fc\\ub2e4\", \"\\uc8fc\\ub2e4 \\ud639 \\ud06c\\ub2e4\", \"\\ud30c\\uc11c \\uba39\\ub2e4 \\ubcf4\\ub2e4\", \"\\ud639 \\ud06c\\ub2e4 \\uc548\\ub418\\ub2e4\", \"\\uc815\\ubcf4 \\uc7ac\\ub8cc \\ud568\\ub7c9\", \"\\uac1c\\ub2e4 \\uba39\\ub2e4 \\uc0c1\\uad00\", \"\\ubb38\\uc758 \\ub4dc\\ub9ac\\ub2e4 \\ud604\\uc7ac\", \"\\uc2dd\\ud6c4 \\uac04\\ub2e8\\ud558\\ub2e4 \\uc800\\ub141\", \"\\uc800\\ub141 \\uc2dd\\ud6c4 \\uac04\\ub2e8\\ud558\\ub2e4\", \"\\uc810\\uc2ec \\uc2dd\\uc804 \\uc810\\uc2ec\", \"\\uba39\\ub2e4 \\ubab8 \\uc88b\\ub2e4\", \"\\ubcf5\\uc6a9 \\ubb38\\uc758 \\ub4dc\\ub9ac\\ub2e4\", \"\\ud6c4 \\uc774\\ub807\\uac8c \\uba39\\ub2e4\", \"\\uc804\\ubb38\\uac00 \\ubd84 \\uc758\\uacac\", \"\\uc624\\ub2e4 \\uac00\\ub2e4 \\ud3ec\\ud568\", \"\\uac74\\uc9c0\\ub2e4 \\uc544\\ub2c8\\ub2e4 \\uba39\\ub2e4\", \"\\ud53c\\ubd80 \\ub530\\ub054 \\uac70\\ub9ac\", \"\\uc815\\ud655\\ud558\\ub2e4 \\ud6a8\\ub2a5 \\ubd80\\uc791\\uc6a9\", \"\\ud6a8\\uacfc \\uc88b\\ub2e4 \\uc57d\", \"\\uba39\\ub2e4 \\uc800\\ub141 \\uba39\\ub2e4\", \"\\uc778\\ud130\\ub137 \\uac80\\uc0c9 \\ud574\\ubcf4\\ub2e4\", \"\\uba39\\ub2e4 \\uad1c\\ucc2e\\ub2e4 \\uad81\\uae08\\ud558\\ub2e4\", \"\\ubc25 \\uba39\\ub2e4 \\uba39\\ub2e4\", \"\\ucc28 \\ub450\\ub2e4 \\ubcf5\\uc6a9\", \"\\ucc59\\uae30\\ub2e4 \\uba39\\ub2e4 \\uba39\\ub2e4\", \"\\uc57d\\uacfc \\uace0\\ud608\\uc555\\uc57d \\ub4dc\\uc2dc\\ub2e4\", \"\\uba39\\ub2e4 \\ubcf4\\ub2e4 \\uc790\\uad81\", \"\\uc810\\uc2ec\\uc2dd\\uc0ac \\ud6c4 \\uc800\\ub141\\uc2dd\\uc0ac\", \"\\ud6c4 \\uc800\\ub141\\uc2dd\\uc0ac \\ud6c4\", \"\\uba39\\ub2e4 \\uc0c1\\uad00 \\uc5c6\\ub2e4\"], \"Freq\": [10.0, 10.0, 8.0, 6.0, 6.0, 7.0, 5.0, 5.0, 5.0, 15.0, 5.0, 5.0, 7.0, 5.0, 6.0, 4.0, 5.0, 6.0, 6.0, 5.0, 6.0, 4.0, 4.0, 4.0, 6.0, 4.0, 4.0, 4.0, 4.0, 4.0, 4.67475894429087, 3.5983910106464396, 3.324294376547328, 3.324294376547328, 3.324294376547328, 3.324294376547328, 3.324294376547328, 3.324294376547328, 3.001578212045811, 2.7352859583657563, 2.507055820426096, 2.5069323185054304, 2.50580151139564, 2.488947615955463, 2.2393248281807243, 2.2393248281807243, 2.239040185658809, 2.238940678397016, 2.238940678397016, 2.2388710468379354, 2.2388710468379354, 2.2388710468379354, 2.2387837721473316, 2.2387837721473316, 2.2387837721473316, 2.2387837721473316, 2.2387837721473316, 2.2387837721473316, 2.2377451798049717, 2.237536755611239, 4.081869742899352, 2.7613975577790324, 2.7400797148216136, 4.6904556855448485, 3.685776970599665, 3.016508535666401, 5.143289004066409, 2.5071459180177436, 3.8533227343175276, 2.3237879093448615, 3.6544933459906632, 2.485693987260745, 3.004972750550965, 3.2464023032878657, 4.095549050874037, 2.719187424196546, 2.5060661583684953, 2.5065956875559587, 2.5008960151067994, 2.502475898724305, 5.827500790308648, 5.000581237748108, 3.8473097935981904, 2.95799752532962, 2.957936733103369, 2.79511078961129, 2.7923874319757234, 4.368030524573378, 2.684481230379381, 2.6682789845792074, 2.6665155630162514, 2.659070303307102, 2.626492375061273, 2.3980280367816658, 2.3980280367816658, 2.3974847062595432, 2.3966273570687324, 2.3956352368763416, 2.3956352368763416, 2.3950069760381325, 2.380834564792429, 1.7893182690861866, 1.789188303352491, 1.788962679262782, 1.7887009597887362, 1.7885734525641903, 1.7884469510933878, 1.7881886958822348, 1.766925944248291, 1.516100682997657, 2.9434572317147625, 2.908063863490663, 2.9435070724002554, 3.0554141623867723, 4.349867505975762, 4.666433637145309, 2.879909240207123, 3.214932517068942, 2.925688692085287, 2.958309979492486, 2.395198739751823, 9.565603282399366, 9.565603282399366, 5.3554029236355145, 3.933301612401803, 3.932980089254044, 3.9270730978699997, 3.6336389386045136, 3.0188946517366637, 3.0008807195098166, 5.072238461716302, 2.9681152521194423, 2.7403614960401717, 2.740371682035211, 2.740062116359889, 2.7181476123370474, 2.717680606607967, 2.447667371457752, 2.447667371457752, 2.447667371457752, 2.447667371457752, 2.4474392937427436, 2.4474392937427436, 2.446928886817409, 2.4466904016726865, 2.4443071002681855, 2.4458664432478843, 2.4392127741405307, 2.4102192250001115, 3.2913086816306865, 2.09131520657375, 4.934219557543023, 3.285553815868206, 3.0011285049108793, 4.561436496922072, 4.010022527037151, 7.426776830573258, 3.0194021800112263, 3.918611636077861, 3.299220985429407, 3.133925536583839, 2.67698600638359, 4.468237299529375, 3.267261318820504, 3.2975719614064283, 2.998629171736801, 3.0096614901029675, 2.7463490896458307, 5.626923921224047, 7.481639595571239, 3.4394765971512142, 3.185995167652146, 3.185402093715747, 3.1780049603315796, 2.8918505285048663, 2.8910954269451596, 2.8885366673450235, 2.882333607097838, 2.8809869726253234, 2.8731473453242438, 2.857284929060954, 2.8493345682075324, 2.8471335462267904, 2.5823834917899116, 2.5823834917899116, 2.5823834917899116, 2.58145139266344, 2.58145139266344, 2.5786753487369394, 2.5743036849548258, 2.220111740697612, 2.2193997877984604, 3.185815088038199, 1.927167558927906, 1.9268371194406992, 1.9263906628916951, 1.926199796112609, 1.9252685775710467, 3.178189442870073, 2.776655712866452, 2.800011466415248, 2.8905340540654945, 2.846771625829077, 2.6252171230932677, 3.983659424822134, 3.9836969552007973, 3.976931449847102, 4.866657154422967, 2.860652087070829, 2.6014528908299632, 2.6014378350385226, 2.601431943641872, 2.6013217527045174, 2.6012953505195275, 2.6009106641382282, 2.6012342545542615, 2.601050966658464, 2.600940993920985, 2.5945001699827026, 2.587495081165214, 2.5241145631981126, 2.323597386995524, 2.323466903469706, 2.3234180266974933, 2.323123893264713, 2.3230998912783587, 2.3199488668697694, 2.3196316042501386, 2.3212923235059915, 2.3197409223879895, 2.3197409223879895, 2.3184378327288178, 2.5083849705406522, 2.861256282527334, 5.6506584731049365, 2.7393155000527343, 2.8665871236966605, 3.024458879743893, 4.312437324706329, 2.976856831206464, 2.6004843015806225, 2.601123845417031, 2.6064162834081905, 2.633728143680935, 2.426235772043863, 4.917049235603509, 4.308066252034353, 3.781009368828111, 3.780927320501116, 3.490285078797762, 3.490285078797762, 4.92656345809869, 2.900127111119566, 2.6334157019444877, 2.6201818143157216, 2.58710682262278, 2.5772147126009517, 2.3526344849431986, 2.3524276724076305, 2.3524276724076305, 2.3524276724076305, 2.3522728802030946, 2.352215573253055, 2.3521424064459926, 2.3521424064459926, 2.3521424064459926, 2.3520760065112603, 2.349732131108153, 2.3484407158170333, 2.3510275642297187, 2.3510275642297187, 2.3510275642297187, 2.3506084410748147, 2.3506084410748147, 2.350782899502058, 4.996163277584023, 3.6935082115247866, 2.75206646429827, 3.16977745753322, 3.435671132480238, 2.8752893062343854, 2.8824473883703625, 2.634700773292799, 2.6346868166186197, 2.63464388927228, 2.4657814539807896, 2.4117350790798966, 2.4575613958186118, 2.364630034935679, 3.3616274080183373, 3.0511084977766294, 2.5390264308514072, 2.53883199309982, 2.525393127440957, 2.4778778824272, 2.2676010414069507, 2.2674978538384707, 2.2674515205969374, 2.2674515205969374, 2.2674515205969374, 2.2674515205969374, 2.2674515205969374, 2.2674515205969374, 2.2674515205969374, 2.267432704040332, 2.2670177281521897, 2.265806994015356, 2.2639747065248534, 2.2639747065248534, 2.2639747065248534, 1.9470448133520433, 1.692076930601626, 2.530065298678886, 1.433887673593254, 1.433884840993335, 1.4338764443578604, 1.4338683512152346, 1.4338582347869522, 1.4338453869230336, 3.821832835368708, 2.7976320800478818, 4.647867530623239, 1.9499316373267, 1.6922938268239998, 1.6894159053062319, 2.267658300391029, 2.2675684665078815, 2.2673218279863576, 2.2673218279863576, 2.5340973023351063], \"Total\": [10.0, 10.0, 8.0, 6.0, 6.0, 7.0, 5.0, 5.0, 5.0, 15.0, 5.0, 5.0, 7.0, 5.0, 6.0, 4.0, 5.0, 6.0, 6.0, 5.0, 6.0, 4.0, 4.0, 4.0, 6.0, 4.0, 4.0, 4.0, 4.0, 4.0, 5.132700113371424, 4.051513291792678, 3.777397715282654, 3.777397715282654, 3.777397715282654, 3.777397715282654, 3.777397715282654, 3.777397715282654, 3.469421303549683, 3.198419837412625, 2.960154757794226, 2.9600534066086177, 2.960187262908218, 2.9482255376802833, 2.692424480223264, 2.692424480223264, 2.692141343271033, 2.6920423896763768, 2.6920423896763768, 2.6919731228793586, 2.6919731228793586, 2.6919731228793586, 2.691886313909139, 2.691886313909139, 2.691886313909139, 2.691886313909139, 2.691886313909139, 2.691886313909139, 2.6920591132168754, 2.692028847598115, 5.366288457591758, 3.4810650578046287, 3.457641184135733, 6.845697594101385, 5.390288526753055, 4.277300272074857, 10.039636139669618, 3.2310256563050346, 8.515075877452151, 2.9124582216649832, 7.7511619257602185, 3.495363255981128, 5.914929656886889, 7.329145871508058, 15.984890344733046, 5.156389112818291, 4.126643319453354, 4.876295793886586, 4.512314469369998, 6.378435688053698, 6.284910836124697, 5.460026696316725, 4.301312246055881, 3.4061042723839328, 3.40605280745549, 3.2519683564988235, 3.2521400422924263, 5.092550513819597, 3.1328121654230165, 3.1210466956278498, 3.120278533368189, 3.1142410089256716, 3.1012149815002497, 2.8461232304677577, 2.8461232304677577, 2.84558260753727, 2.845296615014369, 2.845906316346692, 2.845906316346692, 2.845309523763716, 2.8422371273702, 2.237412830973118, 2.2373010236511015, 2.2373847399405298, 2.2374006704830456, 2.237337706953779, 2.2373917515279946, 2.237407581864876, 2.237141882417276, 1.9641949652128565, 3.9485415701061646, 3.9077471645206256, 3.9720917562509483, 4.157425302089641, 6.393671308344959, 7.543666496128125, 4.432252779701283, 6.378435688053698, 5.561075183066102, 5.6834879533308555, 4.094916178303074, 10.012137832868412, 10.012137832868412, 5.817942547718463, 4.379846034654563, 4.379895337564483, 4.375157436499554, 4.080172616714835, 3.4657892532396275, 3.4531746593705748, 5.836828783401894, 3.4328024637863748, 3.1869066670703585, 3.1869206260449103, 3.18667185573127, 3.171645941052954, 3.1716063036287534, 2.8941980374108818, 2.8941980374108818, 2.8941980374108818, 2.8941980374108818, 2.893971084062912, 2.893971084062912, 2.893463233038516, 2.8932259328700414, 2.8908645095480554, 2.8934443368571565, 2.8920449174365723, 2.890118069938674, 3.9961956187413143, 2.5497614148389913, 6.0786318444007765, 4.0294854812802745, 3.719130110053657, 6.67100454605265, 5.764901428834802, 15.984890344733046, 4.0000367269879575, 6.02108387089227, 4.802343003774698, 4.52381248463479, 3.4096933879669624, 11.085577417414916, 6.194578543584834, 6.840588611681085, 5.384982946017674, 6.476331548688368, 4.352524221889223, 6.373651431205094, 8.508926149617878, 3.9160824576146003, 3.628276666192541, 3.6282926869145307, 3.6261672992319722, 3.334117566759393, 3.3340160206914233, 3.333481495411103, 3.3268267477136364, 3.3262324989489436, 3.3287894376965985, 3.3108962894168497, 3.304593740187204, 3.3057601594678774, 3.0246529237597435, 3.0246529237597435, 3.0246529237597435, 3.023725250388002, 3.023725250388002, 3.020968823901997, 3.02242003570323, 2.6634308557259905, 2.6634940605223028, 3.899044883289148, 2.3694515302791355, 2.369490725946501, 2.3694314587412215, 2.369437480884506, 2.3693823048954057, 4.15386168864352, 4.565831390492775, 5.220046211908099, 6.772211878743344, 7.329145871508058, 5.870084859837043, 4.4389171998486345, 4.444209477263757, 4.438845126248767, 5.608728863821817, 3.3142647895952453, 3.051895655247034, 3.0518799820007088, 3.0518738866990374, 3.051791053200756, 3.051866267734096, 3.0514524015203524, 3.051853275151637, 3.0518438501888734, 3.0518714037100523, 3.047072366360002, 3.041937982131856, 2.9774839821706762, 2.7740401447413703, 2.7739103311236026, 2.7738616112646874, 2.7735689943745356, 2.7735451966903963, 2.7704205041071583, 2.770103428000303, 2.773792204892855, 2.773479758518886, 2.773479758518886, 2.7725768704971063, 3.01585248313034, 3.582618877012096, 7.548505101134657, 3.5074945070539503, 3.845743034674464, 4.337603617382649, 8.437132111056522, 5.570300023132543, 4.141163275174111, 4.673967873554895, 4.937944978542738, 6.372217027223381, 5.487559037177836, 5.369666461448067, 4.764509220007269, 4.230529088831749, 4.230509107973741, 3.9423326372363197, 3.9423326372363197, 5.6397101581365385, 3.3517228545203905, 3.0829367313148364, 3.074399698552074, 3.0598725296672096, 3.051485032969612, 2.8021565048674275, 2.801950742974159, 2.801950742974159, 2.801950742974159, 2.801796630353789, 2.801739735803073, 2.8016669532564817, 2.8016669532564817, 2.8016669532564817, 2.801600622071848, 2.7992800258932906, 2.798160511605856, 2.8016679469924073, 2.8016679469924073, 2.8016679469924073, 2.8018132173243337, 2.8018132173243337, 2.802070923772427, 7.442417319403912, 6.088053331333821, 3.8222677748668406, 6.840588611681085, 11.085577417414916, 5.870084859837043, 6.492007413069082, 4.479536819246072, 4.479536292114535, 4.685284873143593, 3.5855306121559716, 3.3414825102733747, 8.437132111056522, 5.487559037177836, 3.8192620836893227, 3.507994950273857, 2.9912642785527934, 2.991318063875027, 2.9821359068507847, 2.956074809481859, 2.719802527418336, 2.719699955187453, 2.7196538716948204, 2.7196538716948204, 2.7196538716948204, 2.7196538716948204, 2.7196538716948204, 2.7196538716948204, 2.7196538716948204, 2.7203000054139266, 2.720030647637345, 2.7195846957314638, 2.719742283010811, 2.719742283010811, 2.719742283010811, 2.4019647292056607, 2.1443075953234696, 3.261936668883111, 1.8860869962263245, 1.886084301703292, 1.8860764937236434, 1.8860668762220696, 1.8860569277502188, 1.8860439275440277, 5.377528096832733, 4.056585198194346, 8.70025814114367, 2.917766492428691, 2.4068027967663737, 2.404977000659568, 3.8775055977251967, 3.8789105468181324, 4.969610865341982, 4.969610865341982, 7.790985384264685], \"Category\": [\"Default\", \"Default\", \"Default\", \"Default\", \"Default\", \"Default\", \"Default\", \"Default\", \"Default\", \"Default\", \"Default\", \"Default\", \"Default\", \"Default\", \"Default\", \"Default\", \"Default\", \"Default\", \"Default\", \"Default\", \"Default\", \"Default\", \"Default\", \"Default\", \"Default\", \"Default\", \"Default\", \"Default\", \"Default\", \"Default\", \"Topic1\", \"Topic1\", \"Topic1\", \"Topic1\", \"Topic1\", \"Topic1\", \"Topic1\", \"Topic1\", \"Topic1\", \"Topic1\", \"Topic1\", \"Topic1\", \"Topic1\", \"Topic1\", \"Topic1\", \"Topic1\", \"Topic1\", \"Topic1\", \"Topic1\", \"Topic1\", \"Topic1\", \"Topic1\", \"Topic1\", \"Topic1\", \"Topic1\", \"Topic1\", \"Topic1\", \"Topic1\", \"Topic1\", \"Topic1\", \"Topic1\", \"Topic1\", \"Topic1\", \"Topic1\", \"Topic1\", \"Topic1\", \"Topic1\", \"Topic1\", \"Topic1\", \"Topic1\", \"Topic1\", \"Topic1\", \"Topic1\", \"Topic1\", \"Topic1\", \"Topic1\", \"Topic1\", \"Topic1\", \"Topic1\", \"Topic1\", \"Topic2\", \"Topic2\", \"Topic2\", \"Topic2\", \"Topic2\", \"Topic2\", \"Topic2\", \"Topic2\", \"Topic2\", \"Topic2\", \"Topic2\", \"Topic2\", \"Topic2\", \"Topic2\", \"Topic2\", \"Topic2\", \"Topic2\", \"Topic2\", \"Topic2\", \"Topic2\", \"Topic2\", \"Topic2\", \"Topic2\", \"Topic2\", \"Topic2\", \"Topic2\", \"Topic2\", \"Topic2\", \"Topic2\", \"Topic2\", \"Topic2\", \"Topic2\", \"Topic2\", \"Topic2\", \"Topic2\", \"Topic2\", \"Topic2\", \"Topic2\", \"Topic2\", \"Topic2\", \"Topic2\", \"Topic3\", \"Topic3\", \"Topic3\", \"Topic3\", \"Topic3\", \"Topic3\", \"Topic3\", \"Topic3\", \"Topic3\", \"Topic3\", \"Topic3\", \"Topic3\", \"Topic3\", \"Topic3\", \"Topic3\", \"Topic3\", \"Topic3\", \"Topic3\", \"Topic3\", \"Topic3\", \"Topic3\", \"Topic3\", \"Topic3\", \"Topic3\", \"Topic3\", \"Topic3\", \"Topic3\", \"Topic3\", \"Topic3\", \"Topic3\", \"Topic3\", \"Topic3\", \"Topic3\", \"Topic3\", \"Topic3\", \"Topic3\", \"Topic3\", \"Topic3\", \"Topic3\", \"Topic3\", \"Topic3\", \"Topic3\", \"Topic3\", \"Topic3\", \"Topic3\", \"Topic3\", \"Topic3\", \"Topic4\", \"Topic4\", \"Topic4\", \"Topic4\", \"Topic4\", \"Topic4\", \"Topic4\", \"Topic4\", \"Topic4\", \"Topic4\", \"Topic4\", \"Topic4\", \"Topic4\", \"Topic4\", \"Topic4\", \"Topic4\", \"Topic4\", \"Topic4\", \"Topic4\", \"Topic4\", \"Topic4\", \"Topic4\", \"Topic4\", \"Topic4\", \"Topic4\", \"Topic4\", \"Topic4\", \"Topic4\", \"Topic4\", \"Topic4\", \"Topic4\", \"Topic4\", \"Topic4\", \"Topic4\", \"Topic4\", \"Topic4\", \"Topic5\", \"Topic5\", \"Topic5\", \"Topic5\", \"Topic5\", \"Topic5\", \"Topic5\", \"Topic5\", \"Topic5\", \"Topic5\", \"Topic5\", \"Topic5\", \"Topic5\", \"Topic5\", \"Topic5\", \"Topic5\", \"Topic5\", \"Topic5\", \"Topic5\", \"Topic5\", \"Topic5\", \"Topic5\", \"Topic5\", \"Topic5\", \"Topic5\", \"Topic5\", \"Topic5\", \"Topic5\", \"Topic5\", \"Topic5\", \"Topic5\", \"Topic5\", \"Topic5\", \"Topic5\", \"Topic5\", \"Topic5\", \"Topic5\", \"Topic5\", \"Topic5\", \"Topic5\", \"Topic5\", \"Topic6\", \"Topic6\", \"Topic6\", \"Topic6\", \"Topic6\", \"Topic6\", \"Topic6\", \"Topic6\", \"Topic6\", \"Topic6\", \"Topic6\", \"Topic6\", \"Topic6\", \"Topic6\", \"Topic6\", \"Topic6\", \"Topic6\", \"Topic6\", \"Topic6\", \"Topic6\", \"Topic6\", \"Topic6\", \"Topic6\", \"Topic6\", \"Topic6\", \"Topic6\", \"Topic6\", \"Topic6\", \"Topic6\", \"Topic6\", \"Topic6\", \"Topic6\", \"Topic6\", \"Topic6\", \"Topic6\", \"Topic6\", \"Topic6\", \"Topic6\", \"Topic6\", \"Topic6\", \"Topic6\", \"Topic6\", \"Topic6\", \"Topic6\", \"Topic7\", \"Topic7\", \"Topic7\", \"Topic7\", \"Topic7\", \"Topic7\", \"Topic7\", \"Topic7\", \"Topic7\", \"Topic7\", \"Topic7\", \"Topic7\", \"Topic7\", \"Topic7\", \"Topic7\", \"Topic7\", \"Topic7\", \"Topic7\", \"Topic7\", \"Topic7\", \"Topic7\", \"Topic7\", \"Topic7\", \"Topic7\", \"Topic7\", \"Topic7\", \"Topic7\", \"Topic7\", \"Topic7\", \"Topic7\", \"Topic7\", \"Topic7\", \"Topic7\", \"Topic7\", \"Topic7\", \"Topic7\", \"Topic7\", \"Topic7\", \"Topic7\", \"Topic7\", \"Topic7\"], \"logprob\": [30.0, 29.0, 28.0, 27.0, 26.0, 25.0, 24.0, 23.0, 22.0, 21.0, 20.0, 19.0, 18.0, 17.0, 16.0, 15.0, 14.0, 13.0, 12.0, 11.0, 10.0, 9.0, 8.0, 7.0, 6.0, 5.0, 4.0, 3.0, 2.0, 1.0, -7.4553, -7.717, -7.7962, -7.7962, -7.7962, -7.7962, -7.7962, -7.7962, -7.8984, -7.9913, -8.0784, -8.0784, -8.0789, -8.0856, -8.1913, -8.1913, -8.1915, -8.1915, -8.1915, -8.1915, -8.1915, -8.1915, -8.1916, -8.1916, -8.1916, -8.1916, -8.1916, -8.1916, -8.192, -8.1921, -7.5909, -7.9818, -7.9895, -7.452, -7.693, -7.8934, -7.3598, -8.0784, -7.6486, -8.1543, -7.7015, -8.0869, -7.8972, -7.82, -7.5876, -7.9972, -8.0788, -8.0786, -8.0809, -8.0802, -7.1837, -7.3367, -7.5989, -7.8618, -7.8618, -7.9184, -7.9194, -7.472, -7.9588, -7.9649, -7.9655, -7.9683, -7.9807, -8.0717, -8.0717, -8.0719, -8.0722, -8.0727, -8.0727, -8.0729, -8.0788, -8.3645, -8.3645, -8.3647, -8.3648, -8.3649, -8.365, -8.3651, -8.3771, -8.5302, -7.8667, -7.8788, -7.8667, -7.8294, -7.4762, -7.4059, -7.8885, -7.7785, -7.8728, -7.8617, -8.0728, -6.6788, -6.6788, -7.2589, -7.5675, -7.5676, -7.5691, -7.6468, -7.8321, -7.8381, -7.3132, -7.8491, -7.9289, -7.9289, -7.929, -7.9371, -7.9372, -8.0419, -8.0419, -8.0419, -8.0419, -8.042, -8.042, -8.0422, -8.0423, -8.0433, -8.0426, -8.0453, -8.0573, -7.7457, -8.1992, -7.3408, -7.7475, -7.838, -7.4194, -7.5482, -6.9319, -7.832, -7.5713, -7.7433, -7.7947, -7.9523, -7.44, -7.7531, -7.7438, -7.8389, -7.8352, -7.9267, -7.2036, -6.9187, -7.6959, -7.7724, -7.7726, -7.7749, -7.8693, -7.8695, -7.8704, -7.8726, -7.873, -7.8758, -7.8813, -7.8841, -7.8849, -7.9825, -7.9825, -7.9825, -7.9828, -7.9828, -7.9839, -7.9856, -8.1336, -8.1339, -7.7725, -8.2751, -8.2753, -8.2755, -8.2756, -8.2761, -7.7749, -7.9099, -7.9016, -7.8697, -7.885, -7.966, -7.5401, -7.5401, -7.5418, -7.3399, -7.8712, -7.9662, -7.9662, -7.9662, -7.9663, -7.9663, -7.9664, -7.9663, -7.9664, -7.9664, -7.9689, -7.9716, -7.9964, -8.0792, -8.0792, -8.0793, -8.0794, -8.0794, -8.0808, -8.0809, -8.0802, -8.0808, -8.0808, -8.0814, -8.0027, -7.871, -7.1905, -7.9146, -7.8692, -7.8156, -7.4608, -7.8314, -7.9666, -7.9664, -7.9643, -7.9539, -8.036, -7.2982, -7.4305, -7.561, -7.561, -7.641, -7.641, -7.2963, -7.8262, -7.9227, -7.9277, -7.9404, -7.9442, -8.0354, -8.0355, -8.0355, -8.0355, -8.0356, -8.0356, -8.0356, -8.0356, -8.0356, -8.0356, -8.0366, -8.0372, -8.0361, -8.0361, -8.0361, -8.0363, -8.0363, -8.0362, -7.2823, -7.5844, -7.8786, -7.7373, -7.6567, -7.8348, -7.8323, -7.9222, -7.9222, -7.9222, -7.9884, -8.0106, -7.9918, -8.0303, -7.6344, -7.7313, -7.915, -7.9151, -7.9204, -7.9394, -8.0281, -8.0281, -8.0281, -8.0281, -8.0281, -8.0281, -8.0281, -8.0281, -8.0281, -8.0281, -8.0283, -8.0288, -8.0297, -8.0297, -8.0297, -8.1805, -8.3208, -7.9185, -8.4864, -8.4864, -8.4864, -8.4864, -8.4864, -8.4864, -7.506, -7.818, -7.3104, -8.179, -8.3207, -8.3224, -8.028, -8.0281, -8.0282, -8.0282, -7.9169], \"loglift\": [30.0, 29.0, 28.0, 27.0, 26.0, 25.0, 24.0, 23.0, 22.0, 21.0, 20.0, 19.0, 18.0, 17.0, 16.0, 15.0, 14.0, 13.0, 12.0, 11.0, 10.0, 9.0, 8.0, 7.0, 6.0, 5.0, 4.0, 3.0, 2.0, 1.0, 1.7805, 1.7553, 1.7461, 1.7461, 1.7461, 1.7461, 1.7461, 1.7461, 1.7291, 1.7175, 1.7078, 1.7078, 1.7073, 1.7046, 1.6897, 1.6897, 1.6896, 1.6896, 1.6896, 1.6896, 1.6896, 1.6896, 1.6896, 1.6896, 1.6896, 1.6896, 1.6896, 1.6896, 1.6891, 1.689, 1.6003, 1.6423, 1.6413, 1.4958, 1.4938, 1.5247, 1.2051, 1.6203, 1.081, 1.6481, 1.122, 1.533, 1.1967, 1.0596, 0.5122, 1.234, 1.3752, 1.2085, 1.2838, 0.9383, 1.8496, 1.8372, 1.8136, 1.7841, 1.7841, 1.7737, 1.7727, 1.7717, 1.7707, 1.7684, 1.768, 1.7671, 1.759, 1.7538, 1.7538, 1.7538, 1.7535, 1.7529, 1.7529, 1.7528, 1.748, 1.7016, 1.7016, 1.7014, 1.7013, 1.7013, 1.7012, 1.701, 1.6892, 1.6662, 1.6314, 1.6296, 1.6254, 1.6171, 1.54, 1.4448, 1.494, 1.24, 1.2829, 1.2722, 1.3888, 1.8888, 1.8888, 1.8516, 1.8269, 1.8268, 1.8264, 1.8185, 1.7964, 1.794, 1.794, 1.789, 1.7834, 1.7834, 1.7834, 1.7801, 1.7799, 1.7668, 1.7668, 1.7668, 1.7668, 1.7668, 1.7668, 1.7668, 1.7668, 1.7666, 1.7664, 1.7641, 1.7528, 1.7404, 1.7362, 1.7258, 1.7303, 1.7199, 1.5543, 1.5714, 1.1679, 1.6532, 1.5049, 1.559, 1.5673, 1.6925, 1.0258, 1.2947, 1.2047, 1.3489, 1.1681, 1.4739, 1.8156, 1.8116, 1.8105, 1.8103, 1.8101, 1.8083, 1.7979, 1.7977, 1.797, 1.7968, 1.7965, 1.793, 1.7929, 1.792, 1.7909, 1.7822, 1.7822, 1.7822, 1.7821, 1.7821, 1.7819, 1.7798, 1.7582, 1.7578, 1.7382, 1.7336, 1.7334, 1.7332, 1.7331, 1.7327, 1.6725, 1.4429, 1.3174, 1.0889, 0.9946, 1.1355, 1.8409, 1.8397, 1.8392, 1.8072, 1.8019, 1.7894, 1.7894, 1.7894, 1.7894, 1.7894, 1.7894, 1.7894, 1.7893, 1.7892, 1.7883, 1.7873, 1.7839, 1.7719, 1.7719, 1.7719, 1.7719, 1.7719, 1.7717, 1.7716, 1.771, 1.7705, 1.7705, 1.7702, 1.7649, 1.7243, 1.6595, 1.7019, 1.6553, 1.5885, 1.278, 1.3225, 1.4838, 1.3631, 1.3102, 1.0656, 1.133, 1.8924, 1.8798, 1.8681, 1.8681, 1.8587, 1.8587, 1.8453, 1.8358, 1.8229, 1.8206, 1.8126, 1.8116, 1.8056, 1.8056, 1.8056, 1.8056, 1.8056, 1.8056, 1.8056, 1.8056, 1.8056, 1.8056, 1.8054, 1.8053, 1.8051, 1.8051, 1.8051, 1.8049, 1.8049, 1.8049, 1.582, 1.4807, 1.652, 1.2113, 0.809, 1.2668, 1.1685, 1.4497, 1.4497, 1.4048, 1.6061, 1.6544, 0.747, 1.1386, 1.897, 1.8851, 1.8607, 1.8606, 1.8584, 1.8482, 1.8428, 1.8428, 1.8428, 1.8428, 1.8428, 1.8428, 1.8428, 1.8428, 1.8428, 1.8425, 1.8425, 1.8421, 1.8412, 1.8412, 1.8412, 1.8147, 1.7878, 1.7706, 1.7505, 1.7505, 1.7505, 1.7505, 1.7505, 1.7505, 1.6831, 1.6531, 1.3977, 1.6216, 1.6724, 1.6715, 1.4882, 1.4878, 1.2399, 1.2399, 0.9015]}, \"token.table\": {\"Topic\": [3, 5, 4, 7, 3, 4, 3, 7, 1, 7, 1, 2, 4, 2, 7, 5, 2, 3, 5, 7, 6, 6, 1, 6, 3, 3, 5, 1, 5, 1, 1, 4, 6, 2, 3, 2, 5, 6, 6, 3, 5, 6, 1, 4, 6, 7, 2, 4, 1, 2, 2, 5, 5, 1, 2, 2, 5, 7, 3, 3, 3, 3, 2, 6, 1, 6, 1, 3, 6, 2, 7, 3, 7, 4, 5, 2, 4, 6, 7, 3, 5, 6, 4, 4, 5, 6, 7, 3, 5, 4, 2, 3, 5, 7, 1, 5, 1, 7, 1, 5, 7, 4, 2, 7, 6, 3, 4, 5, 7, 2, 2, 4, 7, 1, 5, 3, 6, 1, 2, 1, 2, 3, 7, 1, 4, 6, 2, 1, 7, 3, 4, 3, 3, 2, 3, 3, 4, 4, 5, 3, 7, 1, 1, 2, 3, 6, 7, 6, 5, 5, 2, 1, 7, 3, 1, 3, 5, 1, 7, 1, 2, 3, 4, 7, 3, 2, 4, 4, 5, 1, 7, 6, 5, 1, 6, 4, 5, 5, 2, 7, 5, 3, 1, 2, 3, 6, 6, 1, 5, 4, 4, 4, 1, 5, 6, 1, 6, 4, 7, 1, 7, 5, 5, 6, 7, 5, 6, 4, 3, 4, 2, 1, 3, 4, 6, 1, 2, 2, 4, 3, 6, 5, 2, 3, 4, 6, 7, 5, 1, 1, 4, 3, 2, 7, 3, 4, 1, 2, 1, 3, 3, 7, 5, 7, 6, 1, 2, 2, 5, 6, 6, 5, 2, 4, 1, 5, 6, 7, 4, 1, 4, 4, 6, 5, 7, 5, 1, 2, 7, 1, 1, 3, 5, 6, 6, 4, 7, 5, 1, 5, 7, 4, 7, 7, 6, 6, 1, 2, 5, 5, 7, 5, 1, 7, 6, 7, 1, 1, 2, 6, 3, 4, 2, 1, 3, 2, 3, 7, 5, 5, 3, 7, 1, 4, 6, 7, 2, 2, 2, 3, 7, 5, 1, 2, 4, 4, 3, 3, 4, 4, 2, 6, 4, 6, 1, 3, 5, 6, 1, 7, 6, 6, 6, 3, 5, 6, 1, 6, 3, 6, 2, 1, 7, 3, 4, 3, 2, 5, 2, 1, 2, 2, 2, 5, 3, 5, 2, 3, 6, 7, 6, 1, 1, 2, 5, 7, 6, 7, 1, 2, 5, 7, 2, 3, 5], \"Freq\": [0.8566295475752909, 0.9845516086589587, 0.9075068532748319, 0.7854920490562581, 0.980350680168187, 0.9078271750977931, 0.9987876881969638, 0.7352858328038424, 0.6867051294066795, 0.5302011892559669, 0.2405334858325347, 0.721600457497604, 0.750893358330901, 0.7677057582531747, 0.7353475040331034, 1.0075620953678175, 0.7036710557118484, 0.6643322175492693, 0.16608305438731732, 0.7353876979770407, 0.9804329987322311, 0.5577974967552722, 0.7429734270967832, 0.714755280015086, 0.8656036997044083, 0.23054204307479104, 0.691626129224373, 0.6152210872361561, 0.41014739149077073, 1.0134952272490076, 0.1540355604010705, 0.308071120802141, 0.46210668120321147, 0.2297517369279447, 0.6892552107838341, 0.8938895729538389, 0.22323739217390218, 0.6697121765217066, 0.7138234581925319, 0.9458929365121982, 0.7209700997987771, 0.713788422232248, 0.14766224357787822, 0.44298673073363465, 0.14766224357787822, 0.29532448715575643, 0.6256186480495546, 0.3128093240247773, 0.7429494681807157, 0.702710261660491, 0.26495312293017714, 0.7948593687905314, 0.7219120696785896, 0.730385754157219, 0.2921543016628876, 0.7029112239973252, 0.9830092502893801, 0.6765728639832901, 0.750714000568599, 0.8066402387725871, 0.6920132505321619, 0.691213206777035, 0.6768567022484192, 0.22561890074947308, 0.7941975471268364, 0.7138276841126244, 0.7941975471268364, 0.4385587513444615, 0.4385587513444615, 0.9612159934045783, 0.8551893724264912, 0.5571048283854962, 0.18570160946183206, 0.9921536355246041, 0.9011206607179784, 0.16425611695174025, 0.16425611695174025, 0.657024467806961, 0.16425611695174025, 0.4842944485879236, 0.3228629657252824, 0.1614314828626412, 0.7222195212233165, 0.11493911833155648, 0.22987823666311297, 0.11493911833155648, 0.5746955916577824, 0.179523543767331, 0.538570631301993, 0.9019213181724278, 0.8939342443674188, 0.20251339460957604, 0.6075401838287281, 0.20251339460957604, 0.24147804217112306, 0.7244341265133691, 0.5721865950778302, 0.8326516937080121, 0.4980260171226224, 0.19921040684904898, 0.19921040684904898, 0.8997883067800336, 0.2578043468468999, 0.5156086936937998, 0.7138776256128021, 0.2567069377436344, 0.1283534688718172, 0.2567069377436344, 0.3850604066154516, 0.8939978352374148, 0.48841048581091995, 0.24420524290545997, 1.0029023781288327, 0.7453941456205448, 0.1863485364051362, 0.7843871149514172, 0.5985367254956468, 0.9284977338839108, 0.9614526292823115, 0.7429303519401229, 0.5278448770603666, 0.35189658470691104, 0.17594829235345552, 0.40932464063274465, 0.40932464063274465, 0.13644154687758156, 0.8807849348176038, 0.1859590469808948, 0.7438361879235792, 0.9414210611627494, 0.8999599980170352, 0.9132741124575806, 0.6631574607014667, 0.8939007960039812, 0.9458811152811183, 0.6918345683079664, 0.766071713879944, 0.8440771944232969, 0.7210987592293614, 0.6910919086282488, 0.7354064034626716, 0.8618052090908012, 0.5160516627457358, 0.2580258313728679, 0.2580258313728679, 0.9311565319555478, 0.6854558118992037, 0.983127876291922, 0.7210345448631958, 0.721003839799637, 0.9224695003863692, 0.9379631669702444, 0.7353876979770407, 0.691552191303012, 0.15440840118855975, 0.46322520356567926, 0.15440840118855975, 0.8676435292836424, 0.9327020080336466, 0.2502363115251512, 0.1251181557625756, 0.4379135451690146, 0.1251181557625756, 0.0625590778812878, 0.9142528144542138, 0.967362797450667, 0.7509111774763327, 0.9930589075477737, 0.9830026113054281, 0.7429257367272669, 1.0029204111150731, 0.8395408247302957, 0.9830292925374308, 0.2134341938805206, 0.6403025816415617, 0.9918493379633458, 0.9830050653652641, 0.8914675894304105, 0.702710261660491, 0.7353752373254541, 0.7213506039388593, 0.9987876881969638, 0.8646975208604957, 0.954667481599409, 0.6910377155079472, 0.7144694283887412, 0.8950620711238013, 0.2139509784947295, 0.6418529354841885, 0.9925820913577905, 0.9413756093758573, 0.8273197986853515, 0.9872854195253338, 0.9830006480245995, 0.7138604709194755, 0.7941975471268364, 0.7138607241218752, 0.7694192013171355, 1.0059903685503322, 0.7429734270967832, 0.7353637925524174, 0.7210165034470265, 0.47409474538844315, 0.23704737269422158, 0.11852368634711079, 0.3644607714377444, 0.3644607714377444, 0.9921536355246041, 0.6910919086282488, 0.9918493379633458, 0.7027638220246872, 0.5818024851038271, 0.19393416170127573, 0.19393416170127573, 0.19393416170127573, 0.7420753045309575, 0.18551882613273937, 0.38313837058330064, 0.5747075558749509, 0.2616247889735663, 0.7848743669206989, 0.9831383896092507, 0.09020729929945259, 0.36082919719781037, 0.09020729929945259, 0.2706218978983578, 0.09020729929945259, 0.9000475833697085, 1.0134493981480983, 0.7941975471268364, 0.8440843446311442, 0.8594103429159465, 0.2578977579262985, 0.515795515852597, 0.6910377155079472, 0.8268351698360847, 0.7941975471268364, 0.9576060873074772, 0.7429030444478594, 0.6912698995532737, 0.6910377155079472, 0.7353876979770407, 0.9830034110719756, 0.5301989943381196, 0.9758002518061938, 0.7429340892035545, 0.9299487624196148, 0.9157464382679568, 0.7219947023580165, 0.8865703839028652, 0.7137360088652942, 0.9829955997486968, 0.7027638220246872, 0.9918493379633458, 0.507191154252702, 0.169063718084234, 0.169063718084234, 0.169063718084234, 0.9060990552888601, 0.6648472796752695, 0.44323151978351294, 0.5110658655935141, 0.5110658655935141, 0.9947436145438103, 0.7395382701034727, 0.9011352922286723, 0.7269831113965532, 0.24232770379885107, 0.7353876979770407, 0.7428249203239133, 0.46975506238200015, 0.23487753119100008, 0.23487753119100008, 0.11743876559550004, 0.7138604709194755, 0.901228526510794, 0.7353637925524174, 0.8553113893597484, 0.7428249203239133, 0.8373762610501287, 0.5301982368792088, 0.6570544865600523, 0.2190181621866841, 0.7353637925524174, 0.9730981403308057, 0.9455126789493792, 0.26512306728121177, 0.6628076682030294, 0.13256153364060588, 0.4024459971198108, 0.4024459971198108, 0.7210925720818485, 0.7941975471268364, 0.7352130265116387, 0.713788422232248, 0.530206689568405, 0.7429734270967832, 0.7013769923019089, 0.23379233076730296, 0.7138607241218752, 0.744511926879265, 0.8226655017230768, 0.8939195874560557, 1.0134605267176857, 0.8739215354358041, 0.1499024611805605, 0.7495123059028025, 0.7353876979770407, 0.7211157730129081, 0.7211157730129081, 0.9132638320586604, 0.8309779275173986, 0.7429734270967832, 0.26872989166914746, 0.6718247291728686, 0.8316087843881657, 0.7552695617564344, 0.7854610355155526, 0.5394640247150819, 0.17982134157169397, 0.17982134157169397, 0.9862134000172925, 0.9741461393729742, 0.7597741968104287, 0.8268388207419018, 0.9017602140122721, 0.691217720874627, 0.8798445075991882, 0.8440821993131484, 0.8441018555206473, 0.8938944313305351, 0.7138421797150736, 0.8998157121566099, 0.7137578078528436, 0.7429494681807157, 0.8225535166446477, 0.16451070332892956, 0.7609707947178906, 0.7429303519401229, 0.7353876979770407, 0.7138604709194755, 0.7609707947178906, 0.7138234581925319, 0.8687657868272505, 0.22323736590434026, 0.6697120977130208, 0.7429734270967832, 0.945508213277548, 0.6246950702275877, 0.2082316900758626, 1.0182288598745406, 0.7429494681807157, 0.5302038928773689, 0.9413475740445767, 0.8440632318580159, 0.941351697242462, 0.9225182016315494, 0.7800833214676667, 0.8807716264952452, 0.6783741523294842, 0.9633165806377068, 0.8938916700787269, 0.7028437672842379, 0.9830122861018381, 0.6938540145704585, 0.17346350364261462, 0.7029144130162682, 0.7499931137529857, 0.24999770458432857, 0.7353876979770407, 0.713788422232248, 0.7429734270967832, 0.15693125261236407, 0.31386250522472814, 0.4707937578370922, 0.5302103442002976, 0.7138607241218752, 0.9196990329757695, 0.47033475709706707, 0.47033475709706707, 0.4024459971198108, 0.4024459971198108, 0.8938979946780123, 0.6910377155079472, 0.9051781286209105], \"Term\": [\"\\uac00\\ub2e4 \\ud3ec\\ud568 \\ub418\\uc5b4\\ub2e4\", \"\\uac00\\uc7a5 \\ud6a8\\uacfc \\uc88b\\ub2e4\", \"\\uac04 \\ubb34\\ub9ac \\uac00\\ub098\", \"\\uac04\\ub2e8\\ud558\\ub2e4 \\uc800\\ub141 \\uc2dd\\ud6c4\", \"\\uac1c \\uac1c \\uac1c\", \"\\uac1c \\uba39\\ub2e4 \\uad1c\\ucc2e\\ub2e4\", \"\\uac1c \\uc12d\\ucde8 \\uac1c\", \"\\uac1c\\ub2e4 \\uba39\\ub2e4 \\uc0c1\\uad00\", \"\\uac71\\uc815 \\ub418\\uc5b4\\ub2e4 \\ub4dc\\ub9ac\\ub2e4\", \"\\uac74\\uc9c0\\ub2e4 \\uc544\\ub2c8\\ub2e4 \\uba39\\ub2e4\", \"\\uac8c \\uc54c\\ub824\\uc8fc\\ub2e4 \\uac10\\uc0ac\\ud558\\ub2e4\", \"\\uac8c \\uc54c\\ub824\\uc8fc\\ub2e4 \\uac10\\uc0ac\\ud558\\ub2e4\", \"\\uacb9 \\uce58\\uba74 \\uc548\\ub418\\ub2e4\", \"\\uace0\\uc9c0\\ud608\\uc99d \\uc57d \\uba39\\ub2e4\", \"\\uace0\\ud608\\uc555\\uc57d \\ub4dc\\uc2dc\\ub2e4 \\ubd84\", \"\\uacf5\\ubcf5 \\uba39\\ub2e4 \\uad1c\\ucc2e\\ub2e4\", \"\\uacf5\\ubcf5 \\uba39\\ub2e4 \\uc704\", \"\\uacfc\\ubbfc\\uc131 \\ub300\\uc7a5 \\uc99d\\ud6c4\\uad70\", \"\\uacfc\\ubbfc\\uc131 \\ub300\\uc7a5 \\uc99d\\ud6c4\\uad70\", \"\\uad00\\uc808 \\ud30c\\uc11c \\uba39\\ub2e4\", \"\\uad1c\\ucc2e\\ub2e4 \\uac74\\uc9c0\\ub2e4 \\uad81\\uae08\\ud558\\ub2e4\", \"\\uad1c\\ucc2e\\ub2e4 \\ubb38\\uc758 \\ub4dc\\ub9ac\\ub2e4\", \"\\uad6c\\ub801\\uc774 \\ucc28\\ub2e4 \\ud53c\", \"\\uad81\\uae08\\ud558\\ub2e4 \\ub85c\\ub098 \\ubbfc\", \"\\uad81\\uae08\\ud558\\ub2e4 \\ub9ce\\ub2e4 \\uc870\\uc5b8\", \"\\uad81\\uae08\\ud558\\ub2e4 \\ubb38\\uc758 \\ub4dc\\ub9ac\\ub2e4\", \"\\uad81\\uae08\\ud558\\ub2e4 \\ubb38\\uc758 \\ub4dc\\ub9ac\\ub2e4\", \"\\uad81\\uae08\\ud558\\ub2e4 \\uc5ec\\ucb48\\ub2e4 \\ubcf4\\ub2e4\", \"\\uad81\\uae08\\ud558\\ub2e4 \\uc5ec\\ucb48\\ub2e4 \\ubcf4\\ub2e4\", \"\\uae30\\uc874 \\uba39\\ub2e4 \\uba39\\ub2e4\", \"\\uaf2d \\ucc59\\uae30\\ub2e4 \\uba39\\ub2e4\", \"\\uaf2d \\ucc59\\uae30\\ub2e4 \\uba39\\ub2e4\", \"\\uaf2d \\ucc59\\uae30\\ub2e4 \\uba39\\ub2e4\", \"\\uafb8\\uc900\\ud558\\ub2e4 \\uba39\\ub2e4 \\uc88b\\ub2e4\", \"\\uafb8\\uc900\\ud558\\ub2e4 \\uba39\\ub2e4 \\uc88b\\ub2e4\", \"\\ub098\\ub204\\ub2e4 \\uba39\\ub2e4 \\uc694\", \"\\ub098\\uc2a4 \\ud14c \\ub9ac\\ub4dc\", \"\\ub098\\uc2a4 \\ud14c \\ub9ac\\ub4dc\", \"\\ub098\\uc624\\ub2e4 \\ud310\\ud1a0 \\uac00\\ub2e4\", \"\\ub098\\uc774 \\ub4e4\\ub2e4 \\ubcf4\\ub2e4\", \"\\ub178\\uc2a4 \\uce74\\ub098 \\ub7fc\", \"\\ub2e5 \\uc815\\ud1a0 \\ud53c\\uc18c\", \"\\ub2f5\\ubcc0 \\ubd80\\ud0c1\\ub4dc\\ub9ac\\ub2e4 \\uac10\\uc0ac\\ud558\\ub2e4\", \"\\ub2f5\\ubcc0 \\ubd80\\ud0c1\\ub4dc\\ub9ac\\ub2e4 \\uac10\\uc0ac\\ud558\\ub2e4\", \"\\ub2f5\\ubcc0 \\ubd80\\ud0c1\\ub4dc\\ub9ac\\ub2e4 \\uac10\\uc0ac\\ud558\\ub2e4\", \"\\ub2f5\\ubcc0 \\ubd80\\ud0c1\\ub4dc\\ub9ac\\ub2e4 \\uac10\\uc0ac\\ud558\\ub2e4\", \"\\ub2f5\\ubcc0 \\uc8fc\\uc2dc \\uac10\\uc0ac\\ud558\\ub2e4\", \"\\ub2f5\\ubcc0 \\uc8fc\\uc2dc \\uac10\\uc0ac\\ud558\\ub2e4\", \"\\ub2ff\\ub2e4 \\ub9cc\\ud574 \\uc548\\uc88b\\ub2e4\", \"\\ub354 \\ube68\\ub9ac \\ucde8\\ud558\", \"\\ub354 \\uc88b\\ub2e4 \\uad81\\uae08\\ud558\\ub2e4\", \"\\ub354 \\uc88b\\ub2e4 \\uad81\\uae08\\ud558\\ub2e4\", \"\\ub354 \\uc88b\\ub2e4 \\uc12d\\ucde8\", \"\\ub354 \\ud6a8\\uacfc \\uc88b\\ub2e4\", \"\\ub354 \\ud6a8\\uacfc \\uc88b\\ub2e4\", \"\\ub370\\uc625 \\ucf5c\\uc0b0 \\ucd08\\uc784\", \"\\ub3c4\\ubc15 \\ud14c\\ub9ac \\uc6c0\", \"\\ub3d9\\uc2dc \\uba39\\ub2e4 \\uad1c\\ucc2e\\ub2e4\", \"\\ub3d9\\uc2dc \\ubcf5\\uc6a9 \\uad1c\\ucc2e\\ub2e4\", \"\\ub3d9\\uc2dc \\ubcf5\\uc6a9 \\ubb38\\uc81c\", \"\\ub450 \\ubc88 \\uc815\\ub3c4\", \"\\ub450\\ubc88\\uc9f8 \\uc0ac\\uc9c4 \\uace0\\ub9c8\", \"\\ub530\\ub85c \\ucc59\\uae30\\ub2e4 \\uba39\\ub2e4\", \"\\ub530\\ub85c \\ucc59\\uae30\\ub2e4 \\uba39\\ub2e4\", \"\\ub808\\ubc14 \\uc5e0 \\uc815\\ub9ac\", \"\\ub85c\\ub098 \\ubbfc \\ube44\\ud0c0\", \"\\ub9ac\\uce74 \\uc2a4\\ubaa8 \\ud2f4\\uc815\", \"\\ub9ce\\ub2e4 \\uc870\\uc5b8 \\ubd80\\ud0c1\\ub4dc\\ub9ac\\ub2e4\", \"\\ub9ce\\ub2e4 \\uc870\\uc5b8 \\ubd80\\ud0c1\\ub4dc\\ub9ac\\ub2e4\", \"\\ub9ce\\uc774 \\ub4e4\\ub2e4 \\ub4dc\\uc2dc\\ub2e4\", \"\\ub9ce\\uc774 \\uba39\\ub2e4 \\uac04\", \"\\ub9ce\\uc774 \\ucc59\\uae30\\ub2e4 \\uba39\\ub2e4\", \"\\ub9ce\\uc774 \\ucc59\\uae30\\ub2e4 \\uba39\\ub2e4\", \"\\ub9dd \\ub728\\ub2e4 \\ub9ac\", \"\\uba39\\ub2e4 \\uac00\\uc7a5 \\ud6a8\\uacfc\", \"\\uba39\\ub2e4 \\uac8c \\uc88b\\ub2e4\", \"\\uba39\\ub2e4 \\uac8c \\uc88b\\ub2e4\", \"\\uba39\\ub2e4 \\uac8c \\uc88b\\ub2e4\", \"\\uba39\\ub2e4 \\uac8c \\uc88b\\ub2e4\", \"\\uba39\\ub2e4 \\uacb9 \\uce58\\ub2e4\", \"\\uba39\\ub2e4 \\uacb9 \\uce58\\ub2e4\", \"\\uba39\\ub2e4 \\uacb9 \\uce58\\ub2e4\", \"\\uba39\\ub2e4 \\uacf5\\ubcf5 \\uba39\\ub2e4\", \"\\uba39\\ub2e4 \\uad1c\\ucc2e\\ub2e4 \\uad81\\uae08\\ud558\\ub2e4\", \"\\uba39\\ub2e4 \\uad1c\\ucc2e\\ub2e4 \\uad81\\uae08\\ud558\\ub2e4\", \"\\uba39\\ub2e4 \\uad1c\\ucc2e\\ub2e4 \\uad81\\uae08\\ud558\\ub2e4\", \"\\uba39\\ub2e4 \\uad1c\\ucc2e\\ub2e4 \\uad81\\uae08\\ud558\\ub2e4\", \"\\uba39\\ub2e4 \\uad1c\\ucc2e\\ub2e4 \\uba39\\ub2e4\", \"\\uba39\\ub2e4 \\uad1c\\ucc2e\\ub2e4 \\uba39\\ub2e4\", \"\\uba39\\ub2e4 \\uad1c\\ucc2e\\ub2e4 \\uc804\\ubb38\\uac00\", \"\\uba39\\ub2e4 \\uafb8\\uc900\\ud558\\ub2e4 \\uba39\\ub2e4\", \"\\uba39\\ub2e4 \\ub354 \\uc88b\\ub2e4\", \"\\uba39\\ub2e4 \\ub354 \\uc88b\\ub2e4\", \"\\uba39\\ub2e4 \\ub354 \\uc88b\\ub2e4\", \"\\uba39\\ub2e4 \\uba39\\ub2e4 \\uac74\\uc9c0\\ub2e4\", \"\\uba39\\ub2e4 \\uba39\\ub2e4 \\uac74\\uc9c0\\ub2e4\", \"\\uba39\\ub2e4 \\uba39\\ub2e4 \\uc694\", \"\\uba39\\ub2e4 \\ubab8 \\uc88b\\ub2e4\", \"\\uba39\\ub2e4 \\ubb38\\uc81c \\uc5c6\\ub2e4\", \"\\uba39\\ub2e4 \\ubb38\\uc81c \\uc5c6\\ub2e4\", \"\\uba39\\ub2e4 \\ubb38\\uc81c \\uc5c6\\ub2e4\", \"\\uba39\\ub2e4 \\ubcf4\\uace0 \\uc2f6\\ub2e4\", \"\\uba39\\ub2e4 \\ubcf4\\ub2e4 \\uc790\\uad81\", \"\\uba39\\ub2e4 \\ubcf4\\ub2e4 \\uc790\\uad81\", \"\\uba39\\ub2e4 \\ubcf5\\uc6a9 \\ud574\\ub3c4\", \"\\uba39\\ub2e4 \\uc0c1\\uad00 \\uc5c6\\ub2e4\", \"\\uba39\\ub2e4 \\uc0c1\\uad00 \\uc5c6\\ub2e4\", \"\\uba39\\ub2e4 \\uc0c1\\uad00 \\uc5c6\\ub2e4\", \"\\uba39\\ub2e4 \\uc0c1\\uad00 \\uc5c6\\ub2e4\", \"\\uba39\\ub2e4 \\uc12d\\ucde8 \\uba39\\ub2e4\", \"\\uba39\\ub2e4 \\uc2dd \\uba39\\ub2e4\", \"\\uba39\\ub2e4 \\uc2dd \\uba39\\ub2e4\", \"\\uba39\\ub2e4 \\uc2dd\\ud6c4 \\uba39\\ub2e4\", \"\\uba39\\ub2e4 \\uc544\\uce68 \\uacf5\\ubcf5\", \"\\uba39\\ub2e4 \\uc544\\uce68 \\uacf5\\ubcf5\", \"\\uba39\\ub2e4 \\uc544\\uce68 \\uc810\\uc2ec\", \"\\uba39\\ub2e4 \\uc548\\ub418\\ub2e4 \\uac00\\uc694\", \"\\uba39\\ub2e4 \\uc548\\ub418\\ub2e4 \\ub4e4\\ub2e4\", \"\\uba39\\ub2e4 \\uc548\\ub418\\ub2e4 \\ub530\\ub85c\", \"\\uba39\\ub2e4 \\uc560\\ub2c8 \\ub808\\ubc14\", \"\\uba39\\ub2e4 \\uc694 \\uc544\\ub2c8\\ub2e4\", \"\\uba39\\ub2e4 \\uc694 \\uc544\\ub2c8\\ub2e4\", \"\\uba39\\ub2e4 \\uc694 \\uc544\\ub2c8\\ub2e4\", \"\\uba39\\ub2e4 \\uc774\\ub807\\uac8c \\uba39\\ub2e4\", \"\\uba39\\ub2e4 \\uc774\\ub807\\uac8c \\uba39\\ub2e4\", \"\\uba39\\ub2e4 \\uc774\\ub807\\uac8c \\uba39\\ub2e4\", \"\\uba39\\ub2e4 \\uc790\\ub2e4 \\ubaa8\\ub974\\ub2e4\", \"\\uba39\\ub2e4 \\uc800\\ub141 \\uba39\\ub2e4\", \"\\uba39\\ub2e4 \\uc800\\ub141 \\uba39\\ub2e4\", \"\\uba39\\ub2e4 \\uc88b\\ub2e4 \\uac74\\uc9c0\\ub2e4\", \"\\uba39\\ub2e4 \\uc88b\\ub2e4 \\ub2f5\\ubcc0\", \"\\uba39\\ub2e4 \\uc88b\\ub2e4 \\uc54a\\ub2e4\", \"\\uba39\\ub2e4 \\uc88b\\ub2e4 \\ucd94\\ucc9c\", \"\\uba39\\ub2e4 \\uc8fc\\uc758 \\uc810\", \"\\uba39\\ub2e4 \\ud140 \\ub450\\ub2e4\", \"\\uba39\\ub2e4 \\ud544\\uc694 \\uc5c6\\ub2e4\", \"\\uba39\\ub2e4 \\ud6a8\\uacfc \\uc5c6\\ub2e4\", \"\\uba39\\ub2e4 \\ud761\\uc218 \\ubc29\\ud574\", \"\\ubaa8\\ub0ad \\uc5fc \\ubc14\\ub974\\ub2e4\", \"\\ubb34\\ub9ac \\uc904 \\uc218\\ub3c4\", \"\\ubb38\\uc758 \\ub4dc\\ub9ac\\ub2e4 \\ud604\\uc7ac\", \"\\ubb38\\uc81c \\uc0dd\\uae30\\ub2e4 \\uc218\", \"\\ubb38\\uc81c \\uc5c6\\ub2e4 \\uad81\\uae08\\ud558\\ub2e4\", \"\\ubb38\\uc81c \\uc5c6\\ub2e4 \\uad81\\uae08\\ud558\\ub2e4\", \"\\ubb38\\uc81c \\uc5c6\\ub2e4 \\uad81\\uae08\\ud558\\ub2e4\", \"\\ubc14\\uc774 \\uc624\\ud398 \\ub9b0\", \"\\ubc25 \\uba39\\ub2e4 \\uba39\\ub2e4\", \"\\ubc29\\ubc95 \\uc54c\\ub824\\uc8fc\\ub2e4 \\uac10\\uc0ac\\ud558\\ub2e4\", \"\\ubc84 \\ubb3c\\ub9ac \\ud0a4\\ub4dc\", \"\\ubc88 \\uc0ac\\uc9c4 \\uc81c\\ud488\", \"\\ubc88 \\ud558\\ub8e8 \\ubc88\", \"\\ubcc4\\ub85c \\ud6a8\\uacfc \\uc5c6\\ub2e4\", \"\\ubcf4\\ub2e4 \\uc790\\uad81 \\uc601\\ud5a5\", \"\\ubcf5\\uc6a9 \\uac04 \\ubd80\\ub2f4\", \"\\ubcf5\\uc6a9 \\uad1c\\ucc2e\\ub2e4 \\uad81\\uae08\\ud558\\ub2e4\", \"\\ubcf5\\uc6a9 \\uad1c\\ucc2e\\ub2e4 \\uad81\\uae08\\ud558\\ub2e4\", \"\\ubcf5\\uc6a9 \\uad1c\\ucc2e\\ub2e4 \\uad81\\uae08\\ud558\\ub2e4\", \"\\ubcf5\\uc6a9 \\uad81\\uae08\\ud558\\ub2e4 \\uc810\", \"\\ubcf5\\uc6a9 \\ubb38\\uc758 \\ub4dc\\ub9ac\\ub2e4\", \"\\ubcf5\\uc6a9 \\ubb38\\uc81c \\uc5c6\\ub2e4\", \"\\ubcf5\\uc6a9 \\ubb38\\uc81c \\uc5c6\\ub2e4\", \"\\ubcf5\\uc6a9 \\ubb38\\uc81c \\uc5c6\\ub2e4\", \"\\ubcf5\\uc6a9 \\ubb38\\uc81c \\uc5c6\\ub2e4\", \"\\ubcf5\\uc6a9 \\ubb38\\uc81c \\uc5c6\\ub2e4\", \"\\ubcf5\\uc6a9 \\ubc29\\ubc95 \\uad81\\uae08\\ud558\\ub2e4\", \"\\ubcf5\\uc6a9 \\uc694 \\ubcf5\\uc6a9\", \"\\ubcf5\\uc6a9 \\uc694 \\uc544\\ub2c8\\ub2e4\", \"\\ubcf5\\uc6a9 \\uc774\\uc678 \\ucd94\\uac00\", \"\\ubcf5\\uc6a9 \\uc8fc\\uc758 \\uc0ac\\ud56d\", \"\\ubcf5\\uc6a9 \\uc911\\uc778 \\uc57d\\uacfc\", \"\\ubcf5\\uc6a9 \\uc9c0\\uae08 \\uba39\\ub2e4\", \"\\ubcf5\\uc6a9 \\ud574\\ub3c4 \\uad1c\\ucc2e\\ub2e4\", \"\\ubd80\\uc791\\uc6a9 \\uc0dd\\uae30\\ub2e4 \\uc218\\uac00\", \"\\ubd80\\uc791\\uc6a9 \\uc5c6\\ub2e4 \\uad81\\uae08\\ud558\\ub2e4\", \"\\ubd80\\uc791\\uc6a9 \\uc5c6\\ub2e4 \\uad81\\uae08\\ud558\\ub2e4\", \"\\ubd80\\uc815\\ub9e5 \\uc2ec\\ubc29 \\uc720\\ubc1c\", \"\\ube44\\ud53c \\ub3c4\\ubc15 \\ud14c\\ub9ac\", \"\\ube48 \\uc18d \\uba39\\ub2e4\", \"\\ube68\\ub9ac \\ucde8\\ud558 \\ud544\\ub984\", \"\\uc0ac\\ud6c4 \\ud53c\\uc784 \\uc57d\", \"\\uc0dd\\uae30\\ub2e4 \\uc218\\uac00 \\uac74\\uac00\", \"\\uc12d\\ucde8 \\uac1c \\uc12d\\ucde8\", \"\\uc12d\\ucde8 \\ubb38\\uc81c \\uc0dd\\uae30\\ub2e4\", \"\\uc12d\\ucde8 \\ubb38\\uc81c \\uc5c6\\ub2e4\", \"\\uc12d\\ucde8 \\uc57d\\ubb3c \\ud761\\uc218\", \"\\uc12d\\ucde8 \\uc5ec\\ucb48\\ub2e4 \\ubcf4\\ub2e4\", \"\\uc12d\\ucde8 \\uc608\\uc815 \\uc774\\ub807\\uac8c\", \"\\uc12d\\ucde8 \\ud761\\uc218 \\uc728\", \"\\uc12d\\ucde8 \\ud761\\uc218 \\uc728\", \"\\uc131\\ubd84 \\ucd94\\uac00 \\ubcf5\\uc6a9\", \"\\uc131\\ubd84 \\ud3ec\\ud568 \\ub418\\uc5b4\\ub2e4\", \"\\uc131\\ubd84 \\ud45c \\ucca8\\ubd80\", \"\\uc18c\\ud654 \\uc790\\ub2e4 \\uc548\\ub418\\ub2e4\", \"\\uc18d \\uba39\\ub2e4 \\uad1c\\ucc2e\\ub2e4\", \"\\uc1a1\\uce68\\uc720 \\uc544\\uce68 \\uc810\\uc2ec\", \"\\uc2a4\\ubaa8 \\ud2f4\\uc815 \\uba39\\ub2e4\", \"\\uc2b5\\uc724\\ubc34\\ub4dc \\uc885\\ub958 \\uc911\", \"\\uc2dd\\uc0ac \\ud6c4 \\uba39\\ub2e4\", \"\\uc2dd\\uc0ac \\ud6c4 \\ubcf5\\uc6a9\", \"\\uc2dd\\uc774\\uc12c\\uc720 \\uc81c\\ud488 \\uce74\\ubb34\\ud2b8\", \"\\uc2dd\\ud6c4 \\uac04\\ub2e8\\ud558\\ub2e4 \\uc800\\ub141\", \"\\uc2dd\\ud6c4 \\uc2dd\\ud6c4 \\uc2dd\\ud6c4\", \"\\uc2dd\\ud6c4 \\uc800\\ub141 \\uc2dd\\ud6c4\", \"\\uc2dd\\ud6c4 \\uc800\\ub141 \\uc2dd\\ud6c4\", \"\\uc2dd\\ud6c4 \\uc800\\ub141 \\uc2dd\\ud6c4\", \"\\uc2dd\\ud6c4 \\uc810\\uc2ec \\uc2dd\\ud6c4\", \"\\uc2dd\\ud6c4 \\uc810\\uc2ec \\uc2dd\\ud6c4\", \"\\uc2e0\\uc7a5 \\ub9dd \\ub728\\ub2e4\", \"\\uc2e0\\uc7a5 \\ubb34\\ub9ac \\uc904\", \"\\uc2ec\\ubc29 \\uc720\\ubc1c \\uc704\\ud5d8\", \"\\uc544\\uac00 \\ubca0\\uc774 \\ub20c\\ub9b0\", \"\\uc544\\uce68 \\uacf5\\ubcf5 \\uba39\\ub2e4\", \"\\uc544\\uce68 \\uacf5\\ubcf5 \\uba39\\ub2e4\", \"\\uc544\\uce68 \\uacf5\\ubcf5 \\uba39\\ub2e4\", \"\\uc544\\uce68 \\uacf5\\ubcf5 \\uba39\\ub2e4\", \"\\uc544\\uce68 \\uacf5\\ubcf5 \\uc810\\uc2ec\", \"\\uc544\\uce68 \\uacf5\\ubcf5 \\uc810\\uc2ec\", \"\\uc544\\uce68 \\uc2dd\\uc0ac \\ud6c4\", \"\\uc544\\uce68 \\uc2dd\\uc0ac \\ud6c4\", \"\\uc544\\uce68 \\uc2dd\\ud6c4 \\uc810\\uc2ec\", \"\\uc544\\uce68 \\uc2dd\\ud6c4 \\uc810\\uc2ec\", \"\\uc544\\uce68 \\uc800\\ub141 \\ubcf5\\uc6a9\", \"\\uc544\\uce68 \\uc810\\uc2ec \\uc800\\ub141\", \"\\uc544\\uce68 \\uc810\\uc2ec \\uc800\\ub141\", \"\\uc544\\uce68 \\uc810\\uc2ec \\uc800\\ub141\", \"\\uc544\\uce68 \\uc810\\uc2ec \\uc800\\ub141\", \"\\uc544\\uce68 \\uc810\\uc2ec \\uc800\\ub141\", \"\\uc54c\\ub824\\uc8fc\\ub2e4 \\uac10\\uc0ac \\ub4dc\\ub9ac\\ub2e4\", \"\\uc54c\\ub824\\uc8fc\\ub2e4 \\uc815\\ub9d0 \\uac10\\uc0ac\\ud558\\ub2e4\", \"\\uc560\\ub2c8 \\ub808\\ubc14 \\uc5e0\", \"\\uc57d \\ub2f9\\ub1e8 \\uc57d\", \"\\uc57d \\uba39\\ub2e4 \\uba39\\ub2e4\", \"\\uc57d\\uacfc \\uace0\\ud608\\uc555\\uc57d \\ub4dc\\uc2dc\\ub2e4\", \"\\uc57d\\uacfc \\uace0\\ud608\\uc555\\uc57d \\ub4dc\\uc2dc\\ub2e4\", \"\\uc57d\\ubb3c \\ud761\\uc218 \\uc601\\ud5a5\", \"\\uc57d\\uc0ac \\ub4e4\\ub2e4 \\uc758\\uacac\", \"\\uc5e0 \\uc815\\ub9ac \\ub9ac\\uce74\", \"\\uc5ed\\ub958\\uc131 \\uc2dd\\ub3c4\\uc5fc \\ub54c\\ubb38\", \"\\uc5f0\\uace0 \\ucd94\\ucc9c \\ubd80\\ud0c1\\ub4dc\\ub9ac\\ub2e4\", \"\\uc5fc\\uc99d \\uc608\\ubc29 \\ub3c4\\uc6c0\", \"\\uc601\\ud5a5 \\uc8fc\\ub2e4 \\ubb38\\uc758\", \"\\uc601\\ud5a5 \\uc8fc\\ub2e4 \\ud639\", \"\\uc608\\uc804 \\ucc98\\ubc29 \\ubc1b\\ub2e4\", \"\\uc624\\ub2e4 \\uac00\\ub2e4 \\ud3ec\\ud568\", \"\\uc694 \\ub2f5\\ubcc0 \\ubd80\\ud0c1\\ub4dc\\ub9ac\\ub2e4\", \"\\uc694 \\uc544\\uce68 \\uacf5\\ubcf5\", \"\\uc6b0\\ub8e8\\uc0ac \\uc6b0\\ub974 \\ub370\\uc625\", \"\\uc6b0\\ub974 \\ub370\\uc625 \\ucf5c\\uc0b0\", \"\\uc6b4\\ub3d9 \\uc88b\\uc544\\ud558\\ub2e4 \\uc0ac\\ub78c\", \"\\uc6d0\\uc2a4 \\ub370 \\uc77c\\ub9ac\", \"\\uc704\\ubcbd \\uc790\\uadf9 \\ubd80\\uc791\\uc6a9\", \"\\uc704\\ud574 \\ucc59\\uae30\\ub2e4 \\uba39\\ub2e4\", \"\\uc720\\uae30\\ub18d \\uc544\\uac00 \\ubca0\\uc774\", \"\\uc720\\ubc1c \\uc704\\ud5d8 \\ub192\\uc774\\ub2e4\", \"\\uc774\\ub807\\uac8c \\uba39\\ub2e4 \\uad1c\\ucc2e\\ub2e4\", \"\\uc774\\ub807\\uac8c \\uba39\\ub2e4 \\uad1c\\ucc2e\\ub2e4\", \"\\uc774\\ub807\\uac8c \\uba39\\ub2e4 \\uad1c\\ucc2e\\ub2e4\", \"\\uc774\\ub807\\uac8c \\uba39\\ub2e4 \\uad1c\\ucc2e\\ub2e4\", \"\\uc774\\ub807\\uac8c \\uba39\\ub2e4 \\uc131\\ubd84\", \"\\uc774\\ub807\\uac8c \\uba39\\ub2e4 \\uc544\\uce68\", \"\\uc774\\ub807\\uac8c \\uba39\\ub2e4 \\uc544\\uce68\", \"\\uc774\\ub807\\uac8c \\uba39\\ub2e4 \\uc694\", \"\\uc774\\ub807\\uac8c \\uba39\\ub2e4 \\uc694\", \"\\uc774\\ub807\\uac8c \\ucc98\\ubc29 \\ubc1b\\ub2e4\", \"\\uc778\\ud130\\ub137 \\uac80\\uc0c9 \\ud574\\ubcf4\\ub2e4\", \"\\uc784\\uc2e0 \\uc900\\ube44 \\uc911\", \"\\uc790\\uad81 \\uc120\\uadfc \\uc99d\", \"\\uc790\\uad81 \\uc120\\uadfc \\uc99d\", \"\\uc790\\uad81 \\uc601\\ud5a5 \\uc8fc\\ub2e4\", \"\\uc790\\uad81 \\uc801 \\ucd94\\ub2e4\", \"\\uc790\\ub2e4 \\ucc59\\uae30\\ub2e4 \\uba39\\ub2e4\", \"\\uc790\\ub2e4 \\ucc59\\uae30\\ub2e4 \\uba39\\ub2e4\", \"\\uc790\\ub2e4 \\ucc59\\uae30\\ub2e4 \\uba39\\ub2e4\", \"\\uc790\\ub2e4 \\ucc59\\uae30\\ub2e4 \\uba39\\ub2e4\", \"\\uc790\\uc784 \\uc1a1\\uce68\\uc720 \\uc544\\uce68\", \"\\uc800\\ub141 \\uba39\\ub2e4 \\uba39\\ub2e4\", \"\\uc800\\ub141 \\uc2dd\\ud6c4 \\uac04\\ub2e8\\ud558\\ub2e4\", \"\\uc800\\ub141 \\uc2dd\\ud6c4 \\uc774\\ub807\\uac8c\", \"\\uc801 \\ucd94\\ub2e4 \\uc220\", \"\\uc804\\ubb38\\uac00 \\ub4e4\\ub2e4 \\uc758\\uacac\", \"\\uc804\\ubb38\\uac00 \\ubd84 \\uc758\\uacac\", \"\\uc810\\uc2ec \\uc2dd\\uc0ac \\ud6c4\", \"\\uc810\\uc2ec \\uc2dd\\uc0ac \\ud6c4\", \"\\uc810\\uc2ec \\uc2dd\\uc804 \\uc810\\uc2ec\", \"\\uc810\\uc2ec \\uc2dd\\ud6c4 \\uba39\\ub2e4\", \"\\uc810\\uc2ec \\uc800\\ub141 \\uc2dd\\uc804\", \"\\uc810\\uc2ec \\ud6c4 \\uc800\\ub141\", \"\\uc810\\uc2ec \\ud6c4 \\uc800\\ub141\", \"\\uc810\\uc2ec \\ud6c4 \\uc800\\ub141\", \"\\uc810\\uc2ec\\uc2dd\\uc0ac \\ud6c4 \\uc800\\ub141\\uc2dd\\uc0ac\", \"\\uc810\\uc2ec\\uc2dd\\uc0ac \\ud6c4 \\uc800\\ub141\\uc2dd\\uc0ac\", \"\\uc815\\ub3c4 \\ud568\\uc720 \\ub418\\uc5b4\\ub2e4\", \"\\uc815\\ub9ac \\ub9ac\\uce74 \\uc2a4\\ubaa8\", \"\\uc815\\ubcf4 \\uc7ac\\ub8cc \\ud568\\ub7c9\", \"\\uc815\\ud1a0 \\ud53c\\uc18c \\ud30c\\ub2e4\", \"\\uc815\\ud655\\ud558\\ub2e4 \\ud6a8\\ub2a5 \\ubd80\\uc791\\uc6a9\", \"\\uc81c\\ud488 \\uce74\\ubb34\\ud2b8 \\ud6a8\\uc18c\", \"\\uc885\\ub958 \\ub108\\ubb34 \\ub9ce\\ub2e4\", \"\\uc885\\ub958 \\ub108\\ubb34 \\ub9ce\\ub2e4\", \"\\uc885\\ub958 \\uc911 \\uba54\\ud53c\", \"\\uc88b\\ub2e4 \\uac74\\uc9c0\\ub2e4 \\uad81\\uae08\\ud558\\ub2e4\", \"\\uc88b\\ub2e4 \\ub2f5\\ubcc0 \\ubd80\\ud0c1\\ub4dc\\ub9ac\\ub2e4\", \"\\uc88b\\ub2e4 \\uba39\\ub2e4 \\uba39\\ub2e4\", \"\\uc88b\\ub2e4 \\ubb38\\uc758 \\ub4dc\\ub9ac\\ub2e4\", \"\\uc88b\\ub2e4 \\uc81c\\ud488 \\ucd94\\ucc9c\", \"\\uc88b\\ub2e4 \\ucd94\\ucc9c \\ud574\\uc8fc\\ub2e4\", \"\\uc88b\\ub2e4 \\ucd94\\ucc9c \\ud574\\uc8fc\\ub2e4\", \"\\uc8fc\\ub2e4 \\ud639 \\ud06c\\ub2e4\", \"\\uc900\\ube44 \\uc911 \\uc12d\\ucde8\", \"\\uc911 \\uc12d\\ucde8 \\uac00\\ub2a5\\ud558\\ub2e4\", \"\\ucc28 \\ub450\\ub2e4 \\uba39\\ub2e4\", \"\\ucc28 \\ub450\\ub2e4 \\ubcf5\\uc6a9\", \"\\ucc28\\ub2e4 \\ud53c \\uc2dd\\uc774\\uc12c\\uc720\", \"\\ucc59\\uae30\\ub2e4 \\uba39\\ub2e4 \\uad1c\\ucc2e\\ub2e4\", \"\\ucc59\\uae30\\ub2e4 \\uba39\\ub2e4 \\uad1c\\ucc2e\\ub2e4\", \"\\ucc59\\uae30\\ub2e4 \\uba39\\ub2e4 \\uba39\\ub2e4\", \"\\ucc59\\uae30\\ub2e4 \\uba39\\ub2e4 \\ubcf4\\ub2e4\", \"\\ucc59\\uae30\\ub2e4 \\uba39\\ub2e4 \\uc54a\\ub2e4\", \"\\ucc59\\uae30\\ub2e4 \\uba39\\ub2e4 \\uc88b\\ub2e4\", \"\\ucc59\\uae30\\ub2e4 \\uba39\\ub2e4 \\uc88b\\ub2e4\", \"\\ucc59\\uae30\\ub2e4 \\uba39\\ub2e4 \\uc88b\\ub2e4\", \"\\ucc98\\ubc29 \\ubc1b\\ub2e4 \\ubcf5\\uc6a9\", \"\\ucd94\\uac00 \\uba39\\ub2e4 \\uc88b\\ub2e4\", \"\\ucd94\\uac00 \\ubcf5\\uc6a9 \\uad1c\\ucc2e\\ub2e4\", \"\\ucd94\\uac00 \\ubcf5\\uc6a9 \\ubb38\\uc81c\", \"\\ucd94\\uac00 \\ubcf5\\uc6a9 \\uc694\", \"\\ucd94\\ucc9c \\ud574\\uc8fc\\ub2e4 \\uac10\\uc0ac\", \"\\ucd94\\ucc9c \\ud574\\uc8fc\\ub2e4 \\uac10\\uc0ac\\ud558\\ub2e4\", \"\\ucd94\\ucc9c \\ud574\\uc8fc\\ub2e4 \\uc88b\\ub2e4\", \"\\uce58\\uba74 \\uc548\\ub418\\ub2e4 \\uc601\\uc591\\uc18c\", \"\\uce68\\uc2dd \\ud6c4 \\uc810\\uc2ec\", \"\\uce74\\ub974 \\ubcf5\\uc2e4 \\uc131\\ubd84\", \"\\ucf54 \\ubc15\\uc0ac \\uc5d0\\uc2a4\", \"\\ud06c\\ub2e4 \\uc815\\ud734 \\ub9ac\\ub4dc\", \"\\ud0c8\\ubaa8 \\uc57d \\uc5ec\\uc790\", \"\\ud140 \\ub450\\ub2e4 \\uba39\\ub2e4\", \"\\ud140 \\ub450\\ub2e4 \\uba39\\ub2e4\", \"\\ud1a0\\ubaa8 \\ub098\\uc624\\ub2e4 \\ud310\\ud1a0\", \"\\ud2f4\\uc815 \\uba39\\ub2e4 \\uc560\\ub2c8\", \"\\ud30c\\uc11c \\uba39\\ub2e4 \\ubcf4\\ub2e4\", \"\\ud30c\\ud30c\\uc57c \\uc790\\uc784 \\uc1a1\\uce68\\uc720\", \"\\ud310 \\ud1a0\\ubaa8 \\ub098\\uc624\\ub2e4\", \"\\ud310\\ud1a0 \\uac00\\ub2e4 \\ucc28\\uc774\\uc810\", \"\\ud3ec\\ud568 \\ub418\\uc5b4\\ub2e4 \\ubcf5\\uc6a9\", \"\\ud53c \\ub098\\uc2a4 \\ud14c\", \"\\ud53c \\ub098\\uc2a4 \\ud14c\", \"\\ud53c \\uc2dd\\uc774\\uc12c\\uc720 \\uc81c\\ud488\", \"\\ud53c\\ub85c \\ud68c\\ubcf5 \\uc81c\\ub85c\", \"\\ud53c\\ub85c \\ud68c\\ubcf5 \\uc88b\\ub2e4\", \"\\ud53c\\ub85c \\ud68c\\ubcf5 \\uc88b\\ub2e4\", \"\\ud53c\\ub85c \\ud68c\\ubcf5 \\uc911\", \"\\ud53c\\ubd80 \\ub2ff\\ub2e4 \\ub9cc\\ud574\", \"\\ud53c\\ubd80 \\ub530\\ub054 \\uac70\\ub9ac\", \"\\ud544\\uc694\\ud558\\ub2e4 \\ubb38\\uc758 \\ub4dc\\ub9ac\\ub2e4\", \"\\ud558\\ub8e8 \\uba39\\ub2e4 \\uc88b\\ub2e4\", \"\\ud558\\ub8e8 \\uba39\\ub2e4 \\ud6a8\\uacfc\", \"\\ud558\\ub8e8 \\ubc88 \\ud558\\ub8e8\", \"\\ud558\\ub8e8 \\uc12d\\ucde8 \\ub7c9\", \"\\ud55c\\ubc88 \\uba39\\ub2e4 \\uc694\", \"\\ud55c\\ubc88 \\ubcf5\\uc6a9 \\uc694\", \"\\ud55c\\ubc88 \\ucc59\\uae30\\ub2e4 \\uba39\\ub2e4\", \"\\ud568\\ub7c9 \\ub192\\ub2e4 \\uba39\\ub2e4\", \"\\ud568\\ub958 \\uac78 \\uad8c\\ud558\\ub2e4\", \"\\ud5e4\\uc5b4 \\uc2a4\\ud0a8 \\ub124\\uc77c\", \"\\ud604\\uc7ac \\ubcf5\\uc6a9 \\uc57d\", \"\\ud604\\uc7ac \\ubcf5\\uc6a9 \\uc57d\", \"\\ud604\\uc7ac \\ubcf5\\uc6a9 \\uc694\", \"\\ud608\\uc555 \\uc57d \\ubcf5\\uc6a9\", \"\\ud608\\uc555 \\uc57d \\ubcf5\\uc6a9\", \"\\ud639 \\ud06c\\ub2e4 \\uc548\\ub418\\ub2e4\", \"\\ud658\\uc778 \\ub2e5 \\uc815\\ud1a0\", \"\\ud669\\uae08 \\uad6c\\ub801\\uc774 \\ucc28\\ub2e4\", \"\\ud6a8\\uacfc \\ub354 \\uc88b\\ub2e4\", \"\\ud6a8\\uacfc \\ub354 \\uc88b\\ub2e4\", \"\\ud6a8\\uacfc \\ub354 \\uc88b\\ub2e4\", \"\\ud6a8\\uacfc \\uc88b\\ub2e4 \\uc57d\", \"\\ud6a8\\ub2a5 \\ud6a8\\uacfc \\ucc28\\uc774\\uc810\", \"\\ud6c4 \\uc774\\ub807\\uac8c \\uba39\\ub2e4\", \"\\ud6c4 \\uc800\\ub141 \\ud6c4\", \"\\ud6c4 \\uc800\\ub141 \\ud6c4\", \"\\ud6c4 \\uc800\\ub141\\uc2dd\\uc0ac \\ud6c4\", \"\\ud6c4 \\uc800\\ub141\\uc2dd\\uc0ac \\ud6c4\", \"\\ud6c4 \\uc810\\uc2ec \\ud6c4\", \"\\ud761\\uc218 \\uc601\\ud5a5 \\uc8fc\\ub2e4\", \"\\ud761\\uc218 \\uc728 \\ub5a8\\uc5b4\\uc9c0\\ub2e4\"]}, \"R\": 30, \"lambda.step\": 0.01, \"plot.opts\": {\"xlab\": \"PC1\", \"ylab\": \"PC2\"}, \"topic.order\": [3, 6, 4, 5, 1, 7, 2]};\n",
       "\n",
       "function LDAvis_load_lib(url, callback){\n",
       "  var s = document.createElement('script');\n",
       "  s.src = url;\n",
       "  s.async = true;\n",
       "  s.onreadystatechange = s.onload = callback;\n",
       "  s.onerror = function(){console.warn(\"failed to load library \" + url);};\n",
       "  document.getElementsByTagName(\"head\")[0].appendChild(s);\n",
       "}\n",
       "\n",
       "if(typeof(LDAvis) !== \"undefined\"){\n",
       "   // already loaded: just create the visualization\n",
       "   !function(LDAvis){\n",
       "       new LDAvis(\"#\" + \"ldavis_el121882304842656096368368189\", ldavis_el121882304842656096368368189_data);\n",
       "   }(LDAvis);\n",
       "}else if(typeof define === \"function\" && define.amd){\n",
       "   // require.js is available: use it to load d3/LDAvis\n",
       "   require.config({paths: {d3: \"https://d3js.org/d3.v5\"}});\n",
       "   require([\"d3\"], function(d3){\n",
       "      window.d3 = d3;\n",
       "      LDAvis_load_lib(\"https://cdn.jsdelivr.net/gh/bmabey/pyLDAvis@3.4.0/pyLDAvis/js/ldavis.v3.0.0.js\", function(){\n",
       "        new LDAvis(\"#\" + \"ldavis_el121882304842656096368368189\", ldavis_el121882304842656096368368189_data);\n",
       "      });\n",
       "    });\n",
       "}else{\n",
       "    // require.js not available: dynamically load d3 & LDAvis\n",
       "    LDAvis_load_lib(\"https://d3js.org/d3.v5.js\", function(){\n",
       "         LDAvis_load_lib(\"https://cdn.jsdelivr.net/gh/bmabey/pyLDAvis@3.4.0/pyLDAvis/js/ldavis.v3.0.0.js\", function(){\n",
       "                 new LDAvis(\"#\" + \"ldavis_el121882304842656096368368189\", ldavis_el121882304842656096368368189_data);\n",
       "            })\n",
       "         });\n",
       "}\n",
       "</script>"
      ],
      "text/plain": [
       "<IPython.core.display.HTML object>"
      ]
     },
     "metadata": {},
     "output_type": "display_data"
    },
    {
     "data": {
      "text/plain": [
       "'0번 클러스터에 대한 주제 단어들!'"
      ]
     },
     "metadata": {},
     "output_type": "display_data"
    },
    {
     "data": {
      "text/plain": [
       "[(0,\n",
       "  '0.001*\"더 좋다 궁금하다\" + 0.001*\"빈 속 먹다\" + 0.001*\"식후 저녁 식후\" + 0.001*\"알려주다 감사 드리다\" + 0.001*\"먹다 가장 효과\" + 0.001*\"임신 준비 중\" + 0.000*\"궁금하다 문의 드리다\" + 0.000*\"먹다 괜찮다 먹다\" + 0.000*\"하루 섭취 량\" + 0.000*\"전문가 들다 의견\"'),\n",
       " (1,\n",
       "  '0.001*\"먹다 괜찮다 궁금하다\" + 0.001*\"먹다 저녁 먹다\" + 0.000*\"간단하다 저녁 식후\" + 0.000*\"많이 먹다 간\" + 0.000*\"인터넷 검색 해보다\" + 0.000*\"복용 지금 먹다\" + 0.000*\"먹다 식후 먹다\" + 0.000*\"먹다 상관 없다\" + 0.000*\"후 이렇게 먹다\" + 0.000*\"식사 후 복용\"'),\n",
       " (2,\n",
       "  '0.001*\"먹다 문제 없다\" + 0.001*\"더 효과 좋다\" + 0.001*\"추가 먹다 좋다\" + 0.001*\"복용 문제 없다\" + 0.001*\"먹다 아침 공복\" + 0.000*\"자다 챙기다 먹다\" + 0.000*\"아침 공복 점심\" + 0.000*\"문제 없다 궁금하다\" + 0.000*\"소화 자다 안되다\" + 0.000*\"리카 스모 틴정\"'),\n",
       " (3,\n",
       "  '0.001*\"섭취 개 섭취\" + 0.001*\"개 섭취 개\" + 0.001*\"복용 문제 없다\" + 0.001*\"약 먹다 먹다\" + 0.001*\"가다 포함 되어다\" + 0.001*\"텀 두다 먹다\" + 0.001*\"좋다 추천 해주다\" + 0.001*\"아침 점심 저녁\" + 0.001*\"현재 복용 약\" + 0.001*\"먹다 좋다 않다\"'),\n",
       " (4,\n",
       "  '0.001*\"좋다 답변 부탁드리다\" + 0.001*\"성분 포함 되어다\" + 0.000*\"먹다 효과 없다\" + 0.000*\"추가 복용 문제\" + 0.000*\"식사 후 먹다\" + 0.000*\"약사 들다 의견\" + 0.000*\"먹다 공복 먹다\" + 0.000*\"성분 표 첨부\" + 0.000*\"먹다 보고 싶다\" + 0.000*\"코 박사 에스\"'),\n",
       " (5,\n",
       "  '0.001*\"섭취 문제 없다\" + 0.001*\"우르 데옥 콜산\" + 0.001*\"점심 후 저녁\" + 0.001*\"챙기다 먹다 않다\" + 0.001*\"답변 주시 감사하다\" + 0.001*\"우루사 우르 데옥\" + 0.000*\"후 저녁 후\" + 0.000*\"게 알려주다 감사하다\" + 0.000*\"먹다 요 아니다\" + 0.000*\"한번 먹다 요\"'),\n",
       " (6,\n",
       "  '0.001*\"챙기다 먹다 괜찮다\" + 0.001*\"원스 데 일리\" + 0.001*\"바이 오페 린\" + 0.001*\"복용 해도 괜찮다\" + 0.001*\"피로 회복 제로\" + 0.001*\"점심 저녁 식전\" + 0.001*\"먹다 게 좋다\" + 0.000*\"판 토모 나오다\" + 0.000*\"토모 나오다 판토\" + 0.000*\"아침 점심 저녁\"')]"
      ]
     },
     "metadata": {},
     "output_type": "display_data"
    },
    {
     "name": "stdin",
     "output_type": "stream",
     "text": [
      "\n",
      "보고 계신 원의 번호를 입력해 주세요! :  1\n",
      "위의 주제 단어과 매칭되는 처음에 설정한 Action 토픽 번호를 입력해 주세요! :  2\n",
      "\n",
      "보고 계신 원의 번호를 입력해 주세요! :  2\n",
      "위의 주제 단어과 매칭되는 처음에 설정한 Action 토픽 번호를 입력해 주세요! :  5\n",
      "\n",
      "보고 계신 원의 번호를 입력해 주세요! :  3\n",
      "위의 주제 단어과 매칭되는 처음에 설정한 Action 토픽 번호를 입력해 주세요! :  3\n",
      "\n",
      "보고 계신 원의 번호를 입력해 주세요! :  4\n",
      "위의 주제 단어과 매칭되는 처음에 설정한 Action 토픽 번호를 입력해 주세요! :  4\n",
      "\n",
      "보고 계신 원의 번호를 입력해 주세요! :  5\n",
      "위의 주제 단어과 매칭되는 처음에 설정한 Action 토픽 번호를 입력해 주세요! :  0\n",
      "\n",
      "보고 계신 원의 번호를 입력해 주세요! :  6\n",
      "위의 주제 단어과 매칭되는 처음에 설정한 Action 토픽 번호를 입력해 주세요! :  6\n",
      "\n",
      "보고 계신 원의 번호를 입력해 주세요! :  7\n",
      "위의 주제 단어과 매칭되는 처음에 설정한 Action 토픽 번호를 입력해 주세요! :  1\n"
     ]
    },
    {
     "data": {
      "text/plain": [
       "'Cluster = Actor 1의 Map'"
      ]
     },
     "metadata": {},
     "output_type": "display_data"
    },
    {
     "data": {
      "text/html": [
       "\n",
       "<link rel=\"stylesheet\" type=\"text/css\" href=\"https://cdn.jsdelivr.net/gh/bmabey/pyLDAvis@3.4.0/pyLDAvis/js/ldavis.v1.0.0.css\">\n",
       "\n",
       "\n",
       "<div id=\"ldavis_el1218823048426543047635077512\" style=\"background-color:white;\"></div>\n",
       "<script type=\"text/javascript\">\n",
       "\n",
       "var ldavis_el1218823048426543047635077512_data = {\"mdsDat\": {\"x\": [0.0903259537502195, -0.09239347407614182, 0.0018782917044002456, 0.0001892286215221113], \"y\": [0.06249452687511575, 0.05937131229497364, -0.08069292224561089, -0.0411729169244785], \"topics\": [1, 2, 3, 4], \"cluster\": [1, 1, 1, 1], \"Freq\": [26.36253280040759, 26.31612161644522, 23.893753805805535, 23.427591777341654]}, \"tinfo\": {\"Term\": [\"\\ud574 \\ube44\\ucd94\\ub2e4 \\uc5bc\", \"\\ucd94\\uac00 \\uba39\\ub2e4 \\uc88b\\ub2e4\", \"\\uc544\\uce68 \\uc800\\ub141 \\ucd1d\", \"\\ubcf5\\uc6a9 \\uc8fc\\uc758 \\uc0ac\\ud56d\", \"\\uc131\\ubd84 \\uc778\\uacf5 \\ub208\\ubb3c\", \"\\uc800\\ub141 \\ucd1d \\uc544\\uce68\", \"\\ub2c8\\ud2b8\\ub85c \\ud398\\ub2d0 \\ub80c\", \"\\ub80c \\ub514\\uc544 \\ubbfc\", \"\\ud398\\ub2d0 \\ub80c \\ub514\\uc544\", \"\\uc810\\uc2ec \\ud6c4 \\uc800\\ub141\", \"\\uc88b\\ub2e4 \\ub9d0 \\ub4e4\\ub2e4\", \"\\ubcf5\\uc6a9 \\ucd94\\uac00 \\ubcf5\\uc6a9\", \"\\ucf58 \\ud2b8\\ub85c\\uc774 \\uce5c\", \"\\ubab8 \\ubb38\\uc81c \\uc5c6\\ub2e4\", \"\\uac71\\uc815 \\ub418\\uc5b4\\ub2e4 \\ub4dc\\ub9ac\\ub2e4\", \"\\uba39\\ub2e4 \\uc774\\ub807\\uac8c \\uba39\\ub2e4\", \"\\ud761\\uc218 \\uc728 \\uc88b\\ub2e4\", \"\\ucc59\\uae30\\ub2e4 \\uba39\\ub2e4 \\ubcf4\\ub2e4\", \"\\uba39\\ub2e4 \\uba39\\ub2e4 \\uad1c\\ucc2e\\ub2e4\", \"\\ud55c\\ubc88 \\ub2e4 \\uba39\\ub2e4\", \"\\uc81c\\uc0b0\\uc81c \\ube44\\uc544\\uadf8\\ub77c \\uba39\\ub2e4\", \"\\uc2dd\\ud6c4 \\uc624\\ud6c4 \\uc2dd\\ud6c4\", \"\\ucc59\\uae30\\ub2e4 \\uba39\\ub2e4 \\uc88b\\ub2e4\", \"\\uc624\\uc804 \\uc2dd\\ud6c4 \\uc624\\ud6c4\", \"\\uba39\\ub2e4 \\uc704 \\uc88b\\ub2e4\", \"\\uc704\\uc7a5 \\uc6b4\\ub3d9 \\uae30\\ub2a5\", \"\\uba39\\ub2e4 \\ubcf4\\ub2e4 \\ubcf5\\uc6a9\", \"\\ucd1d \\uc544\\uce68 \\uc800\\ub141\", \"\\uc2dd\\uc0ac \\ud6c4 \\uc12d\\ucde8\", \"\\uba39\\ub2e4 \\ud6a8\\uacfc \\ub354\", \"\\uc88b\\ub2e4 \\ub9d0 \\ub4e4\\ub2e4\", \"\\ubab8 \\ubb38\\uc81c \\uc5c6\\ub2e4\", \"\\ud53c\\ub85c \\ud68c\\ubcf5 \\ub3c4\\uc6c0\", \"\\uae30\\ub2a5 \\uc2dd\\ud488 \\uc758\\uc57d\\ud488\", \"\\uba39\\ub2e4 \\uc2dd\\ud6c4 \\uba39\\ub2e4\", \"\\ub9ce\\uc774 \\uba39\\ub2e4 \\uad1c\\ucc2e\\ub2e4\", \"\\uac1c \\uba39\\ub2e4 \\uc0dd\\ub9ac\", \"\\ud150\\ud150 \\uac1c \\uba39\\ub2e4\", \"\\uac11\\uc0c1\\uc120 \\uae30\\ub2a5 \\uc800\\ud558\\uc99d\", \"\\ubcf5\\uc6a9 \\ubab8 \\ubb38\\uc81c\", \"\\uc774\\ubd80 \\ud39c \\uacc4\\uc5f4\", \"\\uc804\\ub9bd \\uc120\\uc57d \\ubcf5\\uc6a9\", \"\\uc131\\ubd84 \\ucd94\\ucc9c \\ud574\\uc8fc\\ub2e4\", \"\\ud310\\ub9e4 \\ub514\\uc624\\uc2a4 \\ubbfc\", \"\\ud574\\uc18c \\uc81c\\ub85c \\uc0ac\\uc6a9\", \"\\ubaa8\\ub974\\ub2e4 \\uc54c\\ub824\\uc8fc\\ub2e4 \\uac10\\uc0ac\\ud558\\ub2e4\", \"\\uc219\\ucde8 \\ud574\\uc18c \\uc81c\\ub85c\", \"\\uad1c\\ucc2e\\ub2e4 \\uacfc\\ud558\\ub2e4 \\uc54a\\ub2e4\", \"\\ub098\\uc774 \\uc218\\ub85d \\uba39\\ub2e4\", \"\\ub514\\uc624\\uc2a4 \\ubbfc \\uc131\\ubd84\", \"\\ud3ec\\ud568 \\uba39\\ub2e4 \\uc694\", \"\\ub4e4\\ub2e4 \\uc694\\uc0b0 \\uc218\\uce58\", \"\\uba39\\ub2e4 \\uad1c\\ucc2e\\ub2e4 \\ucd94\\uac00\", \"\\ud53c \\ub9d1\\ub2e4 \\ud574\", \"\\uac04\\uc774 \\uc2e0\\uc7a5 \\ubb34\\ub9ac\", \"\\uc12d\\ucde8 \\uc8fc\\uc758 \\uc810\", \"\\uc218\\uba74 \\ucd94\\ucc9c \\ubd80\\ud0c1\\ub4dc\\ub9ac\\ub2e4\", \"\\ud06c\\ub2e4 \\ub85c\\ub9ac \\ubb34\\uc2a4\", \"\\ud53c\\uba54 \\ud06c\\ub2e4 \\ub85c\\ub9ac\", \"\\uc7a0 \\uc124\\uce58\\ub2e4 \\ub044\\ub2e4\", \"\\ucc59\\uae30\\ub2e4 \\uba39\\ub2e4 \\uc88b\\ub2e4\", \"\\uc88b\\ub2e4 \\ub2f5\\ubcc0 \\ubd80\\ud0c1\\ub4dc\\ub9ac\\ub2e4\", \"\\uc18c\\ud654 \\uc790\\ub2e4 \\uc548\\ub418\\ub2e4\", \"\\uac00\\ub2e4 \\ud3ec\\ud568 \\ub418\\uc5b4\\ub2e4\", \"\\uc694\\uc0b0 \\uc218\\uce58 \\ub192\\ub2e4\", \"\\ub108\\ubb34 \\ub9ce\\uc774 \\uba39\\ub2e4\", \"\\ubcf5\\uc6a9 \\ubb38\\uc81c \\uc5c6\\ub2e4\", \"\\uaf2d \\ucc59\\uae30\\ub2e4 \\uba39\\ub2e4\", \"\\ud558\\ub8e8 \\uc12d\\ucde8 \\ub7c9\", \"\\ubcf5\\uc6a9 \\ucd94\\uac00 \\ubcf5\\uc6a9\", \"\\uba39\\ub2e4 \\ub354 \\uc88b\\ub2e4\", \"\\uba39\\ub2e4 \\ubd80\\uc791\\uc6a9 \\uc5c6\\ub2e4\", \"\\uc544\\uce68 \\uc810\\uc2ec \\uc800\\ub141\", \"\\uba39\\ub2e4 \\ud53c\\ub85c \\ud68c\\ubcf5\", \"\\uc870\\uc5b8 \\ubd80\\ud0c1 \\ub4dc\\ub9ac\\ub2e4\", \"\\uac70 \\ub2e4 \\uba39\\ub2e4\", \"\\uc774\\uc720 \\ubb58 \\ub044\\ub2e4\", \"\\ud55c\\ubc88 \\uba39\\ub2e4 \\ubcf4\\ub2e4\", \"\\uc774\\ub807\\uac8c \\uba39\\ub2e4 \\uad1c\\ucc2e\\ub2e4\", \"\\uba39\\ub2e4 \\uc88b\\ub2e4 \\uba39\\ub2e4\", \"\\uc810\\uc2ec \\ud6c4 \\uc800\\ub141\", \"\\ucf58 \\ud2b8\\ub85c\\uc774 \\uce5c\", \"\\uac71\\uc815 \\ub418\\uc5b4\\ub2e4 \\ub4dc\\ub9ac\\ub2e4\", \"\\uc2dd\\ud6c4 \\uc774\\ub807\\uac8c \\uba39\\ub2e4\", \"\\uba74 \\uc55e \\uba74\", \"\\ud6c4 \\uc810\\uc2ec \\ud6c4\", \"\\uc218 \\uac00\\uc694 \\uc544\\ub2c8\\ub2e4\", \"\\uce68\\uc2dd \\ud6c4 \\uc810\\uc2ec\", \"\\ub9e8 \\ub85c\\uc9c0 \\ucef7\", \"\\uc55e \\uba74 \\uc55e\", \"\\ube44\\ud0c0 \\ubc14 \\uc774\\ud0c8\", \"\\ubcf5\\uc6a9 \\uc218\\uba74 \\ubc29\\ud574\", \"\\ubcf5\\uc6a9 \\ubcf5\\uc6a9 \\uc88b\\ub2e4\", \"\\ub9e5\\uc2dc \\ud5e4\\uc5b4 \\ubcf5\\uc6a9\", \"\\uac8c \\ub354 \\uc88b\\ub2e4\", \"\\ud558\\ub8e8 \\uac1c \\ud558\\ub8e8\", \"\\uac1c \\ud558\\ub8e8 \\uac1c\", \"\\uce78\\ud0c8 \\ub85c\\ud504 \\uba5c\\ub860\", \"\\ucf58 \\ub4dc\\ub77c\\uc774 \\uce5c\", \"\\uac00\\uc7a5 \\uc88b\\ub2e4 \\ud615\\ud0dc\", \"\\ub354 \\ud6a8\\uacfc \\uc88b\\ub2e4\", \"\\uc81c\\ud488 \\ud558\\ub8e8 \\ud3ec\", \"\\ud574\\ub2f9 \\uc81c\\ud488 \\ud558\\ub8e8\", \"\\ud558\\ub8e8 \\ud3ec \\uc12d\\ucde8\", \"\\uba54\\ub974 \\uce85\\ud1a0 \\ud4e8\\ub9b0\", \"\\uc88b\\ub2e4 \\ud558\\ub8e8 \\ud55c\\ubc88\", \"\\uc0c1\\uad00\\uc5c6\\ub2e4 \\ub2f5\\ubcc0 \\ud574\\uc8fc\\ub2e4\", \"\\uba39\\ub2e4 \\uad1c\\ucc2e\\ub2e4 \\uac04\", \"\\uba39\\ub2e4 \\ud558\\ub8e8 \\uc815\\ub3c4\", \"\\uba39\\ub2e4 \\uc0c1\\uad00\\uc5c6\\ub2e4 \\ub2f5\\ubcc0\", \"\\ud55c\\ubc88 \\ub2e4 \\uba39\\ub2e4\", \"\\uba39\\ub2e4 \\ub3c4\\uc6c0 \\uc694\", \"\\uacf5\\ubcf5 \\uce68\\uc2dd \\ud6c4\", \"\\ubcf5\\uc6a9 \\uc0c1\\uad00 \\uc5c6\\ub2e4\", \"\\uba39\\ub2e4 \\uc88b\\ub2e4 \\uad81\\uae08\\ud558\\ub2e4\", \"\\uad81\\uae08\\ud558\\ub2e4 \\uc5ec\\ucb48\\ub2e4 \\ubcf4\\ub2e4\", \"\\ubb38\\uc81c \\uc5c6\\ub2e4 \\uad81\\uae08\\ud558\\ub2e4\", \"\\uc885\\ub958 \\ub108\\ubb34 \\ub9ce\\ub2e4\", \"\\uc544\\uce68 \\uc810\\uc2ec \\uc800\\ub141\", \"\\ud558\\ub8e8 \\uc815\\ub3c4 \\uba39\\ub2e4\", \"\\ud6c4 \\uc800\\ub141 \\ud6c4\", \"\\uba39\\ub2e4 \\ubb38\\uc81c \\uc5c6\\ub2e4\", \"\\ubcf5\\uc6a9 \\ubb38\\uc81c \\uc5c6\\ub2e4\", \"\\ub2e4 \\uba39\\ub2e4 \\uad1c\\ucc2e\\ub2e4\", \"\\uc790\\ub2e4 \\ucc59\\uae30\\ub2e4 \\uba39\\ub2e4\", \"\\uc88b\\ub2e4 \\ucd94\\ucc9c \\ubd80\\ud0c1\\ub4dc\\ub9ac\\ub2e4\", \"\\uba39\\ub2e4 \\ubc88 \\uba39\\ub2e4\", \"\\ud574 \\ube44\\ucd94\\ub2e4 \\uc5bc\", \"\\uc544\\uce68 \\uc800\\ub141 \\ucd1d\", \"\\uc800\\ub141 \\ucd1d \\uc544\\uce68\", \"\\ub2c8\\ud2b8\\ub85c \\ud398\\ub2d0 \\ub80c\", \"\\ub80c \\ub514\\uc544 \\ubbfc\", \"\\ud398\\ub2d0 \\ub80c \\ub514\\uc544\", \"\\uba39\\ub2e4 \\uc704 \\uc88b\\ub2e4\", \"\\ucd1d \\uc544\\uce68 \\uc800\\ub141\", \"\\uc2dd\\uc0ac \\ud6c4 \\uc12d\\ucde8\", \"\\uba39\\ub2e4 \\ud6a8\\uacfc \\ub354\", \"\\uc720\\ud1b5 \\uae30\\ud55c \\uc9c0\\ub098\\ub2e4\", \"\\ub1cc \\ud608 \\ub958\\ub7c9\", \"\\ube44\\ucd94\\ub2e4 \\uc5bc \\ud65c\", \"\\uc5bc \\ud65c \\ucda9\\uc804\", \"\\ud558\\ub8e8 \\uac1c \\ube60\\uc9c0\\ub2e4\", \"\\uc624\\ub2e4 \\ucf54\\ud638\\uc26c \\uc11c\\uc591\", \"\\uac04\\uc7a5 \\uc57d \\ubcf5\\uc6a9\", \"\\ud608\\uc555 \\uc57d\\uacfc \\uac04\\uc7a5\", \"\\uc7ac\\ubc1c \\uac00\\ub2a5\\uc131 \\ub192\\uc544\\uc9c0\\ub2e4\", \"\\uac00\\ub2a5\\uc131 \\ub192\\uc544\\uc9c0\\ub2e4 \\uac74\\uac00\", \"\\uc694 \\ub108\\ubb34 \\ub9ce\\uc774\", \"\\ucf54\\ud638\\uc26c \\uc11c\\uc591 \\uc2b9\\ub9c8\", \"\\uc704\\uc7a5 \\uc57d \\ubcf5\\uc6a9\", \"\\uc138\\uc774\\ub4dc \\uc131\\ubd84 \\uc5c6\\ub2e4\", \"\\ud604\\uc7ac \\ud608\\uc555 \\uc57d\\uacfc\", \"\\ud558\\ub8e8 \\uc801 \\uc815\\ub7c9\", \"\\uc78e \\ud64d\\ud569 \\ub809\", \"\\uc528\\ub514 \\ucd08\\ub85d \\uc78e\", \"\\uc704\\uc0b0 \\ubd84\\ube44 \\ucd09\\uc9c4\", \"\\ucd08\\ub85d \\uc78e \\ud64d\\ud569\", \"\\ubcf5\\uc6a9 \\uc8fc\\uc758 \\uc0ac\\ud56d\", \"\\uba39\\ub2e4 \\uc774\\ub807\\uac8c \\uba39\\ub2e4\", \"\\uc5ec\\ucb48\\ub2e4 \\ubcf4\\uace0 \\uc2f6\\ub2e4\", \"\\uace0\\uc9c0\\ud608\\uc99d \\uc57d \\uba39\\ub2e4\", \"\\ubab8 \\uc601\\ud5a5 \\uc8fc\\ub2e4\", \"\\ud6a8\\uacfc \\ub354 \\uc88b\\ub2e4\", \"\\ubcf5\\uc6a9 \\ucd94\\uac00 \\ubcf5\\uc6a9\", \"\\uc774\\ub807\\uac8c \\uba39\\ub2e4 \\uad1c\\ucc2e\\ub2e4\", \"\\ub354 \\uc88b\\ub2e4 \\uac74\\uac00\", \"\\uc544\\uce68 \\uc810\\uc2ec \\uc800\\ub141\", \"\\ucde8\\uce68 \\uc804 \\uba39\\ub2e4\", \"\\uba39\\ub2e4 \\ub354 \\uc88b\\ub2e4\", \"\\ucc98\\ubc29 \\ubc1b\\ub2e4 \\ubcf5\\uc6a9\", \"\\ub108\\ubb34 \\ub9ce\\uc774 \\uba39\\ub2e4\", \"\\uc88b\\ub2e4 \\ucd94\\ucc9c \\ubd80\\ud0c1\\ub4dc\\ub9ac\\ub2e4\", \"\\ubcf5\\uc6a9 \\uc548\\ub418\\ub2e4 \\uc57d\", \"\\uba39\\ub2e4 \\uad1c\\ucc2e\\ub2e4 \\uad81\\uae08\\ud558\\ub2e4\", \"\\uc131\\ubd84 \\uc778\\uacf5 \\ub208\\ubb3c\", \"\\ucd94\\uac00 \\uba39\\ub2e4 \\uc88b\\ub2e4\", \"\\uc81c\\uc0b0\\uc81c \\ube44\\uc544\\uadf8\\ub77c \\uba39\\ub2e4\", \"\\uc2dd\\ud6c4 \\uc624\\ud6c4 \\uc2dd\\ud6c4\", \"\\uc624\\uc804 \\uc2dd\\ud6c4 \\uc624\\ud6c4\", \"\\uc704\\uc7a5 \\uc6b4\\ub3d9 \\uae30\\ub2a5\", \"\\uba39\\ub2e4 \\ubcf4\\ub2e4 \\ubcf5\\uc6a9\", \"\\uc544\\uce68 \\uc800\\ub141 \\ub098\\ub204\\ub2e4\", \"\\uba39\\ub2e4 \\uc624\\ub80c\\uc9c0 \\uc8fc\\uc2a4\", \"\\uc8fc\\uc2a4 \\uba39\\ub2e4 \\uccb4\\ub0b4\", \"\\uba39\\ub2e4 \\uccb4\\ub0b4 \\ud761\\uc218\", \"\\uac00\\uc2a4 \\uc81c\\uac70 \\ud6a8\\uacfc\", \"\\uc624\\ub80c\\uc9c0 \\uc8fc\\uc2a4 \\uba39\\ub2e4\", \"\\ud558\\ub8e8 \\uad8c\\uc7a5 \\uc12d\\ucde8\", \"\\uc26c\\ub2e4 \\uc124\\uba85 \\ubd80\\ud0c1\\ub4dc\\ub9ac\\ub2e4\", \"\\ud6a8\\uacfc \\uc88b\\ub2e4 \\uc5f0\\uace0\", \"\\uba39\\ub2e4 \\uc9c8 \\uba39\\ub2e4\", \"\\ubc09\\ub2e4 \\ud654\\uc774 \\ubc14\", \"\\uba39\\ub2e4 \\uc81c\\ud488 \\ub4e4\\ub2e4\", \"\\uc544\\uc878 \\ub77d\\uc815 \\ub180\\uc815\", \"\\uba39\\ub2e4 \\uac00\\uc9c0 \\uba39\\ub2e4\", \"\\uba39\\ub2e4 \\uc81c\\uc0b0\\uc81c \\ube44\\uc544\\uadf8\\ub77c\", \"\\ube44\\uc544\\uadf8\\ub77c \\uba39\\ub2e4 \\uc81c\\uc0b0\\uc81c\", \"\\uc6c0 \\uc544\\uc878 \\ub77d\\uc815\", \"\\uba39\\ub2e4 \\uc21c\\uc11c \\uc54c\\ub824\\uc8fc\\ub2e4\", \"\\ubca0\\ub9ac \\uc6c0 \\uc544\\uc878\", \"\\ub514\\ucfe0 \\uc544\\ud3ec \\uc131\\ubd84\", \"\\uc544\\ud3ec \\uc131\\ubd84 \\uc778\\uacf5\", \"\\ub354 \\ub192\\ub2e4 \\ud6a8\\uacfc\", \"\\uae30\\uc900 \\ud558\\ub8e8 \\uad8c\\uc7a5\\ub7c9\", \"\\uba39\\ub2e4 \\uba39\\ub2e4 \\uad1c\\ucc2e\\ub2e4\", \"\\uad8c\\uc7a5 \\uc12d\\ucde8 \\ub7c9\", \"\\ucc59\\uae30\\ub2e4 \\uba39\\ub2e4 \\ubcf4\\ub2e4\", \"\\ud761\\uc218 \\uc728 \\uc88b\\ub2e4\", \"\\ucc59\\uae30\\ub2e4 \\uba39\\ub2e4 \\uc911\", \"\\ud761\\uc218 \\uc728 \\ucc28\\uc774\", \"\\uc810\\uc2ec \\uba39\\ub2e4 \\uba39\\ub2e4\", \"\\ucc59\\uae30\\ub2e4 \\uba39\\ub2e4 \\uba39\\ub2e4\", \"\\uba39\\ub2e4 \\ubb38\\uc81c \\uc5c6\\ub2e4\", \"\\ubcf5\\uc6a9 \\ubb38\\uc81c \\uc5c6\\ub2e4\", \"\\uc88b\\ub2e4 \\ucd94\\ucc9c \\ud574\\uc8fc\\ub2e4\", \"\\uaf2d \\ucc59\\uae30\\ub2e4 \\uba39\\ub2e4\", \"\\uc88b\\ub2e4 \\ucd94\\ucc9c \\ubd80\\ud0c1\\ub4dc\\ub9ac\\ub2e4\", \"\\uba39\\ub2e4 \\uad1c\\ucc2e\\ub2e4 \\uad81\\uae08\\ud558\\ub2e4\", \"\\uba39\\ub2e4 \\uba39\\ub2e4 \\uc88b\\ub2e4\", \"\\uba39\\ub2e4 \\uc88b\\ub2e4 \\ucd94\\ucc9c\", \"\\uc21c\\uc11c \\uc54c\\ub824\\uc8fc\\ub2e4 \\uac10\\uc0ac\\ud558\\ub2e4\", \"\\uc2dd\\ud6c4 \\uc800\\ub141 \\uc2dd\\ud6c4\", \"\\uc544\\uce68 \\uc810\\uc2ec \\uc800\\ub141\", \"\\uba39\\ub2e4 \\ucd94\\uac00 \\uba39\\ub2e4\", \"\\uc810\\uc2ec \\uc2dd\\ud6c4 \\uc800\\ub141\", \"\\uba39\\ub2e4 \\ubc88 \\uba39\\ub2e4\"], \"Freq\": [5.0, 4.0, 3.0, 3.0, 2.0, 2.0, 2.0, 2.0, 2.0, 2.0, 2.0, 4.0, 2.0, 2.0, 2.0, 3.0, 3.0, 3.0, 4.0, 4.0, 2.0, 2.0, 3.0, 2.0, 2.0, 2.0, 2.0, 2.0, 2.0, 2.0, 2.220479693436407, 2.211525734689616, 1.7167565140415608, 1.7166615541326788, 1.6978697979006157, 1.6709827707799842, 1.1881511394008097, 1.1881075854374337, 1.188118995348966, 1.1880165515196168, 1.1880251396250712, 1.1879914006393573, 1.1880527442497462, 1.1879977803748378, 1.1880039147358765, 1.1879039246509429, 1.187960728834163, 1.1879690715651758, 1.187791297782269, 1.187679897785803, 1.187441516515832, 1.1874584473522993, 1.1873633647561967, 1.1868473423056063, 1.1865762035476877, 1.1843629260848598, 1.1838868996682428, 1.1837332952678292, 1.1836034921882466, 1.1833419230335487, 2.23710822859172, 1.7183367254451762, 1.6944606880968687, 1.7171644490506464, 1.7164734746232269, 2.2427979711425015, 2.252694167744864, 1.7158573394004817, 1.7149964431722853, 1.7117922210272367, 1.711105295278103, 1.2012773224645843, 1.2163084700053726, 1.1982046210202093, 1.194723861879528, 1.196149364697743, 1.1918039060250212, 1.1908911131024358, 1.189333721521885, 1.1890059012679672, 2.2283099008692653, 2.2081109658178852, 2.1896474480981776, 1.6989102500812097, 1.6985654935682486, 1.6968557951949144, 1.6951240520001474, 1.6951937381301208, 1.6941628977856829, 1.6931461416327156, 1.6931005823350882, 1.6917810773011124, 1.685972879209753, 1.684495263817613, 1.6810159786393857, 1.6684632899019294, 1.6621067881130474, 1.6607109835026685, 1.6565126697320456, 1.185574783142375, 1.1856221795084554, 1.1856128716949617, 1.1855630259042778, 1.1855185688477219, 1.18541606042806, 1.1853582540074141, 1.185322982293122, 1.1852466827167187, 1.1852672578833894, 1.1852748510996605, 2.778747782049135, 1.7089013305681888, 1.7079372370441999, 1.6926685038350078, 1.6996442201636874, 2.2138029387118023, 2.220445288351928, 2.2071133151768265, 3.2238116617232735, 1.7150340774195292, 1.702292538045133, 2.2905301846506916, 2.2095237939292596, 1.7198966751426568, 1.6954112470349232, 1.7097605887191425, 1.687289689876665, 4.545061095725479, 2.611794224419716, 2.1164147029574916, 2.0781688529318565, 2.072167279950256, 2.0704655073105465, 1.6301436237629037, 1.622360549248319, 1.6191489315418308, 1.6148778202577712, 1.605908597759144, 1.5989816358656472, 1.5970774830505408, 1.5960652485798614, 1.1284847569684522, 1.1284512864009826, 1.1284994350910633, 1.1284996574868604, 1.1284733035848995, 1.1284272676548917, 1.128403137710902, 1.1283691111539398, 1.12844528171446, 1.1284498408283012, 1.128395909847495, 1.1283706679245198, 1.128356879385097, 1.1283403108982102, 1.128386124432421, 1.1283566569893, 2.6069444392714995, 2.1238046929006327, 2.0942004763644384, 1.6445811141215911, 1.6381230737663623, 2.604290590224237, 2.1135498002987436, 2.229864581368961, 1.6382283781763076, 2.6434920749901796, 1.6098769171653988, 1.7070721091597556, 1.6298997667713404, 1.665112138123996, 1.6348611946097205, 1.1416017722816252, 1.144736441042303, 2.106200502117627, 3.3224039365016864, 1.6153641177092992, 1.6139665910200007, 1.6124806422566642, 1.6003181914241396, 1.597459029316154, 1.5862408739007, 1.1188112625686726, 1.1186745408906902, 1.118485921669869, 1.118488211267347, 1.1184443818299077, 1.1184539763336259, 1.1183635917474635, 1.1183329547526364, 1.1183817994988376, 1.1182915239411266, 1.1182875989168783, 1.1183334998948933, 1.1182971934205963, 1.1183115851761736, 1.118269936307761, 1.118206154663726, 1.1180830615421613, 1.1179624760749773, 1.1166586048253815, 1.1164120914968978, 1.1160862054558374, 1.1149520915049806, 2.5758289992563146, 1.6173844149126615, 2.057901552343946, 2.0561601499191156, 1.5921376776915177, 1.58852752761069, 1.5497652964758706, 1.6276882577351637, 2.1250066016326605, 2.11902181188161, 1.6116413412382355, 1.604645857743247, 1.7323789031118177, 1.6003876425476442, 1.26298601645648, 1.2041543731409303, 1.130060164007405, 1.1400670133284523, 1.1516553203362114, 1.1348182746524098, 1.1297440905269653, 1.132175097906532], \"Total\": [5.0, 4.0, 3.0, 3.0, 2.0, 2.0, 2.0, 2.0, 2.0, 2.0, 2.0, 4.0, 2.0, 2.0, 2.0, 3.0, 3.0, 3.0, 4.0, 4.0, 2.0, 2.0, 3.0, 2.0, 2.0, 2.0, 2.0, 2.0, 2.0, 2.0, 2.6267799482373535, 2.6256962500972003, 2.0990853919506316, 2.098997982725227, 2.0979085086728944, 2.096027817057942, 1.5703155786720278, 1.5702765704912953, 1.5703356165152604, 1.5702132417978818, 1.5702610356853701, 1.570229444710746, 1.570318038005205, 1.5702726172343477, 1.5702935922870724, 1.5701769598234299, 1.5702757468031618, 1.5703146920445947, 1.5702395035861636, 1.5700961430911757, 1.5701249363381886, 1.5702398840291636, 1.570339938758704, 1.5701900308086123, 1.5700904398582671, 1.5701989701660004, 1.570076436749587, 1.5700954249607637, 1.5700948784153854, 1.5700428365086962, 3.1525819864676237, 2.595538124375149, 2.62295468262823, 3.093759390211715, 3.152143272582386, 5.711570260747934, 7.225742682467452, 4.116825843461905, 4.120186207698942, 4.105933180430711, 5.180388834669931, 2.597532196763043, 8.235267527055036, 2.597190926705175, 2.0961070518718343, 2.5944701617030175, 2.066972866984607, 3.1199653484073577, 5.098903014759484, 3.596011389413698, 2.622341571884577, 2.621110618058494, 2.620399101686002, 2.0945740292988586, 2.0954573732292396, 2.094562655570574, 2.094361916103861, 2.0945221764759547, 2.0944018683134544, 2.0953679896698154, 2.0955062798632245, 2.0940437550104263, 2.0941861460367317, 2.0946372461008536, 2.0936502888395694, 2.0931267902489976, 2.0928335461522893, 2.0921819620862783, 2.094530740683946, 1.5679750228808083, 1.5680626910275364, 1.5680614212303619, 1.5680122089896313, 1.5680011034954573, 1.567940564998863, 1.5679259517295223, 1.5679532225300197, 1.5678655409302493, 1.5679002799153692, 1.5679221247593615, 4.179457168077128, 2.596075712904148, 2.620746322261489, 2.5913760818569953, 2.6225677553681033, 4.145597210888139, 4.1789267975077875, 4.146257956168774, 8.235267527055036, 3.118614244812901, 3.117923863414418, 6.673212192000905, 7.225742682467452, 4.646623319746624, 3.61873995814852, 5.6107695367986885, 4.091715685311933, 5.035790485711225, 3.024561047022507, 2.5223070629667985, 2.5240478971332836, 2.524226578630648, 2.5243343244266567, 2.019296337029551, 2.019851649351638, 2.0194433856559026, 2.019433951043031, 2.0205407221100904, 2.0208770621709404, 2.020747041127765, 2.020682101876258, 1.517248663926098, 1.5172255324228274, 1.5172922492279917, 1.5173033135868774, 1.5172742311318168, 1.517233469098807, 1.5172257710258417, 1.517198602074156, 1.5173050643566492, 1.5173330660935787, 1.5172811262700177, 1.5172596954486561, 1.5172549976309078, 1.5172359794970394, 1.5173043412312104, 1.517273017441203, 3.5508195298048175, 3.577176629626931, 3.5457979586150787, 2.544399716398359, 2.546264156142086, 5.101116300431067, 4.105933180430711, 5.098903014759484, 3.0143879782114675, 8.235267527055036, 3.074228479226082, 5.180388834669931, 4.595476506571096, 5.711570260747934, 5.6107695367986885, 2.043768064542429, 4.591965551333459, 2.5041814246095955, 4.013826829095539, 2.0061113219648057, 2.0062095232284682, 2.006151043413622, 2.0068997444925, 2.006979634427604, 2.0073453803989336, 1.508659422519889, 1.508566426922493, 1.5084365558911192, 1.5084491418840118, 1.50843500373028, 1.5084832540104167, 1.508401205092766, 1.508389849505553, 1.5084576570884534, 1.5084209383323661, 1.508421024124767, 1.50849151327683, 1.508462579936372, 1.5084863779700142, 1.5084659816060175, 1.5084186580775256, 1.5083618847846636, 1.5083400236355837, 1.508733818560231, 1.5087395761406013, 1.5085587792003397, 1.5086932114682754, 4.5820894862507195, 2.533062158536425, 3.5592742602871468, 3.559495037402229, 2.5341339448896187, 2.5344713029659474, 2.5103814416883306, 3.586317643816547, 6.673212192000905, 7.225742682467452, 4.114162774269022, 4.116825843461905, 5.6107695367986885, 4.591965551333459, 3.0312570517934896, 3.0323434547827457, 2.0093532794251163, 3.087822699886662, 8.235267527055036, 3.567678796210656, 3.088731004643053, 4.091715685311933], \"Category\": [\"Default\", \"Default\", \"Default\", \"Default\", \"Default\", \"Default\", \"Default\", \"Default\", \"Default\", \"Default\", \"Default\", \"Default\", \"Default\", \"Default\", \"Default\", \"Default\", \"Default\", \"Default\", \"Default\", \"Default\", \"Default\", \"Default\", \"Default\", \"Default\", \"Default\", \"Default\", \"Default\", \"Default\", \"Default\", \"Default\", \"Topic1\", \"Topic1\", \"Topic1\", \"Topic1\", \"Topic1\", \"Topic1\", \"Topic1\", \"Topic1\", \"Topic1\", \"Topic1\", \"Topic1\", \"Topic1\", \"Topic1\", \"Topic1\", \"Topic1\", \"Topic1\", \"Topic1\", \"Topic1\", \"Topic1\", \"Topic1\", \"Topic1\", \"Topic1\", \"Topic1\", \"Topic1\", \"Topic1\", \"Topic1\", \"Topic1\", \"Topic1\", \"Topic1\", \"Topic1\", \"Topic1\", \"Topic1\", \"Topic1\", \"Topic1\", \"Topic1\", \"Topic1\", \"Topic1\", \"Topic1\", \"Topic1\", \"Topic1\", \"Topic1\", \"Topic1\", \"Topic1\", \"Topic1\", \"Topic1\", \"Topic1\", \"Topic1\", \"Topic1\", \"Topic1\", \"Topic1\", \"Topic2\", \"Topic2\", \"Topic2\", \"Topic2\", \"Topic2\", \"Topic2\", \"Topic2\", \"Topic2\", \"Topic2\", \"Topic2\", \"Topic2\", \"Topic2\", \"Topic2\", \"Topic2\", \"Topic2\", \"Topic2\", \"Topic2\", \"Topic2\", \"Topic2\", \"Topic2\", \"Topic2\", \"Topic2\", \"Topic2\", \"Topic2\", \"Topic2\", \"Topic2\", \"Topic2\", \"Topic2\", \"Topic2\", \"Topic2\", \"Topic2\", \"Topic2\", \"Topic2\", \"Topic2\", \"Topic2\", \"Topic2\", \"Topic2\", \"Topic2\", \"Topic2\", \"Topic2\", \"Topic2\", \"Topic2\", \"Topic2\", \"Topic2\", \"Topic2\", \"Topic2\", \"Topic2\", \"Topic3\", \"Topic3\", \"Topic3\", \"Topic3\", \"Topic3\", \"Topic3\", \"Topic3\", \"Topic3\", \"Topic3\", \"Topic3\", \"Topic3\", \"Topic3\", \"Topic3\", \"Topic3\", \"Topic3\", \"Topic3\", \"Topic3\", \"Topic3\", \"Topic3\", \"Topic3\", \"Topic3\", \"Topic3\", \"Topic3\", \"Topic3\", \"Topic3\", \"Topic3\", \"Topic3\", \"Topic3\", \"Topic3\", \"Topic3\", \"Topic3\", \"Topic3\", \"Topic3\", \"Topic3\", \"Topic3\", \"Topic3\", \"Topic3\", \"Topic3\", \"Topic3\", \"Topic3\", \"Topic3\", \"Topic3\", \"Topic3\", \"Topic3\", \"Topic3\", \"Topic3\", \"Topic3\", \"Topic4\", \"Topic4\", \"Topic4\", \"Topic4\", \"Topic4\", \"Topic4\", \"Topic4\", \"Topic4\", \"Topic4\", \"Topic4\", \"Topic4\", \"Topic4\", \"Topic4\", \"Topic4\", \"Topic4\", \"Topic4\", \"Topic4\", \"Topic4\", \"Topic4\", \"Topic4\", \"Topic4\", \"Topic4\", \"Topic4\", \"Topic4\", \"Topic4\", \"Topic4\", \"Topic4\", \"Topic4\", \"Topic4\", \"Topic4\", \"Topic4\", \"Topic4\", \"Topic4\", \"Topic4\", \"Topic4\", \"Topic4\", \"Topic4\", \"Topic4\", \"Topic4\", \"Topic4\", \"Topic4\", \"Topic4\", \"Topic4\", \"Topic4\", \"Topic4\", \"Topic4\", \"Topic4\", \"Topic4\", \"Topic4\", \"Topic4\", \"Topic4\", \"Topic4\"], \"logprob\": [30.0, 29.0, 28.0, 27.0, 26.0, 25.0, 24.0, 23.0, 22.0, 21.0, 20.0, 19.0, 18.0, 17.0, 16.0, 15.0, 14.0, 13.0, 12.0, 11.0, 10.0, 9.0, 8.0, 7.0, 6.0, 5.0, 4.0, 3.0, 2.0, 1.0, -8.2419, -8.246, -8.4992, -8.4993, -8.5103, -8.5263, -8.8673, -8.8673, -8.8673, -8.8674, -8.8674, -8.8674, -8.8674, -8.8674, -8.8674, -8.8675, -8.8674, -8.8674, -8.8676, -8.8677, -8.8679, -8.8679, -8.8679, -8.8684, -8.8686, -8.8705, -8.8709, -8.871, -8.8711, -8.8713, -8.2345, -8.4983, -8.5123, -8.499, -8.4994, -8.2319, -8.2275, -8.4998, -8.5003, -8.5021, -8.5025, -8.8563, -8.8439, -8.8588, -8.8618, -8.8606, -8.8642, -8.865, -8.8663, -8.8666, -8.2367, -8.2458, -8.2542, -8.5079, -8.5081, -8.5091, -8.5102, -8.5101, -8.5107, -8.5113, -8.5113, -8.5121, -8.5156, -8.5164, -8.5185, -8.526, -8.5298, -8.5307, -8.5332, -8.8677, -8.8676, -8.8676, -8.8677, -8.8677, -8.8678, -8.8679, -8.8679, -8.868, -8.8679, -8.8679, -8.0159, -8.5021, -8.5026, -8.5116, -8.5075, -8.2432, -8.2402, -8.2462, -7.8673, -8.4985, -8.5059, -8.2091, -8.2451, -8.4956, -8.51, -8.5016, -8.5148, -7.4273, -7.9813, -8.1916, -8.2099, -8.2127, -8.2136, -8.4527, -8.4575, -8.4594, -8.4621, -8.4677, -8.472, -8.4732, -8.4738, -8.8205, -8.8205, -8.8205, -8.8205, -8.8205, -8.8205, -8.8205, -8.8206, -8.8205, -8.8205, -8.8205, -8.8206, -8.8206, -8.8206, -8.8206, -8.8206, -7.9832, -8.1881, -8.2022, -8.4439, -8.4478, -7.9842, -8.193, -8.1394, -8.4477, -7.9692, -8.4652, -8.4066, -8.4528, -8.4315, -8.4498, -8.8089, -8.8062, -8.1768, -7.721, -8.4421, -8.4429, -8.4439, -8.4514, -8.4532, -8.4603, -8.8094, -8.8095, -8.8097, -8.8097, -8.8097, -8.8097, -8.8098, -8.8098, -8.8098, -8.8098, -8.8098, -8.8098, -8.8098, -8.8098, -8.8099, -8.8099, -8.81, -8.8101, -8.8113, -8.8115, -8.8118, -8.8128, -7.9755, -8.4408, -8.2, -8.2008, -8.4566, -8.4588, -8.4835, -8.4345, -8.1679, -8.1707, -8.4444, -8.4487, -8.3721, -8.4514, -8.6882, -8.7359, -8.7994, -8.7906, -8.7804, -8.7952, -8.7997, -8.7975], \"loglift\": [30.0, 29.0, 28.0, 27.0, 26.0, 25.0, 24.0, 23.0, 22.0, 21.0, 20.0, 19.0, 18.0, 17.0, 16.0, 15.0, 14.0, 13.0, 12.0, 11.0, 10.0, 9.0, 8.0, 7.0, 6.0, 5.0, 4.0, 3.0, 2.0, 1.0, 1.1652, 1.1616, 1.1322, 1.1321, 1.1217, 1.1066, 1.0543, 1.0543, 1.0543, 1.0543, 1.0543, 1.0543, 1.0543, 1.0542, 1.0542, 1.0542, 1.0542, 1.0542, 1.0541, 1.0541, 1.0539, 1.0538, 1.0537, 1.0533, 1.0532, 1.0512, 1.0509, 1.0508, 1.0507, 1.0505, 0.9902, 0.9208, 0.8963, 0.7445, 0.7254, 0.3985, 0.1677, 0.4581, 0.4567, 0.4583, 0.2255, 0.5621, -0.5794, 0.5596, 0.7711, 0.559, 0.7826, 0.3701, -0.1224, 0.2265, 1.1722, 1.1635, 1.1554, 1.1256, 1.125, 1.1244, 1.1235, 1.1235, 1.1229, 1.1218, 1.1218, 1.1217, 1.1182, 1.1171, 1.1155, 1.1082, 1.1046, 1.104, 1.1004, 1.0554, 1.0554, 1.0554, 1.0554, 1.0554, 1.0553, 1.0553, 1.0552, 1.0552, 1.0552, 1.0552, 0.9268, 0.9168, 0.9068, 0.9091, 0.9013, 0.7077, 0.7026, 0.7045, 0.3971, 0.737, 0.7298, 0.2657, 0.1501, 0.3411, 0.5768, 0.1467, 0.4491, 1.329, 1.2848, 1.2561, 1.2372, 1.2342, 1.2333, 1.2175, 1.2124, 1.2106, 1.208, 1.2019, 1.1974, 1.1963, 1.1957, 1.1355, 1.1355, 1.1355, 1.1355, 1.1355, 1.1355, 1.1355, 1.1355, 1.1355, 1.1354, 1.1354, 1.1354, 1.1354, 1.1354, 1.1354, 1.1354, 1.1226, 0.9102, 0.905, 0.9951, 0.9905, 0.7593, 0.7675, 0.6045, 0.8218, 0.2952, 0.7847, 0.3215, 0.395, 0.199, 0.1984, 0.8492, 0.0424, 1.2782, 1.2622, 1.2346, 1.2337, 1.2328, 1.2249, 1.223, 1.2158, 1.1523, 1.1522, 1.1522, 1.1522, 1.1521, 1.1521, 1.1521, 1.1521, 1.1521, 1.152, 1.152, 1.152, 1.152, 1.152, 1.1519, 1.1519, 1.1518, 1.1518, 1.1503, 1.1501, 1.1499, 1.1488, 0.8753, 1.0026, 0.9034, 0.9025, 0.9865, 0.9841, 0.9689, 0.6613, 0.3069, 0.2246, 0.5141, 0.5091, 0.2761, 0.3972, 0.5758, 0.5277, 0.8757, 0.4549, -0.516, 0.3058, 0.4455, 0.1664]}, \"token.table\": {\"Topic\": [3, 1, 4, 4, 2, 1, 3, 1, 1, 2, 1, 2, 4, 2, 2, 2, 3, 1, 2, 1, 1, 2, 3, 4, 1, 4, 1, 4, 1, 2, 4, 1, 1, 2, 3, 3, 3, 1, 2, 3, 4, 4, 3, 4, 2, 1, 1, 4, 3, 1, 2, 2, 4, 2, 1, 2, 3, 4, 1, 1, 2, 3, 2, 3, 1, 2, 4, 1, 3, 4, 1, 2, 3, 4, 2, 3, 4, 4, 1, 2, 3, 2, 4, 1, 4, 3, 1, 3, 4, 4, 1, 2, 1, 2, 3, 4, 1, 3, 4, 4, 4, 1, 3, 4, 1, 2, 3, 2, 3, 2, 2, 1, 1, 1, 3, 1, 2, 3, 4, 4, 1, 1, 2, 3, 4, 2, 2, 4, 2, 1, 3, 2, 3, 1, 3, 4, 3, 2, 2, 1, 4, 1, 3, 1, 2, 2, 1, 1, 3, 4, 4, 3, 4, 2, 1, 2, 4, 3, 4, 4, 3, 1, 2, 3, 4, 4, 2, 3, 1, 3, 4, 3, 4, 4, 3, 1, 2, 4, 3, 3, 4, 3, 1, 2, 3, 4, 1, 1, 4, 3, 1, 2, 3, 4, 1, 3, 3, 1, 3, 4, 1, 2, 4, 2, 4, 2, 1, 2, 1, 2, 3, 4, 1, 4, 1, 1, 2, 3, 4, 1, 2, 4, 2, 4, 1, 2, 4, 2, 4, 1, 2, 1, 4, 1, 2, 3, 4, 3, 3, 4, 1, 2, 3, 2, 2, 3, 2, 2, 1, 1, 1, 3, 1, 1, 1, 1, 3, 2, 4, 1, 2, 3, 4, 3, 1, 2, 4, 2, 1, 2, 3, 1, 2, 4, 3, 2, 1, 3, 3, 1, 2, 3, 4, 4, 1, 2, 4, 2, 2, 4, 1, 4], \"Freq\": [0.6590943453112534, 0.6464626843082113, 0.32323134215410565, 0.6629325260187607, 0.6377652611855517, 0.6369059861865476, 0.6590688118975145, 0.6368065459911716, 0.6368146718926856, 0.9556421740644566, 0.3854351515623511, 0.3854351515623511, 0.3854351515623511, 0.7632425147425717, 0.9552693736204263, 0.39302000922068836, 0.7860400184413767, 0.3815706966773808, 0.7631413933547616, 0.636815031449506, 0.24121976861948033, 0.48243953723896066, 0.24121976861948033, 0.24121976861948033, 0.39477910031934976, 0.7895582006386995, 0.9528355989191121, 0.6628252797842114, 0.4858111749313563, 0.24290558746567814, 0.4858111749313563, 0.6368455243395468, 0.3501664006034828, 0.3501664006034828, 0.3501664006034828, 0.9896693061830723, 0.7923779902400121, 0.215210042042859, 0.430420084085718, 0.215210042042859, 0.215210042042859, 0.6628843461638813, 0.6634845993469838, 0.3317422996734919, 0.6377296046401753, 0.6368453700424713, 0.6369036726828835, 0.6628074400521422, 0.7923219004709822, 0.9541858098082258, 0.9548192670224785, 0.9549265736716169, 0.6629266203223819, 0.6378097954794503, 0.21777166854172292, 0.21777166854172292, 0.21777166854172292, 0.43554333708344584, 0.6368047932286962, 0.386071405801613, 0.386071405801613, 0.386071405801613, 0.7703935559578357, 0.3851967779789178, 0.21824104548823356, 0.21824104548823356, 0.6547231364647007, 0.32989613975770704, 0.32989613975770704, 0.32989613975770704, 0.14985287013631715, 0.2997057402726343, 0.14985287013631715, 0.2997057402726343, 0.4887925148805957, 0.24439625744029786, 0.24439625744029786, 0.9965223192563214, 0.38498079109324085, 0.38498079109324085, 0.38498079109324085, 0.6377867779329129, 0.6629708759464986, 0.9533304201455239, 0.662840124863779, 0.9904440291027633, 0.27955007636966794, 0.5591001527393359, 0.6629161619249824, 0.6629448834288366, 0.38130568712785845, 0.7626113742557169, 0.27808588230390513, 0.27808588230390513, 0.27808588230390513, 0.27808588230390513, 0.32977794729114734, 0.32977794729114734, 0.32977794729114734, 0.6629287837818054, 0.6629380573512044, 0.2802942913644949, 0.2802942913644949, 0.2802942913644949, 0.3850313774461745, 0.3850313774461745, 0.3850313774461745, 0.6377956639270306, 0.9903765354479689, 0.6377792770485055, 0.954445566658255, 0.6368708913627495, 0.7617027292955011, 0.39273222991723183, 0.7854644598344637, 0.23929588826403378, 0.47859177652806756, 0.23929588826403378, 0.6629449211342487, 0.6629804847249753, 0.6368561755695092, 0.2767881569949622, 0.2767881569949622, 0.1383940784974811, 0.2767881569949622, 0.9550249407317588, 0.7717907153664814, 0.3858953576832407, 0.9550898806267025, 0.4892923112701078, 0.4892923112701078, 0.28162512670841605, 0.8448753801252481, 0.48709998728966186, 0.48709998728966186, 0.6629251253881978, 0.9897329845322025, 0.9544232910294794, 0.637774128482238, 0.6368619639931878, 0.798664178379888, 0.6368136745536673, 0.659051082683205, 0.7624988770282441, 0.3812494385141221, 0.9549447899246553, 0.6369116665875363, 0.6368308254367713, 0.4976725647199799, 0.4976725647199799, 0.6629535939269555, 0.9903719085199373, 0.996904848094592, 0.9548480846339356, 0.3238527911711721, 0.3238527911711721, 0.3238527911711721, 0.6590932547826199, 0.6629139051818355, 0.9963407490954677, 0.9918794672546993, 0.12142896350540343, 0.3642868905162103, 0.3642868905162103, 0.12142896350540343, 0.6628049106778444, 0.9544862811019446, 0.9897647918705005, 0.28202396517555134, 0.5640479303511027, 0.28202396517555134, 0.6590977930638432, 0.662938739506212, 0.9969339081253047, 0.6590976894123477, 0.6344889261208945, 0.31724446306044723, 0.6629459232985732, 0.659063559515393, 0.6590632454153238, 0.9965619884543636, 0.989834046953214, 0.19612061596491653, 0.19612061596491653, 0.39224123192983307, 0.19612061596491653, 0.6368367916379782, 0.4837992873408372, 0.4837992873408372, 0.6590849933342998, 0.276339281508262, 0.552678563016524, 0.276339281508262, 0.276339281508262, 0.6369252970343788, 0.6590766385415021, 0.7929248699987985, 0.6368496039661332, 0.39834583836289855, 0.7966916767257971, 0.3237575556099824, 0.3237575556099824, 0.3237575556099824, 0.7626771513837063, 0.9969536476376495, 0.6377301210658962, 0.47707487034452506, 0.47707487034452506, 0.24118132797603847, 0.48236265595207695, 0.24118132797603847, 0.24118132797603847, 0.7705531200708065, 0.3852765600354032, 0.7613884830139878, 0.17822867138659299, 0.35645734277318597, 0.35645734277318597, 0.35645734277318597, 0.24306281857738934, 0.24306281857738934, 0.4861256371547787, 0.6377852212325055, 0.6628809856520677, 0.27883754293883556, 0.27883754293883556, 0.5576750858776711, 0.2809561519767022, 0.5619123039534044, 0.6344006305260095, 0.31720031526300474, 0.3946121324867687, 0.7892242649735374, 0.21760529045684268, 0.21760529045684268, 0.43521058091368536, 0.21760529045684268, 0.6590771657472988, 0.9901717290188068, 0.7474164002924882, 0.32528486635181514, 0.32528486635181514, 0.6505697327036303, 0.9548717232323657, 0.9559397969408184, 0.6591094920815931, 0.9548678189115153, 0.7630353279334078, 0.6369039639899529, 0.6368304913873408, 0.6368320946468876, 0.7922880819101698, 0.636891993023293, 0.6368655897560518, 0.952795921342412, 0.6369041856943369, 0.6590877446629987, 0.9555082899503096, 0.6629175347763553, 0.48541495436852306, 0.24270747718426153, 0.24270747718426153, 0.24270747718426153, 0.6590829526413396, 0.32065524027643705, 0.6413104805528741, 0.32065524027643705, 0.6377546532146922, 0.2392655217615442, 0.7177965652846325, 0.2392655217615442, 0.3205163802573858, 0.3205163802573858, 0.3205163802573858, 0.9928927770500425, 0.6377501362979583, 0.6368235882205558, 0.6590736434310845, 0.6590640058881952, 0.19603552263952415, 0.19603552263952415, 0.5881065679185724, 0.19603552263952415, 0.6629585848299084, 0.3207262408598094, 0.6414524817196188, 0.3207262408598094, 0.9548532695743998, 0.2809387257159416, 0.5618774514318832, 0.3945596065063972, 0.7891192130127944], \"Term\": [\"\\uac00\\ub2a5\\uc131 \\ub192\\uc544\\uc9c0\\ub2e4 \\uac74\\uac00\", \"\\uac00\\ub2e4 \\ud3ec\\ud568 \\ub418\\uc5b4\\ub2e4\", \"\\uac00\\ub2e4 \\ud3ec\\ud568 \\ub418\\uc5b4\\ub2e4\", \"\\uac00\\uc2a4 \\uc81c\\uac70 \\ud6a8\\uacfc\", \"\\uac00\\uc7a5 \\uc88b\\ub2e4 \\ud615\\ud0dc\", \"\\uac04\\uc774 \\uc2e0\\uc7a5 \\ubb34\\ub9ac\", \"\\uac04\\uc7a5 \\uc57d \\ubcf5\\uc6a9\", \"\\uac11\\uc0c1\\uc120 \\uae30\\ub2a5 \\uc800\\ud558\\uc99d\", \"\\uac1c \\uba39\\ub2e4 \\uc0dd\\ub9ac\", \"\\uac1c \\ud558\\ub8e8 \\uac1c\", \"\\uac70 \\ub2e4 \\uba39\\ub2e4\", \"\\uac70 \\ub2e4 \\uba39\\ub2e4\", \"\\uac70 \\ub2e4 \\uba39\\ub2e4\", \"\\uac71\\uc815 \\ub418\\uc5b4\\ub2e4 \\ub4dc\\ub9ac\\ub2e4\", \"\\uac8c \\ub354 \\uc88b\\ub2e4\", \"\\uace0\\uc9c0\\ud608\\uc99d \\uc57d \\uba39\\ub2e4\", \"\\uace0\\uc9c0\\ud608\\uc99d \\uc57d \\uba39\\ub2e4\", \"\\uacf5\\ubcf5 \\uce68\\uc2dd \\ud6c4\", \"\\uacf5\\ubcf5 \\uce68\\uc2dd \\ud6c4\", \"\\uad1c\\ucc2e\\ub2e4 \\uacfc\\ud558\\ub2e4 \\uc54a\\ub2e4\", \"\\uad81\\uae08\\ud558\\ub2e4 \\uc5ec\\ucb48\\ub2e4 \\ubcf4\\ub2e4\", \"\\uad81\\uae08\\ud558\\ub2e4 \\uc5ec\\ucb48\\ub2e4 \\ubcf4\\ub2e4\", \"\\uad81\\uae08\\ud558\\ub2e4 \\uc5ec\\ucb48\\ub2e4 \\ubcf4\\ub2e4\", \"\\uad81\\uae08\\ud558\\ub2e4 \\uc5ec\\ucb48\\ub2e4 \\ubcf4\\ub2e4\", \"\\uad8c\\uc7a5 \\uc12d\\ucde8 \\ub7c9\", \"\\uad8c\\uc7a5 \\uc12d\\ucde8 \\ub7c9\", \"\\uae30\\ub2a5 \\uc2dd\\ud488 \\uc758\\uc57d\\ud488\", \"\\uae30\\uc900 \\ud558\\ub8e8 \\uad8c\\uc7a5\\ub7c9\", \"\\uaf2d \\ucc59\\uae30\\ub2e4 \\uba39\\ub2e4\", \"\\uaf2d \\ucc59\\uae30\\ub2e4 \\uba39\\ub2e4\", \"\\uaf2d \\ucc59\\uae30\\ub2e4 \\uba39\\ub2e4\", \"\\ub098\\uc774 \\uc218\\ub85d \\uba39\\ub2e4\", \"\\ub108\\ubb34 \\ub9ce\\uc774 \\uba39\\ub2e4\", \"\\ub108\\ubb34 \\ub9ce\\uc774 \\uba39\\ub2e4\", \"\\ub108\\ubb34 \\ub9ce\\uc774 \\uba39\\ub2e4\", \"\\ub1cc \\ud608 \\ub958\\ub7c9\", \"\\ub2c8\\ud2b8\\ub85c \\ud398\\ub2d0 \\ub80c\", \"\\ub2e4 \\uba39\\ub2e4 \\uad1c\\ucc2e\\ub2e4\", \"\\ub2e4 \\uba39\\ub2e4 \\uad1c\\ucc2e\\ub2e4\", \"\\ub2e4 \\uba39\\ub2e4 \\uad1c\\ucc2e\\ub2e4\", \"\\ub2e4 \\uba39\\ub2e4 \\uad1c\\ucc2e\\ub2e4\", \"\\ub354 \\ub192\\ub2e4 \\ud6a8\\uacfc\", \"\\ub354 \\uc88b\\ub2e4 \\uac74\\uac00\", \"\\ub354 \\uc88b\\ub2e4 \\uac74\\uac00\", \"\\ub354 \\ud6a8\\uacfc \\uc88b\\ub2e4\", \"\\ub4e4\\ub2e4 \\uc694\\uc0b0 \\uc218\\uce58\", \"\\ub514\\uc624\\uc2a4 \\ubbfc \\uc131\\ubd84\", \"\\ub514\\ucfe0 \\uc544\\ud3ec \\uc131\\ubd84\", \"\\ub80c \\ub514\\uc544 \\ubbfc\", \"\\ub9ce\\uc774 \\uba39\\ub2e4 \\uad1c\\ucc2e\\ub2e4\", \"\\ub9e5\\uc2dc \\ud5e4\\uc5b4 \\ubcf5\\uc6a9\", \"\\ub9e8 \\ub85c\\uc9c0 \\ucef7\", \"\\uba39\\ub2e4 \\uac00\\uc9c0 \\uba39\\ub2e4\", \"\\uba39\\ub2e4 \\uad1c\\ucc2e\\ub2e4 \\uac04\", \"\\uba39\\ub2e4 \\uad1c\\ucc2e\\ub2e4 \\uad81\\uae08\\ud558\\ub2e4\", \"\\uba39\\ub2e4 \\uad1c\\ucc2e\\ub2e4 \\uad81\\uae08\\ud558\\ub2e4\", \"\\uba39\\ub2e4 \\uad1c\\ucc2e\\ub2e4 \\uad81\\uae08\\ud558\\ub2e4\", \"\\uba39\\ub2e4 \\uad1c\\ucc2e\\ub2e4 \\uad81\\uae08\\ud558\\ub2e4\", \"\\uba39\\ub2e4 \\uad1c\\ucc2e\\ub2e4 \\ucd94\\uac00\", \"\\uba39\\ub2e4 \\ub354 \\uc88b\\ub2e4\", \"\\uba39\\ub2e4 \\ub354 \\uc88b\\ub2e4\", \"\\uba39\\ub2e4 \\ub354 \\uc88b\\ub2e4\", \"\\uba39\\ub2e4 \\ub3c4\\uc6c0 \\uc694\", \"\\uba39\\ub2e4 \\ub3c4\\uc6c0 \\uc694\", \"\\uba39\\ub2e4 \\uba39\\ub2e4 \\uad1c\\ucc2e\\ub2e4\", \"\\uba39\\ub2e4 \\uba39\\ub2e4 \\uad1c\\ucc2e\\ub2e4\", \"\\uba39\\ub2e4 \\uba39\\ub2e4 \\uad1c\\ucc2e\\ub2e4\", \"\\uba39\\ub2e4 \\uba39\\ub2e4 \\uc88b\\ub2e4\", \"\\uba39\\ub2e4 \\uba39\\ub2e4 \\uc88b\\ub2e4\", \"\\uba39\\ub2e4 \\uba39\\ub2e4 \\uc88b\\ub2e4\", \"\\uba39\\ub2e4 \\ubb38\\uc81c \\uc5c6\\ub2e4\", \"\\uba39\\ub2e4 \\ubb38\\uc81c \\uc5c6\\ub2e4\", \"\\uba39\\ub2e4 \\ubb38\\uc81c \\uc5c6\\ub2e4\", \"\\uba39\\ub2e4 \\ubb38\\uc81c \\uc5c6\\ub2e4\", \"\\uba39\\ub2e4 \\ubc88 \\uba39\\ub2e4\", \"\\uba39\\ub2e4 \\ubc88 \\uba39\\ub2e4\", \"\\uba39\\ub2e4 \\ubc88 \\uba39\\ub2e4\", \"\\uba39\\ub2e4 \\ubcf4\\ub2e4 \\ubcf5\\uc6a9\", \"\\uba39\\ub2e4 \\ubd80\\uc791\\uc6a9 \\uc5c6\\ub2e4\", \"\\uba39\\ub2e4 \\ubd80\\uc791\\uc6a9 \\uc5c6\\ub2e4\", \"\\uba39\\ub2e4 \\ubd80\\uc791\\uc6a9 \\uc5c6\\ub2e4\", \"\\uba39\\ub2e4 \\uc0c1\\uad00\\uc5c6\\ub2e4 \\ub2f5\\ubcc0\", \"\\uba39\\ub2e4 \\uc21c\\uc11c \\uc54c\\ub824\\uc8fc\\ub2e4\", \"\\uba39\\ub2e4 \\uc2dd\\ud6c4 \\uba39\\ub2e4\", \"\\uba39\\ub2e4 \\uc624\\ub80c\\uc9c0 \\uc8fc\\uc2a4\", \"\\uba39\\ub2e4 \\uc704 \\uc88b\\ub2e4\", \"\\uba39\\ub2e4 \\uc774\\ub807\\uac8c \\uba39\\ub2e4\", \"\\uba39\\ub2e4 \\uc774\\ub807\\uac8c \\uba39\\ub2e4\", \"\\uba39\\ub2e4 \\uc81c\\uc0b0\\uc81c \\ube44\\uc544\\uadf8\\ub77c\", \"\\uba39\\ub2e4 \\uc81c\\ud488 \\ub4e4\\ub2e4\", \"\\uba39\\ub2e4 \\uc88b\\ub2e4 \\uad81\\uae08\\ud558\\ub2e4\", \"\\uba39\\ub2e4 \\uc88b\\ub2e4 \\uad81\\uae08\\ud558\\ub2e4\", \"\\uba39\\ub2e4 \\uc88b\\ub2e4 \\uba39\\ub2e4\", \"\\uba39\\ub2e4 \\uc88b\\ub2e4 \\uba39\\ub2e4\", \"\\uba39\\ub2e4 \\uc88b\\ub2e4 \\uba39\\ub2e4\", \"\\uba39\\ub2e4 \\uc88b\\ub2e4 \\uba39\\ub2e4\", \"\\uba39\\ub2e4 \\uc88b\\ub2e4 \\ucd94\\ucc9c\", \"\\uba39\\ub2e4 \\uc88b\\ub2e4 \\ucd94\\ucc9c\", \"\\uba39\\ub2e4 \\uc88b\\ub2e4 \\ucd94\\ucc9c\", \"\\uba39\\ub2e4 \\uc9c8 \\uba39\\ub2e4\", \"\\uba39\\ub2e4 \\uccb4\\ub0b4 \\ud761\\uc218\", \"\\uba39\\ub2e4 \\ucd94\\uac00 \\uba39\\ub2e4\", \"\\uba39\\ub2e4 \\ucd94\\uac00 \\uba39\\ub2e4\", \"\\uba39\\ub2e4 \\ucd94\\uac00 \\uba39\\ub2e4\", \"\\uba39\\ub2e4 \\ud53c\\ub85c \\ud68c\\ubcf5\", \"\\uba39\\ub2e4 \\ud53c\\ub85c \\ud68c\\ubcf5\", \"\\uba39\\ub2e4 \\ud53c\\ub85c \\ud68c\\ubcf5\", \"\\uba39\\ub2e4 \\ud558\\ub8e8 \\uc815\\ub3c4\", \"\\uba39\\ub2e4 \\ud6a8\\uacfc \\ub354\", \"\\uba54\\ub974 \\uce85\\ud1a0 \\ud4e8\\ub9b0\", \"\\uba74 \\uc55e \\uba74\", \"\\ubaa8\\ub974\\ub2e4 \\uc54c\\ub824\\uc8fc\\ub2e4 \\uac10\\uc0ac\\ud558\\ub2e4\", \"\\ubab8 \\ubb38\\uc81c \\uc5c6\\ub2e4\", \"\\ubab8 \\uc601\\ud5a5 \\uc8fc\\ub2e4\", \"\\ubab8 \\uc601\\ud5a5 \\uc8fc\\ub2e4\", \"\\ubb38\\uc81c \\uc5c6\\ub2e4 \\uad81\\uae08\\ud558\\ub2e4\", \"\\ubb38\\uc81c \\uc5c6\\ub2e4 \\uad81\\uae08\\ud558\\ub2e4\", \"\\ubb38\\uc81c \\uc5c6\\ub2e4 \\uad81\\uae08\\ud558\\ub2e4\", \"\\ubc09\\ub2e4 \\ud654\\uc774 \\ubc14\", \"\\ubca0\\ub9ac \\uc6c0 \\uc544\\uc878\", \"\\ubcf5\\uc6a9 \\ubab8 \\ubb38\\uc81c\", \"\\ubcf5\\uc6a9 \\ubb38\\uc81c \\uc5c6\\ub2e4\", \"\\ubcf5\\uc6a9 \\ubb38\\uc81c \\uc5c6\\ub2e4\", \"\\ubcf5\\uc6a9 \\ubb38\\uc81c \\uc5c6\\ub2e4\", \"\\ubcf5\\uc6a9 \\ubb38\\uc81c \\uc5c6\\ub2e4\", \"\\ubcf5\\uc6a9 \\ubcf5\\uc6a9 \\uc88b\\ub2e4\", \"\\ubcf5\\uc6a9 \\uc0c1\\uad00 \\uc5c6\\ub2e4\", \"\\ubcf5\\uc6a9 \\uc0c1\\uad00 \\uc5c6\\ub2e4\", \"\\ubcf5\\uc6a9 \\uc218\\uba74 \\ubc29\\ud574\", \"\\ubcf5\\uc6a9 \\uc548\\ub418\\ub2e4 \\uc57d\", \"\\ubcf5\\uc6a9 \\uc548\\ub418\\ub2e4 \\uc57d\", \"\\ubcf5\\uc6a9 \\uc8fc\\uc758 \\uc0ac\\ud56d\", \"\\ubcf5\\uc6a9 \\uc8fc\\uc758 \\uc0ac\\ud56d\", \"\\ubcf5\\uc6a9 \\ucd94\\uac00 \\ubcf5\\uc6a9\", \"\\ubcf5\\uc6a9 \\ucd94\\uac00 \\ubcf5\\uc6a9\", \"\\ube44\\uc544\\uadf8\\ub77c \\uba39\\ub2e4 \\uc81c\\uc0b0\\uc81c\", \"\\ube44\\ucd94\\ub2e4 \\uc5bc \\ud65c\", \"\\ube44\\ud0c0 \\ubc14 \\uc774\\ud0c8\", \"\\uc0c1\\uad00\\uc5c6\\ub2e4 \\ub2f5\\ubcc0 \\ud574\\uc8fc\\ub2e4\", \"\\uc12d\\ucde8 \\uc8fc\\uc758 \\uc810\", \"\\uc131\\ubd84 \\uc778\\uacf5 \\ub208\\ubb3c\", \"\\uc131\\ubd84 \\ucd94\\ucc9c \\ud574\\uc8fc\\ub2e4\", \"\\uc138\\uc774\\ub4dc \\uc131\\ubd84 \\uc5c6\\ub2e4\", \"\\uc18c\\ud654 \\uc790\\ub2e4 \\uc548\\ub418\\ub2e4\", \"\\uc18c\\ud654 \\uc790\\ub2e4 \\uc548\\ub418\\ub2e4\", \"\\uc218 \\uac00\\uc694 \\uc544\\ub2c8\\ub2e4\", \"\\uc218\\uba74 \\ucd94\\ucc9c \\ubd80\\ud0c1\\ub4dc\\ub9ac\\ub2e4\", \"\\uc219\\ucde8 \\ud574\\uc18c \\uc81c\\ub85c\", \"\\uc21c\\uc11c \\uc54c\\ub824\\uc8fc\\ub2e4 \\uac10\\uc0ac\\ud558\\ub2e4\", \"\\uc21c\\uc11c \\uc54c\\ub824\\uc8fc\\ub2e4 \\uac10\\uc0ac\\ud558\\ub2e4\", \"\\uc26c\\ub2e4 \\uc124\\uba85 \\ubd80\\ud0c1\\ub4dc\\ub9ac\\ub2e4\", \"\\uc2dd\\uc0ac \\ud6c4 \\uc12d\\ucde8\", \"\\uc2dd\\ud6c4 \\uc624\\ud6c4 \\uc2dd\\ud6c4\", \"\\uc2dd\\ud6c4 \\uc774\\ub807\\uac8c \\uba39\\ub2e4\", \"\\uc2dd\\ud6c4 \\uc800\\ub141 \\uc2dd\\ud6c4\", \"\\uc2dd\\ud6c4 \\uc800\\ub141 \\uc2dd\\ud6c4\", \"\\uc2dd\\ud6c4 \\uc800\\ub141 \\uc2dd\\ud6c4\", \"\\uc528\\ub514 \\ucd08\\ub85d \\uc78e\", \"\\uc544\\uc878 \\ub77d\\uc815 \\ub180\\uc815\", \"\\uc544\\uce68 \\uc800\\ub141 \\ub098\\ub204\\ub2e4\", \"\\uc544\\uce68 \\uc800\\ub141 \\ucd1d\", \"\\uc544\\uce68 \\uc810\\uc2ec \\uc800\\ub141\", \"\\uc544\\uce68 \\uc810\\uc2ec \\uc800\\ub141\", \"\\uc544\\uce68 \\uc810\\uc2ec \\uc800\\ub141\", \"\\uc544\\uce68 \\uc810\\uc2ec \\uc800\\ub141\", \"\\uc544\\ud3ec \\uc131\\ubd84 \\uc778\\uacf5\", \"\\uc55e \\uba74 \\uc55e\", \"\\uc5bc \\ud65c \\ucda9\\uc804\", \"\\uc5ec\\ucb48\\ub2e4 \\ubcf4\\uace0 \\uc2f6\\ub2e4\", \"\\uc5ec\\ucb48\\ub2e4 \\ubcf4\\uace0 \\uc2f6\\ub2e4\", \"\\uc5ec\\ucb48\\ub2e4 \\ubcf4\\uace0 \\uc2f6\\ub2e4\", \"\\uc624\\ub2e4 \\ucf54\\ud638\\uc26c \\uc11c\\uc591\", \"\\uc624\\ub80c\\uc9c0 \\uc8fc\\uc2a4 \\uba39\\ub2e4\", \"\\uc624\\uc804 \\uc2dd\\ud6c4 \\uc624\\ud6c4\", \"\\uc694 \\ub108\\ubb34 \\ub9ce\\uc774\", \"\\uc694\\uc0b0 \\uc218\\uce58 \\ub192\\ub2e4\", \"\\uc694\\uc0b0 \\uc218\\uce58 \\ub192\\ub2e4\", \"\\uc6c0 \\uc544\\uc878 \\ub77d\\uc815\", \"\\uc704\\uc0b0 \\ubd84\\ube44 \\ucd09\\uc9c4\", \"\\uc704\\uc7a5 \\uc57d \\ubcf5\\uc6a9\", \"\\uc704\\uc7a5 \\uc6b4\\ub3d9 \\uae30\\ub2a5\", \"\\uc720\\ud1b5 \\uae30\\ud55c \\uc9c0\\ub098\\ub2e4\", \"\\uc774\\ub807\\uac8c \\uba39\\ub2e4 \\uad1c\\ucc2e\\ub2e4\", \"\\uc774\\ub807\\uac8c \\uba39\\ub2e4 \\uad1c\\ucc2e\\ub2e4\", \"\\uc774\\ub807\\uac8c \\uba39\\ub2e4 \\uad1c\\ucc2e\\ub2e4\", \"\\uc774\\ub807\\uac8c \\uba39\\ub2e4 \\uad1c\\ucc2e\\ub2e4\", \"\\uc774\\ubd80 \\ud39c \\uacc4\\uc5f4\", \"\\uc774\\uc720 \\ubb58 \\ub044\\ub2e4\", \"\\uc774\\uc720 \\ubb58 \\ub044\\ub2e4\", \"\\uc78e \\ud64d\\ud569 \\ub809\", \"\\uc790\\ub2e4 \\ucc59\\uae30\\ub2e4 \\uba39\\ub2e4\", \"\\uc790\\ub2e4 \\ucc59\\uae30\\ub2e4 \\uba39\\ub2e4\", \"\\uc790\\ub2e4 \\ucc59\\uae30\\ub2e4 \\uba39\\ub2e4\", \"\\uc790\\ub2e4 \\ucc59\\uae30\\ub2e4 \\uba39\\ub2e4\", \"\\uc7a0 \\uc124\\uce58\\ub2e4 \\ub044\\ub2e4\", \"\\uc7ac\\ubc1c \\uac00\\ub2a5\\uc131 \\ub192\\uc544\\uc9c0\\ub2e4\", \"\\uc800\\ub141 \\ucd1d \\uc544\\uce68\", \"\\uc804\\ub9bd \\uc120\\uc57d \\ubcf5\\uc6a9\", \"\\uc810\\uc2ec \\uba39\\ub2e4 \\uba39\\ub2e4\", \"\\uc810\\uc2ec \\uba39\\ub2e4 \\uba39\\ub2e4\", \"\\uc810\\uc2ec \\uc2dd\\ud6c4 \\uc800\\ub141\", \"\\uc810\\uc2ec \\uc2dd\\ud6c4 \\uc800\\ub141\", \"\\uc810\\uc2ec \\uc2dd\\ud6c4 \\uc800\\ub141\", \"\\uc810\\uc2ec \\ud6c4 \\uc800\\ub141\", \"\\uc81c\\uc0b0\\uc81c \\ube44\\uc544\\uadf8\\ub77c \\uba39\\ub2e4\", \"\\uc81c\\ud488 \\ud558\\ub8e8 \\ud3ec\", \"\\uc870\\uc5b8 \\ubd80\\ud0c1 \\ub4dc\\ub9ac\\ub2e4\", \"\\uc870\\uc5b8 \\ubd80\\ud0c1 \\ub4dc\\ub9ac\\ub2e4\", \"\\uc885\\ub958 \\ub108\\ubb34 \\ub9ce\\ub2e4\", \"\\uc885\\ub958 \\ub108\\ubb34 \\ub9ce\\ub2e4\", \"\\uc885\\ub958 \\ub108\\ubb34 \\ub9ce\\ub2e4\", \"\\uc885\\ub958 \\ub108\\ubb34 \\ub9ce\\ub2e4\", \"\\uc88b\\ub2e4 \\ub2f5\\ubcc0 \\ubd80\\ud0c1\\ub4dc\\ub9ac\\ub2e4\", \"\\uc88b\\ub2e4 \\ub2f5\\ubcc0 \\ubd80\\ud0c1\\ub4dc\\ub9ac\\ub2e4\", \"\\uc88b\\ub2e4 \\ub9d0 \\ub4e4\\ub2e4\", \"\\uc88b\\ub2e4 \\ucd94\\ucc9c \\ubd80\\ud0c1\\ub4dc\\ub9ac\\ub2e4\", \"\\uc88b\\ub2e4 \\ucd94\\ucc9c \\ubd80\\ud0c1\\ub4dc\\ub9ac\\ub2e4\", \"\\uc88b\\ub2e4 \\ucd94\\ucc9c \\ubd80\\ud0c1\\ub4dc\\ub9ac\\ub2e4\", \"\\uc88b\\ub2e4 \\ucd94\\ucc9c \\ubd80\\ud0c1\\ub4dc\\ub9ac\\ub2e4\", \"\\uc88b\\ub2e4 \\ucd94\\ucc9c \\ud574\\uc8fc\\ub2e4\", \"\\uc88b\\ub2e4 \\ucd94\\ucc9c \\ud574\\uc8fc\\ub2e4\", \"\\uc88b\\ub2e4 \\ucd94\\ucc9c \\ud574\\uc8fc\\ub2e4\", \"\\uc88b\\ub2e4 \\ud558\\ub8e8 \\ud55c\\ubc88\", \"\\uc8fc\\uc2a4 \\uba39\\ub2e4 \\uccb4\\ub0b4\", \"\\ucc59\\uae30\\ub2e4 \\uba39\\ub2e4 \\uba39\\ub2e4\", \"\\ucc59\\uae30\\ub2e4 \\uba39\\ub2e4 \\uba39\\ub2e4\", \"\\ucc59\\uae30\\ub2e4 \\uba39\\ub2e4 \\uba39\\ub2e4\", \"\\ucc59\\uae30\\ub2e4 \\uba39\\ub2e4 \\ubcf4\\ub2e4\", \"\\ucc59\\uae30\\ub2e4 \\uba39\\ub2e4 \\ubcf4\\ub2e4\", \"\\ucc59\\uae30\\ub2e4 \\uba39\\ub2e4 \\uc88b\\ub2e4\", \"\\ucc59\\uae30\\ub2e4 \\uba39\\ub2e4 \\uc88b\\ub2e4\", \"\\ucc59\\uae30\\ub2e4 \\uba39\\ub2e4 \\uc911\", \"\\ucc59\\uae30\\ub2e4 \\uba39\\ub2e4 \\uc911\", \"\\ucc98\\ubc29 \\ubc1b\\ub2e4 \\ubcf5\\uc6a9\", \"\\ucc98\\ubc29 \\ubc1b\\ub2e4 \\ubcf5\\uc6a9\", \"\\ucc98\\ubc29 \\ubc1b\\ub2e4 \\ubcf5\\uc6a9\", \"\\ucc98\\ubc29 \\ubc1b\\ub2e4 \\ubcf5\\uc6a9\", \"\\ucd08\\ub85d \\uc78e \\ud64d\\ud569\", \"\\ucd1d \\uc544\\uce68 \\uc800\\ub141\", \"\\ucd94\\uac00 \\uba39\\ub2e4 \\uc88b\\ub2e4\", \"\\ucde8\\uce68 \\uc804 \\uba39\\ub2e4\", \"\\ucde8\\uce68 \\uc804 \\uba39\\ub2e4\", \"\\ucde8\\uce68 \\uc804 \\uba39\\ub2e4\", \"\\uce68\\uc2dd \\ud6c4 \\uc810\\uc2ec\", \"\\uce78\\ud0c8 \\ub85c\\ud504 \\uba5c\\ub860\", \"\\ucf54\\ud638\\uc26c \\uc11c\\uc591 \\uc2b9\\ub9c8\", \"\\ucf58 \\ub4dc\\ub77c\\uc774 \\uce5c\", \"\\ucf58 \\ud2b8\\ub85c\\uc774 \\uce5c\", \"\\ud06c\\ub2e4 \\ub85c\\ub9ac \\ubb34\\uc2a4\", \"\\ud150\\ud150 \\uac1c \\uba39\\ub2e4\", \"\\ud310\\ub9e4 \\ub514\\uc624\\uc2a4 \\ubbfc\", \"\\ud398\\ub2d0 \\ub80c \\ub514\\uc544\", \"\\ud3ec\\ud568 \\uba39\\ub2e4 \\uc694\", \"\\ud53c \\ub9d1\\ub2e4 \\ud574\", \"\\ud53c\\ub85c \\ud68c\\ubcf5 \\ub3c4\\uc6c0\", \"\\ud53c\\uba54 \\ud06c\\ub2e4 \\ub85c\\ub9ac\", \"\\ud558\\ub8e8 \\uac1c \\ube60\\uc9c0\\ub2e4\", \"\\ud558\\ub8e8 \\uac1c \\ud558\\ub8e8\", \"\\ud558\\ub8e8 \\uad8c\\uc7a5 \\uc12d\\ucde8\", \"\\ud558\\ub8e8 \\uc12d\\ucde8 \\ub7c9\", \"\\ud558\\ub8e8 \\uc12d\\ucde8 \\ub7c9\", \"\\ud558\\ub8e8 \\uc12d\\ucde8 \\ub7c9\", \"\\ud558\\ub8e8 \\uc12d\\ucde8 \\ub7c9\", \"\\ud558\\ub8e8 \\uc801 \\uc815\\ub7c9\", \"\\ud558\\ub8e8 \\uc815\\ub3c4 \\uba39\\ub2e4\", \"\\ud558\\ub8e8 \\uc815\\ub3c4 \\uba39\\ub2e4\", \"\\ud558\\ub8e8 \\uc815\\ub3c4 \\uba39\\ub2e4\", \"\\ud558\\ub8e8 \\ud3ec \\uc12d\\ucde8\", \"\\ud55c\\ubc88 \\ub2e4 \\uba39\\ub2e4\", \"\\ud55c\\ubc88 \\ub2e4 \\uba39\\ub2e4\", \"\\ud55c\\ubc88 \\ub2e4 \\uba39\\ub2e4\", \"\\ud55c\\ubc88 \\uba39\\ub2e4 \\ubcf4\\ub2e4\", \"\\ud55c\\ubc88 \\uba39\\ub2e4 \\ubcf4\\ub2e4\", \"\\ud55c\\ubc88 \\uba39\\ub2e4 \\ubcf4\\ub2e4\", \"\\ud574 \\ube44\\ucd94\\ub2e4 \\uc5bc\", \"\\ud574\\ub2f9 \\uc81c\\ud488 \\ud558\\ub8e8\", \"\\ud574\\uc18c \\uc81c\\ub85c \\uc0ac\\uc6a9\", \"\\ud604\\uc7ac \\ud608\\uc555 \\uc57d\\uacfc\", \"\\ud608\\uc555 \\uc57d\\uacfc \\uac04\\uc7a5\", \"\\ud6a8\\uacfc \\ub354 \\uc88b\\ub2e4\", \"\\ud6a8\\uacfc \\ub354 \\uc88b\\ub2e4\", \"\\ud6a8\\uacfc \\ub354 \\uc88b\\ub2e4\", \"\\ud6a8\\uacfc \\ub354 \\uc88b\\ub2e4\", \"\\ud6a8\\uacfc \\uc88b\\ub2e4 \\uc5f0\\uace0\", \"\\ud6c4 \\uc800\\ub141 \\ud6c4\", \"\\ud6c4 \\uc800\\ub141 \\ud6c4\", \"\\ud6c4 \\uc800\\ub141 \\ud6c4\", \"\\ud6c4 \\uc810\\uc2ec \\ud6c4\", \"\\ud761\\uc218 \\uc728 \\uc88b\\ub2e4\", \"\\ud761\\uc218 \\uc728 \\uc88b\\ub2e4\", \"\\ud761\\uc218 \\uc728 \\ucc28\\uc774\", \"\\ud761\\uc218 \\uc728 \\ucc28\\uc774\"]}, \"R\": 30, \"lambda.step\": 0.01, \"plot.opts\": {\"xlab\": \"PC1\", \"ylab\": \"PC2\"}, \"topic.order\": [2, 1, 3, 4]};\n",
       "\n",
       "function LDAvis_load_lib(url, callback){\n",
       "  var s = document.createElement('script');\n",
       "  s.src = url;\n",
       "  s.async = true;\n",
       "  s.onreadystatechange = s.onload = callback;\n",
       "  s.onerror = function(){console.warn(\"failed to load library \" + url);};\n",
       "  document.getElementsByTagName(\"head\")[0].appendChild(s);\n",
       "}\n",
       "\n",
       "if(typeof(LDAvis) !== \"undefined\"){\n",
       "   // already loaded: just create the visualization\n",
       "   !function(LDAvis){\n",
       "       new LDAvis(\"#\" + \"ldavis_el1218823048426543047635077512\", ldavis_el1218823048426543047635077512_data);\n",
       "   }(LDAvis);\n",
       "}else if(typeof define === \"function\" && define.amd){\n",
       "   // require.js is available: use it to load d3/LDAvis\n",
       "   require.config({paths: {d3: \"https://d3js.org/d3.v5\"}});\n",
       "   require([\"d3\"], function(d3){\n",
       "      window.d3 = d3;\n",
       "      LDAvis_load_lib(\"https://cdn.jsdelivr.net/gh/bmabey/pyLDAvis@3.4.0/pyLDAvis/js/ldavis.v3.0.0.js\", function(){\n",
       "        new LDAvis(\"#\" + \"ldavis_el1218823048426543047635077512\", ldavis_el1218823048426543047635077512_data);\n",
       "      });\n",
       "    });\n",
       "}else{\n",
       "    // require.js not available: dynamically load d3 & LDAvis\n",
       "    LDAvis_load_lib(\"https://d3js.org/d3.v5.js\", function(){\n",
       "         LDAvis_load_lib(\"https://cdn.jsdelivr.net/gh/bmabey/pyLDAvis@3.4.0/pyLDAvis/js/ldavis.v3.0.0.js\", function(){\n",
       "                 new LDAvis(\"#\" + \"ldavis_el1218823048426543047635077512\", ldavis_el1218823048426543047635077512_data);\n",
       "            })\n",
       "         });\n",
       "}\n",
       "</script>"
      ],
      "text/plain": [
       "<IPython.core.display.HTML object>"
      ]
     },
     "metadata": {},
     "output_type": "display_data"
    },
    {
     "data": {
      "text/plain": [
       "'1번 클러스터에 대한 주제 단어들!'"
      ]
     },
     "metadata": {},
     "output_type": "display_data"
    },
    {
     "data": {
      "text/plain": [
       "[(0,\n",
       "  '0.000*\"아침 점심 저녁\" + 0.000*\"한번 다 먹다\" + 0.000*\"먹다 문제 없다\" + 0.000*\"점심 후 저녁\" + 0.000*\"문제 없다 궁금하다\" + 0.000*\"궁금하다 여쭈다 보다\" + 0.000*\"복용 문제 없다\" + 0.000*\"콘 트로이 친\" + 0.000*\"종류 너무 많다\" + 0.000*\"걱정 되어다 드리다\"'),\n",
       " (1,\n",
       "  '0.000*\"복용 문제 없다\" + 0.000*\"너무 많이 먹다\" + 0.000*\"챙기다 먹다 좋다\" + 0.000*\"좋다 말 들다\" + 0.000*\"몸 문제 없다\" + 0.000*\"좋다 답변 부탁드리다\" + 0.000*\"가다 포함 되어다\" + 0.000*\"피로 회복 도움\" + 0.000*\"기능 식품 의약품\" + 0.000*\"요산 수치 높다\"'),\n",
       " (2,\n",
       "  '0.001*\"해 비추다 얼\" + 0.000*\"아침 점심 저녁\" + 0.000*\"아침 저녁 총\" + 0.000*\"복용 주의 사항\" + 0.000*\"효과 더 좋다\" + 0.000*\"이렇게 먹다 괜찮다\" + 0.000*\"먹다 이렇게 먹다\" + 0.000*\"저녁 총 아침\" + 0.000*\"복용 추가 복용\" + 0.000*\"여쭈다 보고 싶다\"'),\n",
       " (3,\n",
       "  '0.000*\"추가 먹다 좋다\" + 0.000*\"먹다 먹다 괜찮다\" + 0.000*\"먹다 문제 없다\" + 0.000*\"복용 문제 없다\" + 0.000*\"성분 인공 눈물\" + 0.000*\"챙기다 먹다 보다\" + 0.000*\"흡수 율 좋다\" + 0.000*\"좋다 추천 부탁드리다\" + 0.000*\"챙기다 먹다 먹다\" + 0.000*\"권장 섭취 량\"')]"
      ]
     },
     "metadata": {},
     "output_type": "display_data"
    },
    {
     "name": "stdin",
     "output_type": "stream",
     "text": [
      "\n",
      "보고 계신 원의 번호를 입력해 주세요! :  1\n",
      "위의 주제 단어과 매칭되는 처음에 설정한 Action 토픽 번호를 입력해 주세요! :  1\n",
      "\n",
      "보고 계신 원의 번호를 입력해 주세요! :  2\n",
      "위의 주제 단어과 매칭되는 처음에 설정한 Action 토픽 번호를 입력해 주세요! :  0\n",
      "\n",
      "보고 계신 원의 번호를 입력해 주세요! :  3\n",
      "위의 주제 단어과 매칭되는 처음에 설정한 Action 토픽 번호를 입력해 주세요! :  2\n",
      "\n",
      "보고 계신 원의 번호를 입력해 주세요! :  4\n",
      "위의 주제 단어과 매칭되는 처음에 설정한 Action 토픽 번호를 입력해 주세요! :  3\n"
     ]
    },
    {
     "data": {
      "text/plain": [
       "'Cluster = Actor 2의 Map'"
      ]
     },
     "metadata": {},
     "output_type": "display_data"
    },
    {
     "data": {
      "text/html": [
       "\n",
       "<link rel=\"stylesheet\" type=\"text/css\" href=\"https://cdn.jsdelivr.net/gh/bmabey/pyLDAvis@3.4.0/pyLDAvis/js/ldavis.v1.0.0.css\">\n",
       "\n",
       "\n",
       "<div id=\"ldavis_el1218823048426609125942120447\" style=\"background-color:white;\"></div>\n",
       "<script type=\"text/javascript\">\n",
       "\n",
       "var ldavis_el1218823048426609125942120447_data = {\"mdsDat\": {\"x\": [-0.14126503506818608, 0.041797074826283157, 0.016826523903346612, 0.02982555204580661, 0.03320071060782556, 0.01961517368492416], \"y\": [-0.011888092618118575, -0.12392787800267936, 0.046217443551929194, 0.056547061517742546, 0.02855348958307455, 0.004497975968051678], \"topics\": [1, 2, 3, 4, 5, 6], \"cluster\": [1, 1, 1, 1, 1, 1], \"Freq\": [19.70007460397209, 16.830840832171898, 16.206554169828458, 16.19629962544402, 15.9735982881242, 15.092632480459333]}, \"tinfo\": {\"Term\": [\"\\ud30c \\uc774\\ud1a0 \\uc19c\", \"\\uc810\\ub9c9 \\ubcf4\\ud638 \\uc704\\uc5fc\", \"\\ubcf4\\ud638 \\uc704\\uc5fc \\uc99d\", \"\\uae30\\ub2a5 \\uc2dd\\ud488 \\uc77c\\ubc18\\uc758\\uc57d\\ud488\", \"\\uc704 \\uc810\\ub9c9 \\ubcf4\\ud638\", \"\\uc778\\uc9c0\\uc9c8 \\ubcf5\\ud569 \\uccb4\", \"\\ud574\\ubc14\\ub77c\\uae30 \\uc778\\uc9c0\\uc9c8 \\ubcf5\\ud569\", \"\\ud3ec \\ucc9c\\ubcf4 \\ud3ec\", \"\\ucd08\\uae30 \\uc9c4\\ub2e8 \\ubcf5\\uc6a9\", \"\\uc9c4\\ub2e8 \\ubcf5\\uc6a9 \\uc911\", \"\\uba39\\ub2e4 \\uc774\\ub807\\uac8c \\uba39\\ub2e4\", \"\\uc544\\uce68 \\uc810\\uc2ec \\uc800\\ub141\", \"\\uc810\\uc2ec \\uc2dd\\ud6c4 \\uc800\\ub141\", \"\\uc2dd\\ud6c4 \\uc800\\ub141 \\uc2dd\\ud6c4\", \"\\uc885\\ub958 \\ubcc4\\ub85c \\ucc59\\uae30\\ub2e4\", \"\\ubcc4\\ub85c \\ucc59\\uae30\\ub2e4 \\uba39\\ub2e4\", \"\\uc2dc\\uc6d0\\ud558\\ub2e4 \\uc8fc\\ub2e4 \\uc548\\uc57d\", \"\\ud30c\\uc2a4 \\uc885\\ub958 \\uc131\\ubd84\", \"\\ud398\\ub2c8\\uc2e4\\ub9b0 \\uc54c\\ub7ec\\uc9c0 \\uccb4\\uc9c8\", \"\\uc88b\\ub2e4 \\ucd94\\ucc9c \\ud574\\uc8fc\\ub2e4\", \"\\uc88b\\ub2e4 \\ucd94\\ucc9c \\ubd80\\ud0c1\\ub4dc\\ub9ac\\ub2e4\", \"\\uc88b\\ub2e4 \\uad00\\uc808 \\uc88b\\ub2e4\", \"\\uc13c\\ud2b8 \\ub8f8 \\uc5b4\\ub35c\\ud2b8\", \"\\uc774\\ub807\\uac8c \\uba39\\ub2e4 \\uad1c\\ucc2e\\ub2e4\", \"\\uba39\\ub2e4 \\uacbd\\uc6b0 \\ubb38\\uc81c\", \"\\ucf54\\ud638\\uc2dc \\uce74\\ubc14 \\uc560\\uae30\\ub625\\ud480\", \"\\ubab8 \\uc790\\uc5f0 \\uc0dd\", \"\\uc560\\uae30\\ub625\\ud480 \\ud558\\uc218\\uc624 \\ubfcc\\ub9ac\", \"\\uce94\\ub514 \\ub958 \\ub418\\uc5b4\\ub2e4\", \"\\uce74\\ubc14 \\uc560\\uae30\\ub625\\ud480 \\ud558\\uc218\\uc624\", \"\\uadf8\\ub807\\uac8c \\ub9ce\\uc774 \\uba39\\ub2e4\", \"\\uc774\\ub9c8 \\uad00\\uc790\\ub180\\uc774 \\uc8fc\\ubcc0\", \"\\ucd94\\ucc9c \\ubd80\\ud0c1 \\ub4dc\\ub9ac\\ub2e4\", \"\\uc5bc\\uad74 \\uae30\\ubbf8 \\uc8fc\\uadfc\\uae68\", \"\\uc544\\ub2c8\\ub2e4 \\ub530\\ub85c \\ubcf5\\uc6a9\", \"\\ud6c4 \\uc800\\ub141\\uc2dd\\uc0ac \\ud6c4\", \"\\ud574\\ubcf4\\ub2e4 \\uc131\\uc778 \\ub0a8\\uc131\", \"\\uc2dc\\uc791 \\ud574\\ubcf4\\ub2e4 \\uc131\\uc778\", \"\\uac1c \\uac1c \\uac1c\", \"\\uc804 \\uac1c \\uc6b4\\ub3d9\", \"\\uc810\\uc2ec \\ud6c4 \\uc800\\ub141\", \"\\uc544\\uce68 \\uacf5\\ubcf5 \\uc810\\uc2ec\", \"\\uae30\\ub2a5 \\uc2dd\\ud488 \\ub098\\uc624\\ub2e4\", \"\\uc544\\uce68 \\uba39\\ub2e4 \\uba39\\ub2e4\", \"\\uba39\\ub2e4 \\uc0c1\\uad00 \\uc5c6\\ub2e4\", \"\\uc0ac\\uc11c \\uba39\\ub2e4 \\ud45c\\uae30\", \"\\uc2dd\\ud6c4 \\ud3b8\\ub3c4\\uc5fc \\uc57d\", \"\\uac1c\\ubd09 \\uc9c0\\ub2e4 \\uac1c\\uc6d4\", \"\\uc0dd\\uae30\\ub2e4 \\uc9c0\\ub2e4 \\uc2f6\\ub2e4\", \"\\uc2dc\\uc791 \\uc11c\\ub298\\ud558\\ub2e4 \\uac74\\uc870\\ud558\\ub2e4\", \"\\uac74\\uc870\\ud558\\ub2e4 \\ub9db \\ub098\\uae30\", \"\\uc870\\uc778\\ud2b8 \\ud3ec\\ud2b8 \\uc2a4\\uc6e8\", \"\\uac1c\\uc6d4 \\ubbf8\\ub9cc \\ud06c\\ub2e4\", \"\\ud06c\\ub2e4 \\uac71\\uc815 \\ub9db\", \"\\ud65c\\uc131\\ud615 \\uba39\\ub2e4 \\ud558\\ub8e8\", \"\\ubcf4\\uad00 \\uac1c\\ubd09 \\uc9c0\\ub2e4\", \"\\ub9db \\ub098\\uae30 \\uc2dc\\uc791\", \"\\ub123\\ub2e4 \\uadfc\\ub370 \\ucc98\\uc74c\", \"\\uc801\\uc808\\ud558\\ub2e4 \\uac94 \\uc591\", \"\\ucd94\\uac00 \\uad6c\\uc785 \\ub123\\ub2e4\", \"\\uc9c0\\uae08 \\ub9db \\ub2ec\\ub77c\", \"\\ud558\\ub8e8 \\uba39\\ub2e4 \\uad1c\\ucc2e\\ub2e4\", \"\\uc810\\uc2ec \\uc2dd\\ud6c4 \\uc800\\ub141\", \"\\uc2dd\\ud6c4 \\uc800\\ub141 \\uc2dd\\ud6c4\", \"\\ubcf5\\uc6a9 \\uad1c\\ucc2e\\ub2e4 \\uae30\\uc804\", \"\\uc544\\uce68 \\uc810\\uc2ec \\uc800\\ub141\", \"\\uba39\\ub2e4 \\uad81\\uae08\\ud558\\ub2e4 \\uc5ec\\ucb48\\ub2e4\", \"\\uad81\\uae08\\ud558\\ub2e4 \\uc5ec\\ucb48\\ub2e4 \\ubcf4\\ub2e4\", \"\\uc810\\uc2ec \\uc2dd\\uc0ac \\ud6c4\", \"\\uba39\\ub2e4 \\uc88b\\ub2e4 \\uba39\\ub2e4\", \"\\uba39\\ub2e4 \\uc88b\\ub2e4 \\uc544\\ub2c8\\ub2e4\", \"\\ud604\\uc7ac \\uc774\\ub807\\uac8c \\uba39\\ub2e4\", \"\\ubcf5\\uc6a9 \\uc774\\ub807\\uac8c \\ubcf5\\uc6a9\", \"\\uc810\\uc2ec \\uc2dd\\uc804 \\uc810\\uc2ec\", \"\\uba39\\ub2e4 \\uc544\\uce68 \\uba39\\ub2e4\", \"\\uae30\\ub2a5 \\uc2dd\\ud488 \\uc77c\\ubc18\\uc758\\uc57d\\ud488\", \"\\ud3ec \\ucc9c\\ubcf4 \\ud3ec\", \"\\uc81c\\ud488 \\uba39\\ub2e4 \\ubaa8\\ub974\\ub2e4\", \"\\uc591\\ubc30\\ucd94 \\ube0c\\ub85c\\ucf5c\\ub9ac \\uc999\", \"\\ube0c\\ub85c\\ucf5c\\ub9ac \\uc999 \\uba39\\ub2e4\", \"\\ud3f4\\ub9ac \\uac10\\ub9c8 \\uae00\\ub8e8\\ud0d0\\uc0b0\", \"\\uc2dd\\ud488 \\uc77c\\ubc18\\uc758\\uc57d\\ud488 \\ub098\\ub258\\uc5b4\\uc9c0\\ub2e4\", \"\\uba39\\ub2e4 \\ub108\\ubb34 \\ub9ce\\ub2e4\", \"\\ubcf5\\uc6a9 \\ubb38\\uc81c \\uc5c6\\ub2e4\", \"\\uc9c4\\ubcf8 \\ud3ec \\ucc9c\\ubcf4\", \"\\ubc00 \\ub4c0\\ub77d\\uce78 \\uc774\\uc9c0\", \"\\uc2dd\\ud6c4 \\ucc9c\\ubcf4 \\ud3ec\", \"\\uba39\\ub2e4 \\ud6a8\\uacfc \\uc5c6\\ub2e4\", \"\\uba39\\ub2e4 \\ud558\\ub8e8 \\uc12d\\ucde8\\ub7c9\", \"\\ub300\\ub2e4 \\ub0a8\\uc131 \\ub300\\ub2e4\", \"\\uc815\\uc2dd \\ub098\\ub204\\ub2e4 \\ubcf5\\uc6a9\", \"\\uae00\\ub8e8\\ud0d0\\uc0b0 \\ucc3e\\ub2e4 \\uba74\\uc5ed\", \"\\ud6c4 \\ud559\\uad50 \\uc810\\uc2ec\\uc2dd\\uc0ac\", \"\\uc77c\\ubc18 \\uc624\\ub2e4 \\ub298\\ub2e4\", \"\\uc790\\uc8fc \\ub118\\uc5b4\\uc9c0\\ub2e4 \\ubf08\", \"\\uc548\\uc88b\\ub2e4 \\ub098\\uc624\\ub2e4 \\uc6b0\\uc6b8\\ud558\\ub2e4\", \"\\uc528\\ub9ac\\uc5bc \\ube75 \\uc6b0\\uc720\", \"\\ud6a8\\uacfc \\uc5c6\\ub2e4 \\ubcf5\\ubd80\", \"\\uc544\\uce68 \\uacf5\\ubcf5 \\uc9d1\", \"\\uc6b0\\uc720 \\uc544\\uce68\\uc2dd\\uc0ac \\ud6c4\", \"\\ub54c\\ubb38 \\uc2a4\\ud2b8\\ub808\\uc2a4 \\ubc1b\\ub2e4\", \"\\ubc1b\\ub2e4 \\uba39\\ub2e4 \\ubcf4\\ub2e4\", \"\\ub300\\ub2e4 \\ube44\\uc728 \\uba39\\ub2e4\", \"\\uc6b0\\uc6b8\\ud558\\ub2e4 \\ubd80\\uc791\\uc6a9 \\ub2f9\\uc5f0\\ud558\\ub2e4\", \"\\uacfc\\ud558\\ub2e4 \\ubcf5\\uc6a9\\ubc95 \\uad73\\uc774\", \"\\uc774\\ub807\\uac8c \\ubcf5\\uc6a9 \\uad1c\\ucc2e\\ub2e4\", \"\\uc774\\ub807\\uac8c \\uba39\\ub2e4 \\ud558\\ub8e8\", \"\\ubb38\\uc81c \\uc5c6\\ub2e4 \\uad81\\uae08\\ud558\\ub2e4\", \"\\uba39\\ub2e4 \\uc88b\\ub2e4 \\uba39\\ub2e4\", \"\\ud6a8\\uacfc \\uc12d\\ucde8 \\ubc29\\ubc95\", \"\\ubcf5\\uc6a9 \\uc544\\uce68 \\uacf5\\ubcf5\", \"\\uba39\\ub2e4 \\uc544\\uce68 \\uacf5\\ubcf5\", \"\\ud53c\\uc784 \\uc57d \\ubcf5\\uc6a9\", \"\\uba39\\ub2e4 \\ud761\\uc218 \\uc728\", \"\\ucd08\\uae30 \\uc9c4\\ub2e8 \\ubcf5\\uc6a9\", \"\\uc9c4\\ub2e8 \\ubcf5\\uc6a9 \\uc911\", \"\\uba39\\ub2e4 \\uc6d0\\uc2a4 \\ub370\", \"\\uad8c\\uc7a5 \\uc12d\\ucde8 \\ub7c9\", \"\\uad70 \\ud568\\ub7c9 \\uba39\\ub2e4\", \"\\ubcf5\\uc6a9 \\ud574\\ub3c4 \\uc694\", \"\\uc54a\\ub2e4 \\ud55c\\ubc88 \\uba39\\ub2e4\", \"\\uacfc\\uc789 \\uc99d\\uc0c1 \\ubd80\\uc791\\uc6a9\", \"\\ub098\\uc774 \\ub4e4\\ub2e4 \\ubcf4\\ub2e4\", \"\\uc810 \\uc5c6\\ub2e4 \\uad81\\uae08\\ud558\\ub2e4\", \"\\uc544\\uce68 \\uc2dd\\ud6c4 \\uc810\\uc2ec\", \"\\ubcf5\\uc6a9 \\uc911 \\uc54c\\ub77c\", \"\\uc815\\ub9e5 \\ucd08\\uae30 \\uc9c4\\ub2e8\", \"\\uc774\\ud504 \\uc124\\ud3ec \\ud310\", \"\\uc911 \\uc54c\\ub77c \\uc774\\ud504\", \"\\ud14c\\ub860 \\uc815\\ub9e5 \\ucd08\\uae30\", \"\\uc54c\\ub77c \\uc774\\ud504 \\uc124\\ud3ec\", \"\\uc694\\uc998 \\ub9d0\\ub2e4 \\uc61b\\ub0a0\", \"\\ub9d0\\ub2e4 \\uc61b\\ub0a0 \\ud55c\\ucc3d\", \"\\ub9ce\\uc774 \\ucd94\\ucc9c \\ud574\\uc8fc\\ub2e4\", \"\\ubc1c\\ubc14\\ub2e5 \\uc544\\ud504\\ub2e4 \\ub3c4\\uc6c0\", \"\\uc220 \\ub9d0\\ub2e4 \\ub098\\ub2e4\", \"\\uc801\\uc6a9 \\ubcc0\\uacbd \\uadf8\\ub807\\ub2e4\", \"\\ub0a0 \\uacbd\\uc6b0 \\ub9ce\\ub2e4\", \"\\ud3c9\\uc18c \\uba39\\ub2e4 \\ubc18\\uc99d\", \"\\ub9c8\\ub2e4 \\ub354 \\ud2b9\\uc774\", \"\\ubb50 \\ud2b9\\uc815\\ud558\\ub2e4 \\uc9c8\\ubcd1\", \"\\ud2b9\\uc815\\ud558\\ub2e4 \\uc9c8\\ubcd1 \\uc544\\ub2c8\\ub2e4\", \"\\ub098\\uc624\\ub2e4 \\uc774\\uc720 \\ubaa8\\ub974\\ub2e4\", \"\\uad70 \\ud3ec\\ud568 \\ub418\\uc5b4\\ub2e4\", \"\\uad1c\\ucc2e\\ub2e4 \\uba74\\uc5ed \\ud6a8\\uacfc\", \"\\uc2dd\\ud6c4 \\uc810\\uc2ec \\uc2dd\\ud6c4\", \"\\uad81\\uae08\\ud558\\ub2e4 \\uc5ec\\ucb48\\ub2e4 \\ubcf4\\ub2e4\", \"\\uc6d0\\uc2a4 \\ub370 \\uc77c\\ub9ac\", \"\\uc810\\uc2ec \\uc2dd\\ud6c4 \\uc800\\ub141\", \"\\uc2dd\\ud6c4 \\uc800\\ub141 \\uc2dd\\ud6c4\", \"\\uc544\\uce68 \\uc810\\uc2ec \\uc800\\ub141\", \"\\uc88b\\ub2e4 \\ucd94\\ucc9c \\ubd80\\ud0c1\\ub4dc\\ub9ac\\ub2e4\", \"\\uadf8\\ub807\\uac8c \\ud6a8\\uacfc \\uc88b\\ub2e4\", \"\\uc774\\ub807\\uac8c \\uba39\\ub2e4 \\uc694\", \"\\uacbd\\uc6b0 \\ub9ce\\ub2e4 \\uba39\\ub2e4\", \"\\uba39\\ub2e4 \\uac04 \\ubb34\\ub9ac\", \"\\uba39\\ub2e4 \\uc2dd\\ud6c4 \\uba39\\ub2e4\", \"\\uc544\\uce68 \\ubc88 \\uba39\\ub2e4\", \"\\uc5bc\\uad74 \\ubd93\\uae30 \\ube60\\uc9c0\\ub2e4\", \"\\uba39\\ub2e4 \\uac00\\ub2e4 \\ub4e4\\ub2e4\", \"\\uac00\\uc9c0 \\ub354 \\uc88b\\ub2e4\", \"\\ud06c\\ub2e4 \\ubb38\\uc81c \\uc5c6\\ub2e4\", \"\\uba39\\ub2e4 \\uc774\\ud2c0 \\ubc88\", \"\\uba39\\ub2e4 \\uac11\\uc790\\uae30 \\uc810\\uc2ec\", \"\\ub9e4\\uc77c \\ub2e4 \\ucc59\\uae30\\ub2e4\", \"\\ub808\\ud2f0\\ub2d0 \\ubc09\\ub2e4 \\uc220\", \"\\uba39\\ub2e4 \\ub09c \\ub4a4\", \"\\ub108\\ubb34 \\ub9ce\\uc774 \\ucc3e\\uc544\\ubcf4\\ub2e4\", \"\\uba39\\ub2e4 \\ud53c\\ubd80 \\uc548\\uad6c\", \"\\ub108\\ubb34 \\ube60\\uc9c0\\ub2e4 \\uba39\\uae30\", \"\\ub2e4 \\ucc59\\uae30\\ub2e4 \\uba39\\ub2e4\", \"\\uc800\\ub141 \\uba39\\ub2e4 \\uac11\\uc790\\uae30\", \"\\ubc29\\uc9c0 \\ud53c\\ubdf0 \\ud2b8\\ub7ec\\ube14\", \"\\ubc88 \\uad70 \\uba39\\ub2e4\", \"\\ucc59\\uae30\\ub2e4 \\uba39\\ub2e4 \\uc2dd\\ud6c4\", \"\\ucd5c\\ub300 \\uc77c\\uc8fc\\uc77c \\uac00\\ub7c9\", \"\\uad70 \\uba39\\ub2e4 \\ud53c\\ubd80\", \"\\uc77c\\uc8fc\\uc77c \\uac00\\ub7c9 \\ubcf4\\uad00\", \"\\uc774\\ud2c0 \\ubc88 \\uad70\", \"\\uc548\\uc88b\\ub2e4 \\uc5b4\\uc81c \\ud574\\ub3c4\", \"\\ubcf4\\ucda9 \\uba39\\ub2e4 \\ubcf5\\uc6a9\", \"\\ud5cc\\ud608 \\uc804 \\uc5ec\\ub4dc\\ub984\", \"\\ubb3c\\uc5b4\\ubcf4\\ub2e4 \\ub798\\uc11c \\uad81\\uae08\\ud558\\ub2e4\", \"\\ub9cc \\uba39\\ub2e4 \\uc774\\ud2c0\", \"\\uc11c\\ub85c \\uade0 \\uc885\\uc774\", \"\\uc774\\ub807\\uac8c \\uba39\\ub2e4 \\uad1c\\ucc2e\\ub2e4\", \"\\ub530\\ub85c \\ucc59\\uae30\\ub2e4 \\uba39\\ub2e4\", \"\\uc67c\\ucabd \\uc2dd\\uc774\\uc12c\\uc720 \\ub450\\ubc88\\uc9f8\", \"\\ub108\\ubb34 \\ub9ce\\uc774 \\uba39\\ub2e4\", \"\\uba39\\ub2e4 \\uba39\\ub2e4 \\uad1c\\ucc2e\\ub2e4\", \"\\uc790\\ub2e4 \\ucc59\\uae30\\ub2e4 \\uba39\\ub2e4\", \"\\uacfc\\ubbfc\\uc131 \\ub300\\uc7a5 \\uc99d\\ud6c4\\uad70\", \"\\uba39\\ub2e4 \\uc800\\ub141 \\uba39\\ub2e4\", \"\\uba39\\ub2e4 \\uc774\\ub807\\uac8c \\uba39\\ub2e4\", \"\\uc218\\uce58 \\ub192\\ub2e4 \\ub098\\uc624\\ub2e4\", \"\\ud30c \\uc774\\ud1a0 \\uc19c\", \"\\uc810\\ub9c9 \\ubcf4\\ud638 \\uc704\\uc5fc\", \"\\ubcf4\\ud638 \\uc704\\uc5fc \\uc99d\", \"\\uc704 \\uc810\\ub9c9 \\ubcf4\\ud638\", \"\\uc778\\uc9c0\\uc9c8 \\ubcf5\\ud569 \\uccb4\", \"\\ud574\\ubc14\\ub77c\\uae30 \\uc778\\uc9c0\\uc9c8 \\ubcf5\\ud569\", \"\\ubab8 \\uc790\\uc5f0 \\uc0dd\", \"\\ucf54\\ud638\\uc2dc \\uce74\\ubc14 \\uc560\\uae30\\ub625\\ud480\", \"\\uc560\\uae30\\ub625\\ud480 \\ud558\\uc218\\uc624 \\ubfcc\\ub9ac\", \"\\uce94\\ub514 \\ub958 \\ub418\\uc5b4\\ub2e4\", \"\\uce74\\ubc14 \\uc560\\uae30\\ub625\\ud480 \\ud558\\uc218\\uc624\", \"\\uc720 \\uc758\\ubbf8 \\ucc28\\uc774\", \"\\uacf5\\ubcf5 \\uba39\\ub2e4 \\uc88b\\ub2e4\", \"\\uacf5\\ubcf5 \\uba39\\ub2e4 \\uc694\", \"\\uba39\\ub2e4 \\uc544\\uce68 \\uc810\\uc2ec\", \"\\uc704\\uc5fc \\uc99d \\uac10\\uc18c\", \"\\ub4e4\\uae30\\ub984 \\ucc0d\\ub2e4 \\uba39\\ub2e4\", \"\\uccb4 \\ud30c \\uc774\\ud1a0\", \"\\ubcf5\\ud569 \\uccb4 \\ud30c\", \"\\uc78e \\ud574\\ubc14\\ub77c\\uae30 \\uc778\\uc9c0\\uc9c8\", \"\\ucf58 \\ub4dc\\ub77c\\uc774 \\uce5c\", \"\\ucc44\\uc6b0\\ub2e4 \\uc704\\ud574 \\ub123\\ub2e4\", \"\\uc8fc\\uac00 \\ube44\\uc2f8\\ub2e4 \\uade0\", \"\\ubab8 \\uc0dd \\uc591\", \"\\uade0 \\uc885\\ub958 \\ub9ce\\ub2e4\", \"\\uade0 \\uc8fc\\uac00 \\uc88b\\ub2e4\", \"\\ub9ce\\ub2e4 \\uc88b\\ub2e4 \\uc2f6\\ub2e4\", \"\\ubcf5\\uc6a9 \\ubc29\\uad11\\uc5fc \\uc9c0\\ub2e4\", \"\\ud3c9\\uc0dd \\uc758\\uc874 \\ubb38\\uc81c\", \"\\ub123\\ub2e4 \\uc6a9 \\uc4f0\\ub2e4\", \"\\uc88b\\ub2e4 \\ucd94\\ucc9c \\ubd80\\ud0c1\\ub4dc\\ub9ac\\ub2e4\", \"\\ubcf4\\ub2e4 \\ud53c\\ub85c \\ud68c\\ubcf5\", \"\\uc544\\uce68 \\uc810\\uc2ec \\uc800\\ub141\", \"\\uc694 \\ucf54\\ud638\\uc2dc \\uce74\\ubc14\", \"\\uc12d\\ucde8 \\uad1c\\ucc2e\\ub2e4 \\uad81\\uae08\\ud558\\ub2e4\", \"\\ub108\\ubb34 \\ub9ce\\uc774 \\uba39\\ub2e4\", \"\\uba39\\ub2e4 \\uac04 \\ubd80\\ub2f4\", \"\\ud6a8\\ubaa8 \\ub9e5\\uc8fc \\ud6a8\\ubaa8\", \"\\ub9e5\\uc8fc \\ud6a8\\ubaa8 \\ub9e5\\uc8fc\", \"\\uba39\\ub2e4 \\uacfc\\ud558\\ub2e4 \\uc544\\ub2c8\\ub2e4\", \"\\uc544\\uce68 \\uacf5\\ubcf5 \\uba39\\ub2e4\", \"\\uc885\\ub958 \\ubcc4\\ub85c \\ucc59\\uae30\\ub2e4\", \"\\ubcc4\\ub85c \\ucc59\\uae30\\ub2e4 \\uba39\\ub2e4\", \"\\uc2dc\\uc6d0\\ud558\\ub2e4 \\uc8fc\\ub2e4 \\uc548\\uc57d\", \"\\ud30c\\uc2a4 \\uc885\\ub958 \\uc131\\ubd84\", \"\\ud398\\ub2c8\\uc2e4\\ub9b0 \\uc54c\\ub7ec\\uc9c0 \\uccb4\\uc9c8\", \"\\uc88b\\ub2e4 \\ucd94\\ucc9c \\ud574\\uc8fc\\ub2e4\", \"\\uc88b\\ub2e4 \\uad00\\uc808 \\uc88b\\ub2e4\", \"\\uc13c\\ud2b8 \\ub8f8 \\uc5b4\\ub35c\\ud2b8\", \"\\uba39\\ub2e4 \\uacbd\\uc6b0 \\ubb38\\uc81c\", \"\\ubcf5\\uc6a9 \\uc544\\uce68 \\uc810\\uc2ec\", \"\\ubc14\\uafb8\\ub2e4 \\uba39\\ub2e4 \\ubcf4\\ub2e4\", \"\\uc810\\uc2ec \\uc2dd\\ud6c4 \\ucc59\\uae30\\ub2e4\", \"\\uac00\\ubccd\\ub2e4 \\uc99d\\uc0c1 \\uc678\", \"\\uc18d \\uc4f0\\ub9ac\\ub2e4 \\uc6b8\\ub801\\uac70\\ub9ac\\ub2e4\", \"\\uc5ec\\ub4dc\\ub984 \\uce58\\ub8cc \\uad6c\\ub9e4\", \"\\ud648\\ud398\\uc774\\uc9c0 \\ucea1\\ucc98 \\uac81\\ub2c8\\ub2e4\", \"\\uc54a\\ub2e4 \\uc2f6\\ub2e4 \\uc804\\ubb38\\uac00\", \"\\ucd94\\ucc9c \\uc870\\ud569 \\ucd94\\ub2e4\", \"\\ub418\\uc5b4\\ub2e4 \\ub108\\ubb34 \\uacfc\\ub2e4\", \"\\ub9c8\\ub974\\ub2e4 \\ud3b8\\uc785 \\ub2c8\", \"\\uc6b8\\ub801\\uac70\\ub9ac\\ub2e4 \\uac00\\ubccd\\ub2e4 \\uc99d\\uc0c1\", \"\\uac78 \\uba39\\ub2e4 \\uc2f6\\ub2e4\", \"\\uad6c\\ub9e4 \\uba39\\uae30 \\uac71\\uc815\", \"\\ubcf4\\ub2e4 \\ud6a8\\uacfc \\uc5c6\\ub2e4\", \"\\ub3c5\\ud558\\ub2e4 \\ubc29\\uadc0 \\ub0c4\\uc0c8\", \"\\uc870\\ud569 \\ucd94\\ucc9c \\ubd80\\ud0c1\\ub4dc\\ub9ac\\ub2e4\", \"\\ud6c4\\uae30 \\ubcc4\\ub85c \\uc5c6\\ub2e4\", \"\\ud56d\\uc0dd\\uc81c \\ubc88 \\ubc14\\uafb8\\ub2e4\", \"\\ud6a8\\uacfc \\uad81\\uae08\\ud558\\ub2e4 \\uac89\", \"\\ub290\\ub07c\\ub2e4 \\uccb4\\ud615 \\ub9c8\\ub974\\ub2e4\", \"\\uba39\\ub2e4 \\uc774\\ub807\\uac8c \\uba39\\ub2e4\", \"\\uc544\\uce68 \\uc810\\uc2ec \\uc800\\ub141\", \"\\uc810\\uc2ec \\uc2dd\\uc0ac \\ud6c4\", \"\\uc774\\ub807\\uac8c \\uba39\\ub2e4 \\ud558\\ub8e8\", \"\\ucc59\\uae30\\ub2e4 \\uba39\\ub2e4 \\uc88b\\ub2e4\"], \"Freq\": [2.0, 1.0, 1.0, 2.0, 1.0, 1.0, 1.0, 2.0, 2.0, 2.0, 2.0, 6.0, 2.0, 2.0, 1.0, 1.0, 1.0, 1.0, 1.0, 1.0, 2.0, 1.0, 1.0, 2.0, 1.0, 1.0, 1.0, 1.0, 1.0, 1.0, 1.1858591958544797, 1.1858538883296217, 1.1858243178339842, 1.1858452229829148, 1.1858321166460206, 1.183984123143932, 1.1838707154189052, 1.182809318764139, 1.1812299510099658, 1.181249664673724, 1.1741019451256725, 1.1733309459024228, 1.1704906618855562, 1.1698602579126265, 1.1685001234301386, 1.1679538816371, 1.1389385097730877, 0.6384318750695399, 0.6384254843763435, 0.6384235888317513, 0.63842185576241, 0.6384228306139145, 0.6384212058614069, 0.6384189853663133, 0.6384239137822528, 0.6384196352673163, 0.6384177938811411, 0.6384170898217212, 0.6384180646732257, 0.6384155733860475, 0.6384169815048873, 1.1731847181767432, 1.178529179075081, 1.1765872748780561, 0.6384195269504824, 1.1794735935493033, 0.6500694356969574, 0.6524103249514198, 0.6539690041903302, 0.6528319482271292, 0.645217708075743, 0.645187812629604, 0.6433578538803495, 0.643090798726525, 0.6420892471224537, 1.6136287539477447, 1.586910149140559, 1.104421685337914, 1.1044161328816122, 1.1044005860039665, 1.104374952164039, 1.1038316443148863, 1.1019768462871975, 1.1019616695733052, 1.0869074798835217, 1.0869549533849039, 1.0854044299625654, 1.0755816720596043, 1.0679144702340249, 0.594584783101558, 0.5945786291291567, 0.5945778425311806, 0.5945737707298924, 0.5945760842533516, 0.5945753439258447, 0.5945722900748786, 0.5945725676976936, 0.5945700228218885, 0.5945709019608031, 0.5945699302809502, 0.5945701616332961, 0.5945701616332961, 0.5945715960178408, 0.5945675242165527, 0.5945674316756143, 1.095558947129572, 1.0634513133175247, 1.096253189249201, 1.0910059329619175, 0.6397620661801094, 0.6376276094366755, 0.6026837809455577, 0.5971474730372851, 0.5946125916535374, 1.5250096180105108, 1.5190176110295088, 1.0866770737806652, 1.086667895612813, 1.0866602322881989, 1.0866610342640306, 1.0775878361375122, 1.070661438204116, 1.06734321864611, 1.0667074300283976, 1.0625170171991696, 1.048045987074537, 1.0469878245187791, 1.046651796645283, 1.0459847309701331, 1.045821395225737, 1.039803457692842, 0.5850190475881977, 0.5850189584797719, 0.5850141911789944, 0.5850145476126974, 0.5850138792995043, 0.5850150377090391, 0.5850106713961774, 0.5850106268419645, 0.5850094238782169, 0.5850088892276624, 0.5850070625049345, 0.5850077308181276, 0.5850119634683507, 0.5850101367456229, 1.0635600313225506, 1.0567138309723276, 1.107366357179274, 1.064888281516751, 1.0619663271280466, 0.6358022513015037, 0.5959476168014292, 0.5852959520212098, 0.5850374484781147, 0.5850283148644755, 1.0830817617898874, 1.083063595173068, 1.07761325391912, 1.0688529372702962, 1.065718572504673, 1.0625355853234453, 1.054572195409501, 0.583091317538211, 0.5830879780865899, 0.5830835700104499, 0.5830800524547423, 0.5830796962465693, 0.5830806758190449, 0.5830781378358127, 0.5830770246852723, 0.5830788947781802, 0.58307613416484, 0.5830756443786023, 0.5830759560607536, 0.5830763122689265, 0.5830782714138776, 0.5830760896388184, 0.5830763122689265, 0.5830747093321483, 0.5830768020551642, 0.58307613416484, 0.5830760896388184, 0.5830754662745158, 0.5830751100663428, 0.5830765348990345, 1.0832715316940138, 1.0776036362984511, 0.5830770246852723, 1.0730635850304169, 1.1007024005320842, 0.6157650910381723, 0.595799133159406, 0.5925238880613903, 0.5940153762074551, 0.5830976402332805, 2.5173245713991834, 1.5531098198177309, 1.5481693436063255, 1.5439132197848668, 1.5372377978456635, 1.5346930819644635, 1.075844114227284, 1.075853511776787, 1.075831642712991, 1.0758160972339073, 1.0757469769399022, 1.0671761483108329, 1.0643989528639004, 1.0629875638872013, 1.0603476429250591, 1.0571983220833368, 1.0556635353771875, 1.056386971033757, 1.0537272888693898, 1.0497695152877473, 1.0472091660998981, 0.579198070649292, 0.5791977193390302, 0.5791973680287684, 0.5791953479947631, 0.579189200065182, 0.5791883657033102, 0.5791903857373155, 0.5791886291860067, 0.5791882339619621, 1.0650111988226167, 0.5791892439789648, 1.5654111242890711, 0.5791894635478784, 0.5883070626856246, 0.5940316634013217, 0.5847602781964815, 0.5812433550795895, 0.5801883703634656, 0.5797156824062413, 0.5792563442389647, 1.0413667928610615, 1.0413521877201803, 1.0413301140413487, 1.0413392422543992, 1.0412989951332212, 1.0412883732125804, 1.0267119447106787, 1.0256402924985255, 1.0241821849393073, 1.014067461009082, 0.5606275439191266, 0.5606259672277815, 0.5606236021907638, 0.5606241830770489, 0.5606241830770489, 0.5606237681582737, 0.5606204488080735, 0.5606220669912961, 0.5606201168730535, 0.5606215275968887, 0.5606201168730535, 0.5606204488080735, 0.5606176273604033, 0.5606179178035459, 0.560619743446156, 0.5606189551004834, 0.5606177933279133, 0.5606168805066083, 0.5606198679217885, 0.5606177933279133, 1.5092323569700719, 1.9662365093213092, 1.030965774976064, 0.5721505851555662, 0.5654313075289394], \"Total\": [2.0, 1.0, 1.0, 2.0, 1.0, 1.0, 1.0, 2.0, 2.0, 2.0, 2.0, 6.0, 2.0, 2.0, 1.0, 1.0, 1.0, 1.0, 1.0, 1.0, 2.0, 1.0, 1.0, 2.0, 1.0, 1.0, 1.0, 1.0, 1.0, 1.0, 1.6007513097119008, 1.600748351689157, 1.6007252223769919, 1.6007570107778597, 1.6007412436133446, 1.6005571248908805, 1.600593819047267, 1.6004867681358441, 1.6003262299647778, 1.6003690743420855, 1.5997453362246743, 1.5997024058898965, 1.5994073548852232, 1.5987637726569495, 1.5986261048149843, 1.599186174798738, 1.5959056342747344, 1.0532948351797244, 1.0532887651720515, 1.0532876794516757, 1.053285825762492, 1.053287571930862, 1.0532849441160306, 1.0532824319560032, 1.0532907156264912, 1.0532841099422363, 1.0532817086147077, 1.0532807857665762, 1.053282738888001, 1.0532793324135552, 1.0532816882215197, 2.095692713721757, 2.6030590431051057, 2.60290357081144, 1.053287176624973, 6.025256662998686, 1.5556410688197946, 2.0577827375389894, 2.517602391093532, 2.5701330442394603, 1.5535209576283904, 2.0517319346440903, 1.5631584566202354, 1.554692820026634, 1.5630860835359137, 2.035475354785164, 2.0341265525238956, 1.5255856090487543, 1.5255913686478455, 1.5255805889204064, 1.5255547767015305, 1.5256189862788372, 1.525444576175125, 1.5257696972488406, 1.5246957474327498, 1.5252934646733254, 1.5246389606180388, 1.525060498071936, 1.5250870453772316, 1.015722926840136, 1.015718527155792, 1.0157189390890977, 1.0157126124985392, 1.0157166520126286, 1.015715755894221, 1.0157119663830976, 1.015712759796046, 1.0157095443986481, 1.0157116737752692, 1.0157101750646982, 1.0157106358824486, 1.0157107882726923, 1.0157132516583274, 1.0157068115154617, 1.0157072460743612, 2.006626320667847, 2.005439681059478, 2.5518087554238034, 2.5701330442394603, 1.5586520989536643, 1.5585561998628712, 1.5127217664717738, 1.4968786120668625, 1.5628171812303193, 2.010935382681006, 2.010888270364389, 1.5091911779117944, 1.509191372150556, 1.5091852550392193, 1.5091939080168657, 1.5090912117975264, 1.5097667055426673, 1.5091041757949395, 1.5090616317832497, 1.5089548594061402, 1.5090002408773842, 1.5092777806214939, 1.5093169882057609, 1.509045192138703, 1.5090448563023848, 1.5091781777225268, 1.0075213860261207, 1.0075221622090085, 1.0075175600072233, 1.0075188538121298, 1.0075179588399827, 1.007520825820436, 1.0075139980197, 1.0075153505626055, 1.0075135656409617, 1.007513419636824, 1.0075107066634514, 1.0075122149151152, 1.0075199114131352, 1.0075170670825198, 2.0556435758212217, 2.0577827375389894, 2.537301906052278, 2.6030590431051057, 2.60290357081144, 6.025256662998686, 2.0007203204200894, 1.5072338068828508, 1.5039101878139263, 1.5546547425471002, 1.5058830923498714, 1.5058718475828303, 1.5063532942018443, 1.506166510859599, 1.5051749352335366, 1.505050344814365, 1.5064051341123141, 1.0058708070942153, 1.0058685622192405, 1.0058664361486804, 1.0058621445872522, 1.0058623804348223, 1.0058643759989379, 1.0058606685127982, 1.0058593825913336, 1.0058626351886013, 1.0058582797314104, 1.0058576821409841, 1.0058584711011835, 1.0058593070736297, 1.0058627725915046, 1.005859275502718, 1.0058605174362576, 1.0058578452612403, 1.005861530957258, 1.0058604063933902, 1.0058604197897612, 1.005859415796615, 1.0058588880744703, 1.0058620990022387, 2.00718859017818, 2.0153254285653746, 1.005863322633385, 2.503460907051436, 3.060840380134245, 1.9839076075061777, 1.4870341681740062, 1.515233540946669, 2.9463968805586553, 2.054362100872659, 2.9905522919614294, 1.995364517507514, 1.9952009993082784, 1.9950400680178682, 1.9972962556033689, 1.9970169034339893, 1.499194204948101, 1.4992151138647682, 1.4991951600742843, 1.4991828695668024, 1.4991250669044687, 1.4991916958838605, 1.4998080115123456, 1.4999883704583876, 1.499562454019804, 1.498662948901696, 1.498662703329831, 1.5000024984243996, 1.5002172804267921, 1.5002690415204518, 1.5009099239393286, 1.0025331931579238, 1.0025329327439203, 1.002532632257446, 1.0025297466035399, 1.0025252893445675, 1.0025239319492005, 1.0025274931967088, 1.0025247128890369, 1.0025241477656974, 2.0007203204200894, 1.002526522083336, 6.025256662998686, 1.0025291139323156, 1.5478974823984415, 2.503460907051436, 1.5471976322553715, 1.5023381913229998, 1.5023575848977657, 1.5029329981815962, 1.9925528478335603, 1.467376518897436, 1.4673630088951322, 1.4673408208117453, 1.4673650463912744, 1.4673301842403668, 1.467337016418954, 1.4679364252392155, 1.4682893340560959, 1.468065037283658, 1.4684943128115877, 0.9866171839264465, 0.9866159053230243, 0.9866131757561567, 0.9866142386525869, 0.9866143010195079, 0.9866142145383504, 0.9866102505247691, 0.9866133549749858, 0.9866104416094338, 0.9866130971205778, 0.9866106979778138, 0.9866121275156596, 0.9866085589257705, 0.9866090918098993, 0.9866124974198655, 0.9866112645329205, 0.986609738448226, 0.9866083680635062, 0.9866136337516942, 0.9866107519672066, 2.9463968805586553, 6.025256662998686, 2.517602391093532, 2.005439681059478, 2.032813576845882], \"Category\": [\"Default\", \"Default\", \"Default\", \"Default\", \"Default\", \"Default\", \"Default\", \"Default\", \"Default\", \"Default\", \"Default\", \"Default\", \"Default\", \"Default\", \"Default\", \"Default\", \"Default\", \"Default\", \"Default\", \"Default\", \"Default\", \"Default\", \"Default\", \"Default\", \"Default\", \"Default\", \"Default\", \"Default\", \"Default\", \"Default\", \"Topic1\", \"Topic1\", \"Topic1\", \"Topic1\", \"Topic1\", \"Topic1\", \"Topic1\", \"Topic1\", \"Topic1\", \"Topic1\", \"Topic1\", \"Topic1\", \"Topic1\", \"Topic1\", \"Topic1\", \"Topic1\", \"Topic1\", \"Topic1\", \"Topic1\", \"Topic1\", \"Topic1\", \"Topic1\", \"Topic1\", \"Topic1\", \"Topic1\", \"Topic1\", \"Topic1\", \"Topic1\", \"Topic1\", \"Topic1\", \"Topic1\", \"Topic1\", \"Topic1\", \"Topic1\", \"Topic1\", \"Topic1\", \"Topic1\", \"Topic1\", \"Topic1\", \"Topic1\", \"Topic1\", \"Topic1\", \"Topic1\", \"Topic1\", \"Topic1\", \"Topic2\", \"Topic2\", \"Topic2\", \"Topic2\", \"Topic2\", \"Topic2\", \"Topic2\", \"Topic2\", \"Topic2\", \"Topic2\", \"Topic2\", \"Topic2\", \"Topic2\", \"Topic2\", \"Topic2\", \"Topic2\", \"Topic2\", \"Topic2\", \"Topic2\", \"Topic2\", \"Topic2\", \"Topic2\", \"Topic2\", \"Topic2\", \"Topic2\", \"Topic2\", \"Topic2\", \"Topic2\", \"Topic2\", \"Topic2\", \"Topic2\", \"Topic2\", \"Topic2\", \"Topic2\", \"Topic2\", \"Topic2\", \"Topic2\", \"Topic2\", \"Topic2\", \"Topic3\", \"Topic3\", \"Topic3\", \"Topic3\", \"Topic3\", \"Topic3\", \"Topic3\", \"Topic3\", \"Topic3\", \"Topic3\", \"Topic3\", \"Topic3\", \"Topic3\", \"Topic3\", \"Topic3\", \"Topic3\", \"Topic3\", \"Topic3\", \"Topic3\", \"Topic3\", \"Topic3\", \"Topic3\", \"Topic3\", \"Topic3\", \"Topic3\", \"Topic3\", \"Topic3\", \"Topic3\", \"Topic3\", \"Topic3\", \"Topic3\", \"Topic3\", \"Topic3\", \"Topic3\", \"Topic3\", \"Topic3\", \"Topic3\", \"Topic3\", \"Topic3\", \"Topic3\", \"Topic3\", \"Topic4\", \"Topic4\", \"Topic4\", \"Topic4\", \"Topic4\", \"Topic4\", \"Topic4\", \"Topic4\", \"Topic4\", \"Topic4\", \"Topic4\", \"Topic4\", \"Topic4\", \"Topic4\", \"Topic4\", \"Topic4\", \"Topic4\", \"Topic4\", \"Topic4\", \"Topic4\", \"Topic4\", \"Topic4\", \"Topic4\", \"Topic4\", \"Topic4\", \"Topic4\", \"Topic4\", \"Topic4\", \"Topic4\", \"Topic4\", \"Topic4\", \"Topic4\", \"Topic4\", \"Topic4\", \"Topic4\", \"Topic4\", \"Topic4\", \"Topic4\", \"Topic4\", \"Topic4\", \"Topic5\", \"Topic5\", \"Topic5\", \"Topic5\", \"Topic5\", \"Topic5\", \"Topic5\", \"Topic5\", \"Topic5\", \"Topic5\", \"Topic5\", \"Topic5\", \"Topic5\", \"Topic5\", \"Topic5\", \"Topic5\", \"Topic5\", \"Topic5\", \"Topic5\", \"Topic5\", \"Topic5\", \"Topic5\", \"Topic5\", \"Topic5\", \"Topic5\", \"Topic5\", \"Topic5\", \"Topic5\", \"Topic5\", \"Topic5\", \"Topic5\", \"Topic5\", \"Topic5\", \"Topic5\", \"Topic5\", \"Topic5\", \"Topic5\", \"Topic5\", \"Topic5\", \"Topic5\", \"Topic5\", \"Topic6\", \"Topic6\", \"Topic6\", \"Topic6\", \"Topic6\", \"Topic6\", \"Topic6\", \"Topic6\", \"Topic6\", \"Topic6\", \"Topic6\", \"Topic6\", \"Topic6\", \"Topic6\", \"Topic6\", \"Topic6\", \"Topic6\", \"Topic6\", \"Topic6\", \"Topic6\", \"Topic6\", \"Topic6\", \"Topic6\", \"Topic6\", \"Topic6\", \"Topic6\", \"Topic6\", \"Topic6\", \"Topic6\", \"Topic6\", \"Topic6\", \"Topic6\", \"Topic6\", \"Topic6\", \"Topic6\"], \"logprob\": [30.0, 29.0, 28.0, 27.0, 26.0, 25.0, 24.0, 23.0, 22.0, 21.0, 20.0, 19.0, 18.0, 17.0, 16.0, 15.0, 14.0, 13.0, 12.0, 11.0, 10.0, 9.0, 8.0, 7.0, 6.0, 5.0, 4.0, 3.0, 2.0, 1.0, -7.3583, -7.3583, -7.3584, -7.3583, -7.3584, -7.3599, -7.36, -7.3609, -7.3622, -7.3622, -7.3683, -7.369, -7.3714, -7.3719, -7.3731, -7.3735, -7.3987, -7.9775, -7.9775, -7.9776, -7.9776, -7.9776, -7.9776, -7.9776, -7.9776, -7.9776, -7.9776, -7.9776, -7.9776, -7.9776, -7.9776, -7.3691, -7.3645, -7.3662, -7.9776, -7.3637, -7.9595, -7.9559, -7.9535, -7.9552, -7.967, -7.967, -7.9699, -7.9703, -7.9718, -6.8929, -6.9096, -7.2721, -7.2721, -7.2721, -7.2721, -7.2726, -7.2743, -7.2743, -7.2881, -7.288, -7.2894, -7.2985, -7.3057, -7.8913, -7.8913, -7.8913, -7.8913, -7.8913, -7.8913, -7.8913, -7.8913, -7.8913, -7.8913, -7.8913, -7.8913, -7.8913, -7.8913, -7.8913, -7.8913, -7.2801, -7.3099, -7.2795, -7.2843, -7.818, -7.8214, -7.8778, -7.887, -7.8912, -6.9116, -6.9155, -7.2505, -7.2505, -7.2505, -7.2505, -7.2589, -7.2653, -7.2684, -7.269, -7.273, -7.2867, -7.2877, -7.288, -7.2886, -7.2888, -7.2946, -7.8697, -7.8697, -7.8697, -7.8697, -7.8697, -7.8697, -7.8697, -7.8697, -7.8697, -7.8697, -7.8697, -7.8697, -7.8697, -7.8697, -7.272, -7.2784, -7.2316, -7.2707, -7.2735, -7.7865, -7.8512, -7.8692, -7.8697, -7.8697, -7.2531, -7.2532, -7.2582, -7.2664, -7.2693, -7.2723, -7.2798, -7.8724, -7.8724, -7.8724, -7.8724, -7.8724, -7.8724, -7.8724, -7.8724, -7.8724, -7.8724, -7.8724, -7.8724, -7.8724, -7.8724, -7.8724, -7.8724, -7.8724, -7.8724, -7.8724, -7.8724, -7.8724, -7.8724, -7.8724, -7.253, -7.2582, -7.8724, -7.2624, -7.237, -7.8178, -7.8508, -7.8563, -7.8538, -7.8724, -6.3959, -6.8789, -6.882, -6.8848, -6.8891, -6.8908, -7.246, -7.246, -7.246, -7.246, -7.2461, -7.2541, -7.2567, -7.258, -7.2605, -7.2635, -7.2649, -7.2643, -7.2668, -7.2705, -7.273, -7.8652, -7.8652, -7.8652, -7.8652, -7.8652, -7.8652, -7.8652, -7.8652, -7.8652, -7.2561, -7.8652, -6.871, -7.8652, -7.8496, -7.8399, -7.8557, -7.8617, -7.8635, -7.8643, -7.8651, -7.2218, -7.2219, -7.2219, -7.2219, -7.2219, -7.2219, -7.236, -7.2371, -7.2385, -7.2484, -7.8411, -7.8411, -7.8411, -7.8411, -7.8411, -7.8411, -7.8411, -7.8411, -7.8411, -7.8411, -7.8411, -7.8411, -7.8411, -7.8411, -7.8411, -7.8411, -7.8411, -7.8411, -7.8411, -7.8411, -6.8508, -6.5863, -7.2319, -7.8207, -7.8325], \"loglift\": [30.0, 29.0, 28.0, 27.0, 26.0, 25.0, 24.0, 23.0, 22.0, 21.0, 20.0, 19.0, 18.0, 17.0, 16.0, 15.0, 14.0, 13.0, 12.0, 11.0, 10.0, 9.0, 8.0, 7.0, 6.0, 5.0, 4.0, 3.0, 2.0, 1.0, 1.3245, 1.3245, 1.3245, 1.3245, 1.3245, 1.3231, 1.323, 1.3221, 1.3209, 1.3209, 1.3152, 1.3146, 1.3123, 1.3122, 1.3111, 1.3103, 1.2872, 1.1239, 1.1239, 1.1239, 1.1239, 1.1239, 1.1239, 1.1239, 1.1239, 1.1239, 1.1239, 1.1239, 1.1239, 1.1239, 1.1239, 1.0444, 0.8321, 0.8305, 1.1239, -0.0063, 0.752, 0.4758, 0.2765, 0.2542, 0.7459, 0.4676, 0.7368, 0.7418, 0.7349, 1.5497, 1.5337, 1.4589, 1.4589, 1.4589, 1.4589, 1.4583, 1.4568, 1.4566, 1.4435, 1.4432, 1.4422, 1.4328, 1.4256, 1.2465, 1.2465, 1.2465, 1.2465, 1.2465, 1.2465, 1.2465, 1.2465, 1.2465, 1.2465, 1.2465, 1.2465, 1.2465, 1.2465, 1.2465, 1.2465, 1.1768, 1.1476, 0.9371, 0.9251, 0.8915, 0.8882, 0.8617, 0.863, 0.8156, 1.5432, 1.5392, 1.4913, 1.4913, 1.4913, 1.4913, 1.483, 1.4761, 1.4734, 1.4728, 1.469, 1.4552, 1.454, 1.4537, 1.4532, 1.4531, 1.4472, 1.2762, 1.2761, 1.2761, 1.2761, 1.2761, 1.2761, 1.2761, 1.2761, 1.2761, 1.2761, 1.2761, 1.2761, 1.2761, 1.2761, 1.1608, 1.1533, 0.9906, 0.9259, 0.9232, -0.4291, 0.6086, 0.8738, 0.8756, 0.8424, 1.4908, 1.4908, 1.4854, 1.4774, 1.4751, 1.4722, 1.4638, 1.2751, 1.2751, 1.2751, 1.2751, 1.2751, 1.2751, 1.2751, 1.2751, 1.2751, 1.2751, 1.2751, 1.2751, 1.2751, 1.2751, 1.2751, 1.2751, 1.2751, 1.2751, 1.2751, 1.2751, 1.2751, 1.2751, 1.2751, 1.2036, 1.1943, 1.2751, 0.9732, 0.7976, 0.6504, 0.9058, 0.8815, 0.219, 0.561, 1.662, 1.5837, 1.5806, 1.5779, 1.5724, 1.5709, 1.5024, 1.5024, 1.5024, 1.5024, 1.5024, 1.4943, 1.4913, 1.4899, 1.4877, 1.4853, 1.4838, 1.4836, 1.481, 1.4772, 1.4743, 1.2856, 1.2856, 1.2856, 1.2856, 1.2856, 1.2856, 1.2856, 1.2856, 1.2856, 1.2037, 1.2856, 0.4864, 1.2856, 0.8668, 0.3957, 0.8612, 0.8846, 0.8828, 0.8816, 0.5988, 1.548, 1.548, 1.548, 1.548, 1.548, 1.548, 1.5335, 1.5322, 1.5309, 1.5207, 1.3257, 1.3257, 1.3257, 1.3257, 1.3257, 1.3257, 1.3257, 1.3257, 1.3257, 1.3257, 1.3257, 1.3257, 1.3257, 1.3257, 1.3257, 1.3257, 1.3257, 1.3257, 1.3257, 1.3257, 1.222, 0.7711, 0.9982, 0.6367, 0.6114]}, \"token.table\": {\"Topic\": [6, 4, 1, 1, 1, 1, 6, 1, 3, 5, 5, 4, 6, 3, 2, 3, 6, 4, 3, 3, 1, 3, 3, 5, 5, 1, 3, 4, 2, 1, 2, 3, 3, 3, 3, 4, 5, 4, 4, 1, 5, 6, 4, 2, 2, 6, 6, 5, 2, 4, 2, 4, 3, 6, 4, 5, 3, 3, 1, 4, 4, 5, 4, 4, 1, 5, 4, 6, 4, 5, 1, 3, 4, 2, 1, 2, 3, 4, 1, 4, 2, 5, 1, 2, 5, 3, 4, 5, 6, 4, 2, 4, 1, 2, 5, 1, 4, 4, 2, 2, 1, 2, 5, 5, 1, 2, 6, 4, 3, 2, 6, 2, 3, 4, 4, 6, 1, 5, 6, 4, 5, 1, 2, 5, 1, 2, 6, 1, 2, 3, 3, 5, 2, 1, 1, 4, 1, 5, 6, 6, 1, 3, 4, 3, 6, 1, 1, 2, 1, 3, 1, 3, 2, 1, 2, 1, 2, 5, 6, 1, 2, 1, 4, 3, 1, 2, 3, 5, 6, 2, 4, 6, 3, 3, 5, 2, 1, 4, 6, 4, 5, 3, 2, 2, 6, 1, 3, 6, 5, 5, 5, 3, 4, 3, 5, 2, 6, 2, 6, 1, 4, 3, 5, 2, 4, 5, 4, 5, 6, 2, 4, 3, 1, 1, 3, 5, 1, 3, 6, 1, 3, 1, 3, 6, 1, 3, 2, 2, 1, 6, 6, 6, 3, 5, 6, 5, 3, 1, 3, 2, 5, 4, 1, 4, 6, 5, 3, 4, 1, 1, 6, 5, 5, 5, 5, 1, 4, 3, 3, 5, 6, 6, 5, 3, 2, 2, 2, 6, 1, 5, 6, 5, 1, 4, 1, 3, 5, 6, 1, 6, 1, 2, 2, 4, 5, 1, 2, 6], \"Freq\": [1.013568462871564, 0.6644296009402538, 0.6248725923976197, 0.949401788179631, 0.9494107037096691, 0.9494099090112436, 1.0135695397522142, 0.6432296333278665, 0.6432296333278665, 0.666671835391901, 0.6667520058061569, 0.6724795041044305, 0.6724795041044305, 0.6623539890824139, 0.9845356561794073, 0.9925390176225133, 1.0135732058607014, 0.9941748556230298, 0.9925362155844762, 0.6626091771444009, 0.48595995182462876, 0.48595995182462876, 0.6626064914319166, 0.9974766368657784, 0.997481071678283, 0.6247066573882595, 0.6634670715541644, 0.6634670715541644, 0.9845243221484139, 0.6252315877788133, 0.9825714643501994, 0.9925437976791694, 0.6626447769738875, 0.992542041068939, 0.3994470203961743, 0.3994470203961743, 0.3994470203961743, 0.994169814401555, 0.994174749778405, 0.9494144519803439, 0.9974822075145792, 1.0135709528870394, 0.9941715349755466, 0.9845204568837987, 0.9845298349384801, 1.0135691597411798, 1.0135712717257728, 0.6672615511002788, 0.49619777819796473, 0.49619777819796473, 0.9845323704139426, 0.9941720198748928, 0.9925424670225838, 1.0135685436555544, 0.9941752385509203, 0.997482422245728, 0.9925385320260132, 0.9925339982670793, 0.9494136201370242, 0.9941677782080669, 0.665620495448192, 0.665620495448192, 0.6643746029725404, 0.6640621739364503, 0.6463298412254458, 0.6463298412254458, 0.9941656768690605, 0.6811687320408415, 0.6653656558275741, 0.6653656558275741, 0.6428218051344335, 0.6428218051344335, 0.9941717867683966, 0.6555465964600194, 0.3267076605791972, 0.3267076605791972, 0.3267076605791972, 0.3267076605791972, 0.6255371390396094, 0.6640671326747777, 0.6610600985350858, 0.6610600985350858, 0.639760030194795, 0.639760030194795, 0.6668611882881895, 0.6626065767119437, 0.3393975898489255, 0.3393975898489255, 0.678795179697851, 0.9941634581172755, 0.6599642714978657, 0.6599642714978657, 0.3890849161452319, 0.3890849161452319, 0.3890849161452319, 0.6436990727995089, 0.6436990727995089, 0.9941734787965579, 0.6557002782438881, 0.6557116922668013, 0.6398701089354261, 0.6398701089354261, 0.9974737657648678, 0.667024990291113, 0.3918788968313264, 0.3918788968313264, 0.3918788968313264, 0.9941747169588561, 0.9925426108572009, 0.6556115417528335, 1.013564345210666, 0.9845322227014937, 0.9925372574580804, 0.9941764304782005, 0.9941756506809851, 0.6814946226244053, 0.94941145561841, 0.9974798451435622, 1.0135726584128022, 0.9941737378704434, 1.002405271796368, 0.949408691373496, 0.6554069082661222, 0.9974788789196699, 0.6416194681256823, 0.6416194681256823, 0.6809696103523848, 0.6397304097769705, 0.6397304097769705, 0.6626904177421243, 0.6626053780683726, 0.6665701115744468, 0.6554881513717088, 0.6253180622486639, 0.9494072594960729, 0.9941720649301196, 0.6460376164256799, 0.6460376164256799, 0.6810646762906983, 1.013567370936886, 0.48676910442186244, 0.48676910442186244, 0.48676910442186244, 0.9925381391229605, 0.6815049277009765, 0.9494082381373564, 0.6248099140268076, 0.6554716537968086, 0.3841863414433966, 0.3841863414433966, 0.4864656557012827, 0.4864656557012827, 0.6558929857037319, 0.6266034648436177, 0.9845303117003265, 0.6247105857925578, 0.5018687464612386, 0.5018687464612386, 0.5018687464612386, 0.6251162693249256, 0.98453136438132, 0.6254832747042564, 0.6638548897188555, 0.6627103480044175, 0.16596803355133988, 0.16596803355133988, 0.16596803355133988, 0.33193606710267975, 0.33193606710267975, 0.9845310807560462, 0.9941726263736523, 1.013571468032193, 0.6626504694894275, 0.6626122844613892, 0.6670245653344096, 0.6554835197359008, 0.6247044325072596, 0.6639372159651061, 1.0135673068661788, 0.9941708555213697, 0.99747726634851, 0.9925347629038559, 0.9845360774020736, 0.9845328170866285, 1.0135710083517535, 0.3941194375074876, 0.3941194375074876, 0.3941194375074876, 1.0024861315126667, 0.6672614417623762, 0.6670261066317086, 0.49820928879992743, 0.49820928879992743, 0.6649333238799274, 0.6649333238799274, 0.49864376846861724, 0.49864376846861724, 0.4983488902244535, 0.4983488902244535, 0.6247078117836389, 0.9941762692523227, 0.662551344624283, 1.0013537022307262, 0.9845265389895044, 0.9941736281177485, 0.6665471141006464, 0.5040557313336912, 0.5040557313336912, 0.5040557313336912, 0.9845274075911277, 0.9941758398280772, 0.9925353147769311, 0.949412691463781, 0.624855863583281, 0.6626634584952674, 1.002323125650383, 0.39720330880590143, 0.39720330880590143, 0.39720330880590143, 0.6432138793712758, 0.6432138793712758, 0.3841633952363724, 0.3841633952363724, 1.013565658737879, 0.625099493873165, 0.6625685561926299, 0.9845247214306438, 0.6554859944067828, 0.9494083350540474, 1.013570426315189, 0.6814883481653261, 0.6812284120799302, 0.4998199847293153, 0.4998199847293153, 0.6815066946518576, 0.9974734667947639, 0.66267067759763, 0.9494136385191634, 0.9945853429427901, 0.6558685571752781, 0.9974732076950547, 0.9941748244188581, 0.4919290245746991, 0.4919290245746991, 0.4919290245746991, 0.6666655562576719, 0.9945620417368027, 0.9941713991696902, 0.9494157620168362, 0.6247168383559629, 1.0135682787563256, 0.6670557527697752, 0.6670300336935919, 0.6670156875767741, 0.6662625012001873, 0.9494129681275943, 0.6638320444846826, 0.6626708250742802, 0.9925452835252496, 1.0031591850321313, 0.68149367634136, 0.6815098678813709, 0.9974816452337008, 0.992540708627011, 0.9832229944191269, 0.6554992421590684, 0.6680568430456885, 0.6680568430456885, 0.47716919253113793, 0.47716919253113793, 1.0135734019393923, 1.0014937763225145, 0.6247681254918485, 0.9941737246297194, 0.4873931058510662, 0.4873931058510662, 0.4873931058510662, 1.0135673957098956, 0.9494055014101266, 1.0135679923633356, 0.6415799912445556, 0.6415799912445556, 0.9845334283946805, 0.6656290878948986, 0.6656290878948986, 0.6247824488414782, 0.9845304544758109, 1.0135719941025867], \"Term\": [\"\\uac00\\ubccd\\ub2e4 \\uc99d\\uc0c1 \\uc678\", \"\\uac00\\uc9c0 \\ub354 \\uc88b\\ub2e4\", \"\\uac1c \\uac1c \\uac1c\", \"\\uac1c\\ubd09 \\uc9c0\\ub2e4 \\uac1c\\uc6d4\", \"\\uac1c\\uc6d4 \\ubbf8\\ub9cc \\ud06c\\ub2e4\", \"\\uac74\\uc870\\ud558\\ub2e4 \\ub9db \\ub098\\uae30\", \"\\uac78 \\uba39\\ub2e4 \\uc2f6\\ub2e4\", \"\\uacbd\\uc6b0 \\ub9ce\\ub2e4 \\uba39\\ub2e4\", \"\\uacbd\\uc6b0 \\ub9ce\\ub2e4 \\uba39\\ub2e4\", \"\\uacf5\\ubcf5 \\uba39\\ub2e4 \\uc694\", \"\\uacf5\\ubcf5 \\uba39\\ub2e4 \\uc88b\\ub2e4\", \"\\uacfc\\ubbfc\\uc131 \\ub300\\uc7a5 \\uc99d\\ud6c4\\uad70\", \"\\uacfc\\ubbfc\\uc131 \\ub300\\uc7a5 \\uc99d\\ud6c4\\uad70\", \"\\uacfc\\uc789 \\uc99d\\uc0c1 \\ubd80\\uc791\\uc6a9\", \"\\uacfc\\ud558\\ub2e4 \\ubcf5\\uc6a9\\ubc95 \\uad73\\uc774\", \"\\uad1c\\ucc2e\\ub2e4 \\uba74\\uc5ed \\ud6a8\\uacfc\", \"\\uad6c\\ub9e4 \\uba39\\uae30 \\uac71\\uc815\", \"\\uad70 \\uba39\\ub2e4 \\ud53c\\ubd80\", \"\\uad70 \\ud3ec\\ud568 \\ub418\\uc5b4\\ub2e4\", \"\\uad70 \\ud568\\ub7c9 \\uba39\\ub2e4\", \"\\uad81\\uae08\\ud558\\ub2e4 \\uc5ec\\ucb48\\ub2e4 \\ubcf4\\ub2e4\", \"\\uad81\\uae08\\ud558\\ub2e4 \\uc5ec\\ucb48\\ub2e4 \\ubcf4\\ub2e4\", \"\\uad8c\\uc7a5 \\uc12d\\ucde8 \\ub7c9\", \"\\uade0 \\uc885\\ub958 \\ub9ce\\ub2e4\", \"\\uade0 \\uc8fc\\uac00 \\uc88b\\ub2e4\", \"\\uadf8\\ub807\\uac8c \\ub9ce\\uc774 \\uba39\\ub2e4\", \"\\uadf8\\ub807\\uac8c \\ud6a8\\uacfc \\uc88b\\ub2e4\", \"\\uadf8\\ub807\\uac8c \\ud6a8\\uacfc \\uc88b\\ub2e4\", \"\\uae00\\ub8e8\\ud0d0\\uc0b0 \\ucc3e\\ub2e4 \\uba74\\uc5ed\", \"\\uae30\\ub2a5 \\uc2dd\\ud488 \\ub098\\uc624\\ub2e4\", \"\\uae30\\ub2a5 \\uc2dd\\ud488 \\uc77c\\ubc18\\uc758\\uc57d\\ud488\", \"\\ub098\\uc624\\ub2e4 \\uc774\\uc720 \\ubaa8\\ub974\\ub2e4\", \"\\ub098\\uc774 \\ub4e4\\ub2e4 \\ubcf4\\ub2e4\", \"\\ub0a0 \\uacbd\\uc6b0 \\ub9ce\\ub2e4\", \"\\ub108\\ubb34 \\ub9ce\\uc774 \\uba39\\ub2e4\", \"\\ub108\\ubb34 \\ub9ce\\uc774 \\uba39\\ub2e4\", \"\\ub108\\ubb34 \\ub9ce\\uc774 \\uba39\\ub2e4\", \"\\ub108\\ubb34 \\ub9ce\\uc774 \\ucc3e\\uc544\\ubcf4\\ub2e4\", \"\\ub108\\ubb34 \\ube60\\uc9c0\\ub2e4 \\uba39\\uae30\", \"\\ub123\\ub2e4 \\uadfc\\ub370 \\ucc98\\uc74c\", \"\\ub123\\ub2e4 \\uc6a9 \\uc4f0\\ub2e4\", \"\\ub290\\ub07c\\ub2e4 \\uccb4\\ud615 \\ub9c8\\ub974\\ub2e4\", \"\\ub2e4 \\ucc59\\uae30\\ub2e4 \\uba39\\ub2e4\", \"\\ub300\\ub2e4 \\ub0a8\\uc131 \\ub300\\ub2e4\", \"\\ub300\\ub2e4 \\ube44\\uc728 \\uba39\\ub2e4\", \"\\ub3c5\\ud558\\ub2e4 \\ubc29\\uadc0 \\ub0c4\\uc0c8\", \"\\ub418\\uc5b4\\ub2e4 \\ub108\\ubb34 \\uacfc\\ub2e4\", \"\\ub4e4\\uae30\\ub984 \\ucc0d\\ub2e4 \\uba39\\ub2e4\", \"\\ub530\\ub85c \\ucc59\\uae30\\ub2e4 \\uba39\\ub2e4\", \"\\ub530\\ub85c \\ucc59\\uae30\\ub2e4 \\uba39\\ub2e4\", \"\\ub54c\\ubb38 \\uc2a4\\ud2b8\\ub808\\uc2a4 \\ubc1b\\ub2e4\", \"\\ub808\\ud2f0\\ub2d0 \\ubc09\\ub2e4 \\uc220\", \"\\ub9c8\\ub2e4 \\ub354 \\ud2b9\\uc774\", \"\\ub9c8\\ub974\\ub2e4 \\ud3b8\\uc785 \\ub2c8\", \"\\ub9cc \\uba39\\ub2e4 \\uc774\\ud2c0\", \"\\ub9ce\\ub2e4 \\uc88b\\ub2e4 \\uc2f6\\ub2e4\", \"\\ub9ce\\uc774 \\ucd94\\ucc9c \\ud574\\uc8fc\\ub2e4\", \"\\ub9d0\\ub2e4 \\uc61b\\ub0a0 \\ud55c\\ucc3d\", \"\\ub9db \\ub098\\uae30 \\uc2dc\\uc791\", \"\\ub9e4\\uc77c \\ub2e4 \\ucc59\\uae30\\ub2e4\", \"\\ub9e5\\uc8fc \\ud6a8\\ubaa8 \\ub9e5\\uc8fc\", \"\\ub9e5\\uc8fc \\ud6a8\\ubaa8 \\ub9e5\\uc8fc\", \"\\uba39\\ub2e4 \\uac00\\ub2e4 \\ub4e4\\ub2e4\", \"\\uba39\\ub2e4 \\uac04 \\ubb34\\ub9ac\", \"\\uba39\\ub2e4 \\uac04 \\ubd80\\ub2f4\", \"\\uba39\\ub2e4 \\uac04 \\ubd80\\ub2f4\", \"\\uba39\\ub2e4 \\uac11\\uc790\\uae30 \\uc810\\uc2ec\", \"\\uba39\\ub2e4 \\uacbd\\uc6b0 \\ubb38\\uc81c\", \"\\uba39\\ub2e4 \\uacfc\\ud558\\ub2e4 \\uc544\\ub2c8\\ub2e4\", \"\\uba39\\ub2e4 \\uacfc\\ud558\\ub2e4 \\uc544\\ub2c8\\ub2e4\", \"\\uba39\\ub2e4 \\uad81\\uae08\\ud558\\ub2e4 \\uc5ec\\ucb48\\ub2e4\", \"\\uba39\\ub2e4 \\uad81\\uae08\\ud558\\ub2e4 \\uc5ec\\ucb48\\ub2e4\", \"\\uba39\\ub2e4 \\ub09c \\ub4a4\", \"\\uba39\\ub2e4 \\ub108\\ubb34 \\ub9ce\\ub2e4\", \"\\uba39\\ub2e4 \\uba39\\ub2e4 \\uad1c\\ucc2e\\ub2e4\", \"\\uba39\\ub2e4 \\uba39\\ub2e4 \\uad1c\\ucc2e\\ub2e4\", \"\\uba39\\ub2e4 \\uba39\\ub2e4 \\uad1c\\ucc2e\\ub2e4\", \"\\uba39\\ub2e4 \\uba39\\ub2e4 \\uad1c\\ucc2e\\ub2e4\", \"\\uba39\\ub2e4 \\uc0c1\\uad00 \\uc5c6\\ub2e4\", \"\\uba39\\ub2e4 \\uc2dd\\ud6c4 \\uba39\\ub2e4\", \"\\uba39\\ub2e4 \\uc544\\uce68 \\uacf5\\ubcf5\", \"\\uba39\\ub2e4 \\uc544\\uce68 \\uacf5\\ubcf5\", \"\\uba39\\ub2e4 \\uc544\\uce68 \\uba39\\ub2e4\", \"\\uba39\\ub2e4 \\uc544\\uce68 \\uba39\\ub2e4\", \"\\uba39\\ub2e4 \\uc544\\uce68 \\uc810\\uc2ec\", \"\\uba39\\ub2e4 \\uc6d0\\uc2a4 \\ub370\", \"\\uba39\\ub2e4 \\uc774\\ub807\\uac8c \\uba39\\ub2e4\", \"\\uba39\\ub2e4 \\uc774\\ub807\\uac8c \\uba39\\ub2e4\", \"\\uba39\\ub2e4 \\uc774\\ub807\\uac8c \\uba39\\ub2e4\", \"\\uba39\\ub2e4 \\uc774\\ud2c0 \\ubc88\", \"\\uba39\\ub2e4 \\uc800\\ub141 \\uba39\\ub2e4\", \"\\uba39\\ub2e4 \\uc800\\ub141 \\uba39\\ub2e4\", \"\\uba39\\ub2e4 \\uc88b\\ub2e4 \\uba39\\ub2e4\", \"\\uba39\\ub2e4 \\uc88b\\ub2e4 \\uba39\\ub2e4\", \"\\uba39\\ub2e4 \\uc88b\\ub2e4 \\uba39\\ub2e4\", \"\\uba39\\ub2e4 \\uc88b\\ub2e4 \\uc544\\ub2c8\\ub2e4\", \"\\uba39\\ub2e4 \\uc88b\\ub2e4 \\uc544\\ub2c8\\ub2e4\", \"\\uba39\\ub2e4 \\ud53c\\ubd80 \\uc548\\uad6c\", \"\\uba39\\ub2e4 \\ud558\\ub8e8 \\uc12d\\ucde8\\ub7c9\", \"\\uba39\\ub2e4 \\ud6a8\\uacfc \\uc5c6\\ub2e4\", \"\\uba39\\ub2e4 \\ud761\\uc218 \\uc728\", \"\\uba39\\ub2e4 \\ud761\\uc218 \\uc728\", \"\\ubab8 \\uc0dd \\uc591\", \"\\ubab8 \\uc790\\uc5f0 \\uc0dd\", \"\\ubb38\\uc81c \\uc5c6\\ub2e4 \\uad81\\uae08\\ud558\\ub2e4\", \"\\ubb38\\uc81c \\uc5c6\\ub2e4 \\uad81\\uae08\\ud558\\ub2e4\", \"\\ubb38\\uc81c \\uc5c6\\ub2e4 \\uad81\\uae08\\ud558\\ub2e4\", \"\\ubb3c\\uc5b4\\ubcf4\\ub2e4 \\ub798\\uc11c \\uad81\\uae08\\ud558\\ub2e4\", \"\\ubb50 \\ud2b9\\uc815\\ud558\\ub2e4 \\uc9c8\\ubcd1\", \"\\ubc00 \\ub4c0\\ub77d\\uce78 \\uc774\\uc9c0\", \"\\ubc14\\uafb8\\ub2e4 \\uba39\\ub2e4 \\ubcf4\\ub2e4\", \"\\ubc1b\\ub2e4 \\uba39\\ub2e4 \\ubcf4\\ub2e4\", \"\\ubc1c\\ubc14\\ub2e5 \\uc544\\ud504\\ub2e4 \\ub3c4\\uc6c0\", \"\\ubc29\\uc9c0 \\ud53c\\ubdf0 \\ud2b8\\ub7ec\\ube14\", \"\\ubc88 \\uad70 \\uba39\\ub2e4\", \"\\ubcc4\\ub85c \\ucc59\\uae30\\ub2e4 \\uba39\\ub2e4\", \"\\ubcf4\\uad00 \\uac1c\\ubd09 \\uc9c0\\ub2e4\", \"\\ubcf4\\ub2e4 \\ud53c\\ub85c \\ud68c\\ubcf5\", \"\\ubcf4\\ub2e4 \\ud6a8\\uacfc \\uc5c6\\ub2e4\", \"\\ubcf4\\ucda9 \\uba39\\ub2e4 \\ubcf5\\uc6a9\", \"\\ubcf4\\ud638 \\uc704\\uc5fc \\uc99d\", \"\\ubcf5\\uc6a9 \\uad1c\\ucc2e\\ub2e4 \\uae30\\uc804\", \"\\ubcf5\\uc6a9 \\ubb38\\uc81c \\uc5c6\\ub2e4\", \"\\ubcf5\\uc6a9 \\ubc29\\uad11\\uc5fc \\uc9c0\\ub2e4\", \"\\ubcf5\\uc6a9 \\uc544\\uce68 \\uacf5\\ubcf5\", \"\\ubcf5\\uc6a9 \\uc544\\uce68 \\uacf5\\ubcf5\", \"\\ubcf5\\uc6a9 \\uc544\\uce68 \\uc810\\uc2ec\", \"\\ubcf5\\uc6a9 \\uc774\\ub807\\uac8c \\ubcf5\\uc6a9\", \"\\ubcf5\\uc6a9 \\uc774\\ub807\\uac8c \\ubcf5\\uc6a9\", \"\\ubcf5\\uc6a9 \\uc911 \\uc54c\\ub77c\", \"\\ubcf5\\uc6a9 \\ud574\\ub3c4 \\uc694\", \"\\ubcf5\\ud569 \\uccb4 \\ud30c\", \"\\ube0c\\ub85c\\ucf5c\\ub9ac \\uc999 \\uba39\\ub2e4\", \"\\uc0ac\\uc11c \\uba39\\ub2e4 \\ud45c\\uae30\", \"\\uc0dd\\uae30\\ub2e4 \\uc9c0\\ub2e4 \\uc2f6\\ub2e4\", \"\\uc11c\\ub85c \\uade0 \\uc885\\uc774\", \"\\uc12d\\ucde8 \\uad1c\\ucc2e\\ub2e4 \\uad81\\uae08\\ud558\\ub2e4\", \"\\uc12d\\ucde8 \\uad1c\\ucc2e\\ub2e4 \\uad81\\uae08\\ud558\\ub2e4\", \"\\uc13c\\ud2b8 \\ub8f8 \\uc5b4\\ub35c\\ud2b8\", \"\\uc18d \\uc4f0\\ub9ac\\ub2e4 \\uc6b8\\ub801\\uac70\\ub9ac\\ub2e4\", \"\\uc218\\uce58 \\ub192\\ub2e4 \\ub098\\uc624\\ub2e4\", \"\\uc218\\uce58 \\ub192\\ub2e4 \\ub098\\uc624\\ub2e4\", \"\\uc218\\uce58 \\ub192\\ub2e4 \\ub098\\uc624\\ub2e4\", \"\\uc220 \\ub9d0\\ub2e4 \\ub098\\ub2e4\", \"\\uc2dc\\uc6d0\\ud558\\ub2e4 \\uc8fc\\ub2e4 \\uc548\\uc57d\", \"\\uc2dc\\uc791 \\uc11c\\ub298\\ud558\\ub2e4 \\uac74\\uc870\\ud558\\ub2e4\", \"\\uc2dc\\uc791 \\ud574\\ubcf4\\ub2e4 \\uc131\\uc778\", \"\\uc2dd\\ud488 \\uc77c\\ubc18\\uc758\\uc57d\\ud488 \\ub098\\ub258\\uc5b4\\uc9c0\\ub2e4\", \"\\uc2dd\\ud6c4 \\uc800\\ub141 \\uc2dd\\ud6c4\", \"\\uc2dd\\ud6c4 \\uc800\\ub141 \\uc2dd\\ud6c4\", \"\\uc2dd\\ud6c4 \\uc810\\uc2ec \\uc2dd\\ud6c4\", \"\\uc2dd\\ud6c4 \\uc810\\uc2ec \\uc2dd\\ud6c4\", \"\\uc2dd\\ud6c4 \\ucc9c\\ubcf4 \\ud3ec\", \"\\uc2dd\\ud6c4 \\ud3b8\\ub3c4\\uc5fc \\uc57d\", \"\\uc528\\ub9ac\\uc5bc \\ube75 \\uc6b0\\uc720\", \"\\uc544\\ub2c8\\ub2e4 \\ub530\\ub85c \\ubcf5\\uc6a9\", \"\\uc544\\uce68 \\uacf5\\ubcf5 \\uba39\\ub2e4\", \"\\uc544\\uce68 \\uacf5\\ubcf5 \\uba39\\ub2e4\", \"\\uc544\\uce68 \\uacf5\\ubcf5 \\uba39\\ub2e4\", \"\\uc544\\uce68 \\uacf5\\ubcf5 \\uc810\\uc2ec\", \"\\uc544\\uce68 \\uacf5\\ubcf5 \\uc9d1\", \"\\uc544\\uce68 \\uba39\\ub2e4 \\uba39\\ub2e4\", \"\\uc544\\uce68 \\ubc88 \\uba39\\ub2e4\", \"\\uc544\\uce68 \\uc2dd\\ud6c4 \\uc810\\uc2ec\", \"\\uc544\\uce68 \\uc810\\uc2ec \\uc800\\ub141\", \"\\uc544\\uce68 \\uc810\\uc2ec \\uc800\\ub141\", \"\\uc544\\uce68 \\uc810\\uc2ec \\uc800\\ub141\", \"\\uc544\\uce68 \\uc810\\uc2ec \\uc800\\ub141\", \"\\uc544\\uce68 \\uc810\\uc2ec \\uc800\\ub141\", \"\\uc548\\uc88b\\ub2e4 \\ub098\\uc624\\ub2e4 \\uc6b0\\uc6b8\\ud558\\ub2e4\", \"\\uc548\\uc88b\\ub2e4 \\uc5b4\\uc81c \\ud574\\ub3c4\", \"\\uc54a\\ub2e4 \\uc2f6\\ub2e4 \\uc804\\ubb38\\uac00\", \"\\uc54a\\ub2e4 \\ud55c\\ubc88 \\uba39\\ub2e4\", \"\\uc54c\\ub77c \\uc774\\ud504 \\uc124\\ud3ec\", \"\\uc560\\uae30\\ub625\\ud480 \\ud558\\uc218\\uc624 \\ubfcc\\ub9ac\", \"\\uc591\\ubc30\\ucd94 \\ube0c\\ub85c\\ucf5c\\ub9ac \\uc999\", \"\\uc5bc\\uad74 \\uae30\\ubbf8 \\uc8fc\\uadfc\\uae68\", \"\\uc5bc\\uad74 \\ubd93\\uae30 \\ube60\\uc9c0\\ub2e4\", \"\\uc5ec\\ub4dc\\ub984 \\uce58\\ub8cc \\uad6c\\ub9e4\", \"\\uc67c\\ucabd \\uc2dd\\uc774\\uc12c\\uc720 \\ub450\\ubc88\\uc9f8\", \"\\uc694 \\ucf54\\ud638\\uc2dc \\uce74\\ubc14\", \"\\uc694\\uc998 \\ub9d0\\ub2e4 \\uc61b\\ub0a0\", \"\\uc6b0\\uc6b8\\ud558\\ub2e4 \\ubd80\\uc791\\uc6a9 \\ub2f9\\uc5f0\\ud558\\ub2e4\", \"\\uc6b0\\uc720 \\uc544\\uce68\\uc2dd\\uc0ac \\ud6c4\", \"\\uc6b8\\ub801\\uac70\\ub9ac\\ub2e4 \\uac00\\ubccd\\ub2e4 \\uc99d\\uc0c1\", \"\\uc6d0\\uc2a4 \\ub370 \\uc77c\\ub9ac\", \"\\uc6d0\\uc2a4 \\ub370 \\uc77c\\ub9ac\", \"\\uc6d0\\uc2a4 \\ub370 \\uc77c\\ub9ac\", \"\\uc704 \\uc810\\ub9c9 \\ubcf4\\ud638\", \"\\uc704\\uc5fc \\uc99d \\uac10\\uc18c\", \"\\uc720 \\uc758\\ubbf8 \\ucc28\\uc774\", \"\\uc774\\ub807\\uac8c \\uba39\\ub2e4 \\uad1c\\ucc2e\\ub2e4\", \"\\uc774\\ub807\\uac8c \\uba39\\ub2e4 \\uad1c\\ucc2e\\ub2e4\", \"\\uc774\\ub807\\uac8c \\uba39\\ub2e4 \\uc694\", \"\\uc774\\ub807\\uac8c \\uba39\\ub2e4 \\uc694\", \"\\uc774\\ub807\\uac8c \\uba39\\ub2e4 \\ud558\\ub8e8\", \"\\uc774\\ub807\\uac8c \\uba39\\ub2e4 \\ud558\\ub8e8\", \"\\uc774\\ub807\\uac8c \\ubcf5\\uc6a9 \\uad1c\\ucc2e\\ub2e4\", \"\\uc774\\ub807\\uac8c \\ubcf5\\uc6a9 \\uad1c\\ucc2e\\ub2e4\", \"\\uc774\\ub9c8 \\uad00\\uc790\\ub180\\uc774 \\uc8fc\\ubcc0\", \"\\uc774\\ud2c0 \\ubc88 \\uad70\", \"\\uc774\\ud504 \\uc124\\ud3ec \\ud310\", \"\\uc778\\uc9c0\\uc9c8 \\ubcf5\\ud569 \\uccb4\", \"\\uc77c\\ubc18 \\uc624\\ub2e4 \\ub298\\ub2e4\", \"\\uc77c\\uc8fc\\uc77c \\uac00\\ub7c9 \\ubcf4\\uad00\", \"\\uc78e \\ud574\\ubc14\\ub77c\\uae30 \\uc778\\uc9c0\\uc9c8\", \"\\uc790\\ub2e4 \\ucc59\\uae30\\ub2e4 \\uba39\\ub2e4\", \"\\uc790\\ub2e4 \\ucc59\\uae30\\ub2e4 \\uba39\\ub2e4\", \"\\uc790\\ub2e4 \\ucc59\\uae30\\ub2e4 \\uba39\\ub2e4\", \"\\uc790\\uc8fc \\ub118\\uc5b4\\uc9c0\\ub2e4 \\ubf08\", \"\\uc800\\ub141 \\uba39\\ub2e4 \\uac11\\uc790\\uae30\", \"\\uc801\\uc6a9 \\ubcc0\\uacbd \\uadf8\\ub807\\ub2e4\", \"\\uc801\\uc808\\ud558\\ub2e4 \\uac94 \\uc591\", \"\\uc804 \\uac1c \\uc6b4\\ub3d9\", \"\\uc810 \\uc5c6\\ub2e4 \\uad81\\uae08\\ud558\\ub2e4\", \"\\uc810\\ub9c9 \\ubcf4\\ud638 \\uc704\\uc5fc\", \"\\uc810\\uc2ec \\uc2dd\\uc0ac \\ud6c4\", \"\\uc810\\uc2ec \\uc2dd\\uc0ac \\ud6c4\", \"\\uc810\\uc2ec \\uc2dd\\uc0ac \\ud6c4\", \"\\uc810\\uc2ec \\uc2dd\\uc804 \\uc810\\uc2ec\", \"\\uc810\\uc2ec \\uc2dd\\uc804 \\uc810\\uc2ec\", \"\\uc810\\uc2ec \\uc2dd\\ud6c4 \\uc800\\ub141\", \"\\uc810\\uc2ec \\uc2dd\\ud6c4 \\uc800\\ub141\", \"\\uc810\\uc2ec \\uc2dd\\ud6c4 \\ucc59\\uae30\\ub2e4\", \"\\uc810\\uc2ec \\ud6c4 \\uc800\\ub141\", \"\\uc815\\ub9e5 \\ucd08\\uae30 \\uc9c4\\ub2e8\", \"\\uc815\\uc2dd \\ub098\\ub204\\ub2e4 \\ubcf5\\uc6a9\", \"\\uc81c\\ud488 \\uba39\\ub2e4 \\ubaa8\\ub974\\ub2e4\", \"\\uc870\\uc778\\ud2b8 \\ud3ec\\ud2b8 \\uc2a4\\uc6e8\", \"\\uc870\\ud569 \\ucd94\\ucc9c \\ubd80\\ud0c1\\ub4dc\\ub9ac\\ub2e4\", \"\\uc885\\ub958 \\ubcc4\\ub85c \\ucc59\\uae30\\ub2e4\", \"\\uc88b\\ub2e4 \\uad00\\uc808 \\uc88b\\ub2e4\", \"\\uc88b\\ub2e4 \\ucd94\\ucc9c \\ubd80\\ud0c1\\ub4dc\\ub9ac\\ub2e4\", \"\\uc88b\\ub2e4 \\ucd94\\ucc9c \\ubd80\\ud0c1\\ub4dc\\ub9ac\\ub2e4\", \"\\uc88b\\ub2e4 \\ucd94\\ucc9c \\ud574\\uc8fc\\ub2e4\", \"\\uc8fc\\uac00 \\ube44\\uc2f8\\ub2e4 \\uade0\", \"\\uc911 \\uc54c\\ub77c \\uc774\\ud504\", \"\\uc9c0\\uae08 \\ub9db \\ub2ec\\ub77c\", \"\\uc9c4\\ub2e8 \\ubcf5\\uc6a9 \\uc911\", \"\\uc9c4\\ubcf8 \\ud3ec \\ucc9c\\ubcf4\", \"\\ucc44\\uc6b0\\ub2e4 \\uc704\\ud574 \\ub123\\ub2e4\", \"\\ucc59\\uae30\\ub2e4 \\uba39\\ub2e4 \\uc2dd\\ud6c4\", \"\\ucc59\\uae30\\ub2e4 \\uba39\\ub2e4 \\uc88b\\ub2e4\", \"\\ucc59\\uae30\\ub2e4 \\uba39\\ub2e4 \\uc88b\\ub2e4\", \"\\ucc59\\uae30\\ub2e4 \\uba39\\ub2e4 \\uc88b\\ub2e4\", \"\\uccb4 \\ud30c \\uc774\\ud1a0\", \"\\ucd08\\uae30 \\uc9c4\\ub2e8 \\ubcf5\\uc6a9\", \"\\ucd5c\\ub300 \\uc77c\\uc8fc\\uc77c \\uac00\\ub7c9\", \"\\ucd94\\uac00 \\uad6c\\uc785 \\ub123\\ub2e4\", \"\\ucd94\\ucc9c \\ubd80\\ud0c1 \\ub4dc\\ub9ac\\ub2e4\", \"\\ucd94\\ucc9c \\uc870\\ud569 \\ucd94\\ub2e4\", \"\\uce74\\ubc14 \\uc560\\uae30\\ub625\\ud480 \\ud558\\uc218\\uc624\", \"\\uce94\\ub514 \\ub958 \\ub418\\uc5b4\\ub2e4\", \"\\ucf54\\ud638\\uc2dc \\uce74\\ubc14 \\uc560\\uae30\\ub625\\ud480\", \"\\ucf58 \\ub4dc\\ub77c\\uc774 \\uce5c\", \"\\ud06c\\ub2e4 \\uac71\\uc815 \\ub9db\", \"\\ud06c\\ub2e4 \\ubb38\\uc81c \\uc5c6\\ub2e4\", \"\\ud14c\\ub860 \\uc815\\ub9e5 \\ucd08\\uae30\", \"\\ud2b9\\uc815\\ud558\\ub2e4 \\uc9c8\\ubcd1 \\uc544\\ub2c8\\ub2e4\", \"\\ud30c \\uc774\\ud1a0 \\uc19c\", \"\\ud30c\\uc2a4 \\uc885\\ub958 \\uc131\\ubd84\", \"\\ud398\\ub2c8\\uc2e4\\ub9b0 \\uc54c\\ub7ec\\uc9c0 \\uccb4\\uc9c8\", \"\\ud3c9\\uc0dd \\uc758\\uc874 \\ubb38\\uc81c\", \"\\ud3c9\\uc18c \\uba39\\ub2e4 \\ubc18\\uc99d\", \"\\ud3ec \\ucc9c\\ubcf4 \\ud3ec\", \"\\ud3f4\\ub9ac \\uac10\\ub9c8 \\uae00\\ub8e8\\ud0d0\\uc0b0\", \"\\ud53c\\uc784 \\uc57d \\ubcf5\\uc6a9\", \"\\ud53c\\uc784 \\uc57d \\ubcf5\\uc6a9\", \"\\ud558\\ub8e8 \\uba39\\ub2e4 \\uad1c\\ucc2e\\ub2e4\", \"\\ud558\\ub8e8 \\uba39\\ub2e4 \\uad1c\\ucc2e\\ub2e4\", \"\\ud56d\\uc0dd\\uc81c \\ubc88 \\ubc14\\uafb8\\ub2e4\", \"\\ud574\\ubc14\\ub77c\\uae30 \\uc778\\uc9c0\\uc9c8 \\ubcf5\\ud569\", \"\\ud574\\ubcf4\\ub2e4 \\uc131\\uc778 \\ub0a8\\uc131\", \"\\ud5cc\\ud608 \\uc804 \\uc5ec\\ub4dc\\ub984\", \"\\ud604\\uc7ac \\uc774\\ub807\\uac8c \\uba39\\ub2e4\", \"\\ud604\\uc7ac \\uc774\\ub807\\uac8c \\uba39\\ub2e4\", \"\\ud604\\uc7ac \\uc774\\ub807\\uac8c \\uba39\\ub2e4\", \"\\ud648\\ud398\\uc774\\uc9c0 \\ucea1\\ucc98 \\uac81\\ub2c8\\ub2e4\", \"\\ud65c\\uc131\\ud615 \\uba39\\ub2e4 \\ud558\\ub8e8\", \"\\ud6a8\\uacfc \\uad81\\uae08\\ud558\\ub2e4 \\uac89\", \"\\ud6a8\\uacfc \\uc12d\\ucde8 \\ubc29\\ubc95\", \"\\ud6a8\\uacfc \\uc12d\\ucde8 \\ubc29\\ubc95\", \"\\ud6a8\\uacfc \\uc5c6\\ub2e4 \\ubcf5\\ubd80\", \"\\ud6a8\\ubaa8 \\ub9e5\\uc8fc \\ud6a8\\ubaa8\", \"\\ud6a8\\ubaa8 \\ub9e5\\uc8fc \\ud6a8\\ubaa8\", \"\\ud6c4 \\uc800\\ub141\\uc2dd\\uc0ac \\ud6c4\", \"\\ud6c4 \\ud559\\uad50 \\uc810\\uc2ec\\uc2dd\\uc0ac\", \"\\ud6c4\\uae30 \\ubcc4\\ub85c \\uc5c6\\ub2e4\"]}, \"R\": 30, \"lambda.step\": 0.01, \"plot.opts\": {\"xlab\": \"PC1\", \"ylab\": \"PC2\"}, \"topic.order\": [1, 6, 2, 3, 5, 4]};\n",
       "\n",
       "function LDAvis_load_lib(url, callback){\n",
       "  var s = document.createElement('script');\n",
       "  s.src = url;\n",
       "  s.async = true;\n",
       "  s.onreadystatechange = s.onload = callback;\n",
       "  s.onerror = function(){console.warn(\"failed to load library \" + url);};\n",
       "  document.getElementsByTagName(\"head\")[0].appendChild(s);\n",
       "}\n",
       "\n",
       "if(typeof(LDAvis) !== \"undefined\"){\n",
       "   // already loaded: just create the visualization\n",
       "   !function(LDAvis){\n",
       "       new LDAvis(\"#\" + \"ldavis_el1218823048426609125942120447\", ldavis_el1218823048426609125942120447_data);\n",
       "   }(LDAvis);\n",
       "}else if(typeof define === \"function\" && define.amd){\n",
       "   // require.js is available: use it to load d3/LDAvis\n",
       "   require.config({paths: {d3: \"https://d3js.org/d3.v5\"}});\n",
       "   require([\"d3\"], function(d3){\n",
       "      window.d3 = d3;\n",
       "      LDAvis_load_lib(\"https://cdn.jsdelivr.net/gh/bmabey/pyLDAvis@3.4.0/pyLDAvis/js/ldavis.v3.0.0.js\", function(){\n",
       "        new LDAvis(\"#\" + \"ldavis_el1218823048426609125942120447\", ldavis_el1218823048426609125942120447_data);\n",
       "      });\n",
       "    });\n",
       "}else{\n",
       "    // require.js not available: dynamically load d3 & LDAvis\n",
       "    LDAvis_load_lib(\"https://d3js.org/d3.v5.js\", function(){\n",
       "         LDAvis_load_lib(\"https://cdn.jsdelivr.net/gh/bmabey/pyLDAvis@3.4.0/pyLDAvis/js/ldavis.v3.0.0.js\", function(){\n",
       "                 new LDAvis(\"#\" + \"ldavis_el1218823048426609125942120447\", ldavis_el1218823048426609125942120447_data);\n",
       "            })\n",
       "         });\n",
       "}\n",
       "</script>"
      ],
      "text/plain": [
       "<IPython.core.display.HTML object>"
      ]
     },
     "metadata": {},
     "output_type": "display_data"
    },
    {
     "data": {
      "text/plain": [
       "'2번 클러스터에 대한 주제 단어들!'"
      ]
     },
     "metadata": {},
     "output_type": "display_data"
    },
    {
     "data": {
      "text/plain": [
       "[(0,\n",
       "  '0.001*\"그렇게 많이 먹다\" + 0.001*\"이마 관자놀이 주변\" + 0.001*\"얼굴 기미 주근깨\" + 0.001*\"아니다 따로 복용\" + 0.001*\"추천 부탁 드리다\" + 0.001*\"후 저녁식사 후\" + 0.001*\"해보다 성인 남성\" + 0.001*\"시작 해보다 성인\" + 0.001*\"전 개 운동\" + 0.001*\"개 개 개\"'),\n",
       " (1,\n",
       "  '0.001*\"초기 진단 복용\" + 0.001*\"진단 복용 중\" + 0.001*\"원스 데 일리\" + 0.001*\"먹다 원스 데\" + 0.001*\"권장 섭취 량\" + 0.001*\"복용 해도 요\" + 0.001*\"군 함량 먹다\" + 0.001*\"않다 한번 먹다\" + 0.001*\"과잉 증상 부작용\" + 0.001*\"나이 들다 보다\"'),\n",
       " (2,\n",
       "  '0.001*\"먹다 먹다 괜찮다\" + 0.001*\"이렇게 먹다 괜찮다\" + 0.001*\"먹다 간 무리\" + 0.001*\"먹다 식후 먹다\" + 0.001*\"아침 번 먹다\" + 0.001*\"따로 챙기다 먹다\" + 0.001*\"너무 많이 먹다\" + 0.001*\"얼굴 붓기 빠지다\" + 0.001*\"먹다 가다 들다\" + 0.001*\"가지 더 좋다\"'),\n",
       " (3,\n",
       "  '0.001*\"아침 점심 저녁\" + 0.001*\"먹다 이렇게 먹다\" + 0.001*\"종류 별로 챙기다\" + 0.001*\"별로 챙기다 먹다\" + 0.001*\"파스 종류 성분\" + 0.001*\"시원하다 주다 안약\" + 0.001*\"페니실린 알러지 체질\" + 0.001*\"좋다 추천 해주다\" + 0.001*\"점심 식사 후\" + 0.001*\"좋다 관절 좋다\"'),\n",
       " (4,\n",
       "  '0.002*\"파 이토 솜\" + 0.001*\"아침 점심 저녁\" + 0.001*\"점막 보호 위염\" + 0.001*\"보호 위염 증\" + 0.001*\"위 점막 보호\" + 0.001*\"인지질 복합 체\" + 0.001*\"해바라기 인지질 복합\" + 0.001*\"코호시 카바 애기똥풀\" + 0.001*\"몸 자연 생\" + 0.001*\"애기똥풀 하수오 뿌리\"'),\n",
       " (5,\n",
       "  '0.001*\"기능 식품 일반의약품\" + 0.001*\"포 천보 포\" + 0.001*\"제품 먹다 모르다\" + 0.001*\"양배추 브로콜리 즙\" + 0.001*\"브로콜리 즙 먹다\" + 0.001*\"폴리 감마 글루탐산\" + 0.001*\"식품 일반의약품 나뉘어지다\" + 0.001*\"먹다 너무 많다\" + 0.001*\"복용 문제 없다\" + 0.001*\"문제 없다 궁금하다\"')]"
      ]
     },
     "metadata": {},
     "output_type": "display_data"
    },
    {
     "name": "stdin",
     "output_type": "stream",
     "text": [
      "\n",
      "보고 계신 원의 번호를 입력해 주세요! :  1\n",
      "위의 주제 단어과 매칭되는 처음에 설정한 Action 토픽 번호를 입력해 주세요! :  0\n",
      "\n",
      "보고 계신 원의 번호를 입력해 주세요! :  2\n",
      "위의 주제 단어과 매칭되는 처음에 설정한 Action 토픽 번호를 입력해 주세요! :  5\n",
      "\n",
      "보고 계신 원의 번호를 입력해 주세요! :  3\n",
      "위의 주제 단어과 매칭되는 처음에 설정한 Action 토픽 번호를 입력해 주세요! :  1\n",
      "\n",
      "보고 계신 원의 번호를 입력해 주세요! :  4\n",
      "위의 주제 단어과 매칭되는 처음에 설정한 Action 토픽 번호를 입력해 주세요! :  2\n",
      "\n",
      "보고 계신 원의 번호를 입력해 주세요! :  5\n",
      "위의 주제 단어과 매칭되는 처음에 설정한 Action 토픽 번호를 입력해 주세요! :  4\n",
      "\n",
      "보고 계신 원의 번호를 입력해 주세요! :  6\n",
      "위의 주제 단어과 매칭되는 처음에 설정한 Action 토픽 번호를 입력해 주세요! :  3\n"
     ]
    }
   ],
   "source": [
    "for i in range(len(test_list)):\n",
    "    df_cluster = test_list[i]\n",
    "    action_dict = new_action_topic_labeling(i,df_cluster,prepared_data_list,ldavis_list)\n",
    "\n",
    "    # 넘버 매칭\n",
    "    df_cluster.loc[:,'action_cluster'] = df_cluster.action_cluster.replace(action_dict)\n",
    "    # 위에 리스트에서 인덱스로 빼서 변수에 넣고 값을 바꾸더라도 해당 리스트내의 df로 바뀝니다! -> copy로 혹시 모를 실수 방지!"
   ]
  },
  {
   "cell_type": "markdown",
   "id": "f9ce4b28-e2fe-4831-8fc3-f99e628d45b2",
   "metadata": {},
   "source": [
    "    *제대로 다 한 것 같다면?!"
   ]
  },
  {
   "cell_type": "code",
   "execution_count": 592,
   "id": "8229d519-40f4-4f07-8460-0b0882e6ecd1",
   "metadata": {},
   "outputs": [],
   "source": [
    "df_cluster_action_list = test_list"
   ]
  },
  {
   "cell_type": "markdown",
   "id": "1bb7095b-808d-4e7c-9ab8-dbb847f94fd5",
   "metadata": {
    "id": "DHexOOTfkK20"
   },
   "source": [
    "## ◆ 5. 각 Actor에 LDAvis 결과로 Action (토픽) 넘버한 결과 통합하기\n",
    "* df_cluster_action_list 내의 모든 df들을 병합하기 \n",
    "* 데이터 내보내기"
   ]
  },
  {
   "cell_type": "code",
   "execution_count": 594,
   "id": "590d1750-651e-4230-ad91-10a256400802",
   "metadata": {},
   "outputs": [],
   "source": [
    "df_final = pd.concat(df_cluster_action_list)"
   ]
  },
  {
   "cell_type": "code",
   "execution_count": 596,
   "id": "c698bec5-8e46-41f5-8296-e85e4d043208",
   "metadata": {},
   "outputs": [
    {
     "data": {
      "text/plain": [
       "((4990, 8), (4990, 9))"
      ]
     },
     "execution_count": 596,
     "metadata": {},
     "output_type": "execute_result"
    }
   ],
   "source": [
    "# action_cluster 컬럼이 추가 된 것을 확인!\n",
    "df.shape, df_final.shape"
   ]
  },
  {
   "cell_type": "code",
   "execution_count": 598,
   "id": "845cf280-60e2-4cb0-99f2-e2a035958837",
   "metadata": {},
   "outputs": [],
   "source": [
    "df_final.to_pickle(\"../data/aha/aha_data_action.pkl\")"
   ]
  },
  {
   "attachments": {},
   "cell_type": "markdown",
   "id": "bf3c1562-569a-4d87-afb3-f18174d911bc",
   "metadata": {},
   "source": [
    "---\n",
    "# ◆ 기회영역 그래프 만들기\n",
    "- 데이터 불러오기"
   ]
  },
  {
   "cell_type": "code",
   "execution_count": 645,
   "id": "c4483d82-2bc0-449b-b691-1ea7bae361bb",
   "metadata": {},
   "outputs": [],
   "source": [
    "df = pd.read_pickle(\"../data/aha/aha_data_action.pkl\")"
   ]
  },
  {
   "cell_type": "code",
   "execution_count": 647,
   "id": "0fd043ab-ca8b-467f-9074-a75ca6fd9c19",
   "metadata": {},
   "outputs": [
    {
     "data": {
      "text/plain": [
       "(4990, 9)"
      ]
     },
     "execution_count": 647,
     "metadata": {},
     "output_type": "execute_result"
    }
   ],
   "source": [
    "df.shape"
   ]
  },
  {
   "cell_type": "markdown",
   "id": "a829312f-de56-4146-bf2b-8d18120f6365",
   "metadata": {},
   "source": [
    "## ◆ 1. Satisfaction\n",
    "* 1.1 감성사전 불러오기 (SentiWord_info.json)\n",
    "* 1.2 감성점수 구하는 define 함수 만들기\n",
    "* 1.3 감성점수 구하기\n",
    "* 1.4 액션 별로 감성점수 계산해서 df에 추가하기"
   ]
  },
  {
   "cell_type": "markdown",
   "id": "aa1dc20c-a93a-4a5d-be38-80ff2f0060d5",
   "metadata": {},
   "source": [
    "### 1.1 감성사전 불러오기"
   ]
  },
  {
   "cell_type": "code",
   "execution_count": 600,
   "id": "2df5715e-76ba-447b-ab3e-f4f6eb2537e8",
   "metadata": {},
   "outputs": [],
   "source": [
    "import json\n",
    "\n",
    "with open('../data/SentiWord_info.json', encoding ='utf-8-sig', mode='r') as f:\n",
    "    sent_dicts = json.load(f)"
   ]
  },
  {
   "cell_type": "markdown",
   "id": "893a4a58-b1d6-4d59-841b-322b735bfcf2",
   "metadata": {},
   "source": [
    "### 1.2 감성점수 구하는 define 함수 만들기"
   ]
  },
  {
   "cell_type": "code",
   "execution_count": 664,
   "id": "38147c2f-ead4-4b91-931c-5c5b78a15ecc",
   "metadata": {},
   "outputs": [],
   "source": [
    "# 토큰 리스트\n",
    "# 위의 감성 사전 word에 토큰이 있는지 있다면 = polarity를 가져 옴\n",
    "# token_list = tagged_review\n",
    "\n",
    "def sentiment_score(sent_dicts, token_list):\n",
    "    result_list = []\n",
    "\n",
    "    for token in token_list:\n",
    "        for dict in sent_dicts:\n",
    "            if token == dict['word']:\n",
    "                result = dict['polarity'], dict['word']\n",
    "                result_list.append(result)\n",
    "    \n",
    "    return result_list"
   ]
  },
  {
   "cell_type": "code",
   "execution_count": 625,
   "id": "8427fb89-3e1f-4cf0-8954-2dbe3c1b9d4a",
   "metadata": {},
   "outputs": [],
   "source": [
    "# df['tagged_review'] = df['tagged_review'].apply(lambda x : str(x)).apply(eval)"
   ]
  },
  {
   "cell_type": "markdown",
   "id": "e73a6be2-5b23-400e-bc58-397c51325d3b",
   "metadata": {},
   "source": [
    "### 1.3  감성점수 구하기"
   ]
  },
  {
   "cell_type": "markdown",
   "id": "f44a5e88-6c75-422e-a449-1816cae658c3",
   "metadata": {},
   "source": [
    "#### 1.3.1 적합하게 형태소 재분리"
   ]
  },
  {
   "cell_type": "code",
   "execution_count": 610,
   "id": "5ff197da-5b24-4b7c-9587-edb97fcf0283",
   "metadata": {},
   "outputs": [],
   "source": [
    "from konlpy.tag import Okt\n",
    "okt = Okt()"
   ]
  },
  {
   "cell_type": "code",
   "execution_count": 666,
   "id": "3b06379b-d694-48a0-a17f-f64f78816f4a",
   "metadata": {},
   "outputs": [],
   "source": [
    "# 이번에는 불용어 처리 안 함!\n",
    "# tag값 은 원래대로 동일하게 사용하되, \n",
    "\n",
    "def okt_pos_tagging(string):\n",
    "    pos_words = okt.pos(string, stem=True, norm=True)\n",
    "    # stem : 어근화 | norm : 정규화\n",
    "    \n",
    "    tagged_list = []\n",
    "    for word, tag in pos_words:\n",
    "        if tag in ['Noun','Adjective','Verb','VerbPrefix','Adverb']:\n",
    "            tagged_list.append(word)\n",
    "\n",
    "    return tagged_list"
   ]
  },
  {
   "cell_type": "markdown",
   "id": "affb9326-e1f6-42f7-a95c-20f0be8313ea",
   "metadata": {},
   "source": [
    "#### 1.3.2 감성점수 적용하기"
   ]
  },
  {
   "cell_type": "code",
   "execution_count": 668,
   "id": "2ad9c426-e728-4f23-97fa-0d11768beb76",
   "metadata": {},
   "outputs": [
    {
     "name": "stderr",
     "output_type": "stream",
     "text": [
      "100%|██████████| 4990/4990 [03:48<00:00, 21.80it/s]\n"
     ]
    }
   ],
   "source": [
    "# 감성 점수 받을 리스트\n",
    "sentiment = []\n",
    "\n",
    "for i in tqdm(df['review']):\n",
    "    token = okt_pos_tagging(i)\n",
    "    score = sentiment_score(sent_dicts, token)\n",
    "    sentiment.append(score)"
   ]
  },
  {
   "cell_type": "code",
   "execution_count": 670,
   "id": "cd7d6f0f-f946-48a9-bff9-843e19cf29f9",
   "metadata": {},
   "outputs": [
    {
     "name": "stderr",
     "output_type": "stream",
     "text": [
      "100%|██████████| 4990/4990 [00:00<00:00, 173372.90it/s]\n"
     ]
    }
   ],
   "source": [
    "# 감성 점수 평균 구하기\n",
    "sentiment_score = []\n",
    "\n",
    "for sent in tqdm(sentiment):\n",
    "    score = []\n",
    "    for s in sent:\n",
    "        score.append(int(s[0]))\n",
    "    \n",
    "    if len(score) == 0:\n",
    "        sentiment_score.append(0)\n",
    "    else:\n",
    "        sentiment_score.append(np.mean(score))"
   ]
  },
  {
   "cell_type": "code",
   "execution_count": 672,
   "id": "7b4c19f7-2458-4b37-9f23-a0438c32d2e9",
   "metadata": {},
   "outputs": [],
   "source": [
    "df['sentiment_score'] = sentiment_score"
   ]
  },
  {
   "cell_type": "markdown",
   "id": "d33c0dbf-b702-4d45-8f5d-9b3ffb59ab5c",
   "metadata": {},
   "source": [
    "### 1.4 전체 액터와 액션에 대해서 감성점수 계산\n"
   ]
  },
  {
   "cell_type": "markdown",
   "id": "96837b85-1818-41ef-9ab3-30eb39bbf82e",
   "metadata": {},
   "source": [
    "#### 1.4.1 dict 형식으로 출력\n"
   ]
  },
  {
   "cell_type": "code",
   "execution_count": 653,
   "id": "7bb0bbb3-bb98-4803-949d-9612ae3cca36",
   "metadata": {},
   "outputs": [],
   "source": [
    "# df.cluster.unique()"
   ]
  },
  {
   "cell_type": "code",
   "execution_count": 674,
   "id": "be8d4ab0-1a6f-4f17-baae-4a386afb3586",
   "metadata": {},
   "outputs": [],
   "source": [
    "# key : actor와 action\n",
    "# vale : sentiment_score\n",
    "\n",
    "action_sents = dict()\n",
    "\n",
    "for actor in df.cluster.unique():\n",
    "    actor_df = df[df['cluster'] == actor]\n",
    "\n",
    "    for action in actor_df.action_cluster.unique():\n",
    "        action_score = actor_df[actor_df['action_cluster'] == action].sentiment_score\n",
    "        action_score = np.mean(action_score)\n",
    "        action_sents['Actor{}_Action{}'.format(actor, action)] = action_score        "
   ]
  },
  {
   "cell_type": "code",
   "execution_count": 676,
   "id": "5a509abc-3820-40db-83ec-e73b8fa3dc54",
   "metadata": {},
   "outputs": [
    {
     "data": {
      "text/plain": [
       "{'Actor0_Action1': 0.19706137309292648,\n",
       " 'Actor0_Action7': 0.1439007624046994,\n",
       " 'Actor0_Action2': 0.26744249037999035,\n",
       " 'Actor0_Action4': 0.2452272812758595,\n",
       " 'Actor0_Action3': 0.21906698420023293,\n",
       " 'Actor0_Action6': 0.23831365766849638,\n",
       " 'Actor0_Action5': 0.09929262472220124,\n",
       " 'Actor1_Action2': 0.22809999285693727,\n",
       " 'Actor1_Action1': 0.17803828729410123,\n",
       " 'Actor1_Action3': 0.2414774562340034,\n",
       " 'Actor1_Action4': 0.1682710686575006,\n",
       " 'Actor2_Action4': 0.07895373596593107,\n",
       " 'Actor2_Action3': 0.030080409356725152,\n",
       " 'Actor2_Action2': 0.34689153439153436,\n",
       " 'Actor2_Action5': 0.38544629973201405,\n",
       " 'Actor2_Action1': 0.1796086751532296,\n",
       " 'Actor2_Action6': 0.3951897018970189}"
      ]
     },
     "execution_count": 676,
     "metadata": {},
     "output_type": "execute_result"
    }
   ],
   "source": [
    "action_sents"
   ]
  },
  {
   "cell_type": "markdown",
   "id": "dbb5f916-5277-42c0-af22-855ac251e0f6",
   "metadata": {},
   "source": [
    "#### 1.4.2 정규화 (-10~10)\n",
    "* minmaxscaler를 이용해서 정규화 : 주어진 데이터를 특정 범위로 변환(정규화)하는 데 사용\n",
    "* minmaxscaler은 배열(array 데이터 형식, shape이 1이어야 작동)로 변환필요 "
   ]
  },
  {
   "cell_type": "code",
   "execution_count": 679,
   "id": "862e2577-c8c6-4c55-a6c6-c429d3f7ad04",
   "metadata": {},
   "outputs": [],
   "source": [
    "from sklearn.preprocessing import MinMaxScaler"
   ]
  },
  {
   "cell_type": "code",
   "execution_count": 680,
   "id": "bb055b34-b2f5-43f4-b694-06d530365a4f",
   "metadata": {},
   "outputs": [],
   "source": [
    "data = action_sents.values()\n",
    "# 데이터 타입 변환\n",
    "# array로 보면 값이 하나, 리스트가 하나 - 행이 하나 => 행렬 값으로 변환\n",
    "data = np.array(list(data)).reshape(-1, 1)"
   ]
  },
  {
   "cell_type": "code",
   "execution_count": 681,
   "id": "ac7bfbbc-e025-4773-b6c1-dfa2a03a3686",
   "metadata": {},
   "outputs": [],
   "source": [
    "scaler = MinMaxScaler(feature_range=(-10, 10))\n",
    "transposed_data = scaler.fit_transform(data)"
   ]
  },
  {
   "cell_type": "code",
   "execution_count": 682,
   "id": "dd5d1a3c-d16b-4ad9-9c9a-20e06e3291d1",
   "metadata": {},
   "outputs": [],
   "source": [
    "score_result = transposed_data.flatten().tolist()\n",
    "#                      차원을 1차원을 풀어주고 | 리스트로 변환 "
   ]
  },
  {
   "cell_type": "code",
   "execution_count": 683,
   "id": "2171bd18-5fbb-4d1b-9d6a-0891d63894f7",
   "metadata": {},
   "outputs": [],
   "source": [
    "for key, new_value in zip(action_sents.keys(), score_result):\n",
    "    action_sents[key] = new_value"
   ]
  },
  {
   "cell_type": "code",
   "execution_count": 684,
   "id": "7719a109-6b6e-42f7-bc2a-253c57c36a4d",
   "metadata": {},
   "outputs": [
    {
     "data": {
      "text/plain": [
       "{'Actor0_Action1': -0.8530970233920758,\n",
       " 'Actor0_Action7': -3.765135241776246,\n",
       " 'Actor0_Action2': 3.0022481417434577,\n",
       " 'Actor0_Action4': 1.7853407905464653,\n",
       " 'Actor0_Action3': 0.3523289439504502,\n",
       " 'Actor0_Action6': 1.4066254990642513,\n",
       " 'Actor0_Action5': -6.208685082544824,\n",
       " 'Actor1_Action2': 0.8471401602772684,\n",
       " 'Actor1_Action1': -1.8951458667107293,\n",
       " 'Actor1_Action3': 1.5799324309965765,\n",
       " 'Actor1_Action4': -2.4301757241347346,\n",
       " 'Actor2_Action4': -7.322811135856686,\n",
       " 'Actor2_Action3': -10.0,\n",
       " 'Actor2_Action2': 7.354317269251407,\n",
       " 'Actor2_Action5': 9.466274764073301,\n",
       " 'Actor2_Action1': -1.8091229748691013,\n",
       " 'Actor2_Action6': 9.999999999999996}"
      ]
     },
     "execution_count": 684,
     "metadata": {},
     "output_type": "execute_result"
    }
   ],
   "source": [
    "action_sents"
   ]
  },
  {
   "cell_type": "markdown",
   "id": "cd8409df-cb99-4f39-87e1-b8017c01976b",
   "metadata": {},
   "source": [
    "## ◆ 2. Importance\n",
    "* 2.1 importance 점수 구하기 _ 전체 토픽의 비중\n",
    "* 2.2 importance 점수 정규화"
   ]
  },
  {
   "cell_type": "markdown",
   "id": "77bb3464-0aac-4d5e-8a4d-9a1bc282e0e0",
   "metadata": {},
   "source": [
    "### 2-1. Importance 점수 구하기"
   ]
  },
  {
   "cell_type": "code",
   "execution_count": 693,
   "id": "8ca6b04f-2b97-4dde-9ef0-4303d061ebdf",
   "metadata": {},
   "outputs": [],
   "source": [
    "from collections import Counter"
   ]
  },
  {
   "cell_type": "code",
   "execution_count": 694,
   "id": "1c269ad3-d099-480d-af91-086aa200918e",
   "metadata": {},
   "outputs": [],
   "source": [
    "importance_check = []\n",
    "\n",
    "for actor, action in zip(df['cluster'],df['action_cluster']):\n",
    "    importance_check.append('Actor'+str(actor)+'_'+'Action'+str(action))"
   ]
  },
  {
   "cell_type": "code",
   "execution_count": 695,
   "id": "0a6b8fc3-28d1-4a55-93a0-6a5210303a95",
   "metadata": {},
   "outputs": [],
   "source": [
    "frequency = Counter(importance_check)\n",
    "\n",
    "# 중요도 사전 만들기\n",
    "importance_dict = dict()\n",
    "\n",
    "# 전체 합\n",
    "total_count = sum(frequency.values())\n",
    "\n",
    "# 빈도수 / 전체 값 * 100\n",
    "# item : actor, action\n",
    "# value : actor, action의 횟수\n",
    "for item, value in frequency.items():\n",
    "    importance = (value/total_count) * 100\n",
    "    importance_dict[item] = importance"
   ]
  },
  {
   "cell_type": "markdown",
   "id": "32dfd544-84ba-4885-8b55-6639db4c4b0a",
   "metadata": {},
   "source": [
    "### 2-2. Importance 점수 정규화(0~10)"
   ]
  },
  {
   "cell_type": "code",
   "execution_count": 697,
   "id": "c8f83abb-eae6-4a5a-9571-b592f66cb3cd",
   "metadata": {},
   "outputs": [],
   "source": [
    "data = importance_dict.values()\n",
    "\n",
    "# array 형태로 변환\n",
    "data = np.array(list(data)).reshape(-1,1)"
   ]
  },
  {
   "cell_type": "code",
   "execution_count": 698,
   "id": "ad36177d-fcb0-4237-9870-a0bd5e5ce9f8",
   "metadata": {},
   "outputs": [],
   "source": [
    "scaler = MinMaxScaler(feature_range=(0, 10))\n",
    "transposed_data = scaler.fit_transform(data)"
   ]
  },
  {
   "cell_type": "code",
   "execution_count": 699,
   "id": "d721fcef-0bd3-4535-8487-763a38c5de13",
   "metadata": {},
   "outputs": [],
   "source": [
    "score_result = transposed_data.flatten().tolist()\n",
    "score_result = [round(i,4) for i in score_result]"
   ]
  },
  {
   "cell_type": "code",
   "execution_count": 700,
   "id": "57fa4fcb-e1b7-4959-b3d9-6e6dd877cab1",
   "metadata": {},
   "outputs": [],
   "source": [
    "# value 값 교체\n",
    "for key, new_value in zip(importance_dict.keys(),score_result):\n",
    "    importance_dict[key] = new_value"
   ]
  },
  {
   "cell_type": "markdown",
   "id": "884eb02c-f491-44c5-81bd-01475075e5b2",
   "metadata": {},
   "source": [
    "## ◆ 3. Opportunity\n",
    "* 3.1 Opportunity score\n",
    "* 3.2 Opportunity area"
   ]
  },
  {
   "cell_type": "markdown",
   "id": "22e8bd5e-2e06-4ea0-8dbf-81ca5af3d5eb",
   "metadata": {},
   "source": [
    "### 3.1 Opportunity score\n",
    "Opportunity = Importance + Max(Importance-Satisfaction, 0)"
   ]
  },
  {
   "cell_type": "code",
   "execution_count": 703,
   "id": "72ef1597-5b30-4705-a455-9eeec5562cec",
   "metadata": {},
   "outputs": [],
   "source": [
    "def opportunity_score(satisfaction, importance):\n",
    "    result = importance + max(importance - satisfaction, 0)\n",
    "    return result"
   ]
  },
  {
   "cell_type": "code",
   "execution_count": 704,
   "id": "d8b6fdaa-47b8-4277-9cde-e8f18270bb1e",
   "metadata": {},
   "outputs": [],
   "source": [
    "# 감성점수 / opportunity_score 데이터프레임 화\n",
    "opportunity_df = pd.DataFrame(action_sents.items(), columns = ['Action','satisfaction'])\n",
    "opportunity_df['importance'] = importance_dict.values()"
   ]
  },
  {
   "cell_type": "code",
   "execution_count": 705,
   "id": "434a93f3-6a54-445d-ac2d-fd9a31eaaf04",
   "metadata": {},
   "outputs": [],
   "source": [
    "opportunity_list = []\n",
    "for i,j in zip(opportunity_df['satisfaction'],opportunity_df['importance']):\n",
    "    score_result = opportunity_score(i,j)\n",
    "    opportunity_list.append(score_result)\n",
    "\n",
    "opportunity_df['opportunity_score'] = opportunity_list"
   ]
  },
  {
   "cell_type": "code",
   "execution_count": 706,
   "id": "466414e0-3405-40f3-9db1-7d6b464f8444",
   "metadata": {},
   "outputs": [],
   "source": [
    "# Action 정렬\n",
    "opportunity_df.sort_values(by = 'Action',inplace = True)"
   ]
  },
  {
   "cell_type": "markdown",
   "id": "646b45d2-c4fa-4b6d-bbff-de801abcce0c",
   "metadata": {},
   "source": [
    "    *기회 점수(satisfaction, importance) 수치 담고 있는 파일 내보내기    "
   ]
  },
  {
   "cell_type": "code",
   "execution_count": 719,
   "id": "1820a3ae-7faf-48d3-8a99-9336e2c68e5c",
   "metadata": {},
   "outputs": [],
   "source": [
    "# csv 저장\n",
    "opportunity_df.to_csv('../data/aha_Opportunity_Score.csv', encoding = 'utf-8-sig')"
   ]
  },
  {
   "cell_type": "markdown",
   "id": "74073177-45ef-4dd8-bd92-7331cbad8f77",
   "metadata": {},
   "source": [
    "### 3.2 Opportunity area"
   ]
  },
  {
   "cell_type": "code",
   "execution_count": 721,
   "id": "03dcfc04-2b99-459d-82cd-f05bcfbcd928",
   "metadata": {},
   "outputs": [],
   "source": [
    "def show_opportunity_area(importance,satisfaction,actions,save_op=0):\n",
    "    plt.figure(figsize = (15, 10))\n",
    "    plt.scatter(importance, satisfaction, s=35, c=color) # s는 점의 사이즈 / c는 색상 \n",
    "    \n",
    "    # 라벨 이름\n",
    "    plt.xlabel(\"Importance\")\n",
    "    plt.ylabel(\"Satisfaction\")\n",
    "    \n",
    "    # 중요도 기준선\n",
    "    xdata = [importance.mean(), 10]\n",
    "    ydata = [-10,10]\n",
    "    plt.plot(xdata, ydata, 'k')\n",
    "    \n",
    "    # 만족도 기준선\n",
    "    xdata = [0, 10]\n",
    "    ydata = [satisfaction.mean(),10]\n",
    "    plt.plot(xdata, ydata, 'k')\n",
    "    \n",
    "    # 점에 이름 붙이기 + 위치 조정\n",
    "    texts = []\n",
    "    \n",
    "    for i , action in enumerate(actions) :\n",
    "        texts.append(plt.text(importance[i], satisfaction[i], action, fontsize = 13))\n",
    "    \n",
    "    # 위치조정\n",
    "    adjust_text(texts, arrowprops = dict(arrowstyle='-', color='grey', lw=1))\n",
    "    \n",
    "    # 색상 범례추가\n",
    "    for i, action in enumerate(actions):\n",
    "        plt.scatter([], [], c = [color[i]], label=action, s=10)\n",
    "    \n",
    "    plt.legend(title='Actions', fontsize=8, title_fontsize='10', loc='upper left', bbox_to_anchor=(1,1))\n",
    "    \n",
    "    # 저장하기!\n",
    "    if save_op == 1:\n",
    "        plt.savefig('../data/aha/Opportunity_area.png')\n",
    "        \n",
    "    return plt.show()"
   ]
  },
  {
   "cell_type": "code",
   "execution_count": 483,
   "id": "94e76bbe-4dd8-4d42-9951-17ac1cd67c3b",
   "metadata": {},
   "outputs": [],
   "source": [
    "# !pip install adjustText"
   ]
  },
  {
   "cell_type": "code",
   "execution_count": 723,
   "id": "48db2e01-2153-4dec-9317-2b590fb7b170",
   "metadata": {},
   "outputs": [],
   "source": [
    "import matplotlib.pyplot as plt\n",
    "from adjustText import adjust_text"
   ]
  },
  {
   "cell_type": "code",
   "execution_count": 724,
   "id": "2d2db0d6-61c0-47bf-bf95-4a269266b02c",
   "metadata": {},
   "outputs": [],
   "source": [
    "opportunity_df.reset_index(drop=True,inplace=True)"
   ]
  },
  {
   "cell_type": "code",
   "execution_count": 727,
   "id": "66b69846-9a4b-4432-9ed6-0be746825a5f",
   "metadata": {},
   "outputs": [],
   "source": [
    "# 데이터 세팅\n",
    "satisfaction = opportunity_df.satisfaction\n",
    "importance = opportunity_df.importance\n",
    "actions = opportunity_df.Action\n",
    "\n",
    "# 색상이 안 겹치게만 랜덤으로 설정\n",
    "# actions의 개수 만큼 R,G,B 3개의 무작위 값 생성\n",
    "color = np.random.rand(len(actions), 3)"
   ]
  },
  {
   "cell_type": "markdown",
   "id": "f2f54386-c6e9-4e9f-bcfb-c7189b30c524",
   "metadata": {},
   "source": [
    "    #위 그래프를 통해 서비스 우선순위를 정하는데 활용!!!!!"
   ]
  },
  {
   "cell_type": "markdown",
   "id": "e95ade6b-c7c2-4722-a387-96263b027f0a",
   "metadata": {},
   "source": [
    "- 저장하고 싶다면! 아래 코드"
   ]
  },
  {
   "cell_type": "code",
   "execution_count": 733,
   "id": "5a79da75-031d-4e92-bac3-9f894418492f",
   "metadata": {},
   "outputs": [],
   "source": [
    "# show_opportunity_area(importance,satisfaction,actions,save_op=1)"
   ]
  },
  {
   "cell_type": "code",
   "execution_count": 729,
   "id": "2a3e7112-c0ea-443d-be0c-c67eace37a84",
   "metadata": {},
   "outputs": [
    {
     "data": {
      "image/png": "[encoded data removed]",
      "text/plain": [
       "<Figure size 1500x1000 with 1 Axes>"
      ]
     },
     "metadata": {},
     "output_type": "display_data"
    }
   ],
   "source": [
    "show_opportunity_area(importance,satisfaction,actions)"
   ]
  },
  {
   "cell_type": "code",
   "execution_count": null,
   "id": "be0cc97f-6576-4034-8894-85be2dbbdedd",
   "metadata": {},
   "outputs": [],
   "source": []
  },
  {
   "cell_type": "code",
   "execution_count": null,
   "id": "819fd8a3-bcd7-4d48-9fe8-58c29a81ea0d",
   "metadata": {},
   "outputs": [],
   "source": []
  },
  {
   "cell_type": "code",
   "execution_count": null,
   "id": "8a7a74c9-e72b-4e69-8df9-dd72e430401b",
   "metadata": {},
   "outputs": [],
   "source": []
  }
 ],
 "metadata": {
  "kernelspec": {
   "display_name": "Python 3 (ipykernel)",
   "language": "python",
   "name": "python3"
  },
  "language_info": {
   "codemirror_mode": {
    "name": "ipython",
    "version": 3
   },
   "file_extension": ".py",
   "mimetype": "text/x-python",
   "name": "python",
   "nbconvert_exporter": "python",
   "pygments_lexer": "ipython3",
   "version": "3.11.7"
  }
 },
 "nbformat": 4,
 "nbformat_minor": 5
}
